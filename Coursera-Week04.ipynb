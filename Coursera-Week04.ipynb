{
 "cells": [
  {
   "cell_type": "markdown",
   "metadata": {},
   "source": [
    "# Coursera Week04 Assignment"
   ]
  },
  {
   "cell_type": "markdown",
   "metadata": {},
   "source": [
    "## Using BeautifulSouf we will first scrapt the wikipedia url to get the list of postal codes"
   ]
  },
  {
   "cell_type": "code",
   "execution_count": 1,
   "metadata": {},
   "outputs": [],
   "source": [
    "import pandas as pd\n",
    "import numpy as np\n",
    "from bs4 import BeautifulSoup\n",
    "from urllib.request import urlopen"
   ]
  },
  {
   "cell_type": "markdown",
   "metadata": {},
   "source": [
    "We will use beautifulsoup to filter a request on the wikipedia url"
   ]
  },
  {
   "cell_type": "code",
   "execution_count": 2,
   "metadata": {},
   "outputs": [],
   "source": [
    "url = \"https://en.wikipedia.org/wiki/List_of_postal_codes_of_Canada:_M\"\n",
    "html = urlopen(url)\n",
    "soup = BeautifulSoup(html, 'html')"
   ]
  },
  {
   "cell_type": "markdown",
   "metadata": {},
   "source": [
    "Now, walk through the lines of the table to create tree lists with PostalCode, Borough and Neighborhood"
   ]
  },
  {
   "cell_type": "code",
   "execution_count": 3,
   "metadata": {},
   "outputs": [],
   "source": [
    "sigla, borough, Neigh = [], [], []\n",
    "old_postal, old_neigh, old_boro = None, '', ''\n",
    "for tr in soup.find_all('tr'):\n",
    "    b = tr.text.split('\\n')[1:]\n",
    "    try:\n",
    "        # Check if the <tr> is indeed from the wanted table\n",
    "        if b[0][0] == 'M':\n",
    "            # the next if statment for the requeriment: \n",
    "            # \"Only process the cells that have an assigned borough. Ignore cells with a borough that is Not assigned.\"\n",
    "            if b[1] != 'Not assigned':\n",
    "                # now check if the postalcode is not repeted:\n",
    "                if b[0] != old_postal and old_postal != None:\n",
    "                    # add to the list (table)\n",
    "                    sigla.append(old_postal)\n",
    "                    # if not assigned to neighborhood, give borough value\n",
    "                    if old_neigh == 'Not assigned':\n",
    "                        old_neigh = old_boro\n",
    "                    borough.append(old_boro)\n",
    "                    Neigh.append(old_neigh)\n",
    "                    # now clean the temporary neighborhood\n",
    "                    old_neigh = ''\n",
    "                if old_neigh != '':\n",
    "                    old_neigh += ', '\n",
    "                old_neigh += b[2]\n",
    "                old_boro = b[1]\n",
    "                old_postal = b[0]\n",
    "                    \n",
    "    except:\n",
    "        pass"
   ]
  },
  {
   "cell_type": "markdown",
   "metadata": {},
   "source": [
    "Now put those lists on the dataframe"
   ]
  },
  {
   "cell_type": "code",
   "execution_count": 4,
   "metadata": {},
   "outputs": [
    {
     "data": {
      "text/html": [
       "<div>\n",
       "<style scoped>\n",
       "    .dataframe tbody tr th:only-of-type {\n",
       "        vertical-align: middle;\n",
       "    }\n",
       "\n",
       "    .dataframe tbody tr th {\n",
       "        vertical-align: top;\n",
       "    }\n",
       "\n",
       "    .dataframe thead th {\n",
       "        text-align: right;\n",
       "    }\n",
       "</style>\n",
       "<table border=\"1\" class=\"dataframe\">\n",
       "  <thead>\n",
       "    <tr style=\"text-align: right;\">\n",
       "      <th></th>\n",
       "      <th>PostalCode</th>\n",
       "      <th>Borough</th>\n",
       "      <th>Neighborhood</th>\n",
       "    </tr>\n",
       "  </thead>\n",
       "  <tbody>\n",
       "    <tr>\n",
       "      <th>0</th>\n",
       "      <td>M3A</td>\n",
       "      <td>North York</td>\n",
       "      <td>Parkwoods</td>\n",
       "    </tr>\n",
       "    <tr>\n",
       "      <th>1</th>\n",
       "      <td>M4A</td>\n",
       "      <td>North York</td>\n",
       "      <td>Victoria Village</td>\n",
       "    </tr>\n",
       "    <tr>\n",
       "      <th>2</th>\n",
       "      <td>M5A</td>\n",
       "      <td>Downtown Toronto</td>\n",
       "      <td>Harbourfront, Regent Park</td>\n",
       "    </tr>\n",
       "    <tr>\n",
       "      <th>3</th>\n",
       "      <td>M6A</td>\n",
       "      <td>North York</td>\n",
       "      <td>Lawrence Heights, Lawrence Manor</td>\n",
       "    </tr>\n",
       "    <tr>\n",
       "      <th>4</th>\n",
       "      <td>M7A</td>\n",
       "      <td>Queen's Park</td>\n",
       "      <td>Queen's Park</td>\n",
       "    </tr>\n",
       "    <tr>\n",
       "      <th>5</th>\n",
       "      <td>M9A</td>\n",
       "      <td>Etobicoke</td>\n",
       "      <td>Islington Avenue</td>\n",
       "    </tr>\n",
       "    <tr>\n",
       "      <th>6</th>\n",
       "      <td>M1B</td>\n",
       "      <td>Scarborough</td>\n",
       "      <td>Rouge, Malvern</td>\n",
       "    </tr>\n",
       "    <tr>\n",
       "      <th>7</th>\n",
       "      <td>M3B</td>\n",
       "      <td>North York</td>\n",
       "      <td>Don Mills North</td>\n",
       "    </tr>\n",
       "    <tr>\n",
       "      <th>8</th>\n",
       "      <td>M4B</td>\n",
       "      <td>East York</td>\n",
       "      <td>Woodbine Gardens, Parkview Hill</td>\n",
       "    </tr>\n",
       "    <tr>\n",
       "      <th>9</th>\n",
       "      <td>M5B</td>\n",
       "      <td>Downtown Toronto</td>\n",
       "      <td>Ryerson, Garden District</td>\n",
       "    </tr>\n",
       "    <tr>\n",
       "      <th>10</th>\n",
       "      <td>M6B</td>\n",
       "      <td>North York</td>\n",
       "      <td>Glencairn</td>\n",
       "    </tr>\n",
       "    <tr>\n",
       "      <th>11</th>\n",
       "      <td>M9B</td>\n",
       "      <td>Etobicoke</td>\n",
       "      <td>Cloverdale, Islington, Martin Grove, Princess ...</td>\n",
       "    </tr>\n",
       "    <tr>\n",
       "      <th>12</th>\n",
       "      <td>M1C</td>\n",
       "      <td>Scarborough</td>\n",
       "      <td>Highland Creek, Rouge Hill, Port Union</td>\n",
       "    </tr>\n",
       "    <tr>\n",
       "      <th>13</th>\n",
       "      <td>M3C</td>\n",
       "      <td>North York</td>\n",
       "      <td>Flemingdon Park, Don Mills South</td>\n",
       "    </tr>\n",
       "    <tr>\n",
       "      <th>14</th>\n",
       "      <td>M4C</td>\n",
       "      <td>East York</td>\n",
       "      <td>Woodbine Heights</td>\n",
       "    </tr>\n",
       "    <tr>\n",
       "      <th>15</th>\n",
       "      <td>M5C</td>\n",
       "      <td>Downtown Toronto</td>\n",
       "      <td>St. James Town</td>\n",
       "    </tr>\n",
       "    <tr>\n",
       "      <th>16</th>\n",
       "      <td>M6C</td>\n",
       "      <td>York</td>\n",
       "      <td>Humewood-Cedarvale</td>\n",
       "    </tr>\n",
       "    <tr>\n",
       "      <th>17</th>\n",
       "      <td>M9C</td>\n",
       "      <td>Etobicoke</td>\n",
       "      <td>Bloordale Gardens, Eringate, Markland Wood, Ol...</td>\n",
       "    </tr>\n",
       "    <tr>\n",
       "      <th>18</th>\n",
       "      <td>M1E</td>\n",
       "      <td>Scarborough</td>\n",
       "      <td>Guildwood, Morningside, West Hill</td>\n",
       "    </tr>\n",
       "    <tr>\n",
       "      <th>19</th>\n",
       "      <td>M4E</td>\n",
       "      <td>East Toronto</td>\n",
       "      <td>The Beaches</td>\n",
       "    </tr>\n",
       "  </tbody>\n",
       "</table>\n",
       "</div>"
      ],
      "text/plain": [
       "   PostalCode           Borough  \\\n",
       "0         M3A        North York   \n",
       "1         M4A        North York   \n",
       "2         M5A  Downtown Toronto   \n",
       "3         M6A        North York   \n",
       "4         M7A      Queen's Park   \n",
       "5         M9A         Etobicoke   \n",
       "6         M1B       Scarborough   \n",
       "7         M3B        North York   \n",
       "8         M4B         East York   \n",
       "9         M5B  Downtown Toronto   \n",
       "10        M6B        North York   \n",
       "11        M9B         Etobicoke   \n",
       "12        M1C       Scarborough   \n",
       "13        M3C        North York   \n",
       "14        M4C         East York   \n",
       "15        M5C  Downtown Toronto   \n",
       "16        M6C              York   \n",
       "17        M9C         Etobicoke   \n",
       "18        M1E       Scarborough   \n",
       "19        M4E      East Toronto   \n",
       "\n",
       "                                         Neighborhood  \n",
       "0                                           Parkwoods  \n",
       "1                                    Victoria Village  \n",
       "2                           Harbourfront, Regent Park  \n",
       "3                    Lawrence Heights, Lawrence Manor  \n",
       "4                                        Queen's Park  \n",
       "5                                    Islington Avenue  \n",
       "6                                      Rouge, Malvern  \n",
       "7                                     Don Mills North  \n",
       "8                     Woodbine Gardens, Parkview Hill  \n",
       "9                            Ryerson, Garden District  \n",
       "10                                          Glencairn  \n",
       "11  Cloverdale, Islington, Martin Grove, Princess ...  \n",
       "12             Highland Creek, Rouge Hill, Port Union  \n",
       "13                   Flemingdon Park, Don Mills South  \n",
       "14                                   Woodbine Heights  \n",
       "15                                     St. James Town  \n",
       "16                                 Humewood-Cedarvale  \n",
       "17  Bloordale Gardens, Eringate, Markland Wood, Ol...  \n",
       "18                  Guildwood, Morningside, West Hill  \n",
       "19                                        The Beaches  "
      ]
     },
     "execution_count": 4,
     "metadata": {},
     "output_type": "execute_result"
    }
   ],
   "source": [
    "df = pd.DataFrame(list(zip(sigla, borough, Neigh)), columns=['PostalCode', 'Borough', 'Neighborhood'])\n",
    "df.head(20)"
   ]
  },
  {
   "cell_type": "markdown",
   "metadata": {},
   "source": [
    "Let's see the shape:"
   ]
  },
  {
   "cell_type": "code",
   "execution_count": 5,
   "metadata": {},
   "outputs": [
    {
     "data": {
      "text/plain": [
       "(102, 3)"
      ]
     },
     "execution_count": 5,
     "metadata": {},
     "output_type": "execute_result"
    }
   ],
   "source": [
    "df.shape"
   ]
  },
  {
   "cell_type": "markdown",
   "metadata": {},
   "source": [
    "Now, to get the geolocation from the postal code:"
   ]
  },
  {
   "cell_type": "code",
   "execution_count": 6,
   "metadata": {},
   "outputs": [],
   "source": [
    "import geocoder"
   ]
  },
  {
   "cell_type": "markdown",
   "metadata": {},
   "source": [
    "Code not working as google api does not acept calls withot registered key no more"
   ]
  },
  {
   "cell_type": "code",
   "execution_count": 7,
   "metadata": {},
   "outputs": [],
   "source": [
    "# lat_lng_coords = None\n",
    "# lat, long = [], []\n",
    "# for postalCode in df.PostalCode.values:\n",
    "#     # loop until you get the coordinates\n",
    "#     while(lat_lng_coords is None):\n",
    "#       g = geocoder.google(f'{postalCode}, Toronto, Ontario')\n",
    "#       lat_lng_coords = g.latlng\n",
    "#     lat.append(lat_lng_coords[0])\n",
    "#     long.append(lat_lng_coords[1])"
   ]
  },
  {
   "cell_type": "markdown",
   "metadata": {},
   "source": [
    "Using the data on the csv file as a workoroung as requested:"
   ]
  },
  {
   "cell_type": "code",
   "execution_count": 8,
   "metadata": {},
   "outputs": [],
   "source": [
    "# getting the data from the url to a pandas dataframe\n",
    "url = 'http://cocl.us/Geospatial_data'\n",
    "geo_df = pd.read_csv(url)"
   ]
  },
  {
   "cell_type": "code",
   "execution_count": 9,
   "metadata": {},
   "outputs": [],
   "source": [
    "# renaming Postal code colum to match previous df:\n",
    "geo_df.rename(columns={\"Postal Code\": \"PostalCode\"}, inplace=True)"
   ]
  },
  {
   "cell_type": "code",
   "execution_count": 10,
   "metadata": {},
   "outputs": [
    {
     "data": {
      "text/html": [
       "<div>\n",
       "<style scoped>\n",
       "    .dataframe tbody tr th:only-of-type {\n",
       "        vertical-align: middle;\n",
       "    }\n",
       "\n",
       "    .dataframe tbody tr th {\n",
       "        vertical-align: top;\n",
       "    }\n",
       "\n",
       "    .dataframe thead th {\n",
       "        text-align: right;\n",
       "    }\n",
       "</style>\n",
       "<table border=\"1\" class=\"dataframe\">\n",
       "  <thead>\n",
       "    <tr style=\"text-align: right;\">\n",
       "      <th></th>\n",
       "      <th>PostalCode</th>\n",
       "      <th>Latitude</th>\n",
       "      <th>Longitude</th>\n",
       "    </tr>\n",
       "  </thead>\n",
       "  <tbody>\n",
       "    <tr>\n",
       "      <th>0</th>\n",
       "      <td>M1B</td>\n",
       "      <td>43.806686</td>\n",
       "      <td>-79.194353</td>\n",
       "    </tr>\n",
       "    <tr>\n",
       "      <th>1</th>\n",
       "      <td>M1C</td>\n",
       "      <td>43.784535</td>\n",
       "      <td>-79.160497</td>\n",
       "    </tr>\n",
       "    <tr>\n",
       "      <th>2</th>\n",
       "      <td>M1E</td>\n",
       "      <td>43.763573</td>\n",
       "      <td>-79.188711</td>\n",
       "    </tr>\n",
       "    <tr>\n",
       "      <th>3</th>\n",
       "      <td>M1G</td>\n",
       "      <td>43.770992</td>\n",
       "      <td>-79.216917</td>\n",
       "    </tr>\n",
       "    <tr>\n",
       "      <th>4</th>\n",
       "      <td>M1H</td>\n",
       "      <td>43.773136</td>\n",
       "      <td>-79.239476</td>\n",
       "    </tr>\n",
       "  </tbody>\n",
       "</table>\n",
       "</div>"
      ],
      "text/plain": [
       "  PostalCode   Latitude  Longitude\n",
       "0        M1B  43.806686 -79.194353\n",
       "1        M1C  43.784535 -79.160497\n",
       "2        M1E  43.763573 -79.188711\n",
       "3        M1G  43.770992 -79.216917\n",
       "4        M1H  43.773136 -79.239476"
      ]
     },
     "execution_count": 10,
     "metadata": {},
     "output_type": "execute_result"
    }
   ],
   "source": [
    "# check if everything is correct:\n",
    "geo_df.head()"
   ]
  },
  {
   "cell_type": "markdown",
   "metadata": {},
   "source": [
    "Now, let's merge the dataframes:"
   ]
  },
  {
   "cell_type": "code",
   "execution_count": 11,
   "metadata": {},
   "outputs": [],
   "source": [
    "full = pd.merge(df, geo_df, on='PostalCode')"
   ]
  },
  {
   "cell_type": "code",
   "execution_count": 12,
   "metadata": {},
   "outputs": [
    {
     "data": {
      "text/html": [
       "<div>\n",
       "<style scoped>\n",
       "    .dataframe tbody tr th:only-of-type {\n",
       "        vertical-align: middle;\n",
       "    }\n",
       "\n",
       "    .dataframe tbody tr th {\n",
       "        vertical-align: top;\n",
       "    }\n",
       "\n",
       "    .dataframe thead th {\n",
       "        text-align: right;\n",
       "    }\n",
       "</style>\n",
       "<table border=\"1\" class=\"dataframe\">\n",
       "  <thead>\n",
       "    <tr style=\"text-align: right;\">\n",
       "      <th></th>\n",
       "      <th>PostalCode</th>\n",
       "      <th>Borough</th>\n",
       "      <th>Neighborhood</th>\n",
       "      <th>Latitude</th>\n",
       "      <th>Longitude</th>\n",
       "    </tr>\n",
       "  </thead>\n",
       "  <tbody>\n",
       "    <tr>\n",
       "      <th>0</th>\n",
       "      <td>M3A</td>\n",
       "      <td>North York</td>\n",
       "      <td>Parkwoods</td>\n",
       "      <td>43.753259</td>\n",
       "      <td>-79.329656</td>\n",
       "    </tr>\n",
       "    <tr>\n",
       "      <th>1</th>\n",
       "      <td>M4A</td>\n",
       "      <td>North York</td>\n",
       "      <td>Victoria Village</td>\n",
       "      <td>43.725882</td>\n",
       "      <td>-79.315572</td>\n",
       "    </tr>\n",
       "    <tr>\n",
       "      <th>2</th>\n",
       "      <td>M5A</td>\n",
       "      <td>Downtown Toronto</td>\n",
       "      <td>Harbourfront, Regent Park</td>\n",
       "      <td>43.654260</td>\n",
       "      <td>-79.360636</td>\n",
       "    </tr>\n",
       "    <tr>\n",
       "      <th>3</th>\n",
       "      <td>M6A</td>\n",
       "      <td>North York</td>\n",
       "      <td>Lawrence Heights, Lawrence Manor</td>\n",
       "      <td>43.718518</td>\n",
       "      <td>-79.464763</td>\n",
       "    </tr>\n",
       "    <tr>\n",
       "      <th>4</th>\n",
       "      <td>M7A</td>\n",
       "      <td>Queen's Park</td>\n",
       "      <td>Queen's Park</td>\n",
       "      <td>43.662301</td>\n",
       "      <td>-79.389494</td>\n",
       "    </tr>\n",
       "    <tr>\n",
       "      <th>5</th>\n",
       "      <td>M9A</td>\n",
       "      <td>Etobicoke</td>\n",
       "      <td>Islington Avenue</td>\n",
       "      <td>43.667856</td>\n",
       "      <td>-79.532242</td>\n",
       "    </tr>\n",
       "    <tr>\n",
       "      <th>6</th>\n",
       "      <td>M1B</td>\n",
       "      <td>Scarborough</td>\n",
       "      <td>Rouge, Malvern</td>\n",
       "      <td>43.806686</td>\n",
       "      <td>-79.194353</td>\n",
       "    </tr>\n",
       "    <tr>\n",
       "      <th>7</th>\n",
       "      <td>M3B</td>\n",
       "      <td>North York</td>\n",
       "      <td>Don Mills North</td>\n",
       "      <td>43.745906</td>\n",
       "      <td>-79.352188</td>\n",
       "    </tr>\n",
       "    <tr>\n",
       "      <th>8</th>\n",
       "      <td>M4B</td>\n",
       "      <td>East York</td>\n",
       "      <td>Woodbine Gardens, Parkview Hill</td>\n",
       "      <td>43.706397</td>\n",
       "      <td>-79.309937</td>\n",
       "    </tr>\n",
       "    <tr>\n",
       "      <th>9</th>\n",
       "      <td>M5B</td>\n",
       "      <td>Downtown Toronto</td>\n",
       "      <td>Ryerson, Garden District</td>\n",
       "      <td>43.657162</td>\n",
       "      <td>-79.378937</td>\n",
       "    </tr>\n",
       "  </tbody>\n",
       "</table>\n",
       "</div>"
      ],
      "text/plain": [
       "  PostalCode           Borough                      Neighborhood   Latitude  \\\n",
       "0        M3A        North York                         Parkwoods  43.753259   \n",
       "1        M4A        North York                  Victoria Village  43.725882   \n",
       "2        M5A  Downtown Toronto         Harbourfront, Regent Park  43.654260   \n",
       "3        M6A        North York  Lawrence Heights, Lawrence Manor  43.718518   \n",
       "4        M7A      Queen's Park                      Queen's Park  43.662301   \n",
       "5        M9A         Etobicoke                  Islington Avenue  43.667856   \n",
       "6        M1B       Scarborough                    Rouge, Malvern  43.806686   \n",
       "7        M3B        North York                   Don Mills North  43.745906   \n",
       "8        M4B         East York   Woodbine Gardens, Parkview Hill  43.706397   \n",
       "9        M5B  Downtown Toronto          Ryerson, Garden District  43.657162   \n",
       "\n",
       "   Longitude  \n",
       "0 -79.329656  \n",
       "1 -79.315572  \n",
       "2 -79.360636  \n",
       "3 -79.464763  \n",
       "4 -79.389494  \n",
       "5 -79.532242  \n",
       "6 -79.194353  \n",
       "7 -79.352188  \n",
       "8 -79.309937  \n",
       "9 -79.378937  "
      ]
     },
     "execution_count": 12,
     "metadata": {},
     "output_type": "execute_result"
    }
   ],
   "source": [
    "full.head(10)"
   ]
  },
  {
   "cell_type": "code",
   "execution_count": 13,
   "metadata": {},
   "outputs": [
    {
     "data": {
      "text/plain": [
       "(102, 5)"
      ]
     },
     "execution_count": 13,
     "metadata": {},
     "output_type": "execute_result"
    }
   ],
   "source": [
    "full.shape"
   ]
  },
  {
   "cell_type": "markdown",
   "metadata": {},
   "source": [
    "Some analysis of the data and visual plot of the map"
   ]
  },
  {
   "cell_type": "code",
   "execution_count": 36,
   "metadata": {},
   "outputs": [],
   "source": [
    "from geopy.geocoders import Nominatim\n",
    "import folium\n",
    "import folium.plugins as plugins\n",
    "import requests"
   ]
  },
  {
   "cell_type": "code",
   "execution_count": 15,
   "metadata": {},
   "outputs": [],
   "source": [
    "# Ltes create a map of toronto with the given areas code latitude and longitude:\n",
    "map_toronto = folium.Map(location=[43.6542599, -79.3606359], zoom_start=10)\n",
    "\n",
    "# add markers to map\n",
    "for lat, lng, borough, neighborhood in zip(full['Latitude'], full['Longitude'], full['Borough'], full['Neighborhood']):\n",
    "    label = '{}, {}'.format(neighborhood, borough)\n",
    "    label = folium.Popup(label, parse_html=True)\n",
    "    folium.CircleMarker(\n",
    "        [lat, lng],\n",
    "        radius=5,\n",
    "        popup=label,\n",
    "        color='blue',\n",
    "        fill=True,\n",
    "        fill_color='#3186cc',\n",
    "        fill_opacity=0.7,\n",
    "        parse_html=False).add_to(map_toronto)  "
   ]
  },
  {
   "cell_type": "code",
   "execution_count": 16,
   "metadata": {},
   "outputs": [
    {
     "data": {
      "text/html": [
       "<div style=\"width:100%;\"><div style=\"position:relative;width:100%;height:0;padding-bottom:60%;\"><iframe src=\"data:text/html;charset=utf-8;base64,PCFET0NUWVBFIGh0bWw+CjxoZWFkPiAgICAKICAgIDxtZXRhIGh0dHAtZXF1aXY9ImNvbnRlbnQtdHlwZSIgY29udGVudD0idGV4dC9odG1sOyBjaGFyc2V0PVVURi04IiAvPgogICAgCiAgICAgICAgPHNjcmlwdD4KICAgICAgICAgICAgTF9OT19UT1VDSCA9IGZhbHNlOwogICAgICAgICAgICBMX0RJU0FCTEVfM0QgPSBmYWxzZTsKICAgICAgICA8L3NjcmlwdD4KICAgIAogICAgPHNjcmlwdCBzcmM9Imh0dHBzOi8vY2RuLmpzZGVsaXZyLm5ldC9ucG0vbGVhZmxldEAxLjUuMS9kaXN0L2xlYWZsZXQuanMiPjwvc2NyaXB0PgogICAgPHNjcmlwdCBzcmM9Imh0dHBzOi8vY29kZS5qcXVlcnkuY29tL2pxdWVyeS0xLjEyLjQubWluLmpzIj48L3NjcmlwdD4KICAgIDxzY3JpcHQgc3JjPSJodHRwczovL21heGNkbi5ib290c3RyYXBjZG4uY29tL2Jvb3RzdHJhcC8zLjIuMC9qcy9ib290c3RyYXAubWluLmpzIj48L3NjcmlwdD4KICAgIDxzY3JpcHQgc3JjPSJodHRwczovL2NkbmpzLmNsb3VkZmxhcmUuY29tL2FqYXgvbGlicy9MZWFmbGV0LmF3ZXNvbWUtbWFya2Vycy8yLjAuMi9sZWFmbGV0LmF3ZXNvbWUtbWFya2Vycy5qcyI+PC9zY3JpcHQ+CiAgICA8bGluayByZWw9InN0eWxlc2hlZXQiIGhyZWY9Imh0dHBzOi8vY2RuLmpzZGVsaXZyLm5ldC9ucG0vbGVhZmxldEAxLjUuMS9kaXN0L2xlYWZsZXQuY3NzIi8+CiAgICA8bGluayByZWw9InN0eWxlc2hlZXQiIGhyZWY9Imh0dHBzOi8vbWF4Y2RuLmJvb3RzdHJhcGNkbi5jb20vYm9vdHN0cmFwLzMuMi4wL2Nzcy9ib290c3RyYXAubWluLmNzcyIvPgogICAgPGxpbmsgcmVsPSJzdHlsZXNoZWV0IiBocmVmPSJodHRwczovL21heGNkbi5ib290c3RyYXBjZG4uY29tL2Jvb3RzdHJhcC8zLjIuMC9jc3MvYm9vdHN0cmFwLXRoZW1lLm1pbi5jc3MiLz4KICAgIDxsaW5rIHJlbD0ic3R5bGVzaGVldCIgaHJlZj0iaHR0cHM6Ly9tYXhjZG4uYm9vdHN0cmFwY2RuLmNvbS9mb250LWF3ZXNvbWUvNC42LjMvY3NzL2ZvbnQtYXdlc29tZS5taW4uY3NzIi8+CiAgICA8bGluayByZWw9InN0eWxlc2hlZXQiIGhyZWY9Imh0dHBzOi8vY2RuanMuY2xvdWRmbGFyZS5jb20vYWpheC9saWJzL0xlYWZsZXQuYXdlc29tZS1tYXJrZXJzLzIuMC4yL2xlYWZsZXQuYXdlc29tZS1tYXJrZXJzLmNzcyIvPgogICAgPGxpbmsgcmVsPSJzdHlsZXNoZWV0IiBocmVmPSJodHRwczovL3Jhd2Nkbi5naXRoYWNrLmNvbS9weXRob24tdmlzdWFsaXphdGlvbi9mb2xpdW0vbWFzdGVyL2ZvbGl1bS90ZW1wbGF0ZXMvbGVhZmxldC5hd2Vzb21lLnJvdGF0ZS5jc3MiLz4KICAgIDxzdHlsZT5odG1sLCBib2R5IHt3aWR0aDogMTAwJTtoZWlnaHQ6IDEwMCU7bWFyZ2luOiAwO3BhZGRpbmc6IDA7fTwvc3R5bGU+CiAgICA8c3R5bGU+I21hcCB7cG9zaXRpb246YWJzb2x1dGU7dG9wOjA7Ym90dG9tOjA7cmlnaHQ6MDtsZWZ0OjA7fTwvc3R5bGU+CiAgICAKICAgICAgICAgICAgPG1ldGEgbmFtZT0idmlld3BvcnQiIGNvbnRlbnQ9IndpZHRoPWRldmljZS13aWR0aCwKICAgICAgICAgICAgICAgIGluaXRpYWwtc2NhbGU9MS4wLCBtYXhpbXVtLXNjYWxlPTEuMCwgdXNlci1zY2FsYWJsZT1ubyIgLz4KICAgICAgICAgICAgPHN0eWxlPgogICAgICAgICAgICAgICAgI21hcF84ODJhZmMzOTk4OTg0YWY4YTg1Yzk2OTc4N2QzYmRmOCB7CiAgICAgICAgICAgICAgICAgICAgcG9zaXRpb246IHJlbGF0aXZlOwogICAgICAgICAgICAgICAgICAgIHdpZHRoOiAxMDAuMCU7CiAgICAgICAgICAgICAgICAgICAgaGVpZ2h0OiAxMDAuMCU7CiAgICAgICAgICAgICAgICAgICAgbGVmdDogMC4wJTsKICAgICAgICAgICAgICAgICAgICB0b3A6IDAuMCU7CiAgICAgICAgICAgICAgICB9CiAgICAgICAgICAgIDwvc3R5bGU+CiAgICAgICAgCjwvaGVhZD4KPGJvZHk+ICAgIAogICAgCiAgICAgICAgICAgIDxkaXYgY2xhc3M9ImZvbGl1bS1tYXAiIGlkPSJtYXBfODgyYWZjMzk5ODk4NGFmOGE4NWM5Njk3ODdkM2JkZjgiID48L2Rpdj4KICAgICAgICAKPC9ib2R5Pgo8c2NyaXB0PiAgICAKICAgIAogICAgICAgICAgICB2YXIgbWFwXzg4MmFmYzM5OTg5ODRhZjhhODVjOTY5Nzg3ZDNiZGY4ID0gTC5tYXAoCiAgICAgICAgICAgICAgICAibWFwXzg4MmFmYzM5OTg5ODRhZjhhODVjOTY5Nzg3ZDNiZGY4IiwKICAgICAgICAgICAgICAgIHsKICAgICAgICAgICAgICAgICAgICBjZW50ZXI6IFs0My42NTQyNTk5LCAtNzkuMzYwNjM1OV0sCiAgICAgICAgICAgICAgICAgICAgY3JzOiBMLkNSUy5FUFNHMzg1NywKICAgICAgICAgICAgICAgICAgICB6b29tOiAxMCwKICAgICAgICAgICAgICAgICAgICB6b29tQ29udHJvbDogdHJ1ZSwKICAgICAgICAgICAgICAgICAgICBwcmVmZXJDYW52YXM6IGZhbHNlLAogICAgICAgICAgICAgICAgfQogICAgICAgICAgICApOwoKICAgICAgICAgICAgCgogICAgICAgIAogICAgCiAgICAgICAgICAgIHZhciB0aWxlX2xheWVyX2ViNjRiMDNiZGU0MjQ0MGU5YjkwMTg3M2NjZmZhODllID0gTC50aWxlTGF5ZXIoCiAgICAgICAgICAgICAgICAiaHR0cHM6Ly97c30udGlsZS5vcGVuc3RyZWV0bWFwLm9yZy97en0ve3h9L3t5fS5wbmciLAogICAgICAgICAgICAgICAgeyJhdHRyaWJ1dGlvbiI6ICJEYXRhIGJ5IFx1MDAyNmNvcHk7IFx1MDAzY2EgaHJlZj1cImh0dHA6Ly9vcGVuc3RyZWV0bWFwLm9yZ1wiXHUwMDNlT3BlblN0cmVldE1hcFx1MDAzYy9hXHUwMDNlLCB1bmRlciBcdTAwM2NhIGhyZWY9XCJodHRwOi8vd3d3Lm9wZW5zdHJlZXRtYXAub3JnL2NvcHlyaWdodFwiXHUwMDNlT0RiTFx1MDAzYy9hXHUwMDNlLiIsICJkZXRlY3RSZXRpbmEiOiBmYWxzZSwgIm1heE5hdGl2ZVpvb20iOiAxOCwgIm1heFpvb20iOiAxOCwgIm1pblpvb20iOiAwLCAibm9XcmFwIjogZmFsc2UsICJvcGFjaXR5IjogMSwgInN1YmRvbWFpbnMiOiAiYWJjIiwgInRtcyI6IGZhbHNlfQogICAgICAgICAgICApLmFkZFRvKG1hcF84ODJhZmMzOTk4OTg0YWY4YTg1Yzk2OTc4N2QzYmRmOCk7CiAgICAgICAgCiAgICAKICAgICAgICAgICAgdmFyIGNpcmNsZV9tYXJrZXJfNzM4ZGM2ZTJkMmNhNGNmMGFhMTg3ZGNjYzIxOGZiM2IgPSBMLmNpcmNsZU1hcmtlcigKICAgICAgICAgICAgICAgIFs0My43NTMyNTg2LCAtNzkuMzI5NjU2NV0sCiAgICAgICAgICAgICAgICB7ImJ1YmJsaW5nTW91c2VFdmVudHMiOiB0cnVlLCAiY29sb3IiOiAiYmx1ZSIsICJkYXNoQXJyYXkiOiBudWxsLCAiZGFzaE9mZnNldCI6IG51bGwsICJmaWxsIjogdHJ1ZSwgImZpbGxDb2xvciI6ICIjMzE4NmNjIiwgImZpbGxPcGFjaXR5IjogMC43LCAiZmlsbFJ1bGUiOiAiZXZlbm9kZCIsICJsaW5lQ2FwIjogInJvdW5kIiwgImxpbmVKb2luIjogInJvdW5kIiwgIm9wYWNpdHkiOiAxLjAsICJyYWRpdXMiOiA1LCAic3Ryb2tlIjogdHJ1ZSwgIndlaWdodCI6IDN9CiAgICAgICAgICAgICkuYWRkVG8obWFwXzg4MmFmYzM5OTg5ODRhZjhhODVjOTY5Nzg3ZDNiZGY4KTsKICAgICAgICAKICAgIAogICAgICAgIHZhciBwb3B1cF9kY2UzOTJhN2U5MTA0YjgzOTk0MzAzY2Q4NDE3ZDY0YiA9IEwucG9wdXAoeyJtYXhXaWR0aCI6ICIxMDAlIn0pOwoKICAgICAgICAKICAgICAgICAgICAgdmFyIGh0bWxfNjBjYTlkYWJjODA0NGE0ZGFlYWNhYTViYzdiNTQ3MmUgPSAkKGA8ZGl2IGlkPSJodG1sXzYwY2E5ZGFiYzgwNDRhNGRhZWFjYWE1YmM3YjU0NzJlIiBzdHlsZT0id2lkdGg6IDEwMC4wJTsgaGVpZ2h0OiAxMDAuMCU7Ij5QYXJrd29vZHMsIE5vcnRoIFlvcms8L2Rpdj5gKVswXTsKICAgICAgICAgICAgcG9wdXBfZGNlMzkyYTdlOTEwNGI4Mzk5NDMwM2NkODQxN2Q2NGIuc2V0Q29udGVudChodG1sXzYwY2E5ZGFiYzgwNDRhNGRhZWFjYWE1YmM3YjU0NzJlKTsKICAgICAgICAKCiAgICAgICAgY2lyY2xlX21hcmtlcl83MzhkYzZlMmQyY2E0Y2YwYWExODdkY2NjMjE4ZmIzYi5iaW5kUG9wdXAocG9wdXBfZGNlMzkyYTdlOTEwNGI4Mzk5NDMwM2NkODQxN2Q2NGIpCiAgICAgICAgOwoKICAgICAgICAKICAgIAogICAgCiAgICAgICAgICAgIHZhciBjaXJjbGVfbWFya2VyXzI0YTRhZDU1MTAzMzQ1YjA4NWFiZjQzNWU0MTA2OThkID0gTC5jaXJjbGVNYXJrZXIoCiAgICAgICAgICAgICAgICBbNDMuNzI1ODgyMjk5OTk5OTk1LCAtNzkuMzE1NTcxNTk5OTk5OThdLAogICAgICAgICAgICAgICAgeyJidWJibGluZ01vdXNlRXZlbnRzIjogdHJ1ZSwgImNvbG9yIjogImJsdWUiLCAiZGFzaEFycmF5IjogbnVsbCwgImRhc2hPZmZzZXQiOiBudWxsLCAiZmlsbCI6IHRydWUsICJmaWxsQ29sb3IiOiAiIzMxODZjYyIsICJmaWxsT3BhY2l0eSI6IDAuNywgImZpbGxSdWxlIjogImV2ZW5vZGQiLCAibGluZUNhcCI6ICJyb3VuZCIsICJsaW5lSm9pbiI6ICJyb3VuZCIsICJvcGFjaXR5IjogMS4wLCAicmFkaXVzIjogNSwgInN0cm9rZSI6IHRydWUsICJ3ZWlnaHQiOiAzfQogICAgICAgICAgICApLmFkZFRvKG1hcF84ODJhZmMzOTk4OTg0YWY4YTg1Yzk2OTc4N2QzYmRmOCk7CiAgICAgICAgCiAgICAKICAgICAgICB2YXIgcG9wdXBfZmI1ODEzZTdjMGQ3NDljZTkzNzY4MzEzMzJjOGRhYTcgPSBMLnBvcHVwKHsibWF4V2lkdGgiOiAiMTAwJSJ9KTsKCiAgICAgICAgCiAgICAgICAgICAgIHZhciBodG1sX2U5ZmU3ZDYyYzA3YzQzMGVhM2FkZTM1YmFhMDA0ZmM4ID0gJChgPGRpdiBpZD0iaHRtbF9lOWZlN2Q2MmMwN2M0MzBlYTNhZGUzNWJhYTAwNGZjOCIgc3R5bGU9IndpZHRoOiAxMDAuMCU7IGhlaWdodDogMTAwLjAlOyI+VmljdG9yaWEgVmlsbGFnZSwgTm9ydGggWW9yazwvZGl2PmApWzBdOwogICAgICAgICAgICBwb3B1cF9mYjU4MTNlN2MwZDc0OWNlOTM3NjgzMTMzMmM4ZGFhNy5zZXRDb250ZW50KGh0bWxfZTlmZTdkNjJjMDdjNDMwZWEzYWRlMzViYWEwMDRmYzgpOwogICAgICAgIAoKICAgICAgICBjaXJjbGVfbWFya2VyXzI0YTRhZDU1MTAzMzQ1YjA4NWFiZjQzNWU0MTA2OThkLmJpbmRQb3B1cChwb3B1cF9mYjU4MTNlN2MwZDc0OWNlOTM3NjgzMTMzMmM4ZGFhNykKICAgICAgICA7CgogICAgICAgIAogICAgCiAgICAKICAgICAgICAgICAgdmFyIGNpcmNsZV9tYXJrZXJfZDE3N2RkMWE0NWRjNDUzNzlhMDU5NGE5M2JiMmFmOTkgPSBMLmNpcmNsZU1hcmtlcigKICAgICAgICAgICAgICAgIFs0My42NTQyNTk5LCAtNzkuMzYwNjM1OV0sCiAgICAgICAgICAgICAgICB7ImJ1YmJsaW5nTW91c2VFdmVudHMiOiB0cnVlLCAiY29sb3IiOiAiYmx1ZSIsICJkYXNoQXJyYXkiOiBudWxsLCAiZGFzaE9mZnNldCI6IG51bGwsICJmaWxsIjogdHJ1ZSwgImZpbGxDb2xvciI6ICIjMzE4NmNjIiwgImZpbGxPcGFjaXR5IjogMC43LCAiZmlsbFJ1bGUiOiAiZXZlbm9kZCIsICJsaW5lQ2FwIjogInJvdW5kIiwgImxpbmVKb2luIjogInJvdW5kIiwgIm9wYWNpdHkiOiAxLjAsICJyYWRpdXMiOiA1LCAic3Ryb2tlIjogdHJ1ZSwgIndlaWdodCI6IDN9CiAgICAgICAgICAgICkuYWRkVG8obWFwXzg4MmFmYzM5OTg5ODRhZjhhODVjOTY5Nzg3ZDNiZGY4KTsKICAgICAgICAKICAgIAogICAgICAgIHZhciBwb3B1cF8zNzEyYzQwOWY3YmM0MWRhOGUxMDNmMjMzMGUxYjQ5MCA9IEwucG9wdXAoeyJtYXhXaWR0aCI6ICIxMDAlIn0pOwoKICAgICAgICAKICAgICAgICAgICAgdmFyIGh0bWxfODJiYzJkYTNhNjE4NDA2YWI1YmFkY2JkMTBkZTU5MDYgPSAkKGA8ZGl2IGlkPSJodG1sXzgyYmMyZGEzYTYxODQwNmFiNWJhZGNiZDEwZGU1OTA2IiBzdHlsZT0id2lkdGg6IDEwMC4wJTsgaGVpZ2h0OiAxMDAuMCU7Ij5IYXJib3VyZnJvbnQsIFJlZ2VudCBQYXJrLCBEb3dudG93biBUb3JvbnRvPC9kaXY+YClbMF07CiAgICAgICAgICAgIHBvcHVwXzM3MTJjNDA5ZjdiYzQxZGE4ZTEwM2YyMzMwZTFiNDkwLnNldENvbnRlbnQoaHRtbF84MmJjMmRhM2E2MTg0MDZhYjViYWRjYmQxMGRlNTkwNik7CiAgICAgICAgCgogICAgICAgIGNpcmNsZV9tYXJrZXJfZDE3N2RkMWE0NWRjNDUzNzlhMDU5NGE5M2JiMmFmOTkuYmluZFBvcHVwKHBvcHVwXzM3MTJjNDA5ZjdiYzQxZGE4ZTEwM2YyMzMwZTFiNDkwKQogICAgICAgIDsKCiAgICAgICAgCiAgICAKICAgIAogICAgICAgICAgICB2YXIgY2lyY2xlX21hcmtlcl83NzRjODQ5NzExZGI0Y2ExOWQxZDE1ZDI5YmRmODc1YSA9IEwuY2lyY2xlTWFya2VyKAogICAgICAgICAgICAgICAgWzQzLjcxODUxNzk5OTk5OTk5NiwgLTc5LjQ2NDc2MzI5OTk5OTk5XSwKICAgICAgICAgICAgICAgIHsiYnViYmxpbmdNb3VzZUV2ZW50cyI6IHRydWUsICJjb2xvciI6ICJibHVlIiwgImRhc2hBcnJheSI6IG51bGwsICJkYXNoT2Zmc2V0IjogbnVsbCwgImZpbGwiOiB0cnVlLCAiZmlsbENvbG9yIjogIiMzMTg2Y2MiLCAiZmlsbE9wYWNpdHkiOiAwLjcsICJmaWxsUnVsZSI6ICJldmVub2RkIiwgImxpbmVDYXAiOiAicm91bmQiLCAibGluZUpvaW4iOiAicm91bmQiLCAib3BhY2l0eSI6IDEuMCwgInJhZGl1cyI6IDUsICJzdHJva2UiOiB0cnVlLCAid2VpZ2h0IjogM30KICAgICAgICAgICAgKS5hZGRUbyhtYXBfODgyYWZjMzk5ODk4NGFmOGE4NWM5Njk3ODdkM2JkZjgpOwogICAgICAgIAogICAgCiAgICAgICAgdmFyIHBvcHVwXzkzYzJmNzc0M2QwZjRkMTBiYThlYmNkN2I4ZGRkYmNhID0gTC5wb3B1cCh7Im1heFdpZHRoIjogIjEwMCUifSk7CgogICAgICAgIAogICAgICAgICAgICB2YXIgaHRtbF8wOGY4YzY5YTRjMjc0YjY4YjYyYjA2YzFjMTNlOWY0NCA9ICQoYDxkaXYgaWQ9Imh0bWxfMDhmOGM2OWE0YzI3NGI2OGI2MmIwNmMxYzEzZTlmNDQiIHN0eWxlPSJ3aWR0aDogMTAwLjAlOyBoZWlnaHQ6IDEwMC4wJTsiPkxhd3JlbmNlIEhlaWdodHMsIExhd3JlbmNlIE1hbm9yLCBOb3J0aCBZb3JrPC9kaXY+YClbMF07CiAgICAgICAgICAgIHBvcHVwXzkzYzJmNzc0M2QwZjRkMTBiYThlYmNkN2I4ZGRkYmNhLnNldENvbnRlbnQoaHRtbF8wOGY4YzY5YTRjMjc0YjY4YjYyYjA2YzFjMTNlOWY0NCk7CiAgICAgICAgCgogICAgICAgIGNpcmNsZV9tYXJrZXJfNzc0Yzg0OTcxMWRiNGNhMTlkMWQxNWQyOWJkZjg3NWEuYmluZFBvcHVwKHBvcHVwXzkzYzJmNzc0M2QwZjRkMTBiYThlYmNkN2I4ZGRkYmNhKQogICAgICAgIDsKCiAgICAgICAgCiAgICAKICAgIAogICAgICAgICAgICB2YXIgY2lyY2xlX21hcmtlcl9iYjZmMzlhMzllNTc0N2QzYWNhMGRmMDUzYjExYjI2OCA9IEwuY2lyY2xlTWFya2VyKAogICAgICAgICAgICAgICAgWzQzLjY2MjMwMTUsIC03OS4zODk0OTM4XSwKICAgICAgICAgICAgICAgIHsiYnViYmxpbmdNb3VzZUV2ZW50cyI6IHRydWUsICJjb2xvciI6ICJibHVlIiwgImRhc2hBcnJheSI6IG51bGwsICJkYXNoT2Zmc2V0IjogbnVsbCwgImZpbGwiOiB0cnVlLCAiZmlsbENvbG9yIjogIiMzMTg2Y2MiLCAiZmlsbE9wYWNpdHkiOiAwLjcsICJmaWxsUnVsZSI6ICJldmVub2RkIiwgImxpbmVDYXAiOiAicm91bmQiLCAibGluZUpvaW4iOiAicm91bmQiLCAib3BhY2l0eSI6IDEuMCwgInJhZGl1cyI6IDUsICJzdHJva2UiOiB0cnVlLCAid2VpZ2h0IjogM30KICAgICAgICAgICAgKS5hZGRUbyhtYXBfODgyYWZjMzk5ODk4NGFmOGE4NWM5Njk3ODdkM2JkZjgpOwogICAgICAgIAogICAgCiAgICAgICAgdmFyIHBvcHVwX2MxMTk2OTI5M2IxOTQ5ZDY5ZTYwMWEyZmExZWExZjkxID0gTC5wb3B1cCh7Im1heFdpZHRoIjogIjEwMCUifSk7CgogICAgICAgIAogICAgICAgICAgICB2YXIgaHRtbF8xODY1NmQ4ZDlhYzk0MDQxYjc5YTdkZjk2NmEzMjg5ZSA9ICQoYDxkaXYgaWQ9Imh0bWxfMTg2NTZkOGQ5YWM5NDA0MWI3OWE3ZGY5NjZhMzI4OWUiIHN0eWxlPSJ3aWR0aDogMTAwLjAlOyBoZWlnaHQ6IDEwMC4wJTsiPlF1ZWVuJiMzOTtzIFBhcmssIFF1ZWVuJiMzOTtzIFBhcms8L2Rpdj5gKVswXTsKICAgICAgICAgICAgcG9wdXBfYzExOTY5MjkzYjE5NDlkNjllNjAxYTJmYTFlYTFmOTEuc2V0Q29udGVudChodG1sXzE4NjU2ZDhkOWFjOTQwNDFiNzlhN2RmOTY2YTMyODllKTsKICAgICAgICAKCiAgICAgICAgY2lyY2xlX21hcmtlcl9iYjZmMzlhMzllNTc0N2QzYWNhMGRmMDUzYjExYjI2OC5iaW5kUG9wdXAocG9wdXBfYzExOTY5MjkzYjE5NDlkNjllNjAxYTJmYTFlYTFmOTEpCiAgICAgICAgOwoKICAgICAgICAKICAgIAogICAgCiAgICAgICAgICAgIHZhciBjaXJjbGVfbWFya2VyX2RiZTg1MjBmYTIxNTRjNTk5ZjM0NjI4MDNhNDZmODMyID0gTC5jaXJjbGVNYXJrZXIoCiAgICAgICAgICAgICAgICBbNDMuNjY3ODU1NiwgLTc5LjUzMjI0MjQwMDAwMDAyXSwKICAgICAgICAgICAgICAgIHsiYnViYmxpbmdNb3VzZUV2ZW50cyI6IHRydWUsICJjb2xvciI6ICJibHVlIiwgImRhc2hBcnJheSI6IG51bGwsICJkYXNoT2Zmc2V0IjogbnVsbCwgImZpbGwiOiB0cnVlLCAiZmlsbENvbG9yIjogIiMzMTg2Y2MiLCAiZmlsbE9wYWNpdHkiOiAwLjcsICJmaWxsUnVsZSI6ICJldmVub2RkIiwgImxpbmVDYXAiOiAicm91bmQiLCAibGluZUpvaW4iOiAicm91bmQiLCAib3BhY2l0eSI6IDEuMCwgInJhZGl1cyI6IDUsICJzdHJva2UiOiB0cnVlLCAid2VpZ2h0IjogM30KICAgICAgICAgICAgKS5hZGRUbyhtYXBfODgyYWZjMzk5ODk4NGFmOGE4NWM5Njk3ODdkM2JkZjgpOwogICAgICAgIAogICAgCiAgICAgICAgdmFyIHBvcHVwXzE0N2U2MDVkNTNhNDRkMmVhMGMwOTRhYmI3MGQ0YjA5ID0gTC5wb3B1cCh7Im1heFdpZHRoIjogIjEwMCUifSk7CgogICAgICAgIAogICAgICAgICAgICB2YXIgaHRtbF8yYTFlNWQ0MTM2ZmE0YTkwOGIwNjQ3NzZhODA2MWYxNyA9ICQoYDxkaXYgaWQ9Imh0bWxfMmExZTVkNDEzNmZhNGE5MDhiMDY0Nzc2YTgwNjFmMTciIHN0eWxlPSJ3aWR0aDogMTAwLjAlOyBoZWlnaHQ6IDEwMC4wJTsiPklzbGluZ3RvbiBBdmVudWUsIEV0b2JpY29rZTwvZGl2PmApWzBdOwogICAgICAgICAgICBwb3B1cF8xNDdlNjA1ZDUzYTQ0ZDJlYTBjMDk0YWJiNzBkNGIwOS5zZXRDb250ZW50KGh0bWxfMmExZTVkNDEzNmZhNGE5MDhiMDY0Nzc2YTgwNjFmMTcpOwogICAgICAgIAoKICAgICAgICBjaXJjbGVfbWFya2VyX2RiZTg1MjBmYTIxNTRjNTk5ZjM0NjI4MDNhNDZmODMyLmJpbmRQb3B1cChwb3B1cF8xNDdlNjA1ZDUzYTQ0ZDJlYTBjMDk0YWJiNzBkNGIwOSkKICAgICAgICA7CgogICAgICAgIAogICAgCiAgICAKICAgICAgICAgICAgdmFyIGNpcmNsZV9tYXJrZXJfYTQ1ZmExOTllZTU1NGRhZmJhZmQ5MmRhMjBlOTlmYzYgPSBMLmNpcmNsZU1hcmtlcigKICAgICAgICAgICAgICAgIFs0My44MDY2ODYyOTk5OTk5OTYsIC03OS4xOTQzNTM0MDAwMDAwMV0sCiAgICAgICAgICAgICAgICB7ImJ1YmJsaW5nTW91c2VFdmVudHMiOiB0cnVlLCAiY29sb3IiOiAiYmx1ZSIsICJkYXNoQXJyYXkiOiBudWxsLCAiZGFzaE9mZnNldCI6IG51bGwsICJmaWxsIjogdHJ1ZSwgImZpbGxDb2xvciI6ICIjMzE4NmNjIiwgImZpbGxPcGFjaXR5IjogMC43LCAiZmlsbFJ1bGUiOiAiZXZlbm9kZCIsICJsaW5lQ2FwIjogInJvdW5kIiwgImxpbmVKb2luIjogInJvdW5kIiwgIm9wYWNpdHkiOiAxLjAsICJyYWRpdXMiOiA1LCAic3Ryb2tlIjogdHJ1ZSwgIndlaWdodCI6IDN9CiAgICAgICAgICAgICkuYWRkVG8obWFwXzg4MmFmYzM5OTg5ODRhZjhhODVjOTY5Nzg3ZDNiZGY4KTsKICAgICAgICAKICAgIAogICAgICAgIHZhciBwb3B1cF8wMDEwYmY5YmFlNGQ0ZmFjYjQ4YTFlYzkzNTM5YjViOCA9IEwucG9wdXAoeyJtYXhXaWR0aCI6ICIxMDAlIn0pOwoKICAgICAgICAKICAgICAgICAgICAgdmFyIGh0bWxfYTI1NjRlYzk4MGNjNGIxNDhlZjMxYTEyMTQyNzEzMWUgPSAkKGA8ZGl2IGlkPSJodG1sX2EyNTY0ZWM5ODBjYzRiMTQ4ZWYzMWExMjE0MjcxMzFlIiBzdHlsZT0id2lkdGg6IDEwMC4wJTsgaGVpZ2h0OiAxMDAuMCU7Ij5Sb3VnZSwgTWFsdmVybiwgU2NhcmJvcm91Z2g8L2Rpdj5gKVswXTsKICAgICAgICAgICAgcG9wdXBfMDAxMGJmOWJhZTRkNGZhY2I0OGExZWM5MzUzOWI1Yjguc2V0Q29udGVudChodG1sX2EyNTY0ZWM5ODBjYzRiMTQ4ZWYzMWExMjE0MjcxMzFlKTsKICAgICAgICAKCiAgICAgICAgY2lyY2xlX21hcmtlcl9hNDVmYTE5OWVlNTU0ZGFmYmFmZDkyZGEyMGU5OWZjNi5iaW5kUG9wdXAocG9wdXBfMDAxMGJmOWJhZTRkNGZhY2I0OGExZWM5MzUzOWI1YjgpCiAgICAgICAgOwoKICAgICAgICAKICAgIAogICAgCiAgICAgICAgICAgIHZhciBjaXJjbGVfbWFya2VyX2JkN2JmZjM2ZjEyNTRiYmJhNTk3MWQ3ZmYzYzdiOTVjID0gTC5jaXJjbGVNYXJrZXIoCiAgICAgICAgICAgICAgICBbNDMuNzQ1OTA1Nzk5OTk5OTk2LCAtNzkuMzUyMTg4XSwKICAgICAgICAgICAgICAgIHsiYnViYmxpbmdNb3VzZUV2ZW50cyI6IHRydWUsICJjb2xvciI6ICJibHVlIiwgImRhc2hBcnJheSI6IG51bGwsICJkYXNoT2Zmc2V0IjogbnVsbCwgImZpbGwiOiB0cnVlLCAiZmlsbENvbG9yIjogIiMzMTg2Y2MiLCAiZmlsbE9wYWNpdHkiOiAwLjcsICJmaWxsUnVsZSI6ICJldmVub2RkIiwgImxpbmVDYXAiOiAicm91bmQiLCAibGluZUpvaW4iOiAicm91bmQiLCAib3BhY2l0eSI6IDEuMCwgInJhZGl1cyI6IDUsICJzdHJva2UiOiB0cnVlLCAid2VpZ2h0IjogM30KICAgICAgICAgICAgKS5hZGRUbyhtYXBfODgyYWZjMzk5ODk4NGFmOGE4NWM5Njk3ODdkM2JkZjgpOwogICAgICAgIAogICAgCiAgICAgICAgdmFyIHBvcHVwX2FiODU1MTMzZjM3YzQ5ZWJiNTEwMmU5NWNkMTlkODM5ID0gTC5wb3B1cCh7Im1heFdpZHRoIjogIjEwMCUifSk7CgogICAgICAgIAogICAgICAgICAgICB2YXIgaHRtbF84NDM5YzA4ZGNkODA0Yjk5OWMwODA1NzhmNWFmZWE4YSA9ICQoYDxkaXYgaWQ9Imh0bWxfODQzOWMwOGRjZDgwNGI5OTljMDgwNTc4ZjVhZmVhOGEiIHN0eWxlPSJ3aWR0aDogMTAwLjAlOyBoZWlnaHQ6IDEwMC4wJTsiPkRvbiBNaWxscyBOb3J0aCwgTm9ydGggWW9yazwvZGl2PmApWzBdOwogICAgICAgICAgICBwb3B1cF9hYjg1NTEzM2YzN2M0OWViYjUxMDJlOTVjZDE5ZDgzOS5zZXRDb250ZW50KGh0bWxfODQzOWMwOGRjZDgwNGI5OTljMDgwNTc4ZjVhZmVhOGEpOwogICAgICAgIAoKICAgICAgICBjaXJjbGVfbWFya2VyX2JkN2JmZjM2ZjEyNTRiYmJhNTk3MWQ3ZmYzYzdiOTVjLmJpbmRQb3B1cChwb3B1cF9hYjg1NTEzM2YzN2M0OWViYjUxMDJlOTVjZDE5ZDgzOSkKICAgICAgICA7CgogICAgICAgIAogICAgCiAgICAKICAgICAgICAgICAgdmFyIGNpcmNsZV9tYXJrZXJfYWM2ZWMxOWUzMWExNDhiZGJmMjU1YjhkYTU5NzU1NjQgPSBMLmNpcmNsZU1hcmtlcigKICAgICAgICAgICAgICAgIFs0My43MDYzOTcyLCAtNzkuMzA5OTM3XSwKICAgICAgICAgICAgICAgIHsiYnViYmxpbmdNb3VzZUV2ZW50cyI6IHRydWUsICJjb2xvciI6ICJibHVlIiwgImRhc2hBcnJheSI6IG51bGwsICJkYXNoT2Zmc2V0IjogbnVsbCwgImZpbGwiOiB0cnVlLCAiZmlsbENvbG9yIjogIiMzMTg2Y2MiLCAiZmlsbE9wYWNpdHkiOiAwLjcsICJmaWxsUnVsZSI6ICJldmVub2RkIiwgImxpbmVDYXAiOiAicm91bmQiLCAibGluZUpvaW4iOiAicm91bmQiLCAib3BhY2l0eSI6IDEuMCwgInJhZGl1cyI6IDUsICJzdHJva2UiOiB0cnVlLCAid2VpZ2h0IjogM30KICAgICAgICAgICAgKS5hZGRUbyhtYXBfODgyYWZjMzk5ODk4NGFmOGE4NWM5Njk3ODdkM2JkZjgpOwogICAgICAgIAogICAgCiAgICAgICAgdmFyIHBvcHVwXzA1ZjRlZjBhNzc3NzQ4ZmM5NGUxNzU2MGI5ZmU5MzI3ID0gTC5wb3B1cCh7Im1heFdpZHRoIjogIjEwMCUifSk7CgogICAgICAgIAogICAgICAgICAgICB2YXIgaHRtbF81MzQ0YzRhYjU4YTg0NGYwYTg5NGU1MWRjZmIyMzFmMyA9ICQoYDxkaXYgaWQ9Imh0bWxfNTM0NGM0YWI1OGE4NDRmMGE4OTRlNTFkY2ZiMjMxZjMiIHN0eWxlPSJ3aWR0aDogMTAwLjAlOyBoZWlnaHQ6IDEwMC4wJTsiPldvb2RiaW5lIEdhcmRlbnMsIFBhcmt2aWV3IEhpbGwsIEVhc3QgWW9yazwvZGl2PmApWzBdOwogICAgICAgICAgICBwb3B1cF8wNWY0ZWYwYTc3Nzc0OGZjOTRlMTc1NjBiOWZlOTMyNy5zZXRDb250ZW50KGh0bWxfNTM0NGM0YWI1OGE4NDRmMGE4OTRlNTFkY2ZiMjMxZjMpOwogICAgICAgIAoKICAgICAgICBjaXJjbGVfbWFya2VyX2FjNmVjMTllMzFhMTQ4YmRiZjI1NWI4ZGE1OTc1NTY0LmJpbmRQb3B1cChwb3B1cF8wNWY0ZWYwYTc3Nzc0OGZjOTRlMTc1NjBiOWZlOTMyNykKICAgICAgICA7CgogICAgICAgIAogICAgCiAgICAKICAgICAgICAgICAgdmFyIGNpcmNsZV9tYXJrZXJfNDk1MDgwZDhkN2NjNGVkNTlhMzY1ZWRkNDBkZDA3OGEgPSBMLmNpcmNsZU1hcmtlcigKICAgICAgICAgICAgICAgIFs0My42NTcxNjE4LCAtNzkuMzc4OTM3MDk5OTk5OTldLAogICAgICAgICAgICAgICAgeyJidWJibGluZ01vdXNlRXZlbnRzIjogdHJ1ZSwgImNvbG9yIjogImJsdWUiLCAiZGFzaEFycmF5IjogbnVsbCwgImRhc2hPZmZzZXQiOiBudWxsLCAiZmlsbCI6IHRydWUsICJmaWxsQ29sb3IiOiAiIzMxODZjYyIsICJmaWxsT3BhY2l0eSI6IDAuNywgImZpbGxSdWxlIjogImV2ZW5vZGQiLCAibGluZUNhcCI6ICJyb3VuZCIsICJsaW5lSm9pbiI6ICJyb3VuZCIsICJvcGFjaXR5IjogMS4wLCAicmFkaXVzIjogNSwgInN0cm9rZSI6IHRydWUsICJ3ZWlnaHQiOiAzfQogICAgICAgICAgICApLmFkZFRvKG1hcF84ODJhZmMzOTk4OTg0YWY4YTg1Yzk2OTc4N2QzYmRmOCk7CiAgICAgICAgCiAgICAKICAgICAgICB2YXIgcG9wdXBfY2U5NjAyNjA4ZGI1NDI2MjhhOWY2M2IxMmZjNWFhMWUgPSBMLnBvcHVwKHsibWF4V2lkdGgiOiAiMTAwJSJ9KTsKCiAgICAgICAgCiAgICAgICAgICAgIHZhciBodG1sXzNhMGVhOTYyMjRjYTQyY2I4N2I0ZTVlZTMxNGMwYWJkID0gJChgPGRpdiBpZD0iaHRtbF8zYTBlYTk2MjI0Y2E0MmNiODdiNGU1ZWUzMTRjMGFiZCIgc3R5bGU9IndpZHRoOiAxMDAuMCU7IGhlaWdodDogMTAwLjAlOyI+UnllcnNvbiwgR2FyZGVuIERpc3RyaWN0LCBEb3dudG93biBUb3JvbnRvPC9kaXY+YClbMF07CiAgICAgICAgICAgIHBvcHVwX2NlOTYwMjYwOGRiNTQyNjI4YTlmNjNiMTJmYzVhYTFlLnNldENvbnRlbnQoaHRtbF8zYTBlYTk2MjI0Y2E0MmNiODdiNGU1ZWUzMTRjMGFiZCk7CiAgICAgICAgCgogICAgICAgIGNpcmNsZV9tYXJrZXJfNDk1MDgwZDhkN2NjNGVkNTlhMzY1ZWRkNDBkZDA3OGEuYmluZFBvcHVwKHBvcHVwX2NlOTYwMjYwOGRiNTQyNjI4YTlmNjNiMTJmYzVhYTFlKQogICAgICAgIDsKCiAgICAgICAgCiAgICAKICAgIAogICAgICAgICAgICB2YXIgY2lyY2xlX21hcmtlcl9mMDU1N2ZhZWUzOWU0ZjRjYjc2NGEzNTViMzQyZGM2NiA9IEwuY2lyY2xlTWFya2VyKAogICAgICAgICAgICAgICAgWzQzLjcwOTU3NywgLTc5LjQ0NTA3MjU5OTk5OTk5XSwKICAgICAgICAgICAgICAgIHsiYnViYmxpbmdNb3VzZUV2ZW50cyI6IHRydWUsICJjb2xvciI6ICJibHVlIiwgImRhc2hBcnJheSI6IG51bGwsICJkYXNoT2Zmc2V0IjogbnVsbCwgImZpbGwiOiB0cnVlLCAiZmlsbENvbG9yIjogIiMzMTg2Y2MiLCAiZmlsbE9wYWNpdHkiOiAwLjcsICJmaWxsUnVsZSI6ICJldmVub2RkIiwgImxpbmVDYXAiOiAicm91bmQiLCAibGluZUpvaW4iOiAicm91bmQiLCAib3BhY2l0eSI6IDEuMCwgInJhZGl1cyI6IDUsICJzdHJva2UiOiB0cnVlLCAid2VpZ2h0IjogM30KICAgICAgICAgICAgKS5hZGRUbyhtYXBfODgyYWZjMzk5ODk4NGFmOGE4NWM5Njk3ODdkM2JkZjgpOwogICAgICAgIAogICAgCiAgICAgICAgdmFyIHBvcHVwXzM4YTQ2ODk5M2U2MjRmZDU4OTllYmVhMmE0ODg5ZTRhID0gTC5wb3B1cCh7Im1heFdpZHRoIjogIjEwMCUifSk7CgogICAgICAgIAogICAgICAgICAgICB2YXIgaHRtbF83NDY3MzRjZTdiMDA0ZmYxYjU2Nzk5NzE4MTY5YTI4NyA9ICQoYDxkaXYgaWQ9Imh0bWxfNzQ2NzM0Y2U3YjAwNGZmMWI1Njc5OTcxODE2OWEyODciIHN0eWxlPSJ3aWR0aDogMTAwLjAlOyBoZWlnaHQ6IDEwMC4wJTsiPkdsZW5jYWlybiwgTm9ydGggWW9yazwvZGl2PmApWzBdOwogICAgICAgICAgICBwb3B1cF8zOGE0Njg5OTNlNjI0ZmQ1ODk5ZWJlYTJhNDg4OWU0YS5zZXRDb250ZW50KGh0bWxfNzQ2NzM0Y2U3YjAwNGZmMWI1Njc5OTcxODE2OWEyODcpOwogICAgICAgIAoKICAgICAgICBjaXJjbGVfbWFya2VyX2YwNTU3ZmFlZTM5ZTRmNGNiNzY0YTM1NWIzNDJkYzY2LmJpbmRQb3B1cChwb3B1cF8zOGE0Njg5OTNlNjI0ZmQ1ODk5ZWJlYTJhNDg4OWU0YSkKICAgICAgICA7CgogICAgICAgIAogICAgCiAgICAKICAgICAgICAgICAgdmFyIGNpcmNsZV9tYXJrZXJfZWU2Yzc1Y2I3OTE0NGRhY2I1MWVjNjkyNzBkYWM0MjMgPSBMLmNpcmNsZU1hcmtlcigKICAgICAgICAgICAgICAgIFs0My42NTA5NDMyLCAtNzkuNTU0NzI0NDAwMDAwMDFdLAogICAgICAgICAgICAgICAgeyJidWJibGluZ01vdXNlRXZlbnRzIjogdHJ1ZSwgImNvbG9yIjogImJsdWUiLCAiZGFzaEFycmF5IjogbnVsbCwgImRhc2hPZmZzZXQiOiBudWxsLCAiZmlsbCI6IHRydWUsICJmaWxsQ29sb3IiOiAiIzMxODZjYyIsICJmaWxsT3BhY2l0eSI6IDAuNywgImZpbGxSdWxlIjogImV2ZW5vZGQiLCAibGluZUNhcCI6ICJyb3VuZCIsICJsaW5lSm9pbiI6ICJyb3VuZCIsICJvcGFjaXR5IjogMS4wLCAicmFkaXVzIjogNSwgInN0cm9rZSI6IHRydWUsICJ3ZWlnaHQiOiAzfQogICAgICAgICAgICApLmFkZFRvKG1hcF84ODJhZmMzOTk4OTg0YWY4YTg1Yzk2OTc4N2QzYmRmOCk7CiAgICAgICAgCiAgICAKICAgICAgICB2YXIgcG9wdXBfMmFmYmMxMTg3NDBhNGY5ZmE0NzVhYTY0Yjg5ODg2YjEgPSBMLnBvcHVwKHsibWF4V2lkdGgiOiAiMTAwJSJ9KTsKCiAgICAgICAgCiAgICAgICAgICAgIHZhciBodG1sX2FlMjk1N2YxZDFjZTRlM2M5NDBmM2U1ZDZhNmNlMzllID0gJChgPGRpdiBpZD0iaHRtbF9hZTI5NTdmMWQxY2U0ZTNjOTQwZjNlNWQ2YTZjZTM5ZSIgc3R5bGU9IndpZHRoOiAxMDAuMCU7IGhlaWdodDogMTAwLjAlOyI+Q2xvdmVyZGFsZSwgSXNsaW5ndG9uLCBNYXJ0aW4gR3JvdmUsIFByaW5jZXNzIEdhcmRlbnMsIFdlc3QgRGVhbmUgUGFyaywgRXRvYmljb2tlPC9kaXY+YClbMF07CiAgICAgICAgICAgIHBvcHVwXzJhZmJjMTE4NzQwYTRmOWZhNDc1YWE2NGI4OTg4NmIxLnNldENvbnRlbnQoaHRtbF9hZTI5NTdmMWQxY2U0ZTNjOTQwZjNlNWQ2YTZjZTM5ZSk7CiAgICAgICAgCgogICAgICAgIGNpcmNsZV9tYXJrZXJfZWU2Yzc1Y2I3OTE0NGRhY2I1MWVjNjkyNzBkYWM0MjMuYmluZFBvcHVwKHBvcHVwXzJhZmJjMTE4NzQwYTRmOWZhNDc1YWE2NGI4OTg4NmIxKQogICAgICAgIDsKCiAgICAgICAgCiAgICAKICAgIAogICAgICAgICAgICB2YXIgY2lyY2xlX21hcmtlcl9iOGExMzU4MmM4ZjI0M2Q1ODQwYWM0Njc3ZjNmNDAxNiA9IEwuY2lyY2xlTWFya2VyKAogICAgICAgICAgICAgICAgWzQzLjc4NDUzNTEsIC03OS4xNjA0OTcwOTk5OTk5OV0sCiAgICAgICAgICAgICAgICB7ImJ1YmJsaW5nTW91c2VFdmVudHMiOiB0cnVlLCAiY29sb3IiOiAiYmx1ZSIsICJkYXNoQXJyYXkiOiBudWxsLCAiZGFzaE9mZnNldCI6IG51bGwsICJmaWxsIjogdHJ1ZSwgImZpbGxDb2xvciI6ICIjMzE4NmNjIiwgImZpbGxPcGFjaXR5IjogMC43LCAiZmlsbFJ1bGUiOiAiZXZlbm9kZCIsICJsaW5lQ2FwIjogInJvdW5kIiwgImxpbmVKb2luIjogInJvdW5kIiwgIm9wYWNpdHkiOiAxLjAsICJyYWRpdXMiOiA1LCAic3Ryb2tlIjogdHJ1ZSwgIndlaWdodCI6IDN9CiAgICAgICAgICAgICkuYWRkVG8obWFwXzg4MmFmYzM5OTg5ODRhZjhhODVjOTY5Nzg3ZDNiZGY4KTsKICAgICAgICAKICAgIAogICAgICAgIHZhciBwb3B1cF84YWVhZDRhYWE3N2E0N2ZlOGM4MWJkNjA4YzY5NWU3MiA9IEwucG9wdXAoeyJtYXhXaWR0aCI6ICIxMDAlIn0pOwoKICAgICAgICAKICAgICAgICAgICAgdmFyIGh0bWxfYjg0NzI2OGVlNWFlNDhkNWE0NGVmNDUyMjI4ZWRmMDMgPSAkKGA8ZGl2IGlkPSJodG1sX2I4NDcyNjhlZTVhZTQ4ZDVhNDRlZjQ1MjIyOGVkZjAzIiBzdHlsZT0id2lkdGg6IDEwMC4wJTsgaGVpZ2h0OiAxMDAuMCU7Ij5IaWdobGFuZCBDcmVlaywgUm91Z2UgSGlsbCwgUG9ydCBVbmlvbiwgU2NhcmJvcm91Z2g8L2Rpdj5gKVswXTsKICAgICAgICAgICAgcG9wdXBfOGFlYWQ0YWFhNzdhNDdmZThjODFiZDYwOGM2OTVlNzIuc2V0Q29udGVudChodG1sX2I4NDcyNjhlZTVhZTQ4ZDVhNDRlZjQ1MjIyOGVkZjAzKTsKICAgICAgICAKCiAgICAgICAgY2lyY2xlX21hcmtlcl9iOGExMzU4MmM4ZjI0M2Q1ODQwYWM0Njc3ZjNmNDAxNi5iaW5kUG9wdXAocG9wdXBfOGFlYWQ0YWFhNzdhNDdmZThjODFiZDYwOGM2OTVlNzIpCiAgICAgICAgOwoKICAgICAgICAKICAgIAogICAgCiAgICAgICAgICAgIHZhciBjaXJjbGVfbWFya2VyXzkzM2FkMmI4MGRiYzQ4YWVhYTQ1ZDhlNzc5OGM4NGM0ID0gTC5jaXJjbGVNYXJrZXIoCiAgICAgICAgICAgICAgICBbNDMuNzI1ODk5NzAwMDAwMDEsIC03OS4zNDA5MjNdLAogICAgICAgICAgICAgICAgeyJidWJibGluZ01vdXNlRXZlbnRzIjogdHJ1ZSwgImNvbG9yIjogImJsdWUiLCAiZGFzaEFycmF5IjogbnVsbCwgImRhc2hPZmZzZXQiOiBudWxsLCAiZmlsbCI6IHRydWUsICJmaWxsQ29sb3IiOiAiIzMxODZjYyIsICJmaWxsT3BhY2l0eSI6IDAuNywgImZpbGxSdWxlIjogImV2ZW5vZGQiLCAibGluZUNhcCI6ICJyb3VuZCIsICJsaW5lSm9pbiI6ICJyb3VuZCIsICJvcGFjaXR5IjogMS4wLCAicmFkaXVzIjogNSwgInN0cm9rZSI6IHRydWUsICJ3ZWlnaHQiOiAzfQogICAgICAgICAgICApLmFkZFRvKG1hcF84ODJhZmMzOTk4OTg0YWY4YTg1Yzk2OTc4N2QzYmRmOCk7CiAgICAgICAgCiAgICAKICAgICAgICB2YXIgcG9wdXBfOGJjNWFmN2M2OThjNDhmMTg0NDc5ODEzMWM4MjlhYjkgPSBMLnBvcHVwKHsibWF4V2lkdGgiOiAiMTAwJSJ9KTsKCiAgICAgICAgCiAgICAgICAgICAgIHZhciBodG1sX2VkYzhkZDgwMWY2MDRhZjI5NDIxOTRhNDRjZmVkOThkID0gJChgPGRpdiBpZD0iaHRtbF9lZGM4ZGQ4MDFmNjA0YWYyOTQyMTk0YTQ0Y2ZlZDk4ZCIgc3R5bGU9IndpZHRoOiAxMDAuMCU7IGhlaWdodDogMTAwLjAlOyI+RmxlbWluZ2RvbiBQYXJrLCBEb24gTWlsbHMgU291dGgsIE5vcnRoIFlvcms8L2Rpdj5gKVswXTsKICAgICAgICAgICAgcG9wdXBfOGJjNWFmN2M2OThjNDhmMTg0NDc5ODEzMWM4MjlhYjkuc2V0Q29udGVudChodG1sX2VkYzhkZDgwMWY2MDRhZjI5NDIxOTRhNDRjZmVkOThkKTsKICAgICAgICAKCiAgICAgICAgY2lyY2xlX21hcmtlcl85MzNhZDJiODBkYmM0OGFlYWE0NWQ4ZTc3OThjODRjNC5iaW5kUG9wdXAocG9wdXBfOGJjNWFmN2M2OThjNDhmMTg0NDc5ODEzMWM4MjlhYjkpCiAgICAgICAgOwoKICAgICAgICAKICAgIAogICAgCiAgICAgICAgICAgIHZhciBjaXJjbGVfbWFya2VyX2VjMGExNGI1MThhZTQ1ZjI4ODk3N2RlMDc2NTE0YmE1ID0gTC5jaXJjbGVNYXJrZXIoCiAgICAgICAgICAgICAgICBbNDMuNjk1MzQzOTAwMDAwMDA1LCAtNzkuMzE4Mzg4N10sCiAgICAgICAgICAgICAgICB7ImJ1YmJsaW5nTW91c2VFdmVudHMiOiB0cnVlLCAiY29sb3IiOiAiYmx1ZSIsICJkYXNoQXJyYXkiOiBudWxsLCAiZGFzaE9mZnNldCI6IG51bGwsICJmaWxsIjogdHJ1ZSwgImZpbGxDb2xvciI6ICIjMzE4NmNjIiwgImZpbGxPcGFjaXR5IjogMC43LCAiZmlsbFJ1bGUiOiAiZXZlbm9kZCIsICJsaW5lQ2FwIjogInJvdW5kIiwgImxpbmVKb2luIjogInJvdW5kIiwgIm9wYWNpdHkiOiAxLjAsICJyYWRpdXMiOiA1LCAic3Ryb2tlIjogdHJ1ZSwgIndlaWdodCI6IDN9CiAgICAgICAgICAgICkuYWRkVG8obWFwXzg4MmFmYzM5OTg5ODRhZjhhODVjOTY5Nzg3ZDNiZGY4KTsKICAgICAgICAKICAgIAogICAgICAgIHZhciBwb3B1cF9iYzEzOWRlNWIwZjk0NjFiYWYzN2Q5NjVlODY0YmMwZCA9IEwucG9wdXAoeyJtYXhXaWR0aCI6ICIxMDAlIn0pOwoKICAgICAgICAKICAgICAgICAgICAgdmFyIGh0bWxfZDNhZWRiM2JlN2E2NDJiZmEyNTQ3Y2JiNDA3MmJmMjQgPSAkKGA8ZGl2IGlkPSJodG1sX2QzYWVkYjNiZTdhNjQyYmZhMjU0N2NiYjQwNzJiZjI0IiBzdHlsZT0id2lkdGg6IDEwMC4wJTsgaGVpZ2h0OiAxMDAuMCU7Ij5Xb29kYmluZSBIZWlnaHRzLCBFYXN0IFlvcms8L2Rpdj5gKVswXTsKICAgICAgICAgICAgcG9wdXBfYmMxMzlkZTViMGY5NDYxYmFmMzdkOTY1ZTg2NGJjMGQuc2V0Q29udGVudChodG1sX2QzYWVkYjNiZTdhNjQyYmZhMjU0N2NiYjQwNzJiZjI0KTsKICAgICAgICAKCiAgICAgICAgY2lyY2xlX21hcmtlcl9lYzBhMTRiNTE4YWU0NWYyODg5NzdkZTA3NjUxNGJhNS5iaW5kUG9wdXAocG9wdXBfYmMxMzlkZTViMGY5NDYxYmFmMzdkOTY1ZTg2NGJjMGQpCiAgICAgICAgOwoKICAgICAgICAKICAgIAogICAgCiAgICAgICAgICAgIHZhciBjaXJjbGVfbWFya2VyXzY5NzMzODEzNjY5ZjQxOTU4ZjYyZDAyZTAwNjgzOGMyID0gTC5jaXJjbGVNYXJrZXIoCiAgICAgICAgICAgICAgICBbNDMuNjUxNDkzOSwgLTc5LjM3NTQxNzldLAogICAgICAgICAgICAgICAgeyJidWJibGluZ01vdXNlRXZlbnRzIjogdHJ1ZSwgImNvbG9yIjogImJsdWUiLCAiZGFzaEFycmF5IjogbnVsbCwgImRhc2hPZmZzZXQiOiBudWxsLCAiZmlsbCI6IHRydWUsICJmaWxsQ29sb3IiOiAiIzMxODZjYyIsICJmaWxsT3BhY2l0eSI6IDAuNywgImZpbGxSdWxlIjogImV2ZW5vZGQiLCAibGluZUNhcCI6ICJyb3VuZCIsICJsaW5lSm9pbiI6ICJyb3VuZCIsICJvcGFjaXR5IjogMS4wLCAicmFkaXVzIjogNSwgInN0cm9rZSI6IHRydWUsICJ3ZWlnaHQiOiAzfQogICAgICAgICAgICApLmFkZFRvKG1hcF84ODJhZmMzOTk4OTg0YWY4YTg1Yzk2OTc4N2QzYmRmOCk7CiAgICAgICAgCiAgICAKICAgICAgICB2YXIgcG9wdXBfYWJiYjkzMDFjMTgzNGFjY2JlMzRlN2YyNzliOWQ2MmQgPSBMLnBvcHVwKHsibWF4V2lkdGgiOiAiMTAwJSJ9KTsKCiAgICAgICAgCiAgICAgICAgICAgIHZhciBodG1sXzViMTJlNWUxOWVmMDRmMWNiNmEyYTNjYTM5OGQwYjlkID0gJChgPGRpdiBpZD0iaHRtbF81YjEyZTVlMTllZjA0ZjFjYjZhMmEzY2EzOThkMGI5ZCIgc3R5bGU9IndpZHRoOiAxMDAuMCU7IGhlaWdodDogMTAwLjAlOyI+U3QuIEphbWVzIFRvd24sIERvd250b3duIFRvcm9udG88L2Rpdj5gKVswXTsKICAgICAgICAgICAgcG9wdXBfYWJiYjkzMDFjMTgzNGFjY2JlMzRlN2YyNzliOWQ2MmQuc2V0Q29udGVudChodG1sXzViMTJlNWUxOWVmMDRmMWNiNmEyYTNjYTM5OGQwYjlkKTsKICAgICAgICAKCiAgICAgICAgY2lyY2xlX21hcmtlcl82OTczMzgxMzY2OWY0MTk1OGY2MmQwMmUwMDY4MzhjMi5iaW5kUG9wdXAocG9wdXBfYWJiYjkzMDFjMTgzNGFjY2JlMzRlN2YyNzliOWQ2MmQpCiAgICAgICAgOwoKICAgICAgICAKICAgIAogICAgCiAgICAgICAgICAgIHZhciBjaXJjbGVfbWFya2VyXzA1MDZiYWMyM2VmOTRkMTQ4Y2U0NjAzMWI4YjU5NWFlID0gTC5jaXJjbGVNYXJrZXIoCiAgICAgICAgICAgICAgICBbNDMuNjkzNzgxMywgLTc5LjQyODE5MTQwMDAwMDAyXSwKICAgICAgICAgICAgICAgIHsiYnViYmxpbmdNb3VzZUV2ZW50cyI6IHRydWUsICJjb2xvciI6ICJibHVlIiwgImRhc2hBcnJheSI6IG51bGwsICJkYXNoT2Zmc2V0IjogbnVsbCwgImZpbGwiOiB0cnVlLCAiZmlsbENvbG9yIjogIiMzMTg2Y2MiLCAiZmlsbE9wYWNpdHkiOiAwLjcsICJmaWxsUnVsZSI6ICJldmVub2RkIiwgImxpbmVDYXAiOiAicm91bmQiLCAibGluZUpvaW4iOiAicm91bmQiLCAib3BhY2l0eSI6IDEuMCwgInJhZGl1cyI6IDUsICJzdHJva2UiOiB0cnVlLCAid2VpZ2h0IjogM30KICAgICAgICAgICAgKS5hZGRUbyhtYXBfODgyYWZjMzk5ODk4NGFmOGE4NWM5Njk3ODdkM2JkZjgpOwogICAgICAgIAogICAgCiAgICAgICAgdmFyIHBvcHVwXzI3YTI5ODRmMjcyMDRhMzA5ODA1YWNhMTY4YzA2N2VkID0gTC5wb3B1cCh7Im1heFdpZHRoIjogIjEwMCUifSk7CgogICAgICAgIAogICAgICAgICAgICB2YXIgaHRtbF8zZDVmY2Q5MzBkNzA0ZWY4YjI4NTc4MzhjZTk5OWVkNCA9ICQoYDxkaXYgaWQ9Imh0bWxfM2Q1ZmNkOTMwZDcwNGVmOGIyODU3ODM4Y2U5OTllZDQiIHN0eWxlPSJ3aWR0aDogMTAwLjAlOyBoZWlnaHQ6IDEwMC4wJTsiPkh1bWV3b29kLUNlZGFydmFsZSwgWW9yazwvZGl2PmApWzBdOwogICAgICAgICAgICBwb3B1cF8yN2EyOTg0ZjI3MjA0YTMwOTgwNWFjYTE2OGMwNjdlZC5zZXRDb250ZW50KGh0bWxfM2Q1ZmNkOTMwZDcwNGVmOGIyODU3ODM4Y2U5OTllZDQpOwogICAgICAgIAoKICAgICAgICBjaXJjbGVfbWFya2VyXzA1MDZiYWMyM2VmOTRkMTQ4Y2U0NjAzMWI4YjU5NWFlLmJpbmRQb3B1cChwb3B1cF8yN2EyOTg0ZjI3MjA0YTMwOTgwNWFjYTE2OGMwNjdlZCkKICAgICAgICA7CgogICAgICAgIAogICAgCiAgICAKICAgICAgICAgICAgdmFyIGNpcmNsZV9tYXJrZXJfODVkZjkzNDkzODVmNGVmNDhkMWM5MDA1NjZmNzhlYjMgPSBMLmNpcmNsZU1hcmtlcigKICAgICAgICAgICAgICAgIFs0My42NDM1MTUyLCAtNzkuNTc3MjAwNzk5OTk5OTldLAogICAgICAgICAgICAgICAgeyJidWJibGluZ01vdXNlRXZlbnRzIjogdHJ1ZSwgImNvbG9yIjogImJsdWUiLCAiZGFzaEFycmF5IjogbnVsbCwgImRhc2hPZmZzZXQiOiBudWxsLCAiZmlsbCI6IHRydWUsICJmaWxsQ29sb3IiOiAiIzMxODZjYyIsICJmaWxsT3BhY2l0eSI6IDAuNywgImZpbGxSdWxlIjogImV2ZW5vZGQiLCAibGluZUNhcCI6ICJyb3VuZCIsICJsaW5lSm9pbiI6ICJyb3VuZCIsICJvcGFjaXR5IjogMS4wLCAicmFkaXVzIjogNSwgInN0cm9rZSI6IHRydWUsICJ3ZWlnaHQiOiAzfQogICAgICAgICAgICApLmFkZFRvKG1hcF84ODJhZmMzOTk4OTg0YWY4YTg1Yzk2OTc4N2QzYmRmOCk7CiAgICAgICAgCiAgICAKICAgICAgICB2YXIgcG9wdXBfOTY5OGI4ZmRjNGEzNDAwZWIyODVhODhkOWNiNTIzMjMgPSBMLnBvcHVwKHsibWF4V2lkdGgiOiAiMTAwJSJ9KTsKCiAgICAgICAgCiAgICAgICAgICAgIHZhciBodG1sX2QxYWRkODAyOTRjZDRlZTdiOTRiYTMwZGQyZTM2OWE1ID0gJChgPGRpdiBpZD0iaHRtbF9kMWFkZDgwMjk0Y2Q0ZWU3Yjk0YmEzMGRkMmUzNjlhNSIgc3R5bGU9IndpZHRoOiAxMDAuMCU7IGhlaWdodDogMTAwLjAlOyI+Qmxvb3JkYWxlIEdhcmRlbnMsIEVyaW5nYXRlLCBNYXJrbGFuZCBXb29kLCBPbGQgQnVybmhhbXRob3JwZSwgRXRvYmljb2tlPC9kaXY+YClbMF07CiAgICAgICAgICAgIHBvcHVwXzk2OThiOGZkYzRhMzQwMGViMjg1YTg4ZDljYjUyMzIzLnNldENvbnRlbnQoaHRtbF9kMWFkZDgwMjk0Y2Q0ZWU3Yjk0YmEzMGRkMmUzNjlhNSk7CiAgICAgICAgCgogICAgICAgIGNpcmNsZV9tYXJrZXJfODVkZjkzNDkzODVmNGVmNDhkMWM5MDA1NjZmNzhlYjMuYmluZFBvcHVwKHBvcHVwXzk2OThiOGZkYzRhMzQwMGViMjg1YTg4ZDljYjUyMzIzKQogICAgICAgIDsKCiAgICAgICAgCiAgICAKICAgIAogICAgICAgICAgICB2YXIgY2lyY2xlX21hcmtlcl8wODYxOGZiNDkwYjk0MmVhOGNmYzYwM2E3OTllYzQxYSA9IEwuY2lyY2xlTWFya2VyKAogICAgICAgICAgICAgICAgWzQzLjc2MzU3MjYsIC03OS4xODg3MTE1XSwKICAgICAgICAgICAgICAgIHsiYnViYmxpbmdNb3VzZUV2ZW50cyI6IHRydWUsICJjb2xvciI6ICJibHVlIiwgImRhc2hBcnJheSI6IG51bGwsICJkYXNoT2Zmc2V0IjogbnVsbCwgImZpbGwiOiB0cnVlLCAiZmlsbENvbG9yIjogIiMzMTg2Y2MiLCAiZmlsbE9wYWNpdHkiOiAwLjcsICJmaWxsUnVsZSI6ICJldmVub2RkIiwgImxpbmVDYXAiOiAicm91bmQiLCAibGluZUpvaW4iOiAicm91bmQiLCAib3BhY2l0eSI6IDEuMCwgInJhZGl1cyI6IDUsICJzdHJva2UiOiB0cnVlLCAid2VpZ2h0IjogM30KICAgICAgICAgICAgKS5hZGRUbyhtYXBfODgyYWZjMzk5ODk4NGFmOGE4NWM5Njk3ODdkM2JkZjgpOwogICAgICAgIAogICAgCiAgICAgICAgdmFyIHBvcHVwXzU3N2RmNGQ1YTc0NDQ2ZWE4MzIzMmE0NjQwMzJhMjBjID0gTC5wb3B1cCh7Im1heFdpZHRoIjogIjEwMCUifSk7CgogICAgICAgIAogICAgICAgICAgICB2YXIgaHRtbF83MDcxOTMyOGJmMmU0NzgxYjc0MjNhZjRkOGE0MzYzZiA9ICQoYDxkaXYgaWQ9Imh0bWxfNzA3MTkzMjhiZjJlNDc4MWI3NDIzYWY0ZDhhNDM2M2YiIHN0eWxlPSJ3aWR0aDogMTAwLjAlOyBoZWlnaHQ6IDEwMC4wJTsiPkd1aWxkd29vZCwgTW9ybmluZ3NpZGUsIFdlc3QgSGlsbCwgU2NhcmJvcm91Z2g8L2Rpdj5gKVswXTsKICAgICAgICAgICAgcG9wdXBfNTc3ZGY0ZDVhNzQ0NDZlYTgzMjMyYTQ2NDAzMmEyMGMuc2V0Q29udGVudChodG1sXzcwNzE5MzI4YmYyZTQ3ODFiNzQyM2FmNGQ4YTQzNjNmKTsKICAgICAgICAKCiAgICAgICAgY2lyY2xlX21hcmtlcl8wODYxOGZiNDkwYjk0MmVhOGNmYzYwM2E3OTllYzQxYS5iaW5kUG9wdXAocG9wdXBfNTc3ZGY0ZDVhNzQ0NDZlYTgzMjMyYTQ2NDAzMmEyMGMpCiAgICAgICAgOwoKICAgICAgICAKICAgIAogICAgCiAgICAgICAgICAgIHZhciBjaXJjbGVfbWFya2VyX2RkNWNjNDU5MmYzYzQ2ZjA4ZjAzMDBlNmUzZDA3ZjBlID0gTC5jaXJjbGVNYXJrZXIoCiAgICAgICAgICAgICAgICBbNDMuNjc2MzU3Mzk5OTk5OTksIC03OS4yOTMwMzEyXSwKICAgICAgICAgICAgICAgIHsiYnViYmxpbmdNb3VzZUV2ZW50cyI6IHRydWUsICJjb2xvciI6ICJibHVlIiwgImRhc2hBcnJheSI6IG51bGwsICJkYXNoT2Zmc2V0IjogbnVsbCwgImZpbGwiOiB0cnVlLCAiZmlsbENvbG9yIjogIiMzMTg2Y2MiLCAiZmlsbE9wYWNpdHkiOiAwLjcsICJmaWxsUnVsZSI6ICJldmVub2RkIiwgImxpbmVDYXAiOiAicm91bmQiLCAibGluZUpvaW4iOiAicm91bmQiLCAib3BhY2l0eSI6IDEuMCwgInJhZGl1cyI6IDUsICJzdHJva2UiOiB0cnVlLCAid2VpZ2h0IjogM30KICAgICAgICAgICAgKS5hZGRUbyhtYXBfODgyYWZjMzk5ODk4NGFmOGE4NWM5Njk3ODdkM2JkZjgpOwogICAgICAgIAogICAgCiAgICAgICAgdmFyIHBvcHVwX2UwZmIzNjNkYzRmMTQ0OGI5Y2I2MzE0NDRkNTEyMGRlID0gTC5wb3B1cCh7Im1heFdpZHRoIjogIjEwMCUifSk7CgogICAgICAgIAogICAgICAgICAgICB2YXIgaHRtbF84ODQwNTM1OTViZTA0MGRlYmM1ZDk0MGY1MTkyNjMzNiA9ICQoYDxkaXYgaWQ9Imh0bWxfODg0MDUzNTk1YmUwNDBkZWJjNWQ5NDBmNTE5MjYzMzYiIHN0eWxlPSJ3aWR0aDogMTAwLjAlOyBoZWlnaHQ6IDEwMC4wJTsiPlRoZSBCZWFjaGVzLCBFYXN0IFRvcm9udG88L2Rpdj5gKVswXTsKICAgICAgICAgICAgcG9wdXBfZTBmYjM2M2RjNGYxNDQ4YjljYjYzMTQ0NGQ1MTIwZGUuc2V0Q29udGVudChodG1sXzg4NDA1MzU5NWJlMDQwZGViYzVkOTQwZjUxOTI2MzM2KTsKICAgICAgICAKCiAgICAgICAgY2lyY2xlX21hcmtlcl9kZDVjYzQ1OTJmM2M0NmYwOGYwMzAwZTZlM2QwN2YwZS5iaW5kUG9wdXAocG9wdXBfZTBmYjM2M2RjNGYxNDQ4YjljYjYzMTQ0NGQ1MTIwZGUpCiAgICAgICAgOwoKICAgICAgICAKICAgIAogICAgCiAgICAgICAgICAgIHZhciBjaXJjbGVfbWFya2VyX2NiM2ZhODk5MWYxODQ0M2RiNzI5NjMwODM3MmViY2IzID0gTC5jaXJjbGVNYXJrZXIoCiAgICAgICAgICAgICAgICBbNDMuNjQ0NzcwNzk5OTk5OTk2LCAtNzkuMzczMzA2NF0sCiAgICAgICAgICAgICAgICB7ImJ1YmJsaW5nTW91c2VFdmVudHMiOiB0cnVlLCAiY29sb3IiOiAiYmx1ZSIsICJkYXNoQXJyYXkiOiBudWxsLCAiZGFzaE9mZnNldCI6IG51bGwsICJmaWxsIjogdHJ1ZSwgImZpbGxDb2xvciI6ICIjMzE4NmNjIiwgImZpbGxPcGFjaXR5IjogMC43LCAiZmlsbFJ1bGUiOiAiZXZlbm9kZCIsICJsaW5lQ2FwIjogInJvdW5kIiwgImxpbmVKb2luIjogInJvdW5kIiwgIm9wYWNpdHkiOiAxLjAsICJyYWRpdXMiOiA1LCAic3Ryb2tlIjogdHJ1ZSwgIndlaWdodCI6IDN9CiAgICAgICAgICAgICkuYWRkVG8obWFwXzg4MmFmYzM5OTg5ODRhZjhhODVjOTY5Nzg3ZDNiZGY4KTsKICAgICAgICAKICAgIAogICAgICAgIHZhciBwb3B1cF8xMjY2MTQzNzJhNDI0OWI1YjVhZmEyZGIyNzkxNmFiMiA9IEwucG9wdXAoeyJtYXhXaWR0aCI6ICIxMDAlIn0pOwoKICAgICAgICAKICAgICAgICAgICAgdmFyIGh0bWxfOGJkMzg3NDk3ZGZiNDVkNDg4ZWNlMTk1ZGI1ZWUxN2MgPSAkKGA8ZGl2IGlkPSJodG1sXzhiZDM4NzQ5N2RmYjQ1ZDQ4OGVjZTE5NWRiNWVlMTdjIiBzdHlsZT0id2lkdGg6IDEwMC4wJTsgaGVpZ2h0OiAxMDAuMCU7Ij5CZXJjenkgUGFyaywgRG93bnRvd24gVG9yb250bzwvZGl2PmApWzBdOwogICAgICAgICAgICBwb3B1cF8xMjY2MTQzNzJhNDI0OWI1YjVhZmEyZGIyNzkxNmFiMi5zZXRDb250ZW50KGh0bWxfOGJkMzg3NDk3ZGZiNDVkNDg4ZWNlMTk1ZGI1ZWUxN2MpOwogICAgICAgIAoKICAgICAgICBjaXJjbGVfbWFya2VyX2NiM2ZhODk5MWYxODQ0M2RiNzI5NjMwODM3MmViY2IzLmJpbmRQb3B1cChwb3B1cF8xMjY2MTQzNzJhNDI0OWI1YjVhZmEyZGIyNzkxNmFiMikKICAgICAgICA7CgogICAgICAgIAogICAgCiAgICAKICAgICAgICAgICAgdmFyIGNpcmNsZV9tYXJrZXJfYjUyOTU3YjA5NjM1NGYxNGIzMjI1ZGU2ODFmNGRmNWIgPSBMLmNpcmNsZU1hcmtlcigKICAgICAgICAgICAgICAgIFs0My42ODkwMjU2LCAtNzkuNDUzNTEyXSwKICAgICAgICAgICAgICAgIHsiYnViYmxpbmdNb3VzZUV2ZW50cyI6IHRydWUsICJjb2xvciI6ICJibHVlIiwgImRhc2hBcnJheSI6IG51bGwsICJkYXNoT2Zmc2V0IjogbnVsbCwgImZpbGwiOiB0cnVlLCAiZmlsbENvbG9yIjogIiMzMTg2Y2MiLCAiZmlsbE9wYWNpdHkiOiAwLjcsICJmaWxsUnVsZSI6ICJldmVub2RkIiwgImxpbmVDYXAiOiAicm91bmQiLCAibGluZUpvaW4iOiAicm91bmQiLCAib3BhY2l0eSI6IDEuMCwgInJhZGl1cyI6IDUsICJzdHJva2UiOiB0cnVlLCAid2VpZ2h0IjogM30KICAgICAgICAgICAgKS5hZGRUbyhtYXBfODgyYWZjMzk5ODk4NGFmOGE4NWM5Njk3ODdkM2JkZjgpOwogICAgICAgIAogICAgCiAgICAgICAgdmFyIHBvcHVwX2NhMWY3MzdlMDEyODRhMGFiMjNhOGIzMzZlMThkMmE1ID0gTC5wb3B1cCh7Im1heFdpZHRoIjogIjEwMCUifSk7CgogICAgICAgIAogICAgICAgICAgICB2YXIgaHRtbF9mMWU5OWExZmNmMjQ0MGFjOTIyMDlhMmNlYTQ2NzU4OCA9ICQoYDxkaXYgaWQ9Imh0bWxfZjFlOTlhMWZjZjI0NDBhYzkyMjA5YTJjZWE0Njc1ODgiIHN0eWxlPSJ3aWR0aDogMTAwLjAlOyBoZWlnaHQ6IDEwMC4wJTsiPkNhbGVkb25pYS1GYWlyYmFua3MsIFlvcms8L2Rpdj5gKVswXTsKICAgICAgICAgICAgcG9wdXBfY2ExZjczN2UwMTI4NGEwYWIyM2E4YjMzNmUxOGQyYTUuc2V0Q29udGVudChodG1sX2YxZTk5YTFmY2YyNDQwYWM5MjIwOWEyY2VhNDY3NTg4KTsKICAgICAgICAKCiAgICAgICAgY2lyY2xlX21hcmtlcl9iNTI5NTdiMDk2MzU0ZjE0YjMyMjVkZTY4MWY0ZGY1Yi5iaW5kUG9wdXAocG9wdXBfY2ExZjczN2UwMTI4NGEwYWIyM2E4YjMzNmUxOGQyYTUpCiAgICAgICAgOwoKICAgICAgICAKICAgIAogICAgCiAgICAgICAgICAgIHZhciBjaXJjbGVfbWFya2VyX2E4NDlhZWRhYjMxZDQyNDdhOTI0MGMzZTFhYjQ2OTBhID0gTC5jaXJjbGVNYXJrZXIoCiAgICAgICAgICAgICAgICBbNDMuNzcwOTkyMSwgLTc5LjIxNjkxNzQwMDAwMDAxXSwKICAgICAgICAgICAgICAgIHsiYnViYmxpbmdNb3VzZUV2ZW50cyI6IHRydWUsICJjb2xvciI6ICJibHVlIiwgImRhc2hBcnJheSI6IG51bGwsICJkYXNoT2Zmc2V0IjogbnVsbCwgImZpbGwiOiB0cnVlLCAiZmlsbENvbG9yIjogIiMzMTg2Y2MiLCAiZmlsbE9wYWNpdHkiOiAwLjcsICJmaWxsUnVsZSI6ICJldmVub2RkIiwgImxpbmVDYXAiOiAicm91bmQiLCAibGluZUpvaW4iOiAicm91bmQiLCAib3BhY2l0eSI6IDEuMCwgInJhZGl1cyI6IDUsICJzdHJva2UiOiB0cnVlLCAid2VpZ2h0IjogM30KICAgICAgICAgICAgKS5hZGRUbyhtYXBfODgyYWZjMzk5ODk4NGFmOGE4NWM5Njk3ODdkM2JkZjgpOwogICAgICAgIAogICAgCiAgICAgICAgdmFyIHBvcHVwXzNmZmQzNGMzMjRmODRjZGI4OTJjZmFlYWM0NTI2Njk5ID0gTC5wb3B1cCh7Im1heFdpZHRoIjogIjEwMCUifSk7CgogICAgICAgIAogICAgICAgICAgICB2YXIgaHRtbF8xZDQ0ZjM2NGYxNTQ0NWNlODg3Yjc4M2FhNzc1ZmQzMyA9ICQoYDxkaXYgaWQ9Imh0bWxfMWQ0NGYzNjRmMTU0NDVjZTg4N2I3ODNhYTc3NWZkMzMiIHN0eWxlPSJ3aWR0aDogMTAwLjAlOyBoZWlnaHQ6IDEwMC4wJTsiPldvYnVybiwgU2NhcmJvcm91Z2g8L2Rpdj5gKVswXTsKICAgICAgICAgICAgcG9wdXBfM2ZmZDM0YzMyNGY4NGNkYjg5MmNmYWVhYzQ1MjY2OTkuc2V0Q29udGVudChodG1sXzFkNDRmMzY0ZjE1NDQ1Y2U4ODdiNzgzYWE3NzVmZDMzKTsKICAgICAgICAKCiAgICAgICAgY2lyY2xlX21hcmtlcl9hODQ5YWVkYWIzMWQ0MjQ3YTkyNDBjM2UxYWI0NjkwYS5iaW5kUG9wdXAocG9wdXBfM2ZmZDM0YzMyNGY4NGNkYjg5MmNmYWVhYzQ1MjY2OTkpCiAgICAgICAgOwoKICAgICAgICAKICAgIAogICAgCiAgICAgICAgICAgIHZhciBjaXJjbGVfbWFya2VyXzljZjI5NjA5ZjU5ZDQ2NmU4YzJlYmRkYzI2ZGY5OGZjID0gTC5jaXJjbGVNYXJrZXIoCiAgICAgICAgICAgICAgICBbNDMuNzA5MDYwNCwgLTc5LjM2MzQ1MTddLAogICAgICAgICAgICAgICAgeyJidWJibGluZ01vdXNlRXZlbnRzIjogdHJ1ZSwgImNvbG9yIjogImJsdWUiLCAiZGFzaEFycmF5IjogbnVsbCwgImRhc2hPZmZzZXQiOiBudWxsLCAiZmlsbCI6IHRydWUsICJmaWxsQ29sb3IiOiAiIzMxODZjYyIsICJmaWxsT3BhY2l0eSI6IDAuNywgImZpbGxSdWxlIjogImV2ZW5vZGQiLCAibGluZUNhcCI6ICJyb3VuZCIsICJsaW5lSm9pbiI6ICJyb3VuZCIsICJvcGFjaXR5IjogMS4wLCAicmFkaXVzIjogNSwgInN0cm9rZSI6IHRydWUsICJ3ZWlnaHQiOiAzfQogICAgICAgICAgICApLmFkZFRvKG1hcF84ODJhZmMzOTk4OTg0YWY4YTg1Yzk2OTc4N2QzYmRmOCk7CiAgICAgICAgCiAgICAKICAgICAgICB2YXIgcG9wdXBfN2NkN2Y5ZDJmYjk5NDUzMTk2ZTA0ZTE4MWU2NmIyNGYgPSBMLnBvcHVwKHsibWF4V2lkdGgiOiAiMTAwJSJ9KTsKCiAgICAgICAgCiAgICAgICAgICAgIHZhciBodG1sX2QyYmIzMTgxMTEyYTQwMDhiNmQ0YjRkY2QwZjk1YjgwID0gJChgPGRpdiBpZD0iaHRtbF9kMmJiMzE4MTExMmE0MDA4YjZkNGI0ZGNkMGY5NWI4MCIgc3R5bGU9IndpZHRoOiAxMDAuMCU7IGhlaWdodDogMTAwLjAlOyI+TGVhc2lkZSwgRWFzdCBZb3JrPC9kaXY+YClbMF07CiAgICAgICAgICAgIHBvcHVwXzdjZDdmOWQyZmI5OTQ1MzE5NmUwNGUxODFlNjZiMjRmLnNldENvbnRlbnQoaHRtbF9kMmJiMzE4MTExMmE0MDA4YjZkNGI0ZGNkMGY5NWI4MCk7CiAgICAgICAgCgogICAgICAgIGNpcmNsZV9tYXJrZXJfOWNmMjk2MDlmNTlkNDY2ZThjMmViZGRjMjZkZjk4ZmMuYmluZFBvcHVwKHBvcHVwXzdjZDdmOWQyZmI5OTQ1MzE5NmUwNGUxODFlNjZiMjRmKQogICAgICAgIDsKCiAgICAgICAgCiAgICAKICAgIAogICAgICAgICAgICB2YXIgY2lyY2xlX21hcmtlcl8xNWZhZTNiOWZlOTM0NDJkYTRlOTFkNDBlNDcyYzI1NCA9IEwuY2lyY2xlTWFya2VyKAogICAgICAgICAgICAgICAgWzQzLjY1Nzk1MjQsIC03OS4zODczODI2XSwKICAgICAgICAgICAgICAgIHsiYnViYmxpbmdNb3VzZUV2ZW50cyI6IHRydWUsICJjb2xvciI6ICJibHVlIiwgImRhc2hBcnJheSI6IG51bGwsICJkYXNoT2Zmc2V0IjogbnVsbCwgImZpbGwiOiB0cnVlLCAiZmlsbENvbG9yIjogIiMzMTg2Y2MiLCAiZmlsbE9wYWNpdHkiOiAwLjcsICJmaWxsUnVsZSI6ICJldmVub2RkIiwgImxpbmVDYXAiOiAicm91bmQiLCAibGluZUpvaW4iOiAicm91bmQiLCAib3BhY2l0eSI6IDEuMCwgInJhZGl1cyI6IDUsICJzdHJva2UiOiB0cnVlLCAid2VpZ2h0IjogM30KICAgICAgICAgICAgKS5hZGRUbyhtYXBfODgyYWZjMzk5ODk4NGFmOGE4NWM5Njk3ODdkM2JkZjgpOwogICAgICAgIAogICAgCiAgICAgICAgdmFyIHBvcHVwX2EzYmM2NDMzMTBlMjRmMWE5YTNlYjRjZmI2ZDg0MDQzID0gTC5wb3B1cCh7Im1heFdpZHRoIjogIjEwMCUifSk7CgogICAgICAgIAogICAgICAgICAgICB2YXIgaHRtbF83ZjBhOTU5NTI1ZmM0ZjQxYmVhM2QxOGZmZGM3ZGY5OSA9ICQoYDxkaXYgaWQ9Imh0bWxfN2YwYTk1OTUyNWZjNGY0MWJlYTNkMThmZmRjN2RmOTkiIHN0eWxlPSJ3aWR0aDogMTAwLjAlOyBoZWlnaHQ6IDEwMC4wJTsiPkNlbnRyYWwgQmF5IFN0cmVldCwgRG93bnRvd24gVG9yb250bzwvZGl2PmApWzBdOwogICAgICAgICAgICBwb3B1cF9hM2JjNjQzMzEwZTI0ZjFhOWEzZWI0Y2ZiNmQ4NDA0My5zZXRDb250ZW50KGh0bWxfN2YwYTk1OTUyNWZjNGY0MWJlYTNkMThmZmRjN2RmOTkpOwogICAgICAgIAoKICAgICAgICBjaXJjbGVfbWFya2VyXzE1ZmFlM2I5ZmU5MzQ0MmRhNGU5MWQ0MGU0NzJjMjU0LmJpbmRQb3B1cChwb3B1cF9hM2JjNjQzMzEwZTI0ZjFhOWEzZWI0Y2ZiNmQ4NDA0MykKICAgICAgICA7CgogICAgICAgIAogICAgCiAgICAKICAgICAgICAgICAgdmFyIGNpcmNsZV9tYXJrZXJfMGM0OTBkZjhiNjNkNGUwMGJhMzA5NmIyMThjYTQwMTggPSBMLmNpcmNsZU1hcmtlcigKICAgICAgICAgICAgICAgIFs0My42Njk1NDIsIC03OS40MjI1NjM3XSwKICAgICAgICAgICAgICAgIHsiYnViYmxpbmdNb3VzZUV2ZW50cyI6IHRydWUsICJjb2xvciI6ICJibHVlIiwgImRhc2hBcnJheSI6IG51bGwsICJkYXNoT2Zmc2V0IjogbnVsbCwgImZpbGwiOiB0cnVlLCAiZmlsbENvbG9yIjogIiMzMTg2Y2MiLCAiZmlsbE9wYWNpdHkiOiAwLjcsICJmaWxsUnVsZSI6ICJldmVub2RkIiwgImxpbmVDYXAiOiAicm91bmQiLCAibGluZUpvaW4iOiAicm91bmQiLCAib3BhY2l0eSI6IDEuMCwgInJhZGl1cyI6IDUsICJzdHJva2UiOiB0cnVlLCAid2VpZ2h0IjogM30KICAgICAgICAgICAgKS5hZGRUbyhtYXBfODgyYWZjMzk5ODk4NGFmOGE4NWM5Njk3ODdkM2JkZjgpOwogICAgICAgIAogICAgCiAgICAgICAgdmFyIHBvcHVwXzVhZWMwMTNmNWNlODRlZmE4MjQ0NjA2YTdjZjdmODlmID0gTC5wb3B1cCh7Im1heFdpZHRoIjogIjEwMCUifSk7CgogICAgICAgIAogICAgICAgICAgICB2YXIgaHRtbF9hN2Y0NzRiMjVhYzI0Y2E4YTU3NTdkNTZjNTdhODllOSA9ICQoYDxkaXYgaWQ9Imh0bWxfYTdmNDc0YjI1YWMyNGNhOGE1NzU3ZDU2YzU3YTg5ZTkiIHN0eWxlPSJ3aWR0aDogMTAwLjAlOyBoZWlnaHQ6IDEwMC4wJTsiPkNocmlzdGllLCBEb3dudG93biBUb3JvbnRvPC9kaXY+YClbMF07CiAgICAgICAgICAgIHBvcHVwXzVhZWMwMTNmNWNlODRlZmE4MjQ0NjA2YTdjZjdmODlmLnNldENvbnRlbnQoaHRtbF9hN2Y0NzRiMjVhYzI0Y2E4YTU3NTdkNTZjNTdhODllOSk7CiAgICAgICAgCgogICAgICAgIGNpcmNsZV9tYXJrZXJfMGM0OTBkZjhiNjNkNGUwMGJhMzA5NmIyMThjYTQwMTguYmluZFBvcHVwKHBvcHVwXzVhZWMwMTNmNWNlODRlZmE4MjQ0NjA2YTdjZjdmODlmKQogICAgICAgIDsKCiAgICAgICAgCiAgICAKICAgIAogICAgICAgICAgICB2YXIgY2lyY2xlX21hcmtlcl80ZjM2OGUwMzAxYmE0YjBiOWRkNjNmYjQ5ZDc3NWRjNiA9IEwuY2lyY2xlTWFya2VyKAogICAgICAgICAgICAgICAgWzQzLjc3MzEzNiwgLTc5LjIzOTQ3NjA5OTk5OTk5XSwKICAgICAgICAgICAgICAgIHsiYnViYmxpbmdNb3VzZUV2ZW50cyI6IHRydWUsICJjb2xvciI6ICJibHVlIiwgImRhc2hBcnJheSI6IG51bGwsICJkYXNoT2Zmc2V0IjogbnVsbCwgImZpbGwiOiB0cnVlLCAiZmlsbENvbG9yIjogIiMzMTg2Y2MiLCAiZmlsbE9wYWNpdHkiOiAwLjcsICJmaWxsUnVsZSI6ICJldmVub2RkIiwgImxpbmVDYXAiOiAicm91bmQiLCAibGluZUpvaW4iOiAicm91bmQiLCAib3BhY2l0eSI6IDEuMCwgInJhZGl1cyI6IDUsICJzdHJva2UiOiB0cnVlLCAid2VpZ2h0IjogM30KICAgICAgICAgICAgKS5hZGRUbyhtYXBfODgyYWZjMzk5ODk4NGFmOGE4NWM5Njk3ODdkM2JkZjgpOwogICAgICAgIAogICAgCiAgICAgICAgdmFyIHBvcHVwXzljZDk1MjczNTEwYzQ2NDI5Y2ZkY2Y1MTBmZWFlNmYyID0gTC5wb3B1cCh7Im1heFdpZHRoIjogIjEwMCUifSk7CgogICAgICAgIAogICAgICAgICAgICB2YXIgaHRtbF83NDRjYTExNDdiNTM0MWFkOTQ1ZDliNDcwZTUzNDQwOSA9ICQoYDxkaXYgaWQ9Imh0bWxfNzQ0Y2ExMTQ3YjUzNDFhZDk0NWQ5YjQ3MGU1MzQ0MDkiIHN0eWxlPSJ3aWR0aDogMTAwLjAlOyBoZWlnaHQ6IDEwMC4wJTsiPkNlZGFyYnJhZSwgU2NhcmJvcm91Z2g8L2Rpdj5gKVswXTsKICAgICAgICAgICAgcG9wdXBfOWNkOTUyNzM1MTBjNDY0MjljZmRjZjUxMGZlYWU2ZjIuc2V0Q29udGVudChodG1sXzc0NGNhMTE0N2I1MzQxYWQ5NDVkOWI0NzBlNTM0NDA5KTsKICAgICAgICAKCiAgICAgICAgY2lyY2xlX21hcmtlcl80ZjM2OGUwMzAxYmE0YjBiOWRkNjNmYjQ5ZDc3NWRjNi5iaW5kUG9wdXAocG9wdXBfOWNkOTUyNzM1MTBjNDY0MjljZmRjZjUxMGZlYWU2ZjIpCiAgICAgICAgOwoKICAgICAgICAKICAgIAogICAgCiAgICAgICAgICAgIHZhciBjaXJjbGVfbWFya2VyX2RiYjk2NmRjMWY5NDQ0MWVhOTE1YTU0MTNmZWVkZmNhID0gTC5jaXJjbGVNYXJrZXIoCiAgICAgICAgICAgICAgICBbNDMuODAzNzYyMiwgLTc5LjM2MzQ1MTddLAogICAgICAgICAgICAgICAgeyJidWJibGluZ01vdXNlRXZlbnRzIjogdHJ1ZSwgImNvbG9yIjogImJsdWUiLCAiZGFzaEFycmF5IjogbnVsbCwgImRhc2hPZmZzZXQiOiBudWxsLCAiZmlsbCI6IHRydWUsICJmaWxsQ29sb3IiOiAiIzMxODZjYyIsICJmaWxsT3BhY2l0eSI6IDAuNywgImZpbGxSdWxlIjogImV2ZW5vZGQiLCAibGluZUNhcCI6ICJyb3VuZCIsICJsaW5lSm9pbiI6ICJyb3VuZCIsICJvcGFjaXR5IjogMS4wLCAicmFkaXVzIjogNSwgInN0cm9rZSI6IHRydWUsICJ3ZWlnaHQiOiAzfQogICAgICAgICAgICApLmFkZFRvKG1hcF84ODJhZmMzOTk4OTg0YWY4YTg1Yzk2OTc4N2QzYmRmOCk7CiAgICAgICAgCiAgICAKICAgICAgICB2YXIgcG9wdXBfNTQ2NzM5YmRjMzQ3NDMzMGFiNTFlMzVjN2IzNWZjZTggPSBMLnBvcHVwKHsibWF4V2lkdGgiOiAiMTAwJSJ9KTsKCiAgICAgICAgCiAgICAgICAgICAgIHZhciBodG1sX2ZkMDMwZjM3MzdhNjQ1MTM5MmUxNjQyN2U1ZmZhODQ4ID0gJChgPGRpdiBpZD0iaHRtbF9mZDAzMGYzNzM3YTY0NTEzOTJlMTY0MjdlNWZmYTg0OCIgc3R5bGU9IndpZHRoOiAxMDAuMCU7IGhlaWdodDogMTAwLjAlOyI+SGlsbGNyZXN0IFZpbGxhZ2UsIE5vcnRoIFlvcms8L2Rpdj5gKVswXTsKICAgICAgICAgICAgcG9wdXBfNTQ2NzM5YmRjMzQ3NDMzMGFiNTFlMzVjN2IzNWZjZTguc2V0Q29udGVudChodG1sX2ZkMDMwZjM3MzdhNjQ1MTM5MmUxNjQyN2U1ZmZhODQ4KTsKICAgICAgICAKCiAgICAgICAgY2lyY2xlX21hcmtlcl9kYmI5NjZkYzFmOTQ0NDFlYTkxNWE1NDEzZmVlZGZjYS5iaW5kUG9wdXAocG9wdXBfNTQ2NzM5YmRjMzQ3NDMzMGFiNTFlMzVjN2IzNWZjZTgpCiAgICAgICAgOwoKICAgICAgICAKICAgIAogICAgCiAgICAgICAgICAgIHZhciBjaXJjbGVfbWFya2VyXzcxNWYwOGYyOWI2OTRjMTM5NTJmNzAxZGI0Nzg0ODg0ID0gTC5jaXJjbGVNYXJrZXIoCiAgICAgICAgICAgICAgICBbNDMuNzU0MzI4MywgLTc5LjQ0MjI1OTNdLAogICAgICAgICAgICAgICAgeyJidWJibGluZ01vdXNlRXZlbnRzIjogdHJ1ZSwgImNvbG9yIjogImJsdWUiLCAiZGFzaEFycmF5IjogbnVsbCwgImRhc2hPZmZzZXQiOiBudWxsLCAiZmlsbCI6IHRydWUsICJmaWxsQ29sb3IiOiAiIzMxODZjYyIsICJmaWxsT3BhY2l0eSI6IDAuNywgImZpbGxSdWxlIjogImV2ZW5vZGQiLCAibGluZUNhcCI6ICJyb3VuZCIsICJsaW5lSm9pbiI6ICJyb3VuZCIsICJvcGFjaXR5IjogMS4wLCAicmFkaXVzIjogNSwgInN0cm9rZSI6IHRydWUsICJ3ZWlnaHQiOiAzfQogICAgICAgICAgICApLmFkZFRvKG1hcF84ODJhZmMzOTk4OTg0YWY4YTg1Yzk2OTc4N2QzYmRmOCk7CiAgICAgICAgCiAgICAKICAgICAgICB2YXIgcG9wdXBfNjJmMDI1NzkwYWUyNGNkYzkyNjQ4ZDc5YjQwN2Y2NTUgPSBMLnBvcHVwKHsibWF4V2lkdGgiOiAiMTAwJSJ9KTsKCiAgICAgICAgCiAgICAgICAgICAgIHZhciBodG1sXzljODdkMjZiMTY0YzQwNWI4M2JiNDM1OWMzZWRiNjg5ID0gJChgPGRpdiBpZD0iaHRtbF85Yzg3ZDI2YjE2NGM0MDViODNiYjQzNTljM2VkYjY4OSIgc3R5bGU9IndpZHRoOiAxMDAuMCU7IGhlaWdodDogMTAwLjAlOyI+QmF0aHVyc3QgTWFub3IsIERvd25zdmlldyBOb3J0aCwgV2lsc29uIEhlaWdodHMsIE5vcnRoIFlvcms8L2Rpdj5gKVswXTsKICAgICAgICAgICAgcG9wdXBfNjJmMDI1NzkwYWUyNGNkYzkyNjQ4ZDc5YjQwN2Y2NTUuc2V0Q29udGVudChodG1sXzljODdkMjZiMTY0YzQwNWI4M2JiNDM1OWMzZWRiNjg5KTsKICAgICAgICAKCiAgICAgICAgY2lyY2xlX21hcmtlcl83MTVmMDhmMjliNjk0YzEzOTUyZjcwMWRiNDc4NDg4NC5iaW5kUG9wdXAocG9wdXBfNjJmMDI1NzkwYWUyNGNkYzkyNjQ4ZDc5YjQwN2Y2NTUpCiAgICAgICAgOwoKICAgICAgICAKICAgIAogICAgCiAgICAgICAgICAgIHZhciBjaXJjbGVfbWFya2VyX2Y2NWUyZDg1MGVlZjQ1MWZiMjhiZmU1NDk2OWFkZWZiID0gTC5jaXJjbGVNYXJrZXIoCiAgICAgICAgICAgICAgICBbNDMuNzA1MzY4OSwgLTc5LjM0OTM3MTkwMDAwMDAxXSwKICAgICAgICAgICAgICAgIHsiYnViYmxpbmdNb3VzZUV2ZW50cyI6IHRydWUsICJjb2xvciI6ICJibHVlIiwgImRhc2hBcnJheSI6IG51bGwsICJkYXNoT2Zmc2V0IjogbnVsbCwgImZpbGwiOiB0cnVlLCAiZmlsbENvbG9yIjogIiMzMTg2Y2MiLCAiZmlsbE9wYWNpdHkiOiAwLjcsICJmaWxsUnVsZSI6ICJldmVub2RkIiwgImxpbmVDYXAiOiAicm91bmQiLCAibGluZUpvaW4iOiAicm91bmQiLCAib3BhY2l0eSI6IDEuMCwgInJhZGl1cyI6IDUsICJzdHJva2UiOiB0cnVlLCAid2VpZ2h0IjogM30KICAgICAgICAgICAgKS5hZGRUbyhtYXBfODgyYWZjMzk5ODk4NGFmOGE4NWM5Njk3ODdkM2JkZjgpOwogICAgICAgIAogICAgCiAgICAgICAgdmFyIHBvcHVwXzVkNDBhNDMxZjk1NzQwYTc5YjQ3YTEzNWNkMDgyMmJiID0gTC5wb3B1cCh7Im1heFdpZHRoIjogIjEwMCUifSk7CgogICAgICAgIAogICAgICAgICAgICB2YXIgaHRtbF80YTQwZmViYTUxOWI0OGEyYWUxNGI4ZTZhNzg2N2UwMCA9ICQoYDxkaXYgaWQ9Imh0bWxfNGE0MGZlYmE1MTliNDhhMmFlMTRiOGU2YTc4NjdlMDAiIHN0eWxlPSJ3aWR0aDogMTAwLjAlOyBoZWlnaHQ6IDEwMC4wJTsiPlRob3JuY2xpZmZlIFBhcmssIEVhc3QgWW9yazwvZGl2PmApWzBdOwogICAgICAgICAgICBwb3B1cF81ZDQwYTQzMWY5NTc0MGE3OWI0N2ExMzVjZDA4MjJiYi5zZXRDb250ZW50KGh0bWxfNGE0MGZlYmE1MTliNDhhMmFlMTRiOGU2YTc4NjdlMDApOwogICAgICAgIAoKICAgICAgICBjaXJjbGVfbWFya2VyX2Y2NWUyZDg1MGVlZjQ1MWZiMjhiZmU1NDk2OWFkZWZiLmJpbmRQb3B1cChwb3B1cF81ZDQwYTQzMWY5NTc0MGE3OWI0N2ExMzVjZDA4MjJiYikKICAgICAgICA7CgogICAgICAgIAogICAgCiAgICAKICAgICAgICAgICAgdmFyIGNpcmNsZV9tYXJrZXJfMDMxNDIzNzY1MjMzNDBlMmFmNGI0MDI0OTMxZTY2YzYgPSBMLmNpcmNsZU1hcmtlcigKICAgICAgICAgICAgICAgIFs0My42NTA1NzEyMDAwMDAwMSwgLTc5LjM4NDU2NzVdLAogICAgICAgICAgICAgICAgeyJidWJibGluZ01vdXNlRXZlbnRzIjogdHJ1ZSwgImNvbG9yIjogImJsdWUiLCAiZGFzaEFycmF5IjogbnVsbCwgImRhc2hPZmZzZXQiOiBudWxsLCAiZmlsbCI6IHRydWUsICJmaWxsQ29sb3IiOiAiIzMxODZjYyIsICJmaWxsT3BhY2l0eSI6IDAuNywgImZpbGxSdWxlIjogImV2ZW5vZGQiLCAibGluZUNhcCI6ICJyb3VuZCIsICJsaW5lSm9pbiI6ICJyb3VuZCIsICJvcGFjaXR5IjogMS4wLCAicmFkaXVzIjogNSwgInN0cm9rZSI6IHRydWUsICJ3ZWlnaHQiOiAzfQogICAgICAgICAgICApLmFkZFRvKG1hcF84ODJhZmMzOTk4OTg0YWY4YTg1Yzk2OTc4N2QzYmRmOCk7CiAgICAgICAgCiAgICAKICAgICAgICB2YXIgcG9wdXBfMTc1ZTU4ZDc0YWMzNDcyMWI4MDdmYWIwYWRjODE0MDQgPSBMLnBvcHVwKHsibWF4V2lkdGgiOiAiMTAwJSJ9KTsKCiAgICAgICAgCiAgICAgICAgICAgIHZhciBodG1sX2M3Nzg1Nzc0MzBiZDRlYzM5ZWNmMmM5Yzc0ZjkzNjYyID0gJChgPGRpdiBpZD0iaHRtbF9jNzc4NTc3NDMwYmQ0ZWMzOWVjZjJjOWM3NGY5MzY2MiIgc3R5bGU9IndpZHRoOiAxMDAuMCU7IGhlaWdodDogMTAwLjAlOyI+QWRlbGFpZGUsIEtpbmcsIFJpY2htb25kLCBEb3dudG93biBUb3JvbnRvPC9kaXY+YClbMF07CiAgICAgICAgICAgIHBvcHVwXzE3NWU1OGQ3NGFjMzQ3MjFiODA3ZmFiMGFkYzgxNDA0LnNldENvbnRlbnQoaHRtbF9jNzc4NTc3NDMwYmQ0ZWMzOWVjZjJjOWM3NGY5MzY2Mik7CiAgICAgICAgCgogICAgICAgIGNpcmNsZV9tYXJrZXJfMDMxNDIzNzY1MjMzNDBlMmFmNGI0MDI0OTMxZTY2YzYuYmluZFBvcHVwKHBvcHVwXzE3NWU1OGQ3NGFjMzQ3MjFiODA3ZmFiMGFkYzgxNDA0KQogICAgICAgIDsKCiAgICAgICAgCiAgICAKICAgIAogICAgICAgICAgICB2YXIgY2lyY2xlX21hcmtlcl9jNTY1MTJlNDlmNzE0MjBkOWRjOGQ0MDZkM2I5NWU1YyA9IEwuY2lyY2xlTWFya2VyKAogICAgICAgICAgICAgICAgWzQzLjY2OTAwNTEwMDAwMDAxLCAtNzkuNDQyMjU5M10sCiAgICAgICAgICAgICAgICB7ImJ1YmJsaW5nTW91c2VFdmVudHMiOiB0cnVlLCAiY29sb3IiOiAiYmx1ZSIsICJkYXNoQXJyYXkiOiBudWxsLCAiZGFzaE9mZnNldCI6IG51bGwsICJmaWxsIjogdHJ1ZSwgImZpbGxDb2xvciI6ICIjMzE4NmNjIiwgImZpbGxPcGFjaXR5IjogMC43LCAiZmlsbFJ1bGUiOiAiZXZlbm9kZCIsICJsaW5lQ2FwIjogInJvdW5kIiwgImxpbmVKb2luIjogInJvdW5kIiwgIm9wYWNpdHkiOiAxLjAsICJyYWRpdXMiOiA1LCAic3Ryb2tlIjogdHJ1ZSwgIndlaWdodCI6IDN9CiAgICAgICAgICAgICkuYWRkVG8obWFwXzg4MmFmYzM5OTg5ODRhZjhhODVjOTY5Nzg3ZDNiZGY4KTsKICAgICAgICAKICAgIAogICAgICAgIHZhciBwb3B1cF9lZjk0NGQwOTdjZGY0MDBlYjlmZmQ5YTQ2OTY5YTg0YiA9IEwucG9wdXAoeyJtYXhXaWR0aCI6ICIxMDAlIn0pOwoKICAgICAgICAKICAgICAgICAgICAgdmFyIGh0bWxfZDQ1OTY2Y2NkMjBjNDliMThkMGI0Yzc4Zjc4OWI1YjMgPSAkKGA8ZGl2IGlkPSJodG1sX2Q0NTk2NmNjZDIwYzQ5YjE4ZDBiNGM3OGY3ODliNWIzIiBzdHlsZT0id2lkdGg6IDEwMC4wJTsgaGVpZ2h0OiAxMDAuMCU7Ij5Eb3ZlcmNvdXJ0IFZpbGxhZ2UsIER1ZmZlcmluLCBXZXN0IFRvcm9udG88L2Rpdj5gKVswXTsKICAgICAgICAgICAgcG9wdXBfZWY5NDRkMDk3Y2RmNDAwZWI5ZmZkOWE0Njk2OWE4NGIuc2V0Q29udGVudChodG1sX2Q0NTk2NmNjZDIwYzQ5YjE4ZDBiNGM3OGY3ODliNWIzKTsKICAgICAgICAKCiAgICAgICAgY2lyY2xlX21hcmtlcl9jNTY1MTJlNDlmNzE0MjBkOWRjOGQ0MDZkM2I5NWU1Yy5iaW5kUG9wdXAocG9wdXBfZWY5NDRkMDk3Y2RmNDAwZWI5ZmZkOWE0Njk2OWE4NGIpCiAgICAgICAgOwoKICAgICAgICAKICAgIAogICAgCiAgICAgICAgICAgIHZhciBjaXJjbGVfbWFya2VyXzBkMjM5Yjg3YjRiOTRkMmRhZmQxN2NjYTVhNjY0MzIyID0gTC5jaXJjbGVNYXJrZXIoCiAgICAgICAgICAgICAgICBbNDMuNzQ0NzM0MiwgLTc5LjIzOTQ3NjA5OTk5OTk5XSwKICAgICAgICAgICAgICAgIHsiYnViYmxpbmdNb3VzZUV2ZW50cyI6IHRydWUsICJjb2xvciI6ICJibHVlIiwgImRhc2hBcnJheSI6IG51bGwsICJkYXNoT2Zmc2V0IjogbnVsbCwgImZpbGwiOiB0cnVlLCAiZmlsbENvbG9yIjogIiMzMTg2Y2MiLCAiZmlsbE9wYWNpdHkiOiAwLjcsICJmaWxsUnVsZSI6ICJldmVub2RkIiwgImxpbmVDYXAiOiAicm91bmQiLCAibGluZUpvaW4iOiAicm91bmQiLCAib3BhY2l0eSI6IDEuMCwgInJhZGl1cyI6IDUsICJzdHJva2UiOiB0cnVlLCAid2VpZ2h0IjogM30KICAgICAgICAgICAgKS5hZGRUbyhtYXBfODgyYWZjMzk5ODk4NGFmOGE4NWM5Njk3ODdkM2JkZjgpOwogICAgICAgIAogICAgCiAgICAgICAgdmFyIHBvcHVwX2RhMzkzNjRmY2VlYTQ3ZTFiMTJjYjExZWY0M2ZkNzZhID0gTC5wb3B1cCh7Im1heFdpZHRoIjogIjEwMCUifSk7CgogICAgICAgIAogICAgICAgICAgICB2YXIgaHRtbF9jMmNjYTBjZjgxOGI0YjRmYjhlYWVmMDYwMmQ0ZTUxNSA9ICQoYDxkaXYgaWQ9Imh0bWxfYzJjY2EwY2Y4MThiNGI0ZmI4ZWFlZjA2MDJkNGU1MTUiIHN0eWxlPSJ3aWR0aDogMTAwLjAlOyBoZWlnaHQ6IDEwMC4wJTsiPlNjYXJib3JvdWdoIFZpbGxhZ2UsIFNjYXJib3JvdWdoPC9kaXY+YClbMF07CiAgICAgICAgICAgIHBvcHVwX2RhMzkzNjRmY2VlYTQ3ZTFiMTJjYjExZWY0M2ZkNzZhLnNldENvbnRlbnQoaHRtbF9jMmNjYTBjZjgxOGI0YjRmYjhlYWVmMDYwMmQ0ZTUxNSk7CiAgICAgICAgCgogICAgICAgIGNpcmNsZV9tYXJrZXJfMGQyMzliODdiNGI5NGQyZGFmZDE3Y2NhNWE2NjQzMjIuYmluZFBvcHVwKHBvcHVwX2RhMzkzNjRmY2VlYTQ3ZTFiMTJjYjExZWY0M2ZkNzZhKQogICAgICAgIDsKCiAgICAgICAgCiAgICAKICAgIAogICAgICAgICAgICB2YXIgY2lyY2xlX21hcmtlcl9iNzQyMTcwYTNiNjE0ZjZmODk4MmVmZjZkY2ZhMGE2OCA9IEwuY2lyY2xlTWFya2VyKAogICAgICAgICAgICAgICAgWzQzLjc3ODUxNzUsIC03OS4zNDY1NTU3XSwKICAgICAgICAgICAgICAgIHsiYnViYmxpbmdNb3VzZUV2ZW50cyI6IHRydWUsICJjb2xvciI6ICJibHVlIiwgImRhc2hBcnJheSI6IG51bGwsICJkYXNoT2Zmc2V0IjogbnVsbCwgImZpbGwiOiB0cnVlLCAiZmlsbENvbG9yIjogIiMzMTg2Y2MiLCAiZmlsbE9wYWNpdHkiOiAwLjcsICJmaWxsUnVsZSI6ICJldmVub2RkIiwgImxpbmVDYXAiOiAicm91bmQiLCAibGluZUpvaW4iOiAicm91bmQiLCAib3BhY2l0eSI6IDEuMCwgInJhZGl1cyI6IDUsICJzdHJva2UiOiB0cnVlLCAid2VpZ2h0IjogM30KICAgICAgICAgICAgKS5hZGRUbyhtYXBfODgyYWZjMzk5ODk4NGFmOGE4NWM5Njk3ODdkM2JkZjgpOwogICAgICAgIAogICAgCiAgICAgICAgdmFyIHBvcHVwX2M0NGEwZWI2NzEwYTRlMTk5NzYyYzU2NTQ3ZmMxYmVmID0gTC5wb3B1cCh7Im1heFdpZHRoIjogIjEwMCUifSk7CgogICAgICAgIAogICAgICAgICAgICB2YXIgaHRtbF82MThhMjZhNjk3Y2Q0MThjYjZlMzllYTc0NGUwMTc0MiA9ICQoYDxkaXYgaWQ9Imh0bWxfNjE4YTI2YTY5N2NkNDE4Y2I2ZTM5ZWE3NDRlMDE3NDIiIHN0eWxlPSJ3aWR0aDogMTAwLjAlOyBoZWlnaHQ6IDEwMC4wJTsiPkZhaXJ2aWV3LCBIZW5yeSBGYXJtLCBPcmlvbGUsIE5vcnRoIFlvcms8L2Rpdj5gKVswXTsKICAgICAgICAgICAgcG9wdXBfYzQ0YTBlYjY3MTBhNGUxOTk3NjJjNTY1NDdmYzFiZWYuc2V0Q29udGVudChodG1sXzYxOGEyNmE2OTdjZDQxOGNiNmUzOWVhNzQ0ZTAxNzQyKTsKICAgICAgICAKCiAgICAgICAgY2lyY2xlX21hcmtlcl9iNzQyMTcwYTNiNjE0ZjZmODk4MmVmZjZkY2ZhMGE2OC5iaW5kUG9wdXAocG9wdXBfYzQ0YTBlYjY3MTBhNGUxOTk3NjJjNTY1NDdmYzFiZWYpCiAgICAgICAgOwoKICAgICAgICAKICAgIAogICAgCiAgICAgICAgICAgIHZhciBjaXJjbGVfbWFya2VyXzdhY2JlZjYzYTg4ZTRjNTViMTNjYzFlNTZjMTM0YmQ3ID0gTC5jaXJjbGVNYXJrZXIoCiAgICAgICAgICAgICAgICBbNDMuNzY3OTgwMywgLTc5LjQ4NzI2MTkwMDAwMDAxXSwKICAgICAgICAgICAgICAgIHsiYnViYmxpbmdNb3VzZUV2ZW50cyI6IHRydWUsICJjb2xvciI6ICJibHVlIiwgImRhc2hBcnJheSI6IG51bGwsICJkYXNoT2Zmc2V0IjogbnVsbCwgImZpbGwiOiB0cnVlLCAiZmlsbENvbG9yIjogIiMzMTg2Y2MiLCAiZmlsbE9wYWNpdHkiOiAwLjcsICJmaWxsUnVsZSI6ICJldmVub2RkIiwgImxpbmVDYXAiOiAicm91bmQiLCAibGluZUpvaW4iOiAicm91bmQiLCAib3BhY2l0eSI6IDEuMCwgInJhZGl1cyI6IDUsICJzdHJva2UiOiB0cnVlLCAid2VpZ2h0IjogM30KICAgICAgICAgICAgKS5hZGRUbyhtYXBfODgyYWZjMzk5ODk4NGFmOGE4NWM5Njk3ODdkM2JkZjgpOwogICAgICAgIAogICAgCiAgICAgICAgdmFyIHBvcHVwXzBkMzllODBjODQ2YTQzOThiZDMzNWRjYTZlNTY4MDkwID0gTC5wb3B1cCh7Im1heFdpZHRoIjogIjEwMCUifSk7CgogICAgICAgIAogICAgICAgICAgICB2YXIgaHRtbF9iYTFkODJkMmMwNzA0N2JlOGNiMWIzY2VjZjlkNmFjNyA9ICQoYDxkaXYgaWQ9Imh0bWxfYmExZDgyZDJjMDcwNDdiZThjYjFiM2NlY2Y5ZDZhYzciIHN0eWxlPSJ3aWR0aDogMTAwLjAlOyBoZWlnaHQ6IDEwMC4wJTsiPk5vcnRod29vZCBQYXJrLCBZb3JrIFVuaXZlcnNpdHksIE5vcnRoIFlvcms8L2Rpdj5gKVswXTsKICAgICAgICAgICAgcG9wdXBfMGQzOWU4MGM4NDZhNDM5OGJkMzM1ZGNhNmU1NjgwOTAuc2V0Q29udGVudChodG1sX2JhMWQ4MmQyYzA3MDQ3YmU4Y2IxYjNjZWNmOWQ2YWM3KTsKICAgICAgICAKCiAgICAgICAgY2lyY2xlX21hcmtlcl83YWNiZWY2M2E4OGU0YzU1YjEzY2MxZTU2YzEzNGJkNy5iaW5kUG9wdXAocG9wdXBfMGQzOWU4MGM4NDZhNDM5OGJkMzM1ZGNhNmU1NjgwOTApCiAgICAgICAgOwoKICAgICAgICAKICAgIAogICAgCiAgICAgICAgICAgIHZhciBjaXJjbGVfbWFya2VyX2U2ZTIxYWJjYTYwODQ4ZjRhOTBkMzE2NDUyMGRjZjY1ID0gTC5jaXJjbGVNYXJrZXIoCiAgICAgICAgICAgICAgICBbNDMuNjg1MzQ3LCAtNzkuMzM4MTA2NV0sCiAgICAgICAgICAgICAgICB7ImJ1YmJsaW5nTW91c2VFdmVudHMiOiB0cnVlLCAiY29sb3IiOiAiYmx1ZSIsICJkYXNoQXJyYXkiOiBudWxsLCAiZGFzaE9mZnNldCI6IG51bGwsICJmaWxsIjogdHJ1ZSwgImZpbGxDb2xvciI6ICIjMzE4NmNjIiwgImZpbGxPcGFjaXR5IjogMC43LCAiZmlsbFJ1bGUiOiAiZXZlbm9kZCIsICJsaW5lQ2FwIjogInJvdW5kIiwgImxpbmVKb2luIjogInJvdW5kIiwgIm9wYWNpdHkiOiAxLjAsICJyYWRpdXMiOiA1LCAic3Ryb2tlIjogdHJ1ZSwgIndlaWdodCI6IDN9CiAgICAgICAgICAgICkuYWRkVG8obWFwXzg4MmFmYzM5OTg5ODRhZjhhODVjOTY5Nzg3ZDNiZGY4KTsKICAgICAgICAKICAgIAogICAgICAgIHZhciBwb3B1cF9iNzI5Nzk4OTA3MWI0ZTFjOWJlZGViMTlmNGExMWQxZCA9IEwucG9wdXAoeyJtYXhXaWR0aCI6ICIxMDAlIn0pOwoKICAgICAgICAKICAgICAgICAgICAgdmFyIGh0bWxfZmZlMzYwY2QwY2EwNDEyMjliNGM3ZGVkZTA0ODM4OWUgPSAkKGA8ZGl2IGlkPSJodG1sX2ZmZTM2MGNkMGNhMDQxMjI5YjRjN2RlZGUwNDgzODllIiBzdHlsZT0id2lkdGg6IDEwMC4wJTsgaGVpZ2h0OiAxMDAuMCU7Ij5FYXN0IFRvcm9udG8sIEVhc3QgWW9yazwvZGl2PmApWzBdOwogICAgICAgICAgICBwb3B1cF9iNzI5Nzk4OTA3MWI0ZTFjOWJlZGViMTlmNGExMWQxZC5zZXRDb250ZW50KGh0bWxfZmZlMzYwY2QwY2EwNDEyMjliNGM3ZGVkZTA0ODM4OWUpOwogICAgICAgIAoKICAgICAgICBjaXJjbGVfbWFya2VyX2U2ZTIxYWJjYTYwODQ4ZjRhOTBkMzE2NDUyMGRjZjY1LmJpbmRQb3B1cChwb3B1cF9iNzI5Nzk4OTA3MWI0ZTFjOWJlZGViMTlmNGExMWQxZCkKICAgICAgICA7CgogICAgICAgIAogICAgCiAgICAKICAgICAgICAgICAgdmFyIGNpcmNsZV9tYXJrZXJfNzBmOTEzYmRkOTMwNDczMTgyZGEwZDU4ZDc1NzhlYTkgPSBMLmNpcmNsZU1hcmtlcigKICAgICAgICAgICAgICAgIFs0My42NDA4MTU3LCAtNzkuMzgxNzUyMjk5OTk5OTldLAogICAgICAgICAgICAgICAgeyJidWJibGluZ01vdXNlRXZlbnRzIjogdHJ1ZSwgImNvbG9yIjogImJsdWUiLCAiZGFzaEFycmF5IjogbnVsbCwgImRhc2hPZmZzZXQiOiBudWxsLCAiZmlsbCI6IHRydWUsICJmaWxsQ29sb3IiOiAiIzMxODZjYyIsICJmaWxsT3BhY2l0eSI6IDAuNywgImZpbGxSdWxlIjogImV2ZW5vZGQiLCAibGluZUNhcCI6ICJyb3VuZCIsICJsaW5lSm9pbiI6ICJyb3VuZCIsICJvcGFjaXR5IjogMS4wLCAicmFkaXVzIjogNSwgInN0cm9rZSI6IHRydWUsICJ3ZWlnaHQiOiAzfQogICAgICAgICAgICApLmFkZFRvKG1hcF84ODJhZmMzOTk4OTg0YWY4YTg1Yzk2OTc4N2QzYmRmOCk7CiAgICAgICAgCiAgICAKICAgICAgICB2YXIgcG9wdXBfMmQ2NmE4ZjFkNmJhNDQyOWI2MGFiYzM5MGQ5YTVlNTYgPSBMLnBvcHVwKHsibWF4V2lkdGgiOiAiMTAwJSJ9KTsKCiAgICAgICAgCiAgICAgICAgICAgIHZhciBodG1sX2UxYTc5YjU2NTUxOTQ0MTZiNjkxYmEzZTA3YzhiZTdmID0gJChgPGRpdiBpZD0iaHRtbF9lMWE3OWI1NjU1MTk0NDE2YjY5MWJhM2UwN2M4YmU3ZiIgc3R5bGU9IndpZHRoOiAxMDAuMCU7IGhlaWdodDogMTAwLjAlOyI+SGFyYm91cmZyb250IEVhc3QsIFRvcm9udG8gSXNsYW5kcywgVW5pb24gU3RhdGlvbiwgRG93bnRvd24gVG9yb250bzwvZGl2PmApWzBdOwogICAgICAgICAgICBwb3B1cF8yZDY2YThmMWQ2YmE0NDI5YjYwYWJjMzkwZDlhNWU1Ni5zZXRDb250ZW50KGh0bWxfZTFhNzliNTY1NTE5NDQxNmI2OTFiYTNlMDdjOGJlN2YpOwogICAgICAgIAoKICAgICAgICBjaXJjbGVfbWFya2VyXzcwZjkxM2JkZDkzMDQ3MzE4MmRhMGQ1OGQ3NTc4ZWE5LmJpbmRQb3B1cChwb3B1cF8yZDY2YThmMWQ2YmE0NDI5YjYwYWJjMzkwZDlhNWU1NikKICAgICAgICA7CgogICAgICAgIAogICAgCiAgICAKICAgICAgICAgICAgdmFyIGNpcmNsZV9tYXJrZXJfNDExMGZlZGRmNGE4NDFjMTg4Mjg4YTNmMzExZDg2NGYgPSBMLmNpcmNsZU1hcmtlcigKICAgICAgICAgICAgICAgIFs0My42NDc5MjY3MDAwMDAwMDYsIC03OS40MTk3NDk3XSwKICAgICAgICAgICAgICAgIHsiYnViYmxpbmdNb3VzZUV2ZW50cyI6IHRydWUsICJjb2xvciI6ICJibHVlIiwgImRhc2hBcnJheSI6IG51bGwsICJkYXNoT2Zmc2V0IjogbnVsbCwgImZpbGwiOiB0cnVlLCAiZmlsbENvbG9yIjogIiMzMTg2Y2MiLCAiZmlsbE9wYWNpdHkiOiAwLjcsICJmaWxsUnVsZSI6ICJldmVub2RkIiwgImxpbmVDYXAiOiAicm91bmQiLCAibGluZUpvaW4iOiAicm91bmQiLCAib3BhY2l0eSI6IDEuMCwgInJhZGl1cyI6IDUsICJzdHJva2UiOiB0cnVlLCAid2VpZ2h0IjogM30KICAgICAgICAgICAgKS5hZGRUbyhtYXBfODgyYWZjMzk5ODk4NGFmOGE4NWM5Njk3ODdkM2JkZjgpOwogICAgICAgIAogICAgCiAgICAgICAgdmFyIHBvcHVwXzVmZDA2NjEwZTRiODQwYmNiODk0NDY0Y2VmOTAxNTE0ID0gTC5wb3B1cCh7Im1heFdpZHRoIjogIjEwMCUifSk7CgogICAgICAgIAogICAgICAgICAgICB2YXIgaHRtbF9mOWJkZTUzNzllYmU0MGU0YTAyYTIyNzNlNTZiMDlmYyA9ICQoYDxkaXYgaWQ9Imh0bWxfZjliZGU1Mzc5ZWJlNDBlNGEwMmEyMjczZTU2YjA5ZmMiIHN0eWxlPSJ3aWR0aDogMTAwLjAlOyBoZWlnaHQ6IDEwMC4wJTsiPkxpdHRsZSBQb3J0dWdhbCwgVHJpbml0eSwgV2VzdCBUb3JvbnRvPC9kaXY+YClbMF07CiAgICAgICAgICAgIHBvcHVwXzVmZDA2NjEwZTRiODQwYmNiODk0NDY0Y2VmOTAxNTE0LnNldENvbnRlbnQoaHRtbF9mOWJkZTUzNzllYmU0MGU0YTAyYTIyNzNlNTZiMDlmYyk7CiAgICAgICAgCgogICAgICAgIGNpcmNsZV9tYXJrZXJfNDExMGZlZGRmNGE4NDFjMTg4Mjg4YTNmMzExZDg2NGYuYmluZFBvcHVwKHBvcHVwXzVmZDA2NjEwZTRiODQwYmNiODk0NDY0Y2VmOTAxNTE0KQogICAgICAgIDsKCiAgICAgICAgCiAgICAKICAgIAogICAgICAgICAgICB2YXIgY2lyY2xlX21hcmtlcl81NThhMmU3MzY2Zjc0MDNmYTM0ODhjOTczMDU0ZmM5MSA9IEwuY2lyY2xlTWFya2VyKAogICAgICAgICAgICAgICAgWzQzLjcyNzkyOTIsIC03OS4yNjIwMjk0MDAwMDAwMl0sCiAgICAgICAgICAgICAgICB7ImJ1YmJsaW5nTW91c2VFdmVudHMiOiB0cnVlLCAiY29sb3IiOiAiYmx1ZSIsICJkYXNoQXJyYXkiOiBudWxsLCAiZGFzaE9mZnNldCI6IG51bGwsICJmaWxsIjogdHJ1ZSwgImZpbGxDb2xvciI6ICIjMzE4NmNjIiwgImZpbGxPcGFjaXR5IjogMC43LCAiZmlsbFJ1bGUiOiAiZXZlbm9kZCIsICJsaW5lQ2FwIjogInJvdW5kIiwgImxpbmVKb2luIjogInJvdW5kIiwgIm9wYWNpdHkiOiAxLjAsICJyYWRpdXMiOiA1LCAic3Ryb2tlIjogdHJ1ZSwgIndlaWdodCI6IDN9CiAgICAgICAgICAgICkuYWRkVG8obWFwXzg4MmFmYzM5OTg5ODRhZjhhODVjOTY5Nzg3ZDNiZGY4KTsKICAgICAgICAKICAgIAogICAgICAgIHZhciBwb3B1cF80YWZmZTNhMzRmMTA0YzIwOWU2YTdhMjc2MGM5Y2ExMiA9IEwucG9wdXAoeyJtYXhXaWR0aCI6ICIxMDAlIn0pOwoKICAgICAgICAKICAgICAgICAgICAgdmFyIGh0bWxfYjUxZGI0NWFjODhhNDRhZDlmNGNhMzhmMGNhYjFhYzYgPSAkKGA8ZGl2IGlkPSJodG1sX2I1MWRiNDVhYzg4YTQ0YWQ5ZjRjYTM4ZjBjYWIxYWM2IiBzdHlsZT0id2lkdGg6IDEwMC4wJTsgaGVpZ2h0OiAxMDAuMCU7Ij5FYXN0IEJpcmNobW91bnQgUGFyaywgSW9udmlldywgS2VubmVkeSBQYXJrLCBTY2FyYm9yb3VnaDwvZGl2PmApWzBdOwogICAgICAgICAgICBwb3B1cF80YWZmZTNhMzRmMTA0YzIwOWU2YTdhMjc2MGM5Y2ExMi5zZXRDb250ZW50KGh0bWxfYjUxZGI0NWFjODhhNDRhZDlmNGNhMzhmMGNhYjFhYzYpOwogICAgICAgIAoKICAgICAgICBjaXJjbGVfbWFya2VyXzU1OGEyZTczNjZmNzQwM2ZhMzQ4OGM5NzMwNTRmYzkxLmJpbmRQb3B1cChwb3B1cF80YWZmZTNhMzRmMTA0YzIwOWU2YTdhMjc2MGM5Y2ExMikKICAgICAgICA7CgogICAgICAgIAogICAgCiAgICAKICAgICAgICAgICAgdmFyIGNpcmNsZV9tYXJrZXJfMDkxMmUwN2ZlZDcwNGVmYzk5NTE1MjcwZTE3OTIzZjUgPSBMLmNpcmNsZU1hcmtlcigKICAgICAgICAgICAgICAgIFs0My43ODY5NDczLCAtNzkuMzg1OTc1XSwKICAgICAgICAgICAgICAgIHsiYnViYmxpbmdNb3VzZUV2ZW50cyI6IHRydWUsICJjb2xvciI6ICJibHVlIiwgImRhc2hBcnJheSI6IG51bGwsICJkYXNoT2Zmc2V0IjogbnVsbCwgImZpbGwiOiB0cnVlLCAiZmlsbENvbG9yIjogIiMzMTg2Y2MiLCAiZmlsbE9wYWNpdHkiOiAwLjcsICJmaWxsUnVsZSI6ICJldmVub2RkIiwgImxpbmVDYXAiOiAicm91bmQiLCAibGluZUpvaW4iOiAicm91bmQiLCAib3BhY2l0eSI6IDEuMCwgInJhZGl1cyI6IDUsICJzdHJva2UiOiB0cnVlLCAid2VpZ2h0IjogM30KICAgICAgICAgICAgKS5hZGRUbyhtYXBfODgyYWZjMzk5ODk4NGFmOGE4NWM5Njk3ODdkM2JkZjgpOwogICAgICAgIAogICAgCiAgICAgICAgdmFyIHBvcHVwXzE4Zjk4N2E2YWIwOTRmNzRhZWU5MjkyMTU3MWE0M2JhID0gTC5wb3B1cCh7Im1heFdpZHRoIjogIjEwMCUifSk7CgogICAgICAgIAogICAgICAgICAgICB2YXIgaHRtbF9hY2JmYmRlMjM5M2Y0YmM1YjVkZjllYjEyOWRkMGMzMiA9ICQoYDxkaXYgaWQ9Imh0bWxfYWNiZmJkZTIzOTNmNGJjNWI1ZGY5ZWIxMjlkZDBjMzIiIHN0eWxlPSJ3aWR0aDogMTAwLjAlOyBoZWlnaHQ6IDEwMC4wJTsiPkJheXZpZXcgVmlsbGFnZSwgTm9ydGggWW9yazwvZGl2PmApWzBdOwogICAgICAgICAgICBwb3B1cF8xOGY5ODdhNmFiMDk0Zjc0YWVlOTI5MjE1NzFhNDNiYS5zZXRDb250ZW50KGh0bWxfYWNiZmJkZTIzOTNmNGJjNWI1ZGY5ZWIxMjlkZDBjMzIpOwogICAgICAgIAoKICAgICAgICBjaXJjbGVfbWFya2VyXzA5MTJlMDdmZWQ3MDRlZmM5OTUxNTI3MGUxNzkyM2Y1LmJpbmRQb3B1cChwb3B1cF8xOGY5ODdhNmFiMDk0Zjc0YWVlOTI5MjE1NzFhNDNiYSkKICAgICAgICA7CgogICAgICAgIAogICAgCiAgICAKICAgICAgICAgICAgdmFyIGNpcmNsZV9tYXJrZXJfMDZiYjUxNDJjM2MyNDI5ZjlkY2YxMzU0YTA3Y2U3Y2MgPSBMLmNpcmNsZU1hcmtlcigKICAgICAgICAgICAgICAgIFs0My43Mzc0NzMyMDAwMDAwMDQsIC03OS40NjQ3NjMyOTk5OTk5OV0sCiAgICAgICAgICAgICAgICB7ImJ1YmJsaW5nTW91c2VFdmVudHMiOiB0cnVlLCAiY29sb3IiOiAiYmx1ZSIsICJkYXNoQXJyYXkiOiBudWxsLCAiZGFzaE9mZnNldCI6IG51bGwsICJmaWxsIjogdHJ1ZSwgImZpbGxDb2xvciI6ICIjMzE4NmNjIiwgImZpbGxPcGFjaXR5IjogMC43LCAiZmlsbFJ1bGUiOiAiZXZlbm9kZCIsICJsaW5lQ2FwIjogInJvdW5kIiwgImxpbmVKb2luIjogInJvdW5kIiwgIm9wYWNpdHkiOiAxLjAsICJyYWRpdXMiOiA1LCAic3Ryb2tlIjogdHJ1ZSwgIndlaWdodCI6IDN9CiAgICAgICAgICAgICkuYWRkVG8obWFwXzg4MmFmYzM5OTg5ODRhZjhhODVjOTY5Nzg3ZDNiZGY4KTsKICAgICAgICAKICAgIAogICAgICAgIHZhciBwb3B1cF8yYjY5NzUyYzhmNTE0NzMzODE5NmEyYmJhODdiMDhiNSA9IEwucG9wdXAoeyJtYXhXaWR0aCI6ICIxMDAlIn0pOwoKICAgICAgICAKICAgICAgICAgICAgdmFyIGh0bWxfMmZjNmZhOWZmMDQ4NDExNmE3ZDQyODA2NTA4MGZiZWMgPSAkKGA8ZGl2IGlkPSJodG1sXzJmYzZmYTlmZjA0ODQxMTZhN2Q0MjgwNjUwODBmYmVjIiBzdHlsZT0id2lkdGg6IDEwMC4wJTsgaGVpZ2h0OiAxMDAuMCU7Ij5DRkIgVG9yb250bywgRG93bnN2aWV3IEVhc3QsIE5vcnRoIFlvcms8L2Rpdj5gKVswXTsKICAgICAgICAgICAgcG9wdXBfMmI2OTc1MmM4ZjUxNDczMzgxOTZhMmJiYTg3YjA4YjUuc2V0Q29udGVudChodG1sXzJmYzZmYTlmZjA0ODQxMTZhN2Q0MjgwNjUwODBmYmVjKTsKICAgICAgICAKCiAgICAgICAgY2lyY2xlX21hcmtlcl8wNmJiNTE0MmMzYzI0MjlmOWRjZjEzNTRhMDdjZTdjYy5iaW5kUG9wdXAocG9wdXBfMmI2OTc1MmM4ZjUxNDczMzgxOTZhMmJiYTg3YjA4YjUpCiAgICAgICAgOwoKICAgICAgICAKICAgIAogICAgCiAgICAgICAgICAgIHZhciBjaXJjbGVfbWFya2VyX2Y3YTU5OTEwODc3ZDQ0NWE4YTk0YmNkNDZkOTYwNDAzID0gTC5jaXJjbGVNYXJrZXIoCiAgICAgICAgICAgICAgICBbNDMuNjc5NTU3MSwgLTc5LjM1MjE4OF0sCiAgICAgICAgICAgICAgICB7ImJ1YmJsaW5nTW91c2VFdmVudHMiOiB0cnVlLCAiY29sb3IiOiAiYmx1ZSIsICJkYXNoQXJyYXkiOiBudWxsLCAiZGFzaE9mZnNldCI6IG51bGwsICJmaWxsIjogdHJ1ZSwgImZpbGxDb2xvciI6ICIjMzE4NmNjIiwgImZpbGxPcGFjaXR5IjogMC43LCAiZmlsbFJ1bGUiOiAiZXZlbm9kZCIsICJsaW5lQ2FwIjogInJvdW5kIiwgImxpbmVKb2luIjogInJvdW5kIiwgIm9wYWNpdHkiOiAxLjAsICJyYWRpdXMiOiA1LCAic3Ryb2tlIjogdHJ1ZSwgIndlaWdodCI6IDN9CiAgICAgICAgICAgICkuYWRkVG8obWFwXzg4MmFmYzM5OTg5ODRhZjhhODVjOTY5Nzg3ZDNiZGY4KTsKICAgICAgICAKICAgIAogICAgICAgIHZhciBwb3B1cF80OGI3NDhlZmJjZWY0MTMyOWZiMTUyMmMyMmQ5N2RjZSA9IEwucG9wdXAoeyJtYXhXaWR0aCI6ICIxMDAlIn0pOwoKICAgICAgICAKICAgICAgICAgICAgdmFyIGh0bWxfY2JjOGE1YzZjM2VlNGI1Nzk5ZWJmMjAxMTg3Y2FjYWYgPSAkKGA8ZGl2IGlkPSJodG1sX2NiYzhhNWM2YzNlZTRiNTc5OWViZjIwMTE4N2NhY2FmIiBzdHlsZT0id2lkdGg6IDEwMC4wJTsgaGVpZ2h0OiAxMDAuMCU7Ij5UaGUgRGFuZm9ydGggV2VzdCwgUml2ZXJkYWxlLCBFYXN0IFRvcm9udG88L2Rpdj5gKVswXTsKICAgICAgICAgICAgcG9wdXBfNDhiNzQ4ZWZiY2VmNDEzMjlmYjE1MjJjMjJkOTdkY2Uuc2V0Q29udGVudChodG1sX2NiYzhhNWM2YzNlZTRiNTc5OWViZjIwMTE4N2NhY2FmKTsKICAgICAgICAKCiAgICAgICAgY2lyY2xlX21hcmtlcl9mN2E1OTkxMDg3N2Q0NDVhOGE5NGJjZDQ2ZDk2MDQwMy5iaW5kUG9wdXAocG9wdXBfNDhiNzQ4ZWZiY2VmNDEzMjlmYjE1MjJjMjJkOTdkY2UpCiAgICAgICAgOwoKICAgICAgICAKICAgIAogICAgCiAgICAgICAgICAgIHZhciBjaXJjbGVfbWFya2VyXzdhNWIyMjc0MGE4OTQxNzhiM2M3MGJmY2IwNmU2MzUzID0gTC5jaXJjbGVNYXJrZXIoCiAgICAgICAgICAgICAgICBbNDMuNjQ3MTc2OCwgLTc5LjM4MTU3NjQwMDAwMDAxXSwKICAgICAgICAgICAgICAgIHsiYnViYmxpbmdNb3VzZUV2ZW50cyI6IHRydWUsICJjb2xvciI6ICJibHVlIiwgImRhc2hBcnJheSI6IG51bGwsICJkYXNoT2Zmc2V0IjogbnVsbCwgImZpbGwiOiB0cnVlLCAiZmlsbENvbG9yIjogIiMzMTg2Y2MiLCAiZmlsbE9wYWNpdHkiOiAwLjcsICJmaWxsUnVsZSI6ICJldmVub2RkIiwgImxpbmVDYXAiOiAicm91bmQiLCAibGluZUpvaW4iOiAicm91bmQiLCAib3BhY2l0eSI6IDEuMCwgInJhZGl1cyI6IDUsICJzdHJva2UiOiB0cnVlLCAid2VpZ2h0IjogM30KICAgICAgICAgICAgKS5hZGRUbyhtYXBfODgyYWZjMzk5ODk4NGFmOGE4NWM5Njk3ODdkM2JkZjgpOwogICAgICAgIAogICAgCiAgICAgICAgdmFyIHBvcHVwXzJjMjEzMGIzMmFlMjQxNjZiZTNiZjdjZjM2MzUzNmFmID0gTC5wb3B1cCh7Im1heFdpZHRoIjogIjEwMCUifSk7CgogICAgICAgIAogICAgICAgICAgICB2YXIgaHRtbF8wYWRlMWY2ZGJlODg0MDE5YmI0YzRlOTU4MDBiNzI4YyA9ICQoYDxkaXYgaWQ9Imh0bWxfMGFkZTFmNmRiZTg4NDAxOWJiNGM0ZTk1ODAwYjcyOGMiIHN0eWxlPSJ3aWR0aDogMTAwLjAlOyBoZWlnaHQ6IDEwMC4wJTsiPkRlc2lnbiBFeGNoYW5nZSwgVG9yb250byBEb21pbmlvbiBDZW50cmUsIERvd250b3duIFRvcm9udG88L2Rpdj5gKVswXTsKICAgICAgICAgICAgcG9wdXBfMmMyMTMwYjMyYWUyNDE2NmJlM2JmN2NmMzYzNTM2YWYuc2V0Q29udGVudChodG1sXzBhZGUxZjZkYmU4ODQwMTliYjRjNGU5NTgwMGI3MjhjKTsKICAgICAgICAKCiAgICAgICAgY2lyY2xlX21hcmtlcl83YTViMjI3NDBhODk0MTc4YjNjNzBiZmNiMDZlNjM1My5iaW5kUG9wdXAocG9wdXBfMmMyMTMwYjMyYWUyNDE2NmJlM2JmN2NmMzYzNTM2YWYpCiAgICAgICAgOwoKICAgICAgICAKICAgIAogICAgCiAgICAgICAgICAgIHZhciBjaXJjbGVfbWFya2VyXzZjZWI2YzljZjdkOTQ2ZTdhMWE0NmFiMGEwNmIxYmI0ID0gTC5jaXJjbGVNYXJrZXIoCiAgICAgICAgICAgICAgICBbNDMuNjM2ODQ3MiwgLTc5LjQyODE5MTQwMDAwMDAyXSwKICAgICAgICAgICAgICAgIHsiYnViYmxpbmdNb3VzZUV2ZW50cyI6IHRydWUsICJjb2xvciI6ICJibHVlIiwgImRhc2hBcnJheSI6IG51bGwsICJkYXNoT2Zmc2V0IjogbnVsbCwgImZpbGwiOiB0cnVlLCAiZmlsbENvbG9yIjogIiMzMTg2Y2MiLCAiZmlsbE9wYWNpdHkiOiAwLjcsICJmaWxsUnVsZSI6ICJldmVub2RkIiwgImxpbmVDYXAiOiAicm91bmQiLCAibGluZUpvaW4iOiAicm91bmQiLCAib3BhY2l0eSI6IDEuMCwgInJhZGl1cyI6IDUsICJzdHJva2UiOiB0cnVlLCAid2VpZ2h0IjogM30KICAgICAgICAgICAgKS5hZGRUbyhtYXBfODgyYWZjMzk5ODk4NGFmOGE4NWM5Njk3ODdkM2JkZjgpOwogICAgICAgIAogICAgCiAgICAgICAgdmFyIHBvcHVwXzk5YTVjN2Q2NDQyNzQ1M2FhZWM5M2RhOWFhNGMyNDE3ID0gTC5wb3B1cCh7Im1heFdpZHRoIjogIjEwMCUifSk7CgogICAgICAgIAogICAgICAgICAgICB2YXIgaHRtbF9mNGNhMDlmZGEwYTA0NTViYTVmMTY4OTg0ZTEzZmE3NyA9ICQoYDxkaXYgaWQ9Imh0bWxfZjRjYTA5ZmRhMGEwNDU1YmE1ZjE2ODk4NGUxM2ZhNzciIHN0eWxlPSJ3aWR0aDogMTAwLjAlOyBoZWlnaHQ6IDEwMC4wJTsiPkJyb2NrdG9uLCBFeGhpYml0aW9uIFBsYWNlLCBQYXJrZGFsZSBWaWxsYWdlLCBXZXN0IFRvcm9udG88L2Rpdj5gKVswXTsKICAgICAgICAgICAgcG9wdXBfOTlhNWM3ZDY0NDI3NDUzYWFlYzkzZGE5YWE0YzI0MTcuc2V0Q29udGVudChodG1sX2Y0Y2EwOWZkYTBhMDQ1NWJhNWYxNjg5ODRlMTNmYTc3KTsKICAgICAgICAKCiAgICAgICAgY2lyY2xlX21hcmtlcl82Y2ViNmM5Y2Y3ZDk0NmU3YTFhNDZhYjBhMDZiMWJiNC5iaW5kUG9wdXAocG9wdXBfOTlhNWM3ZDY0NDI3NDUzYWFlYzkzZGE5YWE0YzI0MTcpCiAgICAgICAgOwoKICAgICAgICAKICAgIAogICAgCiAgICAgICAgICAgIHZhciBjaXJjbGVfbWFya2VyXzRjZDQ2NjhiZDk1MzRkM2NiNGIyMjdiNjM4NjliYmYyID0gTC5jaXJjbGVNYXJrZXIoCiAgICAgICAgICAgICAgICBbNDMuNzExMTExNzAwMDAwMDA0LCAtNzkuMjg0NTc3Ml0sCiAgICAgICAgICAgICAgICB7ImJ1YmJsaW5nTW91c2VFdmVudHMiOiB0cnVlLCAiY29sb3IiOiAiYmx1ZSIsICJkYXNoQXJyYXkiOiBudWxsLCAiZGFzaE9mZnNldCI6IG51bGwsICJmaWxsIjogdHJ1ZSwgImZpbGxDb2xvciI6ICIjMzE4NmNjIiwgImZpbGxPcGFjaXR5IjogMC43LCAiZmlsbFJ1bGUiOiAiZXZlbm9kZCIsICJsaW5lQ2FwIjogInJvdW5kIiwgImxpbmVKb2luIjogInJvdW5kIiwgIm9wYWNpdHkiOiAxLjAsICJyYWRpdXMiOiA1LCAic3Ryb2tlIjogdHJ1ZSwgIndlaWdodCI6IDN9CiAgICAgICAgICAgICkuYWRkVG8obWFwXzg4MmFmYzM5OTg5ODRhZjhhODVjOTY5Nzg3ZDNiZGY4KTsKICAgICAgICAKICAgIAogICAgICAgIHZhciBwb3B1cF8xOTk4NzNlMGY3YzM0ZjY2OTBmYmQ3MDNmMDFhOGNlOCA9IEwucG9wdXAoeyJtYXhXaWR0aCI6ICIxMDAlIn0pOwoKICAgICAgICAKICAgICAgICAgICAgdmFyIGh0bWxfZTE1NDdiYzI3ZWNkNDZiOWJlOTJlMDU0MzRkYWZiYjUgPSAkKGA8ZGl2IGlkPSJodG1sX2UxNTQ3YmMyN2VjZDQ2YjliZTkyZTA1NDM0ZGFmYmI1IiBzdHlsZT0id2lkdGg6IDEwMC4wJTsgaGVpZ2h0OiAxMDAuMCU7Ij5DbGFpcmxlYSwgR29sZGVuIE1pbGUsIE9ha3JpZGdlLCBTY2FyYm9yb3VnaDwvZGl2PmApWzBdOwogICAgICAgICAgICBwb3B1cF8xOTk4NzNlMGY3YzM0ZjY2OTBmYmQ3MDNmMDFhOGNlOC5zZXRDb250ZW50KGh0bWxfZTE1NDdiYzI3ZWNkNDZiOWJlOTJlMDU0MzRkYWZiYjUpOwogICAgICAgIAoKICAgICAgICBjaXJjbGVfbWFya2VyXzRjZDQ2NjhiZDk1MzRkM2NiNGIyMjdiNjM4NjliYmYyLmJpbmRQb3B1cChwb3B1cF8xOTk4NzNlMGY3YzM0ZjY2OTBmYmQ3MDNmMDFhOGNlOCkKICAgICAgICA7CgogICAgICAgIAogICAgCiAgICAKICAgICAgICAgICAgdmFyIGNpcmNsZV9tYXJrZXJfNGY0ZGM2ODZkNTFiNDBhNzhkOTU4YmIzMWYyNzk0ZmYgPSBMLmNpcmNsZU1hcmtlcigKICAgICAgICAgICAgICAgIFs0My43NTc0OTAyLCAtNzkuMzc0NzE0MDk5OTk5OTldLAogICAgICAgICAgICAgICAgeyJidWJibGluZ01vdXNlRXZlbnRzIjogdHJ1ZSwgImNvbG9yIjogImJsdWUiLCAiZGFzaEFycmF5IjogbnVsbCwgImRhc2hPZmZzZXQiOiBudWxsLCAiZmlsbCI6IHRydWUsICJmaWxsQ29sb3IiOiAiIzMxODZjYyIsICJmaWxsT3BhY2l0eSI6IDAuNywgImZpbGxSdWxlIjogImV2ZW5vZGQiLCAibGluZUNhcCI6ICJyb3VuZCIsICJsaW5lSm9pbiI6ICJyb3VuZCIsICJvcGFjaXR5IjogMS4wLCAicmFkaXVzIjogNSwgInN0cm9rZSI6IHRydWUsICJ3ZWlnaHQiOiAzfQogICAgICAgICAgICApLmFkZFRvKG1hcF84ODJhZmMzOTk4OTg0YWY4YTg1Yzk2OTc4N2QzYmRmOCk7CiAgICAgICAgCiAgICAKICAgICAgICB2YXIgcG9wdXBfNTY5YTExNWZjYTAzNDhmNjliNmVlNTRmNTBlYThhZTMgPSBMLnBvcHVwKHsibWF4V2lkdGgiOiAiMTAwJSJ9KTsKCiAgICAgICAgCiAgICAgICAgICAgIHZhciBodG1sX2UxYjMzMTM5Y2M1OTQ2YTk5ZTk1ZmVlNzhmZjViZWJkID0gJChgPGRpdiBpZD0iaHRtbF9lMWIzMzEzOWNjNTk0NmE5OWU5NWZlZTc4ZmY1YmViZCIgc3R5bGU9IndpZHRoOiAxMDAuMCU7IGhlaWdodDogMTAwLjAlOyI+U2lsdmVyIEhpbGxzLCBZb3JrIE1pbGxzLCBOb3J0aCBZb3JrPC9kaXY+YClbMF07CiAgICAgICAgICAgIHBvcHVwXzU2OWExMTVmY2EwMzQ4ZjY5YjZlZTU0ZjUwZWE4YWUzLnNldENvbnRlbnQoaHRtbF9lMWIzMzEzOWNjNTk0NmE5OWU5NWZlZTc4ZmY1YmViZCk7CiAgICAgICAgCgogICAgICAgIGNpcmNsZV9tYXJrZXJfNGY0ZGM2ODZkNTFiNDBhNzhkOTU4YmIzMWYyNzk0ZmYuYmluZFBvcHVwKHBvcHVwXzU2OWExMTVmY2EwMzQ4ZjY5YjZlZTU0ZjUwZWE4YWUzKQogICAgICAgIDsKCiAgICAgICAgCiAgICAKICAgIAogICAgICAgICAgICB2YXIgY2lyY2xlX21hcmtlcl81MWNlOWU5MDA2ZGY0MGZiODFkMTI1ZDAwYjUzOTMxNiA9IEwuY2lyY2xlTWFya2VyKAogICAgICAgICAgICAgICAgWzQzLjczOTAxNDYsIC03OS41MDY5NDM2XSwKICAgICAgICAgICAgICAgIHsiYnViYmxpbmdNb3VzZUV2ZW50cyI6IHRydWUsICJjb2xvciI6ICJibHVlIiwgImRhc2hBcnJheSI6IG51bGwsICJkYXNoT2Zmc2V0IjogbnVsbCwgImZpbGwiOiB0cnVlLCAiZmlsbENvbG9yIjogIiMzMTg2Y2MiLCAiZmlsbE9wYWNpdHkiOiAwLjcsICJmaWxsUnVsZSI6ICJldmVub2RkIiwgImxpbmVDYXAiOiAicm91bmQiLCAibGluZUpvaW4iOiAicm91bmQiLCAib3BhY2l0eSI6IDEuMCwgInJhZGl1cyI6IDUsICJzdHJva2UiOiB0cnVlLCAid2VpZ2h0IjogM30KICAgICAgICAgICAgKS5hZGRUbyhtYXBfODgyYWZjMzk5ODk4NGFmOGE4NWM5Njk3ODdkM2JkZjgpOwogICAgICAgIAogICAgCiAgICAgICAgdmFyIHBvcHVwX2I2NDI4ZjA5MDI2ZjQ4YWRiZTg4YjhmMDljZDJiZDc2ID0gTC5wb3B1cCh7Im1heFdpZHRoIjogIjEwMCUifSk7CgogICAgICAgIAogICAgICAgICAgICB2YXIgaHRtbF8wMjlmNjI0OTVkYjE0N2U5OWQzMGZmYzJhYjc1YWE3OSA9ICQoYDxkaXYgaWQ9Imh0bWxfMDI5ZjYyNDk1ZGIxNDdlOTlkMzBmZmMyYWI3NWFhNzkiIHN0eWxlPSJ3aWR0aDogMTAwLjAlOyBoZWlnaHQ6IDEwMC4wJTsiPkRvd25zdmlldyBXZXN0LCBOb3J0aCBZb3JrPC9kaXY+YClbMF07CiAgICAgICAgICAgIHBvcHVwX2I2NDI4ZjA5MDI2ZjQ4YWRiZTg4YjhmMDljZDJiZDc2LnNldENvbnRlbnQoaHRtbF8wMjlmNjI0OTVkYjE0N2U5OWQzMGZmYzJhYjc1YWE3OSk7CiAgICAgICAgCgogICAgICAgIGNpcmNsZV9tYXJrZXJfNTFjZTllOTAwNmRmNDBmYjgxZDEyNWQwMGI1MzkzMTYuYmluZFBvcHVwKHBvcHVwX2I2NDI4ZjA5MDI2ZjQ4YWRiZTg4YjhmMDljZDJiZDc2KQogICAgICAgIDsKCiAgICAgICAgCiAgICAKICAgIAogICAgICAgICAgICB2YXIgY2lyY2xlX21hcmtlcl8zMzQ2ZTA2OTNhM2U0NTU4YTkxNGEwNDVjNzgzZWI4YSA9IEwuY2lyY2xlTWFya2VyKAogICAgICAgICAgICAgICAgWzQzLjY2ODk5ODUsIC03OS4zMTU1NzE1OTk5OTk5OF0sCiAgICAgICAgICAgICAgICB7ImJ1YmJsaW5nTW91c2VFdmVudHMiOiB0cnVlLCAiY29sb3IiOiAiYmx1ZSIsICJkYXNoQXJyYXkiOiBudWxsLCAiZGFzaE9mZnNldCI6IG51bGwsICJmaWxsIjogdHJ1ZSwgImZpbGxDb2xvciI6ICIjMzE4NmNjIiwgImZpbGxPcGFjaXR5IjogMC43LCAiZmlsbFJ1bGUiOiAiZXZlbm9kZCIsICJsaW5lQ2FwIjogInJvdW5kIiwgImxpbmVKb2luIjogInJvdW5kIiwgIm9wYWNpdHkiOiAxLjAsICJyYWRpdXMiOiA1LCAic3Ryb2tlIjogdHJ1ZSwgIndlaWdodCI6IDN9CiAgICAgICAgICAgICkuYWRkVG8obWFwXzg4MmFmYzM5OTg5ODRhZjhhODVjOTY5Nzg3ZDNiZGY4KTsKICAgICAgICAKICAgIAogICAgICAgIHZhciBwb3B1cF82NTdkNTliNTVjZDk0ZDI5OWFhYmQyMWU4ZjUxYzI5ZCA9IEwucG9wdXAoeyJtYXhXaWR0aCI6ICIxMDAlIn0pOwoKICAgICAgICAKICAgICAgICAgICAgdmFyIGh0bWxfMTQ0ZGExMzhkMjgyNDdjNzlkZmEzZDI3ZWJmNTlkOGUgPSAkKGA8ZGl2IGlkPSJodG1sXzE0NGRhMTM4ZDI4MjQ3Yzc5ZGZhM2QyN2ViZjU5ZDhlIiBzdHlsZT0id2lkdGg6IDEwMC4wJTsgaGVpZ2h0OiAxMDAuMCU7Ij5UaGUgQmVhY2hlcyBXZXN0LCBJbmRpYSBCYXphYXIsIEVhc3QgVG9yb250bzwvZGl2PmApWzBdOwogICAgICAgICAgICBwb3B1cF82NTdkNTliNTVjZDk0ZDI5OWFhYmQyMWU4ZjUxYzI5ZC5zZXRDb250ZW50KGh0bWxfMTQ0ZGExMzhkMjgyNDdjNzlkZmEzZDI3ZWJmNTlkOGUpOwogICAgICAgIAoKICAgICAgICBjaXJjbGVfbWFya2VyXzMzNDZlMDY5M2EzZTQ1NThhOTE0YTA0NWM3ODNlYjhhLmJpbmRQb3B1cChwb3B1cF82NTdkNTliNTVjZDk0ZDI5OWFhYmQyMWU4ZjUxYzI5ZCkKICAgICAgICA7CgogICAgICAgIAogICAgCiAgICAKICAgICAgICAgICAgdmFyIGNpcmNsZV9tYXJrZXJfOTAyZWE2N2VhMjQ1NDMwOGJkZDBlMDc3MWE4ZDcyNzggPSBMLmNpcmNsZU1hcmtlcigKICAgICAgICAgICAgICAgIFs0My42NDgxOTg1LCAtNzkuMzc5ODE2OTAwMDAwMDFdLAogICAgICAgICAgICAgICAgeyJidWJibGluZ01vdXNlRXZlbnRzIjogdHJ1ZSwgImNvbG9yIjogImJsdWUiLCAiZGFzaEFycmF5IjogbnVsbCwgImRhc2hPZmZzZXQiOiBudWxsLCAiZmlsbCI6IHRydWUsICJmaWxsQ29sb3IiOiAiIzMxODZjYyIsICJmaWxsT3BhY2l0eSI6IDAuNywgImZpbGxSdWxlIjogImV2ZW5vZGQiLCAibGluZUNhcCI6ICJyb3VuZCIsICJsaW5lSm9pbiI6ICJyb3VuZCIsICJvcGFjaXR5IjogMS4wLCAicmFkaXVzIjogNSwgInN0cm9rZSI6IHRydWUsICJ3ZWlnaHQiOiAzfQogICAgICAgICAgICApLmFkZFRvKG1hcF84ODJhZmMzOTk4OTg0YWY4YTg1Yzk2OTc4N2QzYmRmOCk7CiAgICAgICAgCiAgICAKICAgICAgICB2YXIgcG9wdXBfMDFhNGQ4ZGI5M2QyNGY3ZWI1ZmQ4MDY1OTUwMTkxYTcgPSBMLnBvcHVwKHsibWF4V2lkdGgiOiAiMTAwJSJ9KTsKCiAgICAgICAgCiAgICAgICAgICAgIHZhciBodG1sXzZkOTBmZmJhYTE4MzQ0NTdiM2RjNTZiYTg4ZTQ1MTRkID0gJChgPGRpdiBpZD0iaHRtbF82ZDkwZmZiYWExODM0NDU3YjNkYzU2YmE4OGU0NTE0ZCIgc3R5bGU9IndpZHRoOiAxMDAuMCU7IGhlaWdodDogMTAwLjAlOyI+Q29tbWVyY2UgQ291cnQsIFZpY3RvcmlhIEhvdGVsLCBEb3dudG93biBUb3JvbnRvPC9kaXY+YClbMF07CiAgICAgICAgICAgIHBvcHVwXzAxYTRkOGRiOTNkMjRmN2ViNWZkODA2NTk1MDE5MWE3LnNldENvbnRlbnQoaHRtbF82ZDkwZmZiYWExODM0NDU3YjNkYzU2YmE4OGU0NTE0ZCk7CiAgICAgICAgCgogICAgICAgIGNpcmNsZV9tYXJrZXJfOTAyZWE2N2VhMjQ1NDMwOGJkZDBlMDc3MWE4ZDcyNzguYmluZFBvcHVwKHBvcHVwXzAxYTRkOGRiOTNkMjRmN2ViNWZkODA2NTk1MDE5MWE3KQogICAgICAgIDsKCiAgICAgICAgCiAgICAKICAgIAogICAgICAgICAgICB2YXIgY2lyY2xlX21hcmtlcl83ZDc2ZTZhZmFjNTI0MzQzOWM5NzZjNGQ3NTdjNjA4MCA9IEwuY2lyY2xlTWFya2VyKAogICAgICAgICAgICAgICAgWzQzLjcxMzc1NjIwMDAwMDAwNiwgLTc5LjQ5MDA3MzhdLAogICAgICAgICAgICAgICAgeyJidWJibGluZ01vdXNlRXZlbnRzIjogdHJ1ZSwgImNvbG9yIjogImJsdWUiLCAiZGFzaEFycmF5IjogbnVsbCwgImRhc2hPZmZzZXQiOiBudWxsLCAiZmlsbCI6IHRydWUsICJmaWxsQ29sb3IiOiAiIzMxODZjYyIsICJmaWxsT3BhY2l0eSI6IDAuNywgImZpbGxSdWxlIjogImV2ZW5vZGQiLCAibGluZUNhcCI6ICJyb3VuZCIsICJsaW5lSm9pbiI6ICJyb3VuZCIsICJvcGFjaXR5IjogMS4wLCAicmFkaXVzIjogNSwgInN0cm9rZSI6IHRydWUsICJ3ZWlnaHQiOiAzfQogICAgICAgICAgICApLmFkZFRvKG1hcF84ODJhZmMzOTk4OTg0YWY4YTg1Yzk2OTc4N2QzYmRmOCk7CiAgICAgICAgCiAgICAKICAgICAgICB2YXIgcG9wdXBfNDg2OTE1NDEyZGNlNDBmYjhlODVmN2VhZjMyOTRlMzQgPSBMLnBvcHVwKHsibWF4V2lkdGgiOiAiMTAwJSJ9KTsKCiAgICAgICAgCiAgICAgICAgICAgIHZhciBodG1sXzIwNGUwYTljNmQzNTQzNWI4MzA3MGIzMzRiOWNhNDdlID0gJChgPGRpdiBpZD0iaHRtbF8yMDRlMGE5YzZkMzU0MzViODMwNzBiMzM0YjljYTQ3ZSIgc3R5bGU9IndpZHRoOiAxMDAuMCU7IGhlaWdodDogMTAwLjAlOyI+RG93bnN2aWV3LCBOb3J0aCBQYXJrLCBVcHdvb2QgUGFyaywgTm9ydGggWW9yazwvZGl2PmApWzBdOwogICAgICAgICAgICBwb3B1cF80ODY5MTU0MTJkY2U0MGZiOGU4NWY3ZWFmMzI5NGUzNC5zZXRDb250ZW50KGh0bWxfMjA0ZTBhOWM2ZDM1NDM1YjgzMDcwYjMzNGI5Y2E0N2UpOwogICAgICAgIAoKICAgICAgICBjaXJjbGVfbWFya2VyXzdkNzZlNmFmYWM1MjQzNDM5Yzk3NmM0ZDc1N2M2MDgwLmJpbmRQb3B1cChwb3B1cF80ODY5MTU0MTJkY2U0MGZiOGU4NWY3ZWFmMzI5NGUzNCkKICAgICAgICA7CgogICAgICAgIAogICAgCiAgICAKICAgICAgICAgICAgdmFyIGNpcmNsZV9tYXJrZXJfZDNiNDY2MGViNDc5NGFhY2FjNzQ1YjUyN2MxNTRjNGEgPSBMLmNpcmNsZU1hcmtlcigKICAgICAgICAgICAgICAgIFs0My43NTYzMDMzLCAtNzkuNTY1OTYzMjk5OTk5OTldLAogICAgICAgICAgICAgICAgeyJidWJibGluZ01vdXNlRXZlbnRzIjogdHJ1ZSwgImNvbG9yIjogImJsdWUiLCAiZGFzaEFycmF5IjogbnVsbCwgImRhc2hPZmZzZXQiOiBudWxsLCAiZmlsbCI6IHRydWUsICJmaWxsQ29sb3IiOiAiIzMxODZjYyIsICJmaWxsT3BhY2l0eSI6IDAuNywgImZpbGxSdWxlIjogImV2ZW5vZGQiLCAibGluZUNhcCI6ICJyb3VuZCIsICJsaW5lSm9pbiI6ICJyb3VuZCIsICJvcGFjaXR5IjogMS4wLCAicmFkaXVzIjogNSwgInN0cm9rZSI6IHRydWUsICJ3ZWlnaHQiOiAzfQogICAgICAgICAgICApLmFkZFRvKG1hcF84ODJhZmMzOTk4OTg0YWY4YTg1Yzk2OTc4N2QzYmRmOCk7CiAgICAgICAgCiAgICAKICAgICAgICB2YXIgcG9wdXBfNGY0MzA5N2Y3NDk3NGI1NmI2NWEzZmQ2MGRjZjZlNmMgPSBMLnBvcHVwKHsibWF4V2lkdGgiOiAiMTAwJSJ9KTsKCiAgICAgICAgCiAgICAgICAgICAgIHZhciBodG1sXzFkNjNhZmZjYjJmMTRhNzg5NTI5ZmE1YzEwNGVhMTM2ID0gJChgPGRpdiBpZD0iaHRtbF8xZDYzYWZmY2IyZjE0YTc4OTUyOWZhNWMxMDRlYTEzNiIgc3R5bGU9IndpZHRoOiAxMDAuMCU7IGhlaWdodDogMTAwLjAlOyI+SHVtYmVyIFN1bW1pdCwgTm9ydGggWW9yazwvZGl2PmApWzBdOwogICAgICAgICAgICBwb3B1cF80ZjQzMDk3Zjc0OTc0YjU2YjY1YTNmZDYwZGNmNmU2Yy5zZXRDb250ZW50KGh0bWxfMWQ2M2FmZmNiMmYxNGE3ODk1MjlmYTVjMTA0ZWExMzYpOwogICAgICAgIAoKICAgICAgICBjaXJjbGVfbWFya2VyX2QzYjQ2NjBlYjQ3OTRhYWNhYzc0NWI1MjdjMTU0YzRhLmJpbmRQb3B1cChwb3B1cF80ZjQzMDk3Zjc0OTc0YjU2YjY1YTNmZDYwZGNmNmU2YykKICAgICAgICA7CgogICAgICAgIAogICAgCiAgICAKICAgICAgICAgICAgdmFyIGNpcmNsZV9tYXJrZXJfZTE0N2MyOTMyM2NlNDgyYTk5Yzk3ZGI5Y2Y1MjczNzkgPSBMLmNpcmNsZU1hcmtlcigKICAgICAgICAgICAgICAgIFs0My43MTYzMTYsIC03OS4yMzk0NzYwOTk5OTk5OV0sCiAgICAgICAgICAgICAgICB7ImJ1YmJsaW5nTW91c2VFdmVudHMiOiB0cnVlLCAiY29sb3IiOiAiYmx1ZSIsICJkYXNoQXJyYXkiOiBudWxsLCAiZGFzaE9mZnNldCI6IG51bGwsICJmaWxsIjogdHJ1ZSwgImZpbGxDb2xvciI6ICIjMzE4NmNjIiwgImZpbGxPcGFjaXR5IjogMC43LCAiZmlsbFJ1bGUiOiAiZXZlbm9kZCIsICJsaW5lQ2FwIjogInJvdW5kIiwgImxpbmVKb2luIjogInJvdW5kIiwgIm9wYWNpdHkiOiAxLjAsICJyYWRpdXMiOiA1LCAic3Ryb2tlIjogdHJ1ZSwgIndlaWdodCI6IDN9CiAgICAgICAgICAgICkuYWRkVG8obWFwXzg4MmFmYzM5OTg5ODRhZjhhODVjOTY5Nzg3ZDNiZGY4KTsKICAgICAgICAKICAgIAogICAgICAgIHZhciBwb3B1cF83MGI4YTc3MTdiNTg0Y2VhODViYjJhNGI2ODk5Y2MzMiA9IEwucG9wdXAoeyJtYXhXaWR0aCI6ICIxMDAlIn0pOwoKICAgICAgICAKICAgICAgICAgICAgdmFyIGh0bWxfOGIwNmNkYmI0MDc1NGQ5NWEwMzY1YTJiMTMxMzQwODAgPSAkKGA8ZGl2IGlkPSJodG1sXzhiMDZjZGJiNDA3NTRkOTVhMDM2NWEyYjEzMTM0MDgwIiBzdHlsZT0id2lkdGg6IDEwMC4wJTsgaGVpZ2h0OiAxMDAuMCU7Ij5DbGlmZmNyZXN0LCBDbGlmZnNpZGUsIFNjYXJib3JvdWdoIFZpbGxhZ2UgV2VzdCwgU2NhcmJvcm91Z2g8L2Rpdj5gKVswXTsKICAgICAgICAgICAgcG9wdXBfNzBiOGE3NzE3YjU4NGNlYTg1YmIyYTRiNjg5OWNjMzIuc2V0Q29udGVudChodG1sXzhiMDZjZGJiNDA3NTRkOTVhMDM2NWEyYjEzMTM0MDgwKTsKICAgICAgICAKCiAgICAgICAgY2lyY2xlX21hcmtlcl9lMTQ3YzI5MzIzY2U0ODJhOTljOTdkYjljZjUyNzM3OS5iaW5kUG9wdXAocG9wdXBfNzBiOGE3NzE3YjU4NGNlYTg1YmIyYTRiNjg5OWNjMzIpCiAgICAgICAgOwoKICAgICAgICAKICAgIAogICAgCiAgICAgICAgICAgIHZhciBjaXJjbGVfbWFya2VyXzQxYTgzYTdkZTk3ODQ1MGU4ODEwODUxMDg4NGRhM2VmID0gTC5jaXJjbGVNYXJrZXIoCiAgICAgICAgICAgICAgICBbNDMuNzg5MDUzLCAtNzkuNDA4NDkyNzk5OTk5OTldLAogICAgICAgICAgICAgICAgeyJidWJibGluZ01vdXNlRXZlbnRzIjogdHJ1ZSwgImNvbG9yIjogImJsdWUiLCAiZGFzaEFycmF5IjogbnVsbCwgImRhc2hPZmZzZXQiOiBudWxsLCAiZmlsbCI6IHRydWUsICJmaWxsQ29sb3IiOiAiIzMxODZjYyIsICJmaWxsT3BhY2l0eSI6IDAuNywgImZpbGxSdWxlIjogImV2ZW5vZGQiLCAibGluZUNhcCI6ICJyb3VuZCIsICJsaW5lSm9pbiI6ICJyb3VuZCIsICJvcGFjaXR5IjogMS4wLCAicmFkaXVzIjogNSwgInN0cm9rZSI6IHRydWUsICJ3ZWlnaHQiOiAzfQogICAgICAgICAgICApLmFkZFRvKG1hcF84ODJhZmMzOTk4OTg0YWY4YTg1Yzk2OTc4N2QzYmRmOCk7CiAgICAgICAgCiAgICAKICAgICAgICB2YXIgcG9wdXBfM2NmYTM3ZTQ1YTI3NDk0ZDliYjBjOWIxZjhkNGJmYWUgPSBMLnBvcHVwKHsibWF4V2lkdGgiOiAiMTAwJSJ9KTsKCiAgICAgICAgCiAgICAgICAgICAgIHZhciBodG1sXzBjOGRlNTg1ODUwYzQyNDU5N2Q5NmYxYzYyMzliY2MwID0gJChgPGRpdiBpZD0iaHRtbF8wYzhkZTU4NTg1MGM0MjQ1OTdkOTZmMWM2MjM5YmNjMCIgc3R5bGU9IndpZHRoOiAxMDAuMCU7IGhlaWdodDogMTAwLjAlOyI+TmV3dG9uYnJvb2ssIFdpbGxvd2RhbGUsIE5vcnRoIFlvcms8L2Rpdj5gKVswXTsKICAgICAgICAgICAgcG9wdXBfM2NmYTM3ZTQ1YTI3NDk0ZDliYjBjOWIxZjhkNGJmYWUuc2V0Q29udGVudChodG1sXzBjOGRlNTg1ODUwYzQyNDU5N2Q5NmYxYzYyMzliY2MwKTsKICAgICAgICAKCiAgICAgICAgY2lyY2xlX21hcmtlcl80MWE4M2E3ZGU5Nzg0NTBlODgxMDg1MTA4ODRkYTNlZi5iaW5kUG9wdXAocG9wdXBfM2NmYTM3ZTQ1YTI3NDk0ZDliYjBjOWIxZjhkNGJmYWUpCiAgICAgICAgOwoKICAgICAgICAKICAgIAogICAgCiAgICAgICAgICAgIHZhciBjaXJjbGVfbWFya2VyX2IxZTg4NTQwZTlkNDQyN2U4Y2FlZDg1Y2RiZTJjMmE5ID0gTC5jaXJjbGVNYXJrZXIoCiAgICAgICAgICAgICAgICBbNDMuNzI4NDk2NCwgLTc5LjQ5NTY5NzQwMDAwMDAxXSwKICAgICAgICAgICAgICAgIHsiYnViYmxpbmdNb3VzZUV2ZW50cyI6IHRydWUsICJjb2xvciI6ICJibHVlIiwgImRhc2hBcnJheSI6IG51bGwsICJkYXNoT2Zmc2V0IjogbnVsbCwgImZpbGwiOiB0cnVlLCAiZmlsbENvbG9yIjogIiMzMTg2Y2MiLCAiZmlsbE9wYWNpdHkiOiAwLjcsICJmaWxsUnVsZSI6ICJldmVub2RkIiwgImxpbmVDYXAiOiAicm91bmQiLCAibGluZUpvaW4iOiAicm91bmQiLCAib3BhY2l0eSI6IDEuMCwgInJhZGl1cyI6IDUsICJzdHJva2UiOiB0cnVlLCAid2VpZ2h0IjogM30KICAgICAgICAgICAgKS5hZGRUbyhtYXBfODgyYWZjMzk5ODk4NGFmOGE4NWM5Njk3ODdkM2JkZjgpOwogICAgICAgIAogICAgCiAgICAgICAgdmFyIHBvcHVwXzE4NGU0NjFhYmRlNDRhMWQ4ZGNlYTk1N2I3NzZlNDMwID0gTC5wb3B1cCh7Im1heFdpZHRoIjogIjEwMCUifSk7CgogICAgICAgIAogICAgICAgICAgICB2YXIgaHRtbF82YWExYjJhMGQ2ZTY0ZWQwODI5ZWY3ZTU2ZjI2YWUxMyA9ICQoYDxkaXYgaWQ9Imh0bWxfNmFhMWIyYTBkNmU2NGVkMDgyOWVmN2U1NmYyNmFlMTMiIHN0eWxlPSJ3aWR0aDogMTAwLjAlOyBoZWlnaHQ6IDEwMC4wJTsiPkRvd25zdmlldyBDZW50cmFsLCBOb3J0aCBZb3JrPC9kaXY+YClbMF07CiAgICAgICAgICAgIHBvcHVwXzE4NGU0NjFhYmRlNDRhMWQ4ZGNlYTk1N2I3NzZlNDMwLnNldENvbnRlbnQoaHRtbF82YWExYjJhMGQ2ZTY0ZWQwODI5ZWY3ZTU2ZjI2YWUxMyk7CiAgICAgICAgCgogICAgICAgIGNpcmNsZV9tYXJrZXJfYjFlODg1NDBlOWQ0NDI3ZThjYWVkODVjZGJlMmMyYTkuYmluZFBvcHVwKHBvcHVwXzE4NGU0NjFhYmRlNDRhMWQ4ZGNlYTk1N2I3NzZlNDMwKQogICAgICAgIDsKCiAgICAgICAgCiAgICAKICAgIAogICAgICAgICAgICB2YXIgY2lyY2xlX21hcmtlcl9iYTViNTk1ZTk0ZWE0MzljOTNiNTcyNzQ1M2M2YmY3OSA9IEwuY2lyY2xlTWFya2VyKAogICAgICAgICAgICAgICAgWzQzLjY1OTUyNTUsIC03OS4zNDA5MjNdLAogICAgICAgICAgICAgICAgeyJidWJibGluZ01vdXNlRXZlbnRzIjogdHJ1ZSwgImNvbG9yIjogImJsdWUiLCAiZGFzaEFycmF5IjogbnVsbCwgImRhc2hPZmZzZXQiOiBudWxsLCAiZmlsbCI6IHRydWUsICJmaWxsQ29sb3IiOiAiIzMxODZjYyIsICJmaWxsT3BhY2l0eSI6IDAuNywgImZpbGxSdWxlIjogImV2ZW5vZGQiLCAibGluZUNhcCI6ICJyb3VuZCIsICJsaW5lSm9pbiI6ICJyb3VuZCIsICJvcGFjaXR5IjogMS4wLCAicmFkaXVzIjogNSwgInN0cm9rZSI6IHRydWUsICJ3ZWlnaHQiOiAzfQogICAgICAgICAgICApLmFkZFRvKG1hcF84ODJhZmMzOTk4OTg0YWY4YTg1Yzk2OTc4N2QzYmRmOCk7CiAgICAgICAgCiAgICAKICAgICAgICB2YXIgcG9wdXBfYzc1ZGJjZmYyNzY2NGQ1YzkwODE2ODI0ZmI3NWI5ZjkgPSBMLnBvcHVwKHsibWF4V2lkdGgiOiAiMTAwJSJ9KTsKCiAgICAgICAgCiAgICAgICAgICAgIHZhciBodG1sXzUyNjAxZTE2NTNmNzRhNGNiMzM4YjZhMjA4MGE0ZmM5ID0gJChgPGRpdiBpZD0iaHRtbF81MjYwMWUxNjUzZjc0YTRjYjMzOGI2YTIwODBhNGZjOSIgc3R5bGU9IndpZHRoOiAxMDAuMCU7IGhlaWdodDogMTAwLjAlOyI+U3R1ZGlvIERpc3RyaWN0LCBFYXN0IFRvcm9udG88L2Rpdj5gKVswXTsKICAgICAgICAgICAgcG9wdXBfYzc1ZGJjZmYyNzY2NGQ1YzkwODE2ODI0ZmI3NWI5Zjkuc2V0Q29udGVudChodG1sXzUyNjAxZTE2NTNmNzRhNGNiMzM4YjZhMjA4MGE0ZmM5KTsKICAgICAgICAKCiAgICAgICAgY2lyY2xlX21hcmtlcl9iYTViNTk1ZTk0ZWE0MzljOTNiNTcyNzQ1M2M2YmY3OS5iaW5kUG9wdXAocG9wdXBfYzc1ZGJjZmYyNzY2NGQ1YzkwODE2ODI0ZmI3NWI5ZjkpCiAgICAgICAgOwoKICAgICAgICAKICAgIAogICAgCiAgICAgICAgICAgIHZhciBjaXJjbGVfbWFya2VyXzI0ZWE0MzQzMDE4MjQ4MDhhN2M3ZWRkN2RlMjMxMzg2ID0gTC5jaXJjbGVNYXJrZXIoCiAgICAgICAgICAgICAgICBbNDMuNzMzMjgyNSwgLTc5LjQxOTc0OTddLAogICAgICAgICAgICAgICAgeyJidWJibGluZ01vdXNlRXZlbnRzIjogdHJ1ZSwgImNvbG9yIjogImJsdWUiLCAiZGFzaEFycmF5IjogbnVsbCwgImRhc2hPZmZzZXQiOiBudWxsLCAiZmlsbCI6IHRydWUsICJmaWxsQ29sb3IiOiAiIzMxODZjYyIsICJmaWxsT3BhY2l0eSI6IDAuNywgImZpbGxSdWxlIjogImV2ZW5vZGQiLCAibGluZUNhcCI6ICJyb3VuZCIsICJsaW5lSm9pbiI6ICJyb3VuZCIsICJvcGFjaXR5IjogMS4wLCAicmFkaXVzIjogNSwgInN0cm9rZSI6IHRydWUsICJ3ZWlnaHQiOiAzfQogICAgICAgICAgICApLmFkZFRvKG1hcF84ODJhZmMzOTk4OTg0YWY4YTg1Yzk2OTc4N2QzYmRmOCk7CiAgICAgICAgCiAgICAKICAgICAgICB2YXIgcG9wdXBfYWI2MWQyZDMzZjYzNGI1ZDgyNGRkYzE4OGI3NmYwMTggPSBMLnBvcHVwKHsibWF4V2lkdGgiOiAiMTAwJSJ9KTsKCiAgICAgICAgCiAgICAgICAgICAgIHZhciBodG1sXzk0OGZjYTQ2M2NmMzQ3OWNhMWM2MDk3NDUyNjliYzdhID0gJChgPGRpdiBpZD0iaHRtbF85NDhmY2E0NjNjZjM0NzljYTFjNjA5NzQ1MjY5YmM3YSIgc3R5bGU9IndpZHRoOiAxMDAuMCU7IGhlaWdodDogMTAwLjAlOyI+QmVkZm9yZCBQYXJrLCBMYXdyZW5jZSBNYW5vciBFYXN0LCBOb3J0aCBZb3JrPC9kaXY+YClbMF07CiAgICAgICAgICAgIHBvcHVwX2FiNjFkMmQzM2Y2MzRiNWQ4MjRkZGMxODhiNzZmMDE4LnNldENvbnRlbnQoaHRtbF85NDhmY2E0NjNjZjM0NzljYTFjNjA5NzQ1MjY5YmM3YSk7CiAgICAgICAgCgogICAgICAgIGNpcmNsZV9tYXJrZXJfMjRlYTQzNDMwMTgyNDgwOGE3YzdlZGQ3ZGUyMzEzODYuYmluZFBvcHVwKHBvcHVwX2FiNjFkMmQzM2Y2MzRiNWQ4MjRkZGMxODhiNzZmMDE4KQogICAgICAgIDsKCiAgICAgICAgCiAgICAKICAgIAogICAgICAgICAgICB2YXIgY2lyY2xlX21hcmtlcl85MzkyZjQ2NTExZWQ0NjNjOTM4MTlhMzU5ZjcxMDgzYiA9IEwuY2lyY2xlTWFya2VyKAogICAgICAgICAgICAgICAgWzQzLjY5MTExNTgsIC03OS40NzYwMTMyOTk5OTk5OV0sCiAgICAgICAgICAgICAgICB7ImJ1YmJsaW5nTW91c2VFdmVudHMiOiB0cnVlLCAiY29sb3IiOiAiYmx1ZSIsICJkYXNoQXJyYXkiOiBudWxsLCAiZGFzaE9mZnNldCI6IG51bGwsICJmaWxsIjogdHJ1ZSwgImZpbGxDb2xvciI6ICIjMzE4NmNjIiwgImZpbGxPcGFjaXR5IjogMC43LCAiZmlsbFJ1bGUiOiAiZXZlbm9kZCIsICJsaW5lQ2FwIjogInJvdW5kIiwgImxpbmVKb2luIjogInJvdW5kIiwgIm9wYWNpdHkiOiAxLjAsICJyYWRpdXMiOiA1LCAic3Ryb2tlIjogdHJ1ZSwgIndlaWdodCI6IDN9CiAgICAgICAgICAgICkuYWRkVG8obWFwXzg4MmFmYzM5OTg5ODRhZjhhODVjOTY5Nzg3ZDNiZGY4KTsKICAgICAgICAKICAgIAogICAgICAgIHZhciBwb3B1cF8yMTYzMzlmZWJjZjE0ODE0YWRlYTkzNGI4ZDE1YzE3NiA9IEwucG9wdXAoeyJtYXhXaWR0aCI6ICIxMDAlIn0pOwoKICAgICAgICAKICAgICAgICAgICAgdmFyIGh0bWxfYjI2YjZkYWNkODkyNDZkNDg3MmRkMWMzMWRmYmFmNTcgPSAkKGA8ZGl2IGlkPSJodG1sX2IyNmI2ZGFjZDg5MjQ2ZDQ4NzJkZDFjMzFkZmJhZjU3IiBzdHlsZT0id2lkdGg6IDEwMC4wJTsgaGVpZ2h0OiAxMDAuMCU7Ij5EZWwgUmF5LCBLZWVsZXNkYWxlLCBNb3VudCBEZW5uaXMsIFNpbHZlcnRob3JuLCBZb3JrPC9kaXY+YClbMF07CiAgICAgICAgICAgIHBvcHVwXzIxNjMzOWZlYmNmMTQ4MTRhZGVhOTM0YjhkMTVjMTc2LnNldENvbnRlbnQoaHRtbF9iMjZiNmRhY2Q4OTI0NmQ0ODcyZGQxYzMxZGZiYWY1Nyk7CiAgICAgICAgCgogICAgICAgIGNpcmNsZV9tYXJrZXJfOTM5MmY0NjUxMWVkNDYzYzkzODE5YTM1OWY3MTA4M2IuYmluZFBvcHVwKHBvcHVwXzIxNjMzOWZlYmNmMTQ4MTRhZGVhOTM0YjhkMTVjMTc2KQogICAgICAgIDsKCiAgICAgICAgCiAgICAKICAgIAogICAgICAgICAgICB2YXIgY2lyY2xlX21hcmtlcl9lNDczMDAxMWYyYWM0MGE0YjQ1YmQwNzgwMzI2ZDAxZCA9IEwuY2lyY2xlTWFya2VyKAogICAgICAgICAgICAgICAgWzQzLjcyNDc2NTksIC03OS41MzIyNDI0MDAwMDAwMl0sCiAgICAgICAgICAgICAgICB7ImJ1YmJsaW5nTW91c2VFdmVudHMiOiB0cnVlLCAiY29sb3IiOiAiYmx1ZSIsICJkYXNoQXJyYXkiOiBudWxsLCAiZGFzaE9mZnNldCI6IG51bGwsICJmaWxsIjogdHJ1ZSwgImZpbGxDb2xvciI6ICIjMzE4NmNjIiwgImZpbGxPcGFjaXR5IjogMC43LCAiZmlsbFJ1bGUiOiAiZXZlbm9kZCIsICJsaW5lQ2FwIjogInJvdW5kIiwgImxpbmVKb2luIjogInJvdW5kIiwgIm9wYWNpdHkiOiAxLjAsICJyYWRpdXMiOiA1LCAic3Ryb2tlIjogdHJ1ZSwgIndlaWdodCI6IDN9CiAgICAgICAgICAgICkuYWRkVG8obWFwXzg4MmFmYzM5OTg5ODRhZjhhODVjOTY5Nzg3ZDNiZGY4KTsKICAgICAgICAKICAgIAogICAgICAgIHZhciBwb3B1cF84MmQ4OGJjNmY5YzU0ZjMwODhiOTJmZjc5MTNjZDI5NiA9IEwucG9wdXAoeyJtYXhXaWR0aCI6ICIxMDAlIn0pOwoKICAgICAgICAKICAgICAgICAgICAgdmFyIGh0bWxfZjcwY2ViYmFiYWI1NDZkOGI5ODM1YWFhOGI0ZTc4ZTkgPSAkKGA8ZGl2IGlkPSJodG1sX2Y3MGNlYmJhYmFiNTQ2ZDhiOTgzNWFhYThiNGU3OGU5IiBzdHlsZT0id2lkdGg6IDEwMC4wJTsgaGVpZ2h0OiAxMDAuMCU7Ij5FbWVyeSwgSHVtYmVybGVhLCBOb3J0aCBZb3JrPC9kaXY+YClbMF07CiAgICAgICAgICAgIHBvcHVwXzgyZDg4YmM2ZjljNTRmMzA4OGI5MmZmNzkxM2NkMjk2LnNldENvbnRlbnQoaHRtbF9mNzBjZWJiYWJhYjU0NmQ4Yjk4MzVhYWE4YjRlNzhlOSk7CiAgICAgICAgCgogICAgICAgIGNpcmNsZV9tYXJrZXJfZTQ3MzAwMTFmMmFjNDBhNGI0NWJkMDc4MDMyNmQwMWQuYmluZFBvcHVwKHBvcHVwXzgyZDg4YmM2ZjljNTRmMzA4OGI5MmZmNzkxM2NkMjk2KQogICAgICAgIDsKCiAgICAgICAgCiAgICAKICAgIAogICAgICAgICAgICB2YXIgY2lyY2xlX21hcmtlcl9kYjExZGIxMDg5NmE0Y2E2ODEwYmYxY2QzOGVlNjVlNyA9IEwuY2lyY2xlTWFya2VyKAogICAgICAgICAgICAgICAgWzQzLjY5MjY1NzAwMDAwMDAwNCwgLTc5LjI2NDg0ODFdLAogICAgICAgICAgICAgICAgeyJidWJibGluZ01vdXNlRXZlbnRzIjogdHJ1ZSwgImNvbG9yIjogImJsdWUiLCAiZGFzaEFycmF5IjogbnVsbCwgImRhc2hPZmZzZXQiOiBudWxsLCAiZmlsbCI6IHRydWUsICJmaWxsQ29sb3IiOiAiIzMxODZjYyIsICJmaWxsT3BhY2l0eSI6IDAuNywgImZpbGxSdWxlIjogImV2ZW5vZGQiLCAibGluZUNhcCI6ICJyb3VuZCIsICJsaW5lSm9pbiI6ICJyb3VuZCIsICJvcGFjaXR5IjogMS4wLCAicmFkaXVzIjogNSwgInN0cm9rZSI6IHRydWUsICJ3ZWlnaHQiOiAzfQogICAgICAgICAgICApLmFkZFRvKG1hcF84ODJhZmMzOTk4OTg0YWY4YTg1Yzk2OTc4N2QzYmRmOCk7CiAgICAgICAgCiAgICAKICAgICAgICB2YXIgcG9wdXBfYjRmMjk1OTk0NTI3NDUwNWI2MDMyNDU4NDk2NTc3NDYgPSBMLnBvcHVwKHsibWF4V2lkdGgiOiAiMTAwJSJ9KTsKCiAgICAgICAgCiAgICAgICAgICAgIHZhciBodG1sXzhlNDgxMjc0OTM3MjRhYTE4NzYzZGU5OTNlNjdhMjNhID0gJChgPGRpdiBpZD0iaHRtbF84ZTQ4MTI3NDkzNzI0YWExODc2M2RlOTkzZTY3YTIzYSIgc3R5bGU9IndpZHRoOiAxMDAuMCU7IGhlaWdodDogMTAwLjAlOyI+QmlyY2ggQ2xpZmYsIENsaWZmc2lkZSBXZXN0LCBTY2FyYm9yb3VnaDwvZGl2PmApWzBdOwogICAgICAgICAgICBwb3B1cF9iNGYyOTU5OTQ1Mjc0NTA1YjYwMzI0NTg0OTY1Nzc0Ni5zZXRDb250ZW50KGh0bWxfOGU0ODEyNzQ5MzcyNGFhMTg3NjNkZTk5M2U2N2EyM2EpOwogICAgICAgIAoKICAgICAgICBjaXJjbGVfbWFya2VyX2RiMTFkYjEwODk2YTRjYTY4MTBiZjFjZDM4ZWU2NWU3LmJpbmRQb3B1cChwb3B1cF9iNGYyOTU5OTQ1Mjc0NTA1YjYwMzI0NTg0OTY1Nzc0NikKICAgICAgICA7CgogICAgICAgIAogICAgCiAgICAKICAgICAgICAgICAgdmFyIGNpcmNsZV9tYXJrZXJfM2E3Nzc0ZmU4ODIxNGZiNGI2OGMxYTVmZGRmMjJiMjkgPSBMLmNpcmNsZU1hcmtlcigKICAgICAgICAgICAgICAgIFs0My43NzAxMTk5LCAtNzkuNDA4NDkyNzk5OTk5OTldLAogICAgICAgICAgICAgICAgeyJidWJibGluZ01vdXNlRXZlbnRzIjogdHJ1ZSwgImNvbG9yIjogImJsdWUiLCAiZGFzaEFycmF5IjogbnVsbCwgImRhc2hPZmZzZXQiOiBudWxsLCAiZmlsbCI6IHRydWUsICJmaWxsQ29sb3IiOiAiIzMxODZjYyIsICJmaWxsT3BhY2l0eSI6IDAuNywgImZpbGxSdWxlIjogImV2ZW5vZGQiLCAibGluZUNhcCI6ICJyb3VuZCIsICJsaW5lSm9pbiI6ICJyb3VuZCIsICJvcGFjaXR5IjogMS4wLCAicmFkaXVzIjogNSwgInN0cm9rZSI6IHRydWUsICJ3ZWlnaHQiOiAzfQogICAgICAgICAgICApLmFkZFRvKG1hcF84ODJhZmMzOTk4OTg0YWY4YTg1Yzk2OTc4N2QzYmRmOCk7CiAgICAgICAgCiAgICAKICAgICAgICB2YXIgcG9wdXBfNjI2MDJjMmYyNjU2NGFkOWI3NjE5NzQxODZhM2MwOTIgPSBMLnBvcHVwKHsibWF4V2lkdGgiOiAiMTAwJSJ9KTsKCiAgICAgICAgCiAgICAgICAgICAgIHZhciBodG1sXzJlMzEwYjczNDc1ZjQwZjNhNWZkYjNiNzc1MjlmZTYyID0gJChgPGRpdiBpZD0iaHRtbF8yZTMxMGI3MzQ3NWY0MGYzYTVmZGIzYjc3NTI5ZmU2MiIgc3R5bGU9IndpZHRoOiAxMDAuMCU7IGhlaWdodDogMTAwLjAlOyI+V2lsbG93ZGFsZSBTb3V0aCwgTm9ydGggWW9yazwvZGl2PmApWzBdOwogICAgICAgICAgICBwb3B1cF82MjYwMmMyZjI2NTY0YWQ5Yjc2MTk3NDE4NmEzYzA5Mi5zZXRDb250ZW50KGh0bWxfMmUzMTBiNzM0NzVmNDBmM2E1ZmRiM2I3NzUyOWZlNjIpOwogICAgICAgIAoKICAgICAgICBjaXJjbGVfbWFya2VyXzNhNzc3NGZlODgyMTRmYjRiNjhjMWE1ZmRkZjIyYjI5LmJpbmRQb3B1cChwb3B1cF82MjYwMmMyZjI2NTY0YWQ5Yjc2MTk3NDE4NmEzYzA5MikKICAgICAgICA7CgogICAgICAgIAogICAgCiAgICAKICAgICAgICAgICAgdmFyIGNpcmNsZV9tYXJrZXJfNmE4ZjkzOGNjYmY2NDUwNjg4YzVmYjk2YWNjZjhjZjYgPSBMLmNpcmNsZU1hcmtlcigKICAgICAgICAgICAgICAgIFs0My43NjE2MzEzLCAtNzkuNTIwOTk5NDAwMDAwMDFdLAogICAgICAgICAgICAgICAgeyJidWJibGluZ01vdXNlRXZlbnRzIjogdHJ1ZSwgImNvbG9yIjogImJsdWUiLCAiZGFzaEFycmF5IjogbnVsbCwgImRhc2hPZmZzZXQiOiBudWxsLCAiZmlsbCI6IHRydWUsICJmaWxsQ29sb3IiOiAiIzMxODZjYyIsICJmaWxsT3BhY2l0eSI6IDAuNywgImZpbGxSdWxlIjogImV2ZW5vZGQiLCAibGluZUNhcCI6ICJyb3VuZCIsICJsaW5lSm9pbiI6ICJyb3VuZCIsICJvcGFjaXR5IjogMS4wLCAicmFkaXVzIjogNSwgInN0cm9rZSI6IHRydWUsICJ3ZWlnaHQiOiAzfQogICAgICAgICAgICApLmFkZFRvKG1hcF84ODJhZmMzOTk4OTg0YWY4YTg1Yzk2OTc4N2QzYmRmOCk7CiAgICAgICAgCiAgICAKICAgICAgICB2YXIgcG9wdXBfMjdlZTMwNWVkYjc0NDIxNzg2MWFmYjMyNmJjZjA4OTUgPSBMLnBvcHVwKHsibWF4V2lkdGgiOiAiMTAwJSJ9KTsKCiAgICAgICAgCiAgICAgICAgICAgIHZhciBodG1sX2ZkZTA5YjZkNjdlOTQ0Yjk4ZGZkODY4ZGRkZjVjYzM2ID0gJChgPGRpdiBpZD0iaHRtbF9mZGUwOWI2ZDY3ZTk0NGI5OGRmZDg2OGRkZGY1Y2MzNiIgc3R5bGU9IndpZHRoOiAxMDAuMCU7IGhlaWdodDogMTAwLjAlOyI+RG93bnN2aWV3IE5vcnRod2VzdCwgTm9ydGggWW9yazwvZGl2PmApWzBdOwogICAgICAgICAgICBwb3B1cF8yN2VlMzA1ZWRiNzQ0MjE3ODYxYWZiMzI2YmNmMDg5NS5zZXRDb250ZW50KGh0bWxfZmRlMDliNmQ2N2U5NDRiOThkZmQ4NjhkZGRmNWNjMzYpOwogICAgICAgIAoKICAgICAgICBjaXJjbGVfbWFya2VyXzZhOGY5MzhjY2JmNjQ1MDY4OGM1ZmI5NmFjY2Y4Y2Y2LmJpbmRQb3B1cChwb3B1cF8yN2VlMzA1ZWRiNzQ0MjE3ODYxYWZiMzI2YmNmMDg5NSkKICAgICAgICA7CgogICAgICAgIAogICAgCiAgICAKICAgICAgICAgICAgdmFyIGNpcmNsZV9tYXJrZXJfOGM4N2NiZmQxZGVhNDA0Y2IwMDRkZjQyODJmYzFiOTcgPSBMLmNpcmNsZU1hcmtlcigKICAgICAgICAgICAgICAgIFs0My43MjgwMjA1LCAtNzkuMzg4NzkwMV0sCiAgICAgICAgICAgICAgICB7ImJ1YmJsaW5nTW91c2VFdmVudHMiOiB0cnVlLCAiY29sb3IiOiAiYmx1ZSIsICJkYXNoQXJyYXkiOiBudWxsLCAiZGFzaE9mZnNldCI6IG51bGwsICJmaWxsIjogdHJ1ZSwgImZpbGxDb2xvciI6ICIjMzE4NmNjIiwgImZpbGxPcGFjaXR5IjogMC43LCAiZmlsbFJ1bGUiOiAiZXZlbm9kZCIsICJsaW5lQ2FwIjogInJvdW5kIiwgImxpbmVKb2luIjogInJvdW5kIiwgIm9wYWNpdHkiOiAxLjAsICJyYWRpdXMiOiA1LCAic3Ryb2tlIjogdHJ1ZSwgIndlaWdodCI6IDN9CiAgICAgICAgICAgICkuYWRkVG8obWFwXzg4MmFmYzM5OTg5ODRhZjhhODVjOTY5Nzg3ZDNiZGY4KTsKICAgICAgICAKICAgIAogICAgICAgIHZhciBwb3B1cF83NTJiMzk3NDdjYTk0Yjg0OWVhMmM0NmIzMDQ0YjY5YyA9IEwucG9wdXAoeyJtYXhXaWR0aCI6ICIxMDAlIn0pOwoKICAgICAgICAKICAgICAgICAgICAgdmFyIGh0bWxfZWFhNDlmMTFhMDg0NDk3OGE3NjhlMDliNmIwODdkNWYgPSAkKGA8ZGl2IGlkPSJodG1sX2VhYTQ5ZjExYTA4NDQ5NzhhNzY4ZTA5YjZiMDg3ZDVmIiBzdHlsZT0id2lkdGg6IDEwMC4wJTsgaGVpZ2h0OiAxMDAuMCU7Ij5MYXdyZW5jZSBQYXJrLCBDZW50cmFsIFRvcm9udG88L2Rpdj5gKVswXTsKICAgICAgICAgICAgcG9wdXBfNzUyYjM5NzQ3Y2E5NGI4NDllYTJjNDZiMzA0NGI2OWMuc2V0Q29udGVudChodG1sX2VhYTQ5ZjExYTA4NDQ5NzhhNzY4ZTA5YjZiMDg3ZDVmKTsKICAgICAgICAKCiAgICAgICAgY2lyY2xlX21hcmtlcl84Yzg3Y2JmZDFkZWE0MDRjYjAwNGRmNDI4MmZjMWI5Ny5iaW5kUG9wdXAocG9wdXBfNzUyYjM5NzQ3Y2E5NGI4NDllYTJjNDZiMzA0NGI2OWMpCiAgICAgICAgOwoKICAgICAgICAKICAgIAogICAgCiAgICAgICAgICAgIHZhciBjaXJjbGVfbWFya2VyXzVlZGYzN2JjM2NhNjQ3ZWQ5Mzk1MDEyYzRjZTkxNjA1ID0gTC5jaXJjbGVNYXJrZXIoCiAgICAgICAgICAgICAgICBbNDMuNzExNjk0OCwgLTc5LjQxNjkzNTU5OTk5OTk5XSwKICAgICAgICAgICAgICAgIHsiYnViYmxpbmdNb3VzZUV2ZW50cyI6IHRydWUsICJjb2xvciI6ICJibHVlIiwgImRhc2hBcnJheSI6IG51bGwsICJkYXNoT2Zmc2V0IjogbnVsbCwgImZpbGwiOiB0cnVlLCAiZmlsbENvbG9yIjogIiMzMTg2Y2MiLCAiZmlsbE9wYWNpdHkiOiAwLjcsICJmaWxsUnVsZSI6ICJldmVub2RkIiwgImxpbmVDYXAiOiAicm91bmQiLCAibGluZUpvaW4iOiAicm91bmQiLCAib3BhY2l0eSI6IDEuMCwgInJhZGl1cyI6IDUsICJzdHJva2UiOiB0cnVlLCAid2VpZ2h0IjogM30KICAgICAgICAgICAgKS5hZGRUbyhtYXBfODgyYWZjMzk5ODk4NGFmOGE4NWM5Njk3ODdkM2JkZjgpOwogICAgICAgIAogICAgCiAgICAgICAgdmFyIHBvcHVwXzAxMTcwNzBjMmY2MjRlMmJhZjBjMmNkYmEyNTYyMzI5ID0gTC5wb3B1cCh7Im1heFdpZHRoIjogIjEwMCUifSk7CgogICAgICAgIAogICAgICAgICAgICB2YXIgaHRtbF8yNWUwNjRmYmVmZWM0Nzc0YjVjZTU3ZGE4MTk5ZDJjZSA9ICQoYDxkaXYgaWQ9Imh0bWxfMjVlMDY0ZmJlZmVjNDc3NGI1Y2U1N2RhODE5OWQyY2UiIHN0eWxlPSJ3aWR0aDogMTAwLjAlOyBoZWlnaHQ6IDEwMC4wJTsiPlJvc2VsYXduLCBDZW50cmFsIFRvcm9udG88L2Rpdj5gKVswXTsKICAgICAgICAgICAgcG9wdXBfMDExNzA3MGMyZjYyNGUyYmFmMGMyY2RiYTI1NjIzMjkuc2V0Q29udGVudChodG1sXzI1ZTA2NGZiZWZlYzQ3NzRiNWNlNTdkYTgxOTlkMmNlKTsKICAgICAgICAKCiAgICAgICAgY2lyY2xlX21hcmtlcl81ZWRmMzdiYzNjYTY0N2VkOTM5NTAxMmM0Y2U5MTYwNS5iaW5kUG9wdXAocG9wdXBfMDExNzA3MGMyZjYyNGUyYmFmMGMyY2RiYTI1NjIzMjkpCiAgICAgICAgOwoKICAgICAgICAKICAgIAogICAgCiAgICAgICAgICAgIHZhciBjaXJjbGVfbWFya2VyXzIyYzNkZWVkMDYxZjQ3MDNhYzk5OTA1MjQ2OTJlZmE4ID0gTC5jaXJjbGVNYXJrZXIoCiAgICAgICAgICAgICAgICBbNDMuNjczMTg1Mjk5OTk5OTksIC03OS40ODcyNjE5MDAwMDAwMV0sCiAgICAgICAgICAgICAgICB7ImJ1YmJsaW5nTW91c2VFdmVudHMiOiB0cnVlLCAiY29sb3IiOiAiYmx1ZSIsICJkYXNoQXJyYXkiOiBudWxsLCAiZGFzaE9mZnNldCI6IG51bGwsICJmaWxsIjogdHJ1ZSwgImZpbGxDb2xvciI6ICIjMzE4NmNjIiwgImZpbGxPcGFjaXR5IjogMC43LCAiZmlsbFJ1bGUiOiAiZXZlbm9kZCIsICJsaW5lQ2FwIjogInJvdW5kIiwgImxpbmVKb2luIjogInJvdW5kIiwgIm9wYWNpdHkiOiAxLjAsICJyYWRpdXMiOiA1LCAic3Ryb2tlIjogdHJ1ZSwgIndlaWdodCI6IDN9CiAgICAgICAgICAgICkuYWRkVG8obWFwXzg4MmFmYzM5OTg5ODRhZjhhODVjOTY5Nzg3ZDNiZGY4KTsKICAgICAgICAKICAgIAogICAgICAgIHZhciBwb3B1cF85MTBmMjI5OGNhMDg0MmQ5ODNlZGZmMDAxOTYxZGIwNiA9IEwucG9wdXAoeyJtYXhXaWR0aCI6ICIxMDAlIn0pOwoKICAgICAgICAKICAgICAgICAgICAgdmFyIGh0bWxfMjE1Mjc0MGM5YThkNDBkYmJhODk3ZTkwMTk2ZGExMWMgPSAkKGA8ZGl2IGlkPSJodG1sXzIxNTI3NDBjOWE4ZDQwZGJiYTg5N2U5MDE5NmRhMTFjIiBzdHlsZT0id2lkdGg6IDEwMC4wJTsgaGVpZ2h0OiAxMDAuMCU7Ij5UaGUgSnVuY3Rpb24gTm9ydGgsIFJ1bm55bWVkZSwgWW9yazwvZGl2PmApWzBdOwogICAgICAgICAgICBwb3B1cF85MTBmMjI5OGNhMDg0MmQ5ODNlZGZmMDAxOTYxZGIwNi5zZXRDb250ZW50KGh0bWxfMjE1Mjc0MGM5YThkNDBkYmJhODk3ZTkwMTk2ZGExMWMpOwogICAgICAgIAoKICAgICAgICBjaXJjbGVfbWFya2VyXzIyYzNkZWVkMDYxZjQ3MDNhYzk5OTA1MjQ2OTJlZmE4LmJpbmRQb3B1cChwb3B1cF85MTBmMjI5OGNhMDg0MmQ5ODNlZGZmMDAxOTYxZGIwNikKICAgICAgICA7CgogICAgICAgIAogICAgCiAgICAKICAgICAgICAgICAgdmFyIGNpcmNsZV9tYXJrZXJfMWZlOTI2YWVjY2QzNGNmOWFkZjI4NGY5NDczNjNjNmUgPSBMLmNpcmNsZU1hcmtlcigKICAgICAgICAgICAgICAgIFs0My43MDY4NzYsIC03OS41MTgxODg0MDAwMDAwMV0sCiAgICAgICAgICAgICAgICB7ImJ1YmJsaW5nTW91c2VFdmVudHMiOiB0cnVlLCAiY29sb3IiOiAiYmx1ZSIsICJkYXNoQXJyYXkiOiBudWxsLCAiZGFzaE9mZnNldCI6IG51bGwsICJmaWxsIjogdHJ1ZSwgImZpbGxDb2xvciI6ICIjMzE4NmNjIiwgImZpbGxPcGFjaXR5IjogMC43LCAiZmlsbFJ1bGUiOiAiZXZlbm9kZCIsICJsaW5lQ2FwIjogInJvdW5kIiwgImxpbmVKb2luIjogInJvdW5kIiwgIm9wYWNpdHkiOiAxLjAsICJyYWRpdXMiOiA1LCAic3Ryb2tlIjogdHJ1ZSwgIndlaWdodCI6IDN9CiAgICAgICAgICAgICkuYWRkVG8obWFwXzg4MmFmYzM5OTg5ODRhZjhhODVjOTY5Nzg3ZDNiZGY4KTsKICAgICAgICAKICAgIAogICAgICAgIHZhciBwb3B1cF84NjBiNDAxMWMzMzA0NGUwOTg0Nzc3NzkwM2E0MDBkZiA9IEwucG9wdXAoeyJtYXhXaWR0aCI6ICIxMDAlIn0pOwoKICAgICAgICAKICAgICAgICAgICAgdmFyIGh0bWxfZDM3NzU4NWVhM2RlNGVjOTgxMjEwNDc3MjY3ODY2ZGUgPSAkKGA8ZGl2IGlkPSJodG1sX2QzNzc1ODVlYTNkZTRlYzk4MTIxMDQ3NzI2Nzg2NmRlIiBzdHlsZT0id2lkdGg6IDEwMC4wJTsgaGVpZ2h0OiAxMDAuMCU7Ij5XZXN0b24sIFlvcms8L2Rpdj5gKVswXTsKICAgICAgICAgICAgcG9wdXBfODYwYjQwMTFjMzMwNDRlMDk4NDc3Nzc5MDNhNDAwZGYuc2V0Q29udGVudChodG1sX2QzNzc1ODVlYTNkZTRlYzk4MTIxMDQ3NzI2Nzg2NmRlKTsKICAgICAgICAKCiAgICAgICAgY2lyY2xlX21hcmtlcl8xZmU5MjZhZWNjZDM0Y2Y5YWRmMjg0Zjk0NzM2M2M2ZS5iaW5kUG9wdXAocG9wdXBfODYwYjQwMTFjMzMwNDRlMDk4NDc3Nzc5MDNhNDAwZGYpCiAgICAgICAgOwoKICAgICAgICAKICAgIAogICAgCiAgICAgICAgICAgIHZhciBjaXJjbGVfbWFya2VyXzNlYThmOTk1OTc3MjQwMzc4MzkyZDg4YTQ0MGZiYmI4ID0gTC5jaXJjbGVNYXJrZXIoCiAgICAgICAgICAgICAgICBbNDMuNzU3NDA5NiwgLTc5LjI3MzMwNDAwMDAwMDAxXSwKICAgICAgICAgICAgICAgIHsiYnViYmxpbmdNb3VzZUV2ZW50cyI6IHRydWUsICJjb2xvciI6ICJibHVlIiwgImRhc2hBcnJheSI6IG51bGwsICJkYXNoT2Zmc2V0IjogbnVsbCwgImZpbGwiOiB0cnVlLCAiZmlsbENvbG9yIjogIiMzMTg2Y2MiLCAiZmlsbE9wYWNpdHkiOiAwLjcsICJmaWxsUnVsZSI6ICJldmVub2RkIiwgImxpbmVDYXAiOiAicm91bmQiLCAibGluZUpvaW4iOiAicm91bmQiLCAib3BhY2l0eSI6IDEuMCwgInJhZGl1cyI6IDUsICJzdHJva2UiOiB0cnVlLCAid2VpZ2h0IjogM30KICAgICAgICAgICAgKS5hZGRUbyhtYXBfODgyYWZjMzk5ODk4NGFmOGE4NWM5Njk3ODdkM2JkZjgpOwogICAgICAgIAogICAgCiAgICAgICAgdmFyIHBvcHVwXzY3YzQ3ZmZhOTA4YzQ3NGQ4ZTE2NjQyYjg1YmY1YjY2ID0gTC5wb3B1cCh7Im1heFdpZHRoIjogIjEwMCUifSk7CgogICAgICAgIAogICAgICAgICAgICB2YXIgaHRtbF83ZDdmNzI5NjAwNzM0MmQyOGY4OTNjNzdmZDRkYjUwNiA9ICQoYDxkaXYgaWQ9Imh0bWxfN2Q3ZjcyOTYwMDczNDJkMjhmODkzYzc3ZmQ0ZGI1MDYiIHN0eWxlPSJ3aWR0aDogMTAwLjAlOyBoZWlnaHQ6IDEwMC4wJTsiPkRvcnNldCBQYXJrLCBTY2FyYm9yb3VnaCBUb3duIENlbnRyZSwgV2V4Zm9yZCBIZWlnaHRzLCBTY2FyYm9yb3VnaDwvZGl2PmApWzBdOwogICAgICAgICAgICBwb3B1cF82N2M0N2ZmYTkwOGM0NzRkOGUxNjY0MmI4NWJmNWI2Ni5zZXRDb250ZW50KGh0bWxfN2Q3ZjcyOTYwMDczNDJkMjhmODkzYzc3ZmQ0ZGI1MDYpOwogICAgICAgIAoKICAgICAgICBjaXJjbGVfbWFya2VyXzNlYThmOTk1OTc3MjQwMzc4MzkyZDg4YTQ0MGZiYmI4LmJpbmRQb3B1cChwb3B1cF82N2M0N2ZmYTkwOGM0NzRkOGUxNjY0MmI4NWJmNWI2NikKICAgICAgICA7CgogICAgICAgIAogICAgCiAgICAKICAgICAgICAgICAgdmFyIGNpcmNsZV9tYXJrZXJfYzEyMjUzM2Q1YjZhNDVkOGI4MTAwMzZjOTg1ZDdkY2MgPSBMLmNpcmNsZU1hcmtlcigKICAgICAgICAgICAgICAgIFs0My43NTI3NTgyOTk5OTk5OTYsIC03OS40MDAwNDkzXSwKICAgICAgICAgICAgICAgIHsiYnViYmxpbmdNb3VzZUV2ZW50cyI6IHRydWUsICJjb2xvciI6ICJibHVlIiwgImRhc2hBcnJheSI6IG51bGwsICJkYXNoT2Zmc2V0IjogbnVsbCwgImZpbGwiOiB0cnVlLCAiZmlsbENvbG9yIjogIiMzMTg2Y2MiLCAiZmlsbE9wYWNpdHkiOiAwLjcsICJmaWxsUnVsZSI6ICJldmVub2RkIiwgImxpbmVDYXAiOiAicm91bmQiLCAibGluZUpvaW4iOiAicm91bmQiLCAib3BhY2l0eSI6IDEuMCwgInJhZGl1cyI6IDUsICJzdHJva2UiOiB0cnVlLCAid2VpZ2h0IjogM30KICAgICAgICAgICAgKS5hZGRUbyhtYXBfODgyYWZjMzk5ODk4NGFmOGE4NWM5Njk3ODdkM2JkZjgpOwogICAgICAgIAogICAgCiAgICAgICAgdmFyIHBvcHVwXzgzNjM0Y2UxYjczZjRjNjI5ZWExNGMxMGM2NWM3MzZmID0gTC5wb3B1cCh7Im1heFdpZHRoIjogIjEwMCUifSk7CgogICAgICAgIAogICAgICAgICAgICB2YXIgaHRtbF9kZGJiYWYwZjI4MDc0NDAxYjMxMmFhNjIyZDI5OTQ0ZiA9ICQoYDxkaXYgaWQ9Imh0bWxfZGRiYmFmMGYyODA3NDQwMWIzMTJhYTYyMmQyOTk0NGYiIHN0eWxlPSJ3aWR0aDogMTAwLjAlOyBoZWlnaHQ6IDEwMC4wJTsiPllvcmsgTWlsbHMgV2VzdCwgTm9ydGggWW9yazwvZGl2PmApWzBdOwogICAgICAgICAgICBwb3B1cF84MzYzNGNlMWI3M2Y0YzYyOWVhMTRjMTBjNjVjNzM2Zi5zZXRDb250ZW50KGh0bWxfZGRiYmFmMGYyODA3NDQwMWIzMTJhYTYyMmQyOTk0NGYpOwogICAgICAgIAoKICAgICAgICBjaXJjbGVfbWFya2VyX2MxMjI1MzNkNWI2YTQ1ZDhiODEwMDM2Yzk4NWQ3ZGNjLmJpbmRQb3B1cChwb3B1cF84MzYzNGNlMWI3M2Y0YzYyOWVhMTRjMTBjNjVjNzM2ZikKICAgICAgICA7CgogICAgICAgIAogICAgCiAgICAKICAgICAgICAgICAgdmFyIGNpcmNsZV9tYXJrZXJfNTJjNjk2NzdiOTQ3NDVjZWIxYjBjZjg3Y2ExZTVjYTcgPSBMLmNpcmNsZU1hcmtlcigKICAgICAgICAgICAgICAgIFs0My43MTI3NTExLCAtNzkuMzkwMTk3NV0sCiAgICAgICAgICAgICAgICB7ImJ1YmJsaW5nTW91c2VFdmVudHMiOiB0cnVlLCAiY29sb3IiOiAiYmx1ZSIsICJkYXNoQXJyYXkiOiBudWxsLCAiZGFzaE9mZnNldCI6IG51bGwsICJmaWxsIjogdHJ1ZSwgImZpbGxDb2xvciI6ICIjMzE4NmNjIiwgImZpbGxPcGFjaXR5IjogMC43LCAiZmlsbFJ1bGUiOiAiZXZlbm9kZCIsICJsaW5lQ2FwIjogInJvdW5kIiwgImxpbmVKb2luIjogInJvdW5kIiwgIm9wYWNpdHkiOiAxLjAsICJyYWRpdXMiOiA1LCAic3Ryb2tlIjogdHJ1ZSwgIndlaWdodCI6IDN9CiAgICAgICAgICAgICkuYWRkVG8obWFwXzg4MmFmYzM5OTg5ODRhZjhhODVjOTY5Nzg3ZDNiZGY4KTsKICAgICAgICAKICAgIAogICAgICAgIHZhciBwb3B1cF82MTg1OWE2MzdhM2Q0ZWQ3OTBhZjZhZjEzMmU3ZTRmNSA9IEwucG9wdXAoeyJtYXhXaWR0aCI6ICIxMDAlIn0pOwoKICAgICAgICAKICAgICAgICAgICAgdmFyIGh0bWxfMTlmMjI1ZTY1ZDM1NDIyOTk3NDEzN2MxMTdjNGVkYzIgPSAkKGA8ZGl2IGlkPSJodG1sXzE5ZjIyNWU2NWQzNTQyMjk5NzQxMzdjMTE3YzRlZGMyIiBzdHlsZT0id2lkdGg6IDEwMC4wJTsgaGVpZ2h0OiAxMDAuMCU7Ij5EYXZpc3ZpbGxlIE5vcnRoLCBDZW50cmFsIFRvcm9udG88L2Rpdj5gKVswXTsKICAgICAgICAgICAgcG9wdXBfNjE4NTlhNjM3YTNkNGVkNzkwYWY2YWYxMzJlN2U0ZjUuc2V0Q29udGVudChodG1sXzE5ZjIyNWU2NWQzNTQyMjk5NzQxMzdjMTE3YzRlZGMyKTsKICAgICAgICAKCiAgICAgICAgY2lyY2xlX21hcmtlcl81MmM2OTY3N2I5NDc0NWNlYjFiMGNmODdjYTFlNWNhNy5iaW5kUG9wdXAocG9wdXBfNjE4NTlhNjM3YTNkNGVkNzkwYWY2YWYxMzJlN2U0ZjUpCiAgICAgICAgOwoKICAgICAgICAKICAgIAogICAgCiAgICAgICAgICAgIHZhciBjaXJjbGVfbWFya2VyX2MxYTk0MmExZmMyNjQ1OWI4YzAwNDA3MDc4YTBiZTQyID0gTC5jaXJjbGVNYXJrZXIoCiAgICAgICAgICAgICAgICBbNDMuNjk2OTQ3NiwgLTc5LjQxMTMwNzIwMDAwMDAxXSwKICAgICAgICAgICAgICAgIHsiYnViYmxpbmdNb3VzZUV2ZW50cyI6IHRydWUsICJjb2xvciI6ICJibHVlIiwgImRhc2hBcnJheSI6IG51bGwsICJkYXNoT2Zmc2V0IjogbnVsbCwgImZpbGwiOiB0cnVlLCAiZmlsbENvbG9yIjogIiMzMTg2Y2MiLCAiZmlsbE9wYWNpdHkiOiAwLjcsICJmaWxsUnVsZSI6ICJldmVub2RkIiwgImxpbmVDYXAiOiAicm91bmQiLCAibGluZUpvaW4iOiAicm91bmQiLCAib3BhY2l0eSI6IDEuMCwgInJhZGl1cyI6IDUsICJzdHJva2UiOiB0cnVlLCAid2VpZ2h0IjogM30KICAgICAgICAgICAgKS5hZGRUbyhtYXBfODgyYWZjMzk5ODk4NGFmOGE4NWM5Njk3ODdkM2JkZjgpOwogICAgICAgIAogICAgCiAgICAgICAgdmFyIHBvcHVwXzU1YjVhZWZhNzYxOTQ5YjY5ZGY4YTFhZjNiMjVkZjEwID0gTC5wb3B1cCh7Im1heFdpZHRoIjogIjEwMCUifSk7CgogICAgICAgIAogICAgICAgICAgICB2YXIgaHRtbF8yZDRjNTQyMTczNzQ0MzhiODJkNWQwYjM0ZDcyODY0MSA9ICQoYDxkaXYgaWQ9Imh0bWxfMmQ0YzU0MjE3Mzc0NDM4YjgyZDVkMGIzNGQ3Mjg2NDEiIHN0eWxlPSJ3aWR0aDogMTAwLjAlOyBoZWlnaHQ6IDEwMC4wJTsiPkZvcmVzdCBIaWxsIE5vcnRoLCBGb3Jlc3QgSGlsbCBXZXN0LCBDZW50cmFsIFRvcm9udG88L2Rpdj5gKVswXTsKICAgICAgICAgICAgcG9wdXBfNTViNWFlZmE3NjE5NDliNjlkZjhhMWFmM2IyNWRmMTAuc2V0Q29udGVudChodG1sXzJkNGM1NDIxNzM3NDQzOGI4MmQ1ZDBiMzRkNzI4NjQxKTsKICAgICAgICAKCiAgICAgICAgY2lyY2xlX21hcmtlcl9jMWE5NDJhMWZjMjY0NTliOGMwMDQwNzA3OGEwYmU0Mi5iaW5kUG9wdXAocG9wdXBfNTViNWFlZmE3NjE5NDliNjlkZjhhMWFmM2IyNWRmMTApCiAgICAgICAgOwoKICAgICAgICAKICAgIAogICAgCiAgICAgICAgICAgIHZhciBjaXJjbGVfbWFya2VyX2ZiYTY4ZmFkZTE2MTRkZGFiNDA2YzY1OWY3M2M1NWQ5ID0gTC5jaXJjbGVNYXJrZXIoCiAgICAgICAgICAgICAgICBbNDMuNjYxNjA4MywgLTc5LjQ2NDc2MzI5OTk5OTk5XSwKICAgICAgICAgICAgICAgIHsiYnViYmxpbmdNb3VzZUV2ZW50cyI6IHRydWUsICJjb2xvciI6ICJibHVlIiwgImRhc2hBcnJheSI6IG51bGwsICJkYXNoT2Zmc2V0IjogbnVsbCwgImZpbGwiOiB0cnVlLCAiZmlsbENvbG9yIjogIiMzMTg2Y2MiLCAiZmlsbE9wYWNpdHkiOiAwLjcsICJmaWxsUnVsZSI6ICJldmVub2RkIiwgImxpbmVDYXAiOiAicm91bmQiLCAibGluZUpvaW4iOiAicm91bmQiLCAib3BhY2l0eSI6IDEuMCwgInJhZGl1cyI6IDUsICJzdHJva2UiOiB0cnVlLCAid2VpZ2h0IjogM30KICAgICAgICAgICAgKS5hZGRUbyhtYXBfODgyYWZjMzk5ODk4NGFmOGE4NWM5Njk3ODdkM2JkZjgpOwogICAgICAgIAogICAgCiAgICAgICAgdmFyIHBvcHVwXzlhYjJjZmFmYzhiZTRiMGRhY2EwMTVjYTU3MGQ4MDljID0gTC5wb3B1cCh7Im1heFdpZHRoIjogIjEwMCUifSk7CgogICAgICAgIAogICAgICAgICAgICB2YXIgaHRtbF85MGNlOTg2ODAxY2I0MTc3OTFmZTNmYjU5NzVlNmFlNiA9ICQoYDxkaXYgaWQ9Imh0bWxfOTBjZTk4NjgwMWNiNDE3NzkxZmUzZmI1OTc1ZTZhZTYiIHN0eWxlPSJ3aWR0aDogMTAwLjAlOyBoZWlnaHQ6IDEwMC4wJTsiPkhpZ2ggUGFyaywgVGhlIEp1bmN0aW9uIFNvdXRoLCBXZXN0IFRvcm9udG88L2Rpdj5gKVswXTsKICAgICAgICAgICAgcG9wdXBfOWFiMmNmYWZjOGJlNGIwZGFjYTAxNWNhNTcwZDgwOWMuc2V0Q29udGVudChodG1sXzkwY2U5ODY4MDFjYjQxNzc5MWZlM2ZiNTk3NWU2YWU2KTsKICAgICAgICAKCiAgICAgICAgY2lyY2xlX21hcmtlcl9mYmE2OGZhZGUxNjE0ZGRhYjQwNmM2NTlmNzNjNTVkOS5iaW5kUG9wdXAocG9wdXBfOWFiMmNmYWZjOGJlNGIwZGFjYTAxNWNhNTcwZDgwOWMpCiAgICAgICAgOwoKICAgICAgICAKICAgIAogICAgCiAgICAgICAgICAgIHZhciBjaXJjbGVfbWFya2VyX2JiNzc4OTcxZDQ4ZjQ4ZjNhNWYxMDcxNGI1NzZjZjFiID0gTC5jaXJjbGVNYXJrZXIoCiAgICAgICAgICAgICAgICBbNDMuNjk2MzE5LCAtNzkuNTMyMjQyNDAwMDAwMDJdLAogICAgICAgICAgICAgICAgeyJidWJibGluZ01vdXNlRXZlbnRzIjogdHJ1ZSwgImNvbG9yIjogImJsdWUiLCAiZGFzaEFycmF5IjogbnVsbCwgImRhc2hPZmZzZXQiOiBudWxsLCAiZmlsbCI6IHRydWUsICJmaWxsQ29sb3IiOiAiIzMxODZjYyIsICJmaWxsT3BhY2l0eSI6IDAuNywgImZpbGxSdWxlIjogImV2ZW5vZGQiLCAibGluZUNhcCI6ICJyb3VuZCIsICJsaW5lSm9pbiI6ICJyb3VuZCIsICJvcGFjaXR5IjogMS4wLCAicmFkaXVzIjogNSwgInN0cm9rZSI6IHRydWUsICJ3ZWlnaHQiOiAzfQogICAgICAgICAgICApLmFkZFRvKG1hcF84ODJhZmMzOTk4OTg0YWY4YTg1Yzk2OTc4N2QzYmRmOCk7CiAgICAgICAgCiAgICAKICAgICAgICB2YXIgcG9wdXBfOTZlM2Y2MjIwNzg0NDIxNTlhOTFkMGJkNDBiMDJhZGUgPSBMLnBvcHVwKHsibWF4V2lkdGgiOiAiMTAwJSJ9KTsKCiAgICAgICAgCiAgICAgICAgICAgIHZhciBodG1sX2ZmYWVmYTJlZjIxNjQ3MzlhOWE2ZjNkMTQyYWUyODQ3ID0gJChgPGRpdiBpZD0iaHRtbF9mZmFlZmEyZWYyMTY0NzM5YTlhNmYzZDE0MmFlMjg0NyIgc3R5bGU9IndpZHRoOiAxMDAuMCU7IGhlaWdodDogMTAwLjAlOyI+V2VzdG1vdW50LCBFdG9iaWNva2U8L2Rpdj5gKVswXTsKICAgICAgICAgICAgcG9wdXBfOTZlM2Y2MjIwNzg0NDIxNTlhOTFkMGJkNDBiMDJhZGUuc2V0Q29udGVudChodG1sX2ZmYWVmYTJlZjIxNjQ3MzlhOWE2ZjNkMTQyYWUyODQ3KTsKICAgICAgICAKCiAgICAgICAgY2lyY2xlX21hcmtlcl9iYjc3ODk3MWQ0OGY0OGYzYTVmMTA3MTRiNTc2Y2YxYi5iaW5kUG9wdXAocG9wdXBfOTZlM2Y2MjIwNzg0NDIxNTlhOTFkMGJkNDBiMDJhZGUpCiAgICAgICAgOwoKICAgICAgICAKICAgIAogICAgCiAgICAgICAgICAgIHZhciBjaXJjbGVfbWFya2VyXzA5NTMzYTUwZDcwNzRmNWRhYWZkNmFkOWUwODFmYTMyID0gTC5jaXJjbGVNYXJrZXIoCiAgICAgICAgICAgICAgICBbNDMuNzUwMDcxNTAwMDAwMDA0LCAtNzkuMjk1ODQ5MV0sCiAgICAgICAgICAgICAgICB7ImJ1YmJsaW5nTW91c2VFdmVudHMiOiB0cnVlLCAiY29sb3IiOiAiYmx1ZSIsICJkYXNoQXJyYXkiOiBudWxsLCAiZGFzaE9mZnNldCI6IG51bGwsICJmaWxsIjogdHJ1ZSwgImZpbGxDb2xvciI6ICIjMzE4NmNjIiwgImZpbGxPcGFjaXR5IjogMC43LCAiZmlsbFJ1bGUiOiAiZXZlbm9kZCIsICJsaW5lQ2FwIjogInJvdW5kIiwgImxpbmVKb2luIjogInJvdW5kIiwgIm9wYWNpdHkiOiAxLjAsICJyYWRpdXMiOiA1LCAic3Ryb2tlIjogdHJ1ZSwgIndlaWdodCI6IDN9CiAgICAgICAgICAgICkuYWRkVG8obWFwXzg4MmFmYzM5OTg5ODRhZjhhODVjOTY5Nzg3ZDNiZGY4KTsKICAgICAgICAKICAgIAogICAgICAgIHZhciBwb3B1cF80N2E5ZGNiNGFmODM0MmM5OTk3ZjdmZjgwM2VmY2M1MiA9IEwucG9wdXAoeyJtYXhXaWR0aCI6ICIxMDAlIn0pOwoKICAgICAgICAKICAgICAgICAgICAgdmFyIGh0bWxfNjgyNGQwZjc3OWE2NGE4MDk1ODcwNWZiNTlkY2MwYzEgPSAkKGA8ZGl2IGlkPSJodG1sXzY4MjRkMGY3NzlhNjRhODA5NTg3MDVmYjU5ZGNjMGMxIiBzdHlsZT0id2lkdGg6IDEwMC4wJTsgaGVpZ2h0OiAxMDAuMCU7Ij5NYXJ5dmFsZSwgV2V4Zm9yZCwgU2NhcmJvcm91Z2g8L2Rpdj5gKVswXTsKICAgICAgICAgICAgcG9wdXBfNDdhOWRjYjRhZjgzNDJjOTk5N2Y3ZmY4MDNlZmNjNTIuc2V0Q29udGVudChodG1sXzY4MjRkMGY3NzlhNjRhODA5NTg3MDVmYjU5ZGNjMGMxKTsKICAgICAgICAKCiAgICAgICAgY2lyY2xlX21hcmtlcl8wOTUzM2E1MGQ3MDc0ZjVkYWFmZDZhZDllMDgxZmEzMi5iaW5kUG9wdXAocG9wdXBfNDdhOWRjYjRhZjgzNDJjOTk5N2Y3ZmY4MDNlZmNjNTIpCiAgICAgICAgOwoKICAgICAgICAKICAgIAogICAgCiAgICAgICAgICAgIHZhciBjaXJjbGVfbWFya2VyX2QwZGFlMzZhOTcwNjQwZjM4Njk4ZDU4YWQ2NzZkOWQ4ID0gTC5jaXJjbGVNYXJrZXIoCiAgICAgICAgICAgICAgICBbNDMuNzgyNzM2NCwgLTc5LjQ0MjI1OTNdLAogICAgICAgICAgICAgICAgeyJidWJibGluZ01vdXNlRXZlbnRzIjogdHJ1ZSwgImNvbG9yIjogImJsdWUiLCAiZGFzaEFycmF5IjogbnVsbCwgImRhc2hPZmZzZXQiOiBudWxsLCAiZmlsbCI6IHRydWUsICJmaWxsQ29sb3IiOiAiIzMxODZjYyIsICJmaWxsT3BhY2l0eSI6IDAuNywgImZpbGxSdWxlIjogImV2ZW5vZGQiLCAibGluZUNhcCI6ICJyb3VuZCIsICJsaW5lSm9pbiI6ICJyb3VuZCIsICJvcGFjaXR5IjogMS4wLCAicmFkaXVzIjogNSwgInN0cm9rZSI6IHRydWUsICJ3ZWlnaHQiOiAzfQogICAgICAgICAgICApLmFkZFRvKG1hcF84ODJhZmMzOTk4OTg0YWY4YTg1Yzk2OTc4N2QzYmRmOCk7CiAgICAgICAgCiAgICAKICAgICAgICB2YXIgcG9wdXBfMzE5MzJkZjA2N2Q0NDdiOWE1ZGFlNWQwNzIzMWM5OTIgPSBMLnBvcHVwKHsibWF4V2lkdGgiOiAiMTAwJSJ9KTsKCiAgICAgICAgCiAgICAgICAgICAgIHZhciBodG1sX2FlZWE5Yjg0ZDZkNDQ0NDFiYjA1YjAzZWFlY2Q5NDU0ID0gJChgPGRpdiBpZD0iaHRtbF9hZWVhOWI4NGQ2ZDQ0NDQxYmIwNWIwM2VhZWNkOTQ1NCIgc3R5bGU9IndpZHRoOiAxMDAuMCU7IGhlaWdodDogMTAwLjAlOyI+V2lsbG93ZGFsZSBXZXN0LCBOb3J0aCBZb3JrPC9kaXY+YClbMF07CiAgICAgICAgICAgIHBvcHVwXzMxOTMyZGYwNjdkNDQ3YjlhNWRhZTVkMDcyMzFjOTkyLnNldENvbnRlbnQoaHRtbF9hZWVhOWI4NGQ2ZDQ0NDQxYmIwNWIwM2VhZWNkOTQ1NCk7CiAgICAgICAgCgogICAgICAgIGNpcmNsZV9tYXJrZXJfZDBkYWUzNmE5NzA2NDBmMzg2OThkNThhZDY3NmQ5ZDguYmluZFBvcHVwKHBvcHVwXzMxOTMyZGYwNjdkNDQ3YjlhNWRhZTVkMDcyMzFjOTkyKQogICAgICAgIDsKCiAgICAgICAgCiAgICAKICAgIAogICAgICAgICAgICB2YXIgY2lyY2xlX21hcmtlcl9iMTc3OWQ5OWY4NzE0NDU5ODBmOWFmMGIwODRhZDg5YSA9IEwuY2lyY2xlTWFya2VyKAogICAgICAgICAgICAgICAgWzQzLjcxNTM4MzQsIC03OS40MDU2Nzg0MDAwMDAwMV0sCiAgICAgICAgICAgICAgICB7ImJ1YmJsaW5nTW91c2VFdmVudHMiOiB0cnVlLCAiY29sb3IiOiAiYmx1ZSIsICJkYXNoQXJyYXkiOiBudWxsLCAiZGFzaE9mZnNldCI6IG51bGwsICJmaWxsIjogdHJ1ZSwgImZpbGxDb2xvciI6ICIjMzE4NmNjIiwgImZpbGxPcGFjaXR5IjogMC43LCAiZmlsbFJ1bGUiOiAiZXZlbm9kZCIsICJsaW5lQ2FwIjogInJvdW5kIiwgImxpbmVKb2luIjogInJvdW5kIiwgIm9wYWNpdHkiOiAxLjAsICJyYWRpdXMiOiA1LCAic3Ryb2tlIjogdHJ1ZSwgIndlaWdodCI6IDN9CiAgICAgICAgICAgICkuYWRkVG8obWFwXzg4MmFmYzM5OTg5ODRhZjhhODVjOTY5Nzg3ZDNiZGY4KTsKICAgICAgICAKICAgIAogICAgICAgIHZhciBwb3B1cF9lNjRhNmFlMGYwOGM0MWExYmQ0ZDJlYjY1YTlhZjc3ZCA9IEwucG9wdXAoeyJtYXhXaWR0aCI6ICIxMDAlIn0pOwoKICAgICAgICAKICAgICAgICAgICAgdmFyIGh0bWxfMjIxOGFjODFlZjQyNDQwNzk4NjI0Yjc4YzU5NGMzN2UgPSAkKGA8ZGl2IGlkPSJodG1sXzIyMThhYzgxZWY0MjQ0MDc5ODYyNGI3OGM1OTRjMzdlIiBzdHlsZT0id2lkdGg6IDEwMC4wJTsgaGVpZ2h0OiAxMDAuMCU7Ij5Ob3J0aCBUb3JvbnRvIFdlc3QsIENlbnRyYWwgVG9yb250bzwvZGl2PmApWzBdOwogICAgICAgICAgICBwb3B1cF9lNjRhNmFlMGYwOGM0MWExYmQ0ZDJlYjY1YTlhZjc3ZC5zZXRDb250ZW50KGh0bWxfMjIxOGFjODFlZjQyNDQwNzk4NjI0Yjc4YzU5NGMzN2UpOwogICAgICAgIAoKICAgICAgICBjaXJjbGVfbWFya2VyX2IxNzc5ZDk5Zjg3MTQ0NTk4MGY5YWYwYjA4NGFkODlhLmJpbmRQb3B1cChwb3B1cF9lNjRhNmFlMGYwOGM0MWExYmQ0ZDJlYjY1YTlhZjc3ZCkKICAgICAgICA7CgogICAgICAgIAogICAgCiAgICAKICAgICAgICAgICAgdmFyIGNpcmNsZV9tYXJrZXJfNWFmMzU1MWY1ZmZkNDhlMzgxZGZjNTNkZTFlMGM3YWEgPSBMLmNpcmNsZU1hcmtlcigKICAgICAgICAgICAgICAgIFs0My42NzI3MDk3LCAtNzkuNDA1Njc4NDAwMDAwMDFdLAogICAgICAgICAgICAgICAgeyJidWJibGluZ01vdXNlRXZlbnRzIjogdHJ1ZSwgImNvbG9yIjogImJsdWUiLCAiZGFzaEFycmF5IjogbnVsbCwgImRhc2hPZmZzZXQiOiBudWxsLCAiZmlsbCI6IHRydWUsICJmaWxsQ29sb3IiOiAiIzMxODZjYyIsICJmaWxsT3BhY2l0eSI6IDAuNywgImZpbGxSdWxlIjogImV2ZW5vZGQiLCAibGluZUNhcCI6ICJyb3VuZCIsICJsaW5lSm9pbiI6ICJyb3VuZCIsICJvcGFjaXR5IjogMS4wLCAicmFkaXVzIjogNSwgInN0cm9rZSI6IHRydWUsICJ3ZWlnaHQiOiAzfQogICAgICAgICAgICApLmFkZFRvKG1hcF84ODJhZmMzOTk4OTg0YWY4YTg1Yzk2OTc4N2QzYmRmOCk7CiAgICAgICAgCiAgICAKICAgICAgICB2YXIgcG9wdXBfNWY3OWFhZTU3MTFjNGU0ZWI5MjMzMWRkZDQ3OTQwMWQgPSBMLnBvcHVwKHsibWF4V2lkdGgiOiAiMTAwJSJ9KTsKCiAgICAgICAgCiAgICAgICAgICAgIHZhciBodG1sXzlkMDc0NWU0ZjhmMzQ5ZmNhNjc4Yzc2YWI3ODA2NGJhID0gJChgPGRpdiBpZD0iaHRtbF85ZDA3NDVlNGY4ZjM0OWZjYTY3OGM3NmFiNzgwNjRiYSIgc3R5bGU9IndpZHRoOiAxMDAuMCU7IGhlaWdodDogMTAwLjAlOyI+VGhlIEFubmV4LCBOb3J0aCBNaWR0b3duLCBZb3JrdmlsbGUsIENlbnRyYWwgVG9yb250bzwvZGl2PmApWzBdOwogICAgICAgICAgICBwb3B1cF81Zjc5YWFlNTcxMWM0ZTRlYjkyMzMxZGRkNDc5NDAxZC5zZXRDb250ZW50KGh0bWxfOWQwNzQ1ZTRmOGYzNDlmY2E2NzhjNzZhYjc4MDY0YmEpOwogICAgICAgIAoKICAgICAgICBjaXJjbGVfbWFya2VyXzVhZjM1NTFmNWZmZDQ4ZTM4MWRmYzUzZGUxZTBjN2FhLmJpbmRQb3B1cChwb3B1cF81Zjc5YWFlNTcxMWM0ZTRlYjkyMzMxZGRkNDc5NDAxZCkKICAgICAgICA7CgogICAgICAgIAogICAgCiAgICAKICAgICAgICAgICAgdmFyIGNpcmNsZV9tYXJrZXJfZGRiYzAxYTY5NDhmNDg3MjkwMjAyODY4NzRlMTcwNWEgPSBMLmNpcmNsZU1hcmtlcigKICAgICAgICAgICAgICAgIFs0My42NDg5NTk3LCAtNzkuNDU2MzI1XSwKICAgICAgICAgICAgICAgIHsiYnViYmxpbmdNb3VzZUV2ZW50cyI6IHRydWUsICJjb2xvciI6ICJibHVlIiwgImRhc2hBcnJheSI6IG51bGwsICJkYXNoT2Zmc2V0IjogbnVsbCwgImZpbGwiOiB0cnVlLCAiZmlsbENvbG9yIjogIiMzMTg2Y2MiLCAiZmlsbE9wYWNpdHkiOiAwLjcsICJmaWxsUnVsZSI6ICJldmVub2RkIiwgImxpbmVDYXAiOiAicm91bmQiLCAibGluZUpvaW4iOiAicm91bmQiLCAib3BhY2l0eSI6IDEuMCwgInJhZGl1cyI6IDUsICJzdHJva2UiOiB0cnVlLCAid2VpZ2h0IjogM30KICAgICAgICAgICAgKS5hZGRUbyhtYXBfODgyYWZjMzk5ODk4NGFmOGE4NWM5Njk3ODdkM2JkZjgpOwogICAgICAgIAogICAgCiAgICAgICAgdmFyIHBvcHVwXzA0MzlkYTMzZWVkMTRhMGZhNjY4YjRhMGIxZDI4NWU2ID0gTC5wb3B1cCh7Im1heFdpZHRoIjogIjEwMCUifSk7CgogICAgICAgIAogICAgICAgICAgICB2YXIgaHRtbF85MWNiMmE2NzhiNjQ0NDZjYjVkYzQ0ODBhZjRhMGFlOCA9ICQoYDxkaXYgaWQ9Imh0bWxfOTFjYjJhNjc4YjY0NDQ2Y2I1ZGM0NDgwYWY0YTBhZTgiIHN0eWxlPSJ3aWR0aDogMTAwLjAlOyBoZWlnaHQ6IDEwMC4wJTsiPlBhcmtkYWxlLCBSb25jZXN2YWxsZXMsIFdlc3QgVG9yb250bzwvZGl2PmApWzBdOwogICAgICAgICAgICBwb3B1cF8wNDM5ZGEzM2VlZDE0YTBmYTY2OGI0YTBiMWQyODVlNi5zZXRDb250ZW50KGh0bWxfOTFjYjJhNjc4YjY0NDQ2Y2I1ZGM0NDgwYWY0YTBhZTgpOwogICAgICAgIAoKICAgICAgICBjaXJjbGVfbWFya2VyX2RkYmMwMWE2OTQ4ZjQ4NzI5MDIwMjg2ODc0ZTE3MDVhLmJpbmRQb3B1cChwb3B1cF8wNDM5ZGEzM2VlZDE0YTBmYTY2OGI0YTBiMWQyODVlNikKICAgICAgICA7CgogICAgICAgIAogICAgCiAgICAKICAgICAgICAgICAgdmFyIGNpcmNsZV9tYXJrZXJfYWE1OWVmODNmNDRmNGI2MWEwMWJhYWEzNGNmZjQ1YzMgPSBMLmNpcmNsZU1hcmtlcigKICAgICAgICAgICAgICAgIFs0My42MzY5NjU2LCAtNzkuNjE1ODE4OTk5OTk5OTldLAogICAgICAgICAgICAgICAgeyJidWJibGluZ01vdXNlRXZlbnRzIjogdHJ1ZSwgImNvbG9yIjogImJsdWUiLCAiZGFzaEFycmF5IjogbnVsbCwgImRhc2hPZmZzZXQiOiBudWxsLCAiZmlsbCI6IHRydWUsICJmaWxsQ29sb3IiOiAiIzMxODZjYyIsICJmaWxsT3BhY2l0eSI6IDAuNywgImZpbGxSdWxlIjogImV2ZW5vZGQiLCAibGluZUNhcCI6ICJyb3VuZCIsICJsaW5lSm9pbiI6ICJyb3VuZCIsICJvcGFjaXR5IjogMS4wLCAicmFkaXVzIjogNSwgInN0cm9rZSI6IHRydWUsICJ3ZWlnaHQiOiAzfQogICAgICAgICAgICApLmFkZFRvKG1hcF84ODJhZmMzOTk4OTg0YWY4YTg1Yzk2OTc4N2QzYmRmOCk7CiAgICAgICAgCiAgICAKICAgICAgICB2YXIgcG9wdXBfNGQ2NzAyOGIwN2YwNGRmMGFhMzg3ZTczNjg0ZDQ1ZWIgPSBMLnBvcHVwKHsibWF4V2lkdGgiOiAiMTAwJSJ9KTsKCiAgICAgICAgCiAgICAgICAgICAgIHZhciBodG1sXzQwZTUzOTZkNmMxODQ1ZmE4ZDI3MzA4NDAyNjExMWQyID0gJChgPGRpdiBpZD0iaHRtbF80MGU1Mzk2ZDZjMTg0NWZhOGQyNzMwODQwMjYxMTFkMiIgc3R5bGU9IndpZHRoOiAxMDAuMCU7IGhlaWdodDogMTAwLjAlOyI+Q2FuYWRhIFBvc3QgR2F0ZXdheSBQcm9jZXNzaW5nIENlbnRyZSwgTWlzc2lzc2F1Z2E8L2Rpdj5gKVswXTsKICAgICAgICAgICAgcG9wdXBfNGQ2NzAyOGIwN2YwNGRmMGFhMzg3ZTczNjg0ZDQ1ZWIuc2V0Q29udGVudChodG1sXzQwZTUzOTZkNmMxODQ1ZmE4ZDI3MzA4NDAyNjExMWQyKTsKICAgICAgICAKCiAgICAgICAgY2lyY2xlX21hcmtlcl9hYTU5ZWY4M2Y0NGY0YjYxYTAxYmFhYTM0Y2ZmNDVjMy5iaW5kUG9wdXAocG9wdXBfNGQ2NzAyOGIwN2YwNGRmMGFhMzg3ZTczNjg0ZDQ1ZWIpCiAgICAgICAgOwoKICAgICAgICAKICAgIAogICAgCiAgICAgICAgICAgIHZhciBjaXJjbGVfbWFya2VyXzdlZjJiMGVkMzU0NTQ0OGNiNDM3YmE4ZDI3ZDMwY2FiID0gTC5jaXJjbGVNYXJrZXIoCiAgICAgICAgICAgICAgICBbNDMuNjg4OTA1NCwgLTc5LjU1NDcyNDQwMDAwMDAxXSwKICAgICAgICAgICAgICAgIHsiYnViYmxpbmdNb3VzZUV2ZW50cyI6IHRydWUsICJjb2xvciI6ICJibHVlIiwgImRhc2hBcnJheSI6IG51bGwsICJkYXNoT2Zmc2V0IjogbnVsbCwgImZpbGwiOiB0cnVlLCAiZmlsbENvbG9yIjogIiMzMTg2Y2MiLCAiZmlsbE9wYWNpdHkiOiAwLjcsICJmaWxsUnVsZSI6ICJldmVub2RkIiwgImxpbmVDYXAiOiAicm91bmQiLCAibGluZUpvaW4iOiAicm91bmQiLCAib3BhY2l0eSI6IDEuMCwgInJhZGl1cyI6IDUsICJzdHJva2UiOiB0cnVlLCAid2VpZ2h0IjogM30KICAgICAgICAgICAgKS5hZGRUbyhtYXBfODgyYWZjMzk5ODk4NGFmOGE4NWM5Njk3ODdkM2JkZjgpOwogICAgICAgIAogICAgCiAgICAgICAgdmFyIHBvcHVwX2Y2MzBmYWE3OTNlNTQyODJiMmM3MDVmNmEzZWE1NGQ2ID0gTC5wb3B1cCh7Im1heFdpZHRoIjogIjEwMCUifSk7CgogICAgICAgIAogICAgICAgICAgICB2YXIgaHRtbF85MmUwMDViYmZmYzg0Mzg5YmI2ZTY5ZTk1YzUxZGIxOSA9ICQoYDxkaXYgaWQ9Imh0bWxfOTJlMDA1YmJmZmM4NDM4OWJiNmU2OWU5NWM1MWRiMTkiIHN0eWxlPSJ3aWR0aDogMTAwLjAlOyBoZWlnaHQ6IDEwMC4wJTsiPktpbmdzdmlldyBWaWxsYWdlLCBNYXJ0aW4gR3JvdmUgR2FyZGVucywgUmljaHZpZXcgR2FyZGVucywgU3QuIFBoaWxsaXBzLCBFdG9iaWNva2U8L2Rpdj5gKVswXTsKICAgICAgICAgICAgcG9wdXBfZjYzMGZhYTc5M2U1NDI4MmIyYzcwNWY2YTNlYTU0ZDYuc2V0Q29udGVudChodG1sXzkyZTAwNWJiZmZjODQzODliYjZlNjllOTVjNTFkYjE5KTsKICAgICAgICAKCiAgICAgICAgY2lyY2xlX21hcmtlcl83ZWYyYjBlZDM1NDU0NDhjYjQzN2JhOGQyN2QzMGNhYi5iaW5kUG9wdXAocG9wdXBfZjYzMGZhYTc5M2U1NDI4MmIyYzcwNWY2YTNlYTU0ZDYpCiAgICAgICAgOwoKICAgICAgICAKICAgIAogICAgCiAgICAgICAgICAgIHZhciBjaXJjbGVfbWFya2VyXzNkNjIyOTc0MDQyNjRjNzI5YTJmYWQ0MGZkZjU2MjEwID0gTC5jaXJjbGVNYXJrZXIoCiAgICAgICAgICAgICAgICBbNDMuNzk0MjAwMywgLTc5LjI2MjAyOTQwMDAwMDAyXSwKICAgICAgICAgICAgICAgIHsiYnViYmxpbmdNb3VzZUV2ZW50cyI6IHRydWUsICJjb2xvciI6ICJibHVlIiwgImRhc2hBcnJheSI6IG51bGwsICJkYXNoT2Zmc2V0IjogbnVsbCwgImZpbGwiOiB0cnVlLCAiZmlsbENvbG9yIjogIiMzMTg2Y2MiLCAiZmlsbE9wYWNpdHkiOiAwLjcsICJmaWxsUnVsZSI6ICJldmVub2RkIiwgImxpbmVDYXAiOiAicm91bmQiLCAibGluZUpvaW4iOiAicm91bmQiLCAib3BhY2l0eSI6IDEuMCwgInJhZGl1cyI6IDUsICJzdHJva2UiOiB0cnVlLCAid2VpZ2h0IjogM30KICAgICAgICAgICAgKS5hZGRUbyhtYXBfODgyYWZjMzk5ODk4NGFmOGE4NWM5Njk3ODdkM2JkZjgpOwogICAgICAgIAogICAgCiAgICAgICAgdmFyIHBvcHVwXzAyNGZkMGRkMmM1YTRlZDM4NzJlYTlmNmQyZmM1NTIxID0gTC5wb3B1cCh7Im1heFdpZHRoIjogIjEwMCUifSk7CgogICAgICAgIAogICAgICAgICAgICB2YXIgaHRtbF85MWNiMGE2M2RhMDI0ZDJkOWM3YjA1MDJmMTM4ZjQ0ZiA9ICQoYDxkaXYgaWQ9Imh0bWxfOTFjYjBhNjNkYTAyNGQyZDljN2IwNTAyZjEzOGY0NGYiIHN0eWxlPSJ3aWR0aDogMTAwLjAlOyBoZWlnaHQ6IDEwMC4wJTsiPkFnaW5jb3VydCwgU2NhcmJvcm91Z2g8L2Rpdj5gKVswXTsKICAgICAgICAgICAgcG9wdXBfMDI0ZmQwZGQyYzVhNGVkMzg3MmVhOWY2ZDJmYzU1MjEuc2V0Q29udGVudChodG1sXzkxY2IwYTYzZGEwMjRkMmQ5YzdiMDUwMmYxMzhmNDRmKTsKICAgICAgICAKCiAgICAgICAgY2lyY2xlX21hcmtlcl8zZDYyMjk3NDA0MjY0YzcyOWEyZmFkNDBmZGY1NjIxMC5iaW5kUG9wdXAocG9wdXBfMDI0ZmQwZGQyYzVhNGVkMzg3MmVhOWY2ZDJmYzU1MjEpCiAgICAgICAgOwoKICAgICAgICAKICAgIAogICAgCiAgICAgICAgICAgIHZhciBjaXJjbGVfbWFya2VyX2UxNTNhNjVhM2EyOTQzYjRhOWU5NTY2YTU0MDU1ZmRmID0gTC5jaXJjbGVNYXJrZXIoCiAgICAgICAgICAgICAgICBbNDMuNzA0MzI0NCwgLTc5LjM4ODc5MDFdLAogICAgICAgICAgICAgICAgeyJidWJibGluZ01vdXNlRXZlbnRzIjogdHJ1ZSwgImNvbG9yIjogImJsdWUiLCAiZGFzaEFycmF5IjogbnVsbCwgImRhc2hPZmZzZXQiOiBudWxsLCAiZmlsbCI6IHRydWUsICJmaWxsQ29sb3IiOiAiIzMxODZjYyIsICJmaWxsT3BhY2l0eSI6IDAuNywgImZpbGxSdWxlIjogImV2ZW5vZGQiLCAibGluZUNhcCI6ICJyb3VuZCIsICJsaW5lSm9pbiI6ICJyb3VuZCIsICJvcGFjaXR5IjogMS4wLCAicmFkaXVzIjogNSwgInN0cm9rZSI6IHRydWUsICJ3ZWlnaHQiOiAzfQogICAgICAgICAgICApLmFkZFRvKG1hcF84ODJhZmMzOTk4OTg0YWY4YTg1Yzk2OTc4N2QzYmRmOCk7CiAgICAgICAgCiAgICAKICAgICAgICB2YXIgcG9wdXBfN2IwZDliOTVlYmVjNGQ1NDhlYmJiZGM4Y2M1OTcyMDUgPSBMLnBvcHVwKHsibWF4V2lkdGgiOiAiMTAwJSJ9KTsKCiAgICAgICAgCiAgICAgICAgICAgIHZhciBodG1sXzFlNThiNGFlODk5NTQ4NjJiZWYwYWRkMzMzNmY4NmNiID0gJChgPGRpdiBpZD0iaHRtbF8xZTU4YjRhZTg5OTU0ODYyYmVmMGFkZDMzMzZmODZjYiIgc3R5bGU9IndpZHRoOiAxMDAuMCU7IGhlaWdodDogMTAwLjAlOyI+RGF2aXN2aWxsZSwgQ2VudHJhbCBUb3JvbnRvPC9kaXY+YClbMF07CiAgICAgICAgICAgIHBvcHVwXzdiMGQ5Yjk1ZWJlYzRkNTQ4ZWJiYmRjOGNjNTk3MjA1LnNldENvbnRlbnQoaHRtbF8xZTU4YjRhZTg5OTU0ODYyYmVmMGFkZDMzMzZmODZjYik7CiAgICAgICAgCgogICAgICAgIGNpcmNsZV9tYXJrZXJfZTE1M2E2NWEzYTI5NDNiNGE5ZTk1NjZhNTQwNTVmZGYuYmluZFBvcHVwKHBvcHVwXzdiMGQ5Yjk1ZWJlYzRkNTQ4ZWJiYmRjOGNjNTk3MjA1KQogICAgICAgIDsKCiAgICAgICAgCiAgICAKICAgIAogICAgICAgICAgICB2YXIgY2lyY2xlX21hcmtlcl8xOTg5MzRjMjdiODk0MDU0OWFiZmExYzNhNTRiMjU5MiA9IEwuY2lyY2xlTWFya2VyKAogICAgICAgICAgICAgICAgWzQzLjY2MjY5NTYsIC03OS40MDAwNDkzXSwKICAgICAgICAgICAgICAgIHsiYnViYmxpbmdNb3VzZUV2ZW50cyI6IHRydWUsICJjb2xvciI6ICJibHVlIiwgImRhc2hBcnJheSI6IG51bGwsICJkYXNoT2Zmc2V0IjogbnVsbCwgImZpbGwiOiB0cnVlLCAiZmlsbENvbG9yIjogIiMzMTg2Y2MiLCAiZmlsbE9wYWNpdHkiOiAwLjcsICJmaWxsUnVsZSI6ICJldmVub2RkIiwgImxpbmVDYXAiOiAicm91bmQiLCAibGluZUpvaW4iOiAicm91bmQiLCAib3BhY2l0eSI6IDEuMCwgInJhZGl1cyI6IDUsICJzdHJva2UiOiB0cnVlLCAid2VpZ2h0IjogM30KICAgICAgICAgICAgKS5hZGRUbyhtYXBfODgyYWZjMzk5ODk4NGFmOGE4NWM5Njk3ODdkM2JkZjgpOwogICAgICAgIAogICAgCiAgICAgICAgdmFyIHBvcHVwX2JhYWM4YzYwYWEwYzQ2NThhM2E0NDY5MjJkNzJiYjAwID0gTC5wb3B1cCh7Im1heFdpZHRoIjogIjEwMCUifSk7CgogICAgICAgIAogICAgICAgICAgICB2YXIgaHRtbF9lOTBkOTM4ZmZhZDA0ZjRmYWZhYzczM2I1N2VjZDE5OSA9ICQoYDxkaXYgaWQ9Imh0bWxfZTkwZDkzOGZmYWQwNGY0ZmFmYWM3MzNiNTdlY2QxOTkiIHN0eWxlPSJ3aWR0aDogMTAwLjAlOyBoZWlnaHQ6IDEwMC4wJTsiPkhhcmJvcmQsIFVuaXZlcnNpdHkgb2YgVG9yb250bywgRG93bnRvd24gVG9yb250bzwvZGl2PmApWzBdOwogICAgICAgICAgICBwb3B1cF9iYWFjOGM2MGFhMGM0NjU4YTNhNDQ2OTIyZDcyYmIwMC5zZXRDb250ZW50KGh0bWxfZTkwZDkzOGZmYWQwNGY0ZmFmYWM3MzNiNTdlY2QxOTkpOwogICAgICAgIAoKICAgICAgICBjaXJjbGVfbWFya2VyXzE5ODkzNGMyN2I4OTQwNTQ5YWJmYTFjM2E1NGIyNTkyLmJpbmRQb3B1cChwb3B1cF9iYWFjOGM2MGFhMGM0NjU4YTNhNDQ2OTIyZDcyYmIwMCkKICAgICAgICA7CgogICAgICAgIAogICAgCiAgICAKICAgICAgICAgICAgdmFyIGNpcmNsZV9tYXJrZXJfOGViMGIzMmFlOTdjNGE3NDg2M2EwNzU3N2YwNWFiOTcgPSBMLmNpcmNsZU1hcmtlcigKICAgICAgICAgICAgICAgIFs0My42NTE1NzA2LCAtNzkuNDg0NDQ5OV0sCiAgICAgICAgICAgICAgICB7ImJ1YmJsaW5nTW91c2VFdmVudHMiOiB0cnVlLCAiY29sb3IiOiAiYmx1ZSIsICJkYXNoQXJyYXkiOiBudWxsLCAiZGFzaE9mZnNldCI6IG51bGwsICJmaWxsIjogdHJ1ZSwgImZpbGxDb2xvciI6ICIjMzE4NmNjIiwgImZpbGxPcGFjaXR5IjogMC43LCAiZmlsbFJ1bGUiOiAiZXZlbm9kZCIsICJsaW5lQ2FwIjogInJvdW5kIiwgImxpbmVKb2luIjogInJvdW5kIiwgIm9wYWNpdHkiOiAxLjAsICJyYWRpdXMiOiA1LCAic3Ryb2tlIjogdHJ1ZSwgIndlaWdodCI6IDN9CiAgICAgICAgICAgICkuYWRkVG8obWFwXzg4MmFmYzM5OTg5ODRhZjhhODVjOTY5Nzg3ZDNiZGY4KTsKICAgICAgICAKICAgIAogICAgICAgIHZhciBwb3B1cF8yYzk1YzBhMmJmYTI0ZTQ1OTkzYmYxNjk5OGJjYzc3YSA9IEwucG9wdXAoeyJtYXhXaWR0aCI6ICIxMDAlIn0pOwoKICAgICAgICAKICAgICAgICAgICAgdmFyIGh0bWxfMTZhODhmMjFiNzEzNGE2YzgzZDlkN2Y2NDc2NjJiMzYgPSAkKGA8ZGl2IGlkPSJodG1sXzE2YTg4ZjIxYjcxMzRhNmM4M2Q5ZDdmNjQ3NjYyYjM2IiBzdHlsZT0id2lkdGg6IDEwMC4wJTsgaGVpZ2h0OiAxMDAuMCU7Ij5SdW5ueW1lZGUsIFN3YW5zZWEsIFdlc3QgVG9yb250bzwvZGl2PmApWzBdOwogICAgICAgICAgICBwb3B1cF8yYzk1YzBhMmJmYTI0ZTQ1OTkzYmYxNjk5OGJjYzc3YS5zZXRDb250ZW50KGh0bWxfMTZhODhmMjFiNzEzNGE2YzgzZDlkN2Y2NDc2NjJiMzYpOwogICAgICAgIAoKICAgICAgICBjaXJjbGVfbWFya2VyXzhlYjBiMzJhZTk3YzRhNzQ4NjNhMDc1NzdmMDVhYjk3LmJpbmRQb3B1cChwb3B1cF8yYzk1YzBhMmJmYTI0ZTQ1OTkzYmYxNjk5OGJjYzc3YSkKICAgICAgICA7CgogICAgICAgIAogICAgCiAgICAKICAgICAgICAgICAgdmFyIGNpcmNsZV9tYXJrZXJfNmI5MmEzMWY3ZWVlNGNlMTg3ZDc3MTY0MTgxNmJhMGUgPSBMLmNpcmNsZU1hcmtlcigKICAgICAgICAgICAgICAgIFs0My43ODE2Mzc1LCAtNzkuMzA0MzAyMV0sCiAgICAgICAgICAgICAgICB7ImJ1YmJsaW5nTW91c2VFdmVudHMiOiB0cnVlLCAiY29sb3IiOiAiYmx1ZSIsICJkYXNoQXJyYXkiOiBudWxsLCAiZGFzaE9mZnNldCI6IG51bGwsICJmaWxsIjogdHJ1ZSwgImZpbGxDb2xvciI6ICIjMzE4NmNjIiwgImZpbGxPcGFjaXR5IjogMC43LCAiZmlsbFJ1bGUiOiAiZXZlbm9kZCIsICJsaW5lQ2FwIjogInJvdW5kIiwgImxpbmVKb2luIjogInJvdW5kIiwgIm9wYWNpdHkiOiAxLjAsICJyYWRpdXMiOiA1LCAic3Ryb2tlIjogdHJ1ZSwgIndlaWdodCI6IDN9CiAgICAgICAgICAgICkuYWRkVG8obWFwXzg4MmFmYzM5OTg5ODRhZjhhODVjOTY5Nzg3ZDNiZGY4KTsKICAgICAgICAKICAgIAogICAgICAgIHZhciBwb3B1cF85OWY4MGVjNDdlOWU0MDMxOGJmNGNhMTcyNjA5OWM1NiA9IEwucG9wdXAoeyJtYXhXaWR0aCI6ICIxMDAlIn0pOwoKICAgICAgICAKICAgICAgICAgICAgdmFyIGh0bWxfYWVhZWNmMGY4MWQ3NDg3ZGJjOGY4ZjI2ODg4MzJhNjggPSAkKGA8ZGl2IGlkPSJodG1sX2FlYWVjZjBmODFkNzQ4N2RiYzhmOGYyNjg4ODMyYTY4IiBzdHlsZT0id2lkdGg6IDEwMC4wJTsgaGVpZ2h0OiAxMDAuMCU7Ij5DbGFya3MgQ29ybmVycywgU3VsbGl2YW4sIFRhbSBPJiMzOTtTaGFudGVyLCBTY2FyYm9yb3VnaDwvZGl2PmApWzBdOwogICAgICAgICAgICBwb3B1cF85OWY4MGVjNDdlOWU0MDMxOGJmNGNhMTcyNjA5OWM1Ni5zZXRDb250ZW50KGh0bWxfYWVhZWNmMGY4MWQ3NDg3ZGJjOGY4ZjI2ODg4MzJhNjgpOwogICAgICAgIAoKICAgICAgICBjaXJjbGVfbWFya2VyXzZiOTJhMzFmN2VlZTRjZTE4N2Q3NzE2NDE4MTZiYTBlLmJpbmRQb3B1cChwb3B1cF85OWY4MGVjNDdlOWU0MDMxOGJmNGNhMTcyNjA5OWM1NikKICAgICAgICA7CgogICAgICAgIAogICAgCiAgICAKICAgICAgICAgICAgdmFyIGNpcmNsZV9tYXJrZXJfOWQ4NmQ2YzBiMjIxNGEyNmE1NGJiOWNmMGU4Yzc1M2MgPSBMLmNpcmNsZU1hcmtlcigKICAgICAgICAgICAgICAgIFs0My42ODk1NzQzLCAtNzkuMzgzMTU5OTAwMDAwMDFdLAogICAgICAgICAgICAgICAgeyJidWJibGluZ01vdXNlRXZlbnRzIjogdHJ1ZSwgImNvbG9yIjogImJsdWUiLCAiZGFzaEFycmF5IjogbnVsbCwgImRhc2hPZmZzZXQiOiBudWxsLCAiZmlsbCI6IHRydWUsICJmaWxsQ29sb3IiOiAiIzMxODZjYyIsICJmaWxsT3BhY2l0eSI6IDAuNywgImZpbGxSdWxlIjogImV2ZW5vZGQiLCAibGluZUNhcCI6ICJyb3VuZCIsICJsaW5lSm9pbiI6ICJyb3VuZCIsICJvcGFjaXR5IjogMS4wLCAicmFkaXVzIjogNSwgInN0cm9rZSI6IHRydWUsICJ3ZWlnaHQiOiAzfQogICAgICAgICAgICApLmFkZFRvKG1hcF84ODJhZmMzOTk4OTg0YWY4YTg1Yzk2OTc4N2QzYmRmOCk7CiAgICAgICAgCiAgICAKICAgICAgICB2YXIgcG9wdXBfYjVjNTliZDRiMGJkNDZkZmIzYzMwOWIxODBjOTBmOTcgPSBMLnBvcHVwKHsibWF4V2lkdGgiOiAiMTAwJSJ9KTsKCiAgICAgICAgCiAgICAgICAgICAgIHZhciBodG1sX2ZiZjExZGI4NzM0ZjQyMjk5NjYyZjhmM2NiYzE1YWU4ID0gJChgPGRpdiBpZD0iaHRtbF9mYmYxMWRiODczNGY0MjI5OTY2MmY4ZjNjYmMxNWFlOCIgc3R5bGU9IndpZHRoOiAxMDAuMCU7IGhlaWdodDogMTAwLjAlOyI+TW9vcmUgUGFyaywgU3VtbWVyaGlsbCBFYXN0LCBDZW50cmFsIFRvcm9udG88L2Rpdj5gKVswXTsKICAgICAgICAgICAgcG9wdXBfYjVjNTliZDRiMGJkNDZkZmIzYzMwOWIxODBjOTBmOTcuc2V0Q29udGVudChodG1sX2ZiZjExZGI4NzM0ZjQyMjk5NjYyZjhmM2NiYzE1YWU4KTsKICAgICAgICAKCiAgICAgICAgY2lyY2xlX21hcmtlcl85ZDg2ZDZjMGIyMjE0YTI2YTU0YmI5Y2YwZThjNzUzYy5iaW5kUG9wdXAocG9wdXBfYjVjNTliZDRiMGJkNDZkZmIzYzMwOWIxODBjOTBmOTcpCiAgICAgICAgOwoKICAgICAgICAKICAgIAogICAgCiAgICAgICAgICAgIHZhciBjaXJjbGVfbWFya2VyXzQxODAzOTI1YTYyZjQ2NTE4MDBhMTk1NzM0M2QwZDVmID0gTC5jaXJjbGVNYXJrZXIoCiAgICAgICAgICAgICAgICBbNDMuNjUzMjA1NywgLTc5LjQwMDA0OTNdLAogICAgICAgICAgICAgICAgeyJidWJibGluZ01vdXNlRXZlbnRzIjogdHJ1ZSwgImNvbG9yIjogImJsdWUiLCAiZGFzaEFycmF5IjogbnVsbCwgImRhc2hPZmZzZXQiOiBudWxsLCAiZmlsbCI6IHRydWUsICJmaWxsQ29sb3IiOiAiIzMxODZjYyIsICJmaWxsT3BhY2l0eSI6IDAuNywgImZpbGxSdWxlIjogImV2ZW5vZGQiLCAibGluZUNhcCI6ICJyb3VuZCIsICJsaW5lSm9pbiI6ICJyb3VuZCIsICJvcGFjaXR5IjogMS4wLCAicmFkaXVzIjogNSwgInN0cm9rZSI6IHRydWUsICJ3ZWlnaHQiOiAzfQogICAgICAgICAgICApLmFkZFRvKG1hcF84ODJhZmMzOTk4OTg0YWY4YTg1Yzk2OTc4N2QzYmRmOCk7CiAgICAgICAgCiAgICAKICAgICAgICB2YXIgcG9wdXBfY2VhZTk2MzRkNmM0NDVkZjkwOWZjYjFkMTVlZjI0ZGIgPSBMLnBvcHVwKHsibWF4V2lkdGgiOiAiMTAwJSJ9KTsKCiAgICAgICAgCiAgICAgICAgICAgIHZhciBodG1sXzc3ZDhmNjRjM2JmMDQ2MDM5ZDVlZGEwODUxNjZjNDI0ID0gJChgPGRpdiBpZD0iaHRtbF83N2Q4ZjY0YzNiZjA0NjAzOWQ1ZWRhMDg1MTY2YzQyNCIgc3R5bGU9IndpZHRoOiAxMDAuMCU7IGhlaWdodDogMTAwLjAlOyI+Q2hpbmF0b3duLCBHcmFuZ2UgUGFyaywgS2Vuc2luZ3RvbiBNYXJrZXQsIERvd250b3duIFRvcm9udG88L2Rpdj5gKVswXTsKICAgICAgICAgICAgcG9wdXBfY2VhZTk2MzRkNmM0NDVkZjkwOWZjYjFkMTVlZjI0ZGIuc2V0Q29udGVudChodG1sXzc3ZDhmNjRjM2JmMDQ2MDM5ZDVlZGEwODUxNjZjNDI0KTsKICAgICAgICAKCiAgICAgICAgY2lyY2xlX21hcmtlcl80MTgwMzkyNWE2MmY0NjUxODAwYTE5NTczNDNkMGQ1Zi5iaW5kUG9wdXAocG9wdXBfY2VhZTk2MzRkNmM0NDVkZjkwOWZjYjFkMTVlZjI0ZGIpCiAgICAgICAgOwoKICAgICAgICAKICAgIAogICAgCiAgICAgICAgICAgIHZhciBjaXJjbGVfbWFya2VyXzRkZGJmMTg0NDA2ZDQ5ZTFhZTIyYzhjMzFlZmM2N2JkID0gTC5jaXJjbGVNYXJrZXIoCiAgICAgICAgICAgICAgICBbNDMuODE1MjUyMiwgLTc5LjI4NDU3NzJdLAogICAgICAgICAgICAgICAgeyJidWJibGluZ01vdXNlRXZlbnRzIjogdHJ1ZSwgImNvbG9yIjogImJsdWUiLCAiZGFzaEFycmF5IjogbnVsbCwgImRhc2hPZmZzZXQiOiBudWxsLCAiZmlsbCI6IHRydWUsICJmaWxsQ29sb3IiOiAiIzMxODZjYyIsICJmaWxsT3BhY2l0eSI6IDAuNywgImZpbGxSdWxlIjogImV2ZW5vZGQiLCAibGluZUNhcCI6ICJyb3VuZCIsICJsaW5lSm9pbiI6ICJyb3VuZCIsICJvcGFjaXR5IjogMS4wLCAicmFkaXVzIjogNSwgInN0cm9rZSI6IHRydWUsICJ3ZWlnaHQiOiAzfQogICAgICAgICAgICApLmFkZFRvKG1hcF84ODJhZmMzOTk4OTg0YWY4YTg1Yzk2OTc4N2QzYmRmOCk7CiAgICAgICAgCiAgICAKICAgICAgICB2YXIgcG9wdXBfZTMzNGYyOGE4ZTI1NGQ5MjgyYWQxYmQzMjFhYzBjZmEgPSBMLnBvcHVwKHsibWF4V2lkdGgiOiAiMTAwJSJ9KTsKCiAgICAgICAgCiAgICAgICAgICAgIHZhciBodG1sXzNiYTFhMTYxZDcxYTRkNTJhMTc2ZTlhMDdlYjAyODE4ID0gJChgPGRpdiBpZD0iaHRtbF8zYmExYTE2MWQ3MWE0ZDUyYTE3NmU5YTA3ZWIwMjgxOCIgc3R5bGU9IndpZHRoOiAxMDAuMCU7IGhlaWdodDogMTAwLjAlOyI+QWdpbmNvdXJ0IE5vcnRoLCBMJiMzOTtBbW9yZWF1eCBFYXN0LCBNaWxsaWtlbiwgU3RlZWxlcyBFYXN0LCBTY2FyYm9yb3VnaDwvZGl2PmApWzBdOwogICAgICAgICAgICBwb3B1cF9lMzM0ZjI4YThlMjU0ZDkyODJhZDFiZDMyMWFjMGNmYS5zZXRDb250ZW50KGh0bWxfM2JhMWExNjFkNzFhNGQ1MmExNzZlOWEwN2ViMDI4MTgpOwogICAgICAgIAoKICAgICAgICBjaXJjbGVfbWFya2VyXzRkZGJmMTg0NDA2ZDQ5ZTFhZTIyYzhjMzFlZmM2N2JkLmJpbmRQb3B1cChwb3B1cF9lMzM0ZjI4YThlMjU0ZDkyODJhZDFiZDMyMWFjMGNmYSkKICAgICAgICA7CgogICAgICAgIAogICAgCiAgICAKICAgICAgICAgICAgdmFyIGNpcmNsZV9tYXJrZXJfZjFiYTBkNTM1YjhmNDQ4N2E2NTQ4ZWU0YmQwZGE2YjkgPSBMLmNpcmNsZU1hcmtlcigKICAgICAgICAgICAgICAgIFs0My42ODY0MTIyOTk5OTk5OSwgLTc5LjQwMDA0OTNdLAogICAgICAgICAgICAgICAgeyJidWJibGluZ01vdXNlRXZlbnRzIjogdHJ1ZSwgImNvbG9yIjogImJsdWUiLCAiZGFzaEFycmF5IjogbnVsbCwgImRhc2hPZmZzZXQiOiBudWxsLCAiZmlsbCI6IHRydWUsICJmaWxsQ29sb3IiOiAiIzMxODZjYyIsICJmaWxsT3BhY2l0eSI6IDAuNywgImZpbGxSdWxlIjogImV2ZW5vZGQiLCAibGluZUNhcCI6ICJyb3VuZCIsICJsaW5lSm9pbiI6ICJyb3VuZCIsICJvcGFjaXR5IjogMS4wLCAicmFkaXVzIjogNSwgInN0cm9rZSI6IHRydWUsICJ3ZWlnaHQiOiAzfQogICAgICAgICAgICApLmFkZFRvKG1hcF84ODJhZmMzOTk4OTg0YWY4YTg1Yzk2OTc4N2QzYmRmOCk7CiAgICAgICAgCiAgICAKICAgICAgICB2YXIgcG9wdXBfNWQwYjhkMDEzNDQwNDdlMWJkNWFlZWQxZmJjNjI0ZjMgPSBMLnBvcHVwKHsibWF4V2lkdGgiOiAiMTAwJSJ9KTsKCiAgICAgICAgCiAgICAgICAgICAgIHZhciBodG1sXzMzMjdmNGQzMTM4YzQ5M2Q5ODg1MDdhNjlkMDdmZGNlID0gJChgPGRpdiBpZD0iaHRtbF8zMzI3ZjRkMzEzOGM0OTNkOTg4NTA3YTY5ZDA3ZmRjZSIgc3R5bGU9IndpZHRoOiAxMDAuMCU7IGhlaWdodDogMTAwLjAlOyI+RGVlciBQYXJrLCBGb3Jlc3QgSGlsbCBTRSwgUmF0aG5lbGx5LCBTb3V0aCBIaWxsLCBTdW1tZXJoaWxsIFdlc3QsIENlbnRyYWwgVG9yb250bzwvZGl2PmApWzBdOwogICAgICAgICAgICBwb3B1cF81ZDBiOGQwMTM0NDA0N2UxYmQ1YWVlZDFmYmM2MjRmMy5zZXRDb250ZW50KGh0bWxfMzMyN2Y0ZDMxMzhjNDkzZDk4ODUwN2E2OWQwN2ZkY2UpOwogICAgICAgIAoKICAgICAgICBjaXJjbGVfbWFya2VyX2YxYmEwZDUzNWI4ZjQ0ODdhNjU0OGVlNGJkMGRhNmI5LmJpbmRQb3B1cChwb3B1cF81ZDBiOGQwMTM0NDA0N2UxYmQ1YWVlZDFmYmM2MjRmMykKICAgICAgICA7CgogICAgICAgIAogICAgCiAgICAKICAgICAgICAgICAgdmFyIGNpcmNsZV9tYXJrZXJfYzc4YTliOGUyMDc1NDlhMjg2NTgxMTFlNTMzYmZhZmMgPSBMLmNpcmNsZU1hcmtlcigKICAgICAgICAgICAgICAgIFs0My42Mjg5NDY3LCAtNzkuMzk0NDE5OV0sCiAgICAgICAgICAgICAgICB7ImJ1YmJsaW5nTW91c2VFdmVudHMiOiB0cnVlLCAiY29sb3IiOiAiYmx1ZSIsICJkYXNoQXJyYXkiOiBudWxsLCAiZGFzaE9mZnNldCI6IG51bGwsICJmaWxsIjogdHJ1ZSwgImZpbGxDb2xvciI6ICIjMzE4NmNjIiwgImZpbGxPcGFjaXR5IjogMC43LCAiZmlsbFJ1bGUiOiAiZXZlbm9kZCIsICJsaW5lQ2FwIjogInJvdW5kIiwgImxpbmVKb2luIjogInJvdW5kIiwgIm9wYWNpdHkiOiAxLjAsICJyYWRpdXMiOiA1LCAic3Ryb2tlIjogdHJ1ZSwgIndlaWdodCI6IDN9CiAgICAgICAgICAgICkuYWRkVG8obWFwXzg4MmFmYzM5OTg5ODRhZjhhODVjOTY5Nzg3ZDNiZGY4KTsKICAgICAgICAKICAgIAogICAgICAgIHZhciBwb3B1cF8xMGI5YWExYTI2ZWU0ZjI3ODViMmFlNzhiNGE0YWMzZCA9IEwucG9wdXAoeyJtYXhXaWR0aCI6ICIxMDAlIn0pOwoKICAgICAgICAKICAgICAgICAgICAgdmFyIGh0bWxfNWE1YjcwMWMxMDk0NDMxMmJjYTI3MDU0ZGU2MjAwM2MgPSAkKGA8ZGl2IGlkPSJodG1sXzVhNWI3MDFjMTA5NDQzMTJiY2EyNzA1NGRlNjIwMDNjIiBzdHlsZT0id2lkdGg6IDEwMC4wJTsgaGVpZ2h0OiAxMDAuMCU7Ij5DTiBUb3dlciwgQmF0aHVyc3QgUXVheSwgSXNsYW5kIGFpcnBvcnQsIEhhcmJvdXJmcm9udCBXZXN0LCBLaW5nIGFuZCBTcGFkaW5hLCBSYWlsd2F5IExhbmRzLCBTb3V0aCBOaWFnYXJhLCBEb3dudG93biBUb3JvbnRvPC9kaXY+YClbMF07CiAgICAgICAgICAgIHBvcHVwXzEwYjlhYTFhMjZlZTRmMjc4NWIyYWU3OGI0YTRhYzNkLnNldENvbnRlbnQoaHRtbF81YTViNzAxYzEwOTQ0MzEyYmNhMjcwNTRkZTYyMDAzYyk7CiAgICAgICAgCgogICAgICAgIGNpcmNsZV9tYXJrZXJfYzc4YTliOGUyMDc1NDlhMjg2NTgxMTFlNTMzYmZhZmMuYmluZFBvcHVwKHBvcHVwXzEwYjlhYTFhMjZlZTRmMjc4NWIyYWU3OGI0YTRhYzNkKQogICAgICAgIDsKCiAgICAgICAgCiAgICAKICAgIAogICAgICAgICAgICB2YXIgY2lyY2xlX21hcmtlcl83OTYwNTExNzRhNWU0ZjYyOWZjM2Q1NjJjMzhmMGRkNCA9IEwuY2lyY2xlTWFya2VyKAogICAgICAgICAgICAgICAgWzQzLjYwNTY0NjYsIC03OS41MDEzMjA3MDAwMDAwMV0sCiAgICAgICAgICAgICAgICB7ImJ1YmJsaW5nTW91c2VFdmVudHMiOiB0cnVlLCAiY29sb3IiOiAiYmx1ZSIsICJkYXNoQXJyYXkiOiBudWxsLCAiZGFzaE9mZnNldCI6IG51bGwsICJmaWxsIjogdHJ1ZSwgImZpbGxDb2xvciI6ICIjMzE4NmNjIiwgImZpbGxPcGFjaXR5IjogMC43LCAiZmlsbFJ1bGUiOiAiZXZlbm9kZCIsICJsaW5lQ2FwIjogInJvdW5kIiwgImxpbmVKb2luIjogInJvdW5kIiwgIm9wYWNpdHkiOiAxLjAsICJyYWRpdXMiOiA1LCAic3Ryb2tlIjogdHJ1ZSwgIndlaWdodCI6IDN9CiAgICAgICAgICAgICkuYWRkVG8obWFwXzg4MmFmYzM5OTg5ODRhZjhhODVjOTY5Nzg3ZDNiZGY4KTsKICAgICAgICAKICAgIAogICAgICAgIHZhciBwb3B1cF85MDRjZmJiNWRhZTY0YmNhOTZhNTgzZDE3MWMzNGFhZCA9IEwucG9wdXAoeyJtYXhXaWR0aCI6ICIxMDAlIn0pOwoKICAgICAgICAKICAgICAgICAgICAgdmFyIGh0bWxfMzQxYWE5N2JhNmE4NDZmZDk1YThlOWQxOTdkZDFjNGUgPSAkKGA8ZGl2IGlkPSJodG1sXzM0MWFhOTdiYTZhODQ2ZmQ5NWE4ZTlkMTk3ZGQxYzRlIiBzdHlsZT0id2lkdGg6IDEwMC4wJTsgaGVpZ2h0OiAxMDAuMCU7Ij5IdW1iZXIgQmF5IFNob3JlcywgTWltaWNvIFNvdXRoLCBOZXcgVG9yb250bywgRXRvYmljb2tlPC9kaXY+YClbMF07CiAgICAgICAgICAgIHBvcHVwXzkwNGNmYmI1ZGFlNjRiY2E5NmE1ODNkMTcxYzM0YWFkLnNldENvbnRlbnQoaHRtbF8zNDFhYTk3YmE2YTg0NmZkOTVhOGU5ZDE5N2RkMWM0ZSk7CiAgICAgICAgCgogICAgICAgIGNpcmNsZV9tYXJrZXJfNzk2MDUxMTc0YTVlNGY2MjlmYzNkNTYyYzM4ZjBkZDQuYmluZFBvcHVwKHBvcHVwXzkwNGNmYmI1ZGFlNjRiY2E5NmE1ODNkMTcxYzM0YWFkKQogICAgICAgIDsKCiAgICAgICAgCiAgICAKICAgIAogICAgICAgICAgICB2YXIgY2lyY2xlX21hcmtlcl9lZDgxMTI3OTYzZTU0ZTU5OTEyNjk5MGNlZjU1NzVjOCA9IEwuY2lyY2xlTWFya2VyKAogICAgICAgICAgICAgICAgWzQzLjczOTQxNjM5OTk5OTk5NiwgLTc5LjU4ODQzNjldLAogICAgICAgICAgICAgICAgeyJidWJibGluZ01vdXNlRXZlbnRzIjogdHJ1ZSwgImNvbG9yIjogImJsdWUiLCAiZGFzaEFycmF5IjogbnVsbCwgImRhc2hPZmZzZXQiOiBudWxsLCAiZmlsbCI6IHRydWUsICJmaWxsQ29sb3IiOiAiIzMxODZjYyIsICJmaWxsT3BhY2l0eSI6IDAuNywgImZpbGxSdWxlIjogImV2ZW5vZGQiLCAibGluZUNhcCI6ICJyb3VuZCIsICJsaW5lSm9pbiI6ICJyb3VuZCIsICJvcGFjaXR5IjogMS4wLCAicmFkaXVzIjogNSwgInN0cm9rZSI6IHRydWUsICJ3ZWlnaHQiOiAzfQogICAgICAgICAgICApLmFkZFRvKG1hcF84ODJhZmMzOTk4OTg0YWY4YTg1Yzk2OTc4N2QzYmRmOCk7CiAgICAgICAgCiAgICAKICAgICAgICB2YXIgcG9wdXBfMmEwMThhZWU5MGQyNGI3MWI3MmY2ZTdlNjc2ZWYwNWYgPSBMLnBvcHVwKHsibWF4V2lkdGgiOiAiMTAwJSJ9KTsKCiAgICAgICAgCiAgICAgICAgICAgIHZhciBodG1sX2UxMTc2OTMyMTY2MTRjZTNhOTE4MmEyOTlkNmFlZjgyID0gJChgPGRpdiBpZD0iaHRtbF9lMTE3NjkzMjE2NjE0Y2UzYTkxODJhMjk5ZDZhZWY4MiIgc3R5bGU9IndpZHRoOiAxMDAuMCU7IGhlaWdodDogMTAwLjAlOyI+QWxiaW9uIEdhcmRlbnMsIEJlYXVtb25kIEhlaWdodHMsIEh1bWJlcmdhdGUsIEphbWVzdG93biwgTW91bnQgT2xpdmUsIFNpbHZlcnN0b25lLCBTb3V0aCBTdGVlbGVzLCBUaGlzdGxldG93biwgRXRvYmljb2tlPC9kaXY+YClbMF07CiAgICAgICAgICAgIHBvcHVwXzJhMDE4YWVlOTBkMjRiNzFiNzJmNmU3ZTY3NmVmMDVmLnNldENvbnRlbnQoaHRtbF9lMTE3NjkzMjE2NjE0Y2UzYTkxODJhMjk5ZDZhZWY4Mik7CiAgICAgICAgCgogICAgICAgIGNpcmNsZV9tYXJrZXJfZWQ4MTEyNzk2M2U1NGU1OTkxMjY5OTBjZWY1NTc1YzguYmluZFBvcHVwKHBvcHVwXzJhMDE4YWVlOTBkMjRiNzFiNzJmNmU3ZTY3NmVmMDVmKQogICAgICAgIDsKCiAgICAgICAgCiAgICAKICAgIAogICAgICAgICAgICB2YXIgY2lyY2xlX21hcmtlcl8xOTYyNDYwOTAwZWI0ZmI2ODRmNGE2YTAzZjVkZTkzYiA9IEwuY2lyY2xlTWFya2VyKAogICAgICAgICAgICAgICAgWzQzLjc5OTUyNTIwMDAwMDAwNSwgLTc5LjMxODM4ODddLAogICAgICAgICAgICAgICAgeyJidWJibGluZ01vdXNlRXZlbnRzIjogdHJ1ZSwgImNvbG9yIjogImJsdWUiLCAiZGFzaEFycmF5IjogbnVsbCwgImRhc2hPZmZzZXQiOiBudWxsLCAiZmlsbCI6IHRydWUsICJmaWxsQ29sb3IiOiAiIzMxODZjYyIsICJmaWxsT3BhY2l0eSI6IDAuNywgImZpbGxSdWxlIjogImV2ZW5vZGQiLCAibGluZUNhcCI6ICJyb3VuZCIsICJsaW5lSm9pbiI6ICJyb3VuZCIsICJvcGFjaXR5IjogMS4wLCAicmFkaXVzIjogNSwgInN0cm9rZSI6IHRydWUsICJ3ZWlnaHQiOiAzfQogICAgICAgICAgICApLmFkZFRvKG1hcF84ODJhZmMzOTk4OTg0YWY4YTg1Yzk2OTc4N2QzYmRmOCk7CiAgICAgICAgCiAgICAKICAgICAgICB2YXIgcG9wdXBfZTVhZjgwODlmMzFkNDI0NmJmZDI1YzYzNGE1M2U2NWUgPSBMLnBvcHVwKHsibWF4V2lkdGgiOiAiMTAwJSJ9KTsKCiAgICAgICAgCiAgICAgICAgICAgIHZhciBodG1sXzA3NDUyNDYzNWRjNjRlYWQ4YmJlY2U2ZjcwYmYyOTIzID0gJChgPGRpdiBpZD0iaHRtbF8wNzQ1MjQ2MzVkYzY0ZWFkOGJiZWNlNmY3MGJmMjkyMyIgc3R5bGU9IndpZHRoOiAxMDAuMCU7IGhlaWdodDogMTAwLjAlOyI+TCYjMzk7QW1vcmVhdXggV2VzdCwgU2NhcmJvcm91Z2g8L2Rpdj5gKVswXTsKICAgICAgICAgICAgcG9wdXBfZTVhZjgwODlmMzFkNDI0NmJmZDI1YzYzNGE1M2U2NWUuc2V0Q29udGVudChodG1sXzA3NDUyNDYzNWRjNjRlYWQ4YmJlY2U2ZjcwYmYyOTIzKTsKICAgICAgICAKCiAgICAgICAgY2lyY2xlX21hcmtlcl8xOTYyNDYwOTAwZWI0ZmI2ODRmNGE2YTAzZjVkZTkzYi5iaW5kUG9wdXAocG9wdXBfZTVhZjgwODlmMzFkNDI0NmJmZDI1YzYzNGE1M2U2NWUpCiAgICAgICAgOwoKICAgICAgICAKICAgIAogICAgCiAgICAgICAgICAgIHZhciBjaXJjbGVfbWFya2VyX2ExMTdmMjBhMDIwMzQzYTVhNjEwNDE2YzhlYmJkMTRiID0gTC5jaXJjbGVNYXJrZXIoCiAgICAgICAgICAgICAgICBbNDMuNjc5NTYyNiwgLTc5LjM3NzUyOTQwMDAwMDAxXSwKICAgICAgICAgICAgICAgIHsiYnViYmxpbmdNb3VzZUV2ZW50cyI6IHRydWUsICJjb2xvciI6ICJibHVlIiwgImRhc2hBcnJheSI6IG51bGwsICJkYXNoT2Zmc2V0IjogbnVsbCwgImZpbGwiOiB0cnVlLCAiZmlsbENvbG9yIjogIiMzMTg2Y2MiLCAiZmlsbE9wYWNpdHkiOiAwLjcsICJmaWxsUnVsZSI6ICJldmVub2RkIiwgImxpbmVDYXAiOiAicm91bmQiLCAibGluZUpvaW4iOiAicm91bmQiLCAib3BhY2l0eSI6IDEuMCwgInJhZGl1cyI6IDUsICJzdHJva2UiOiB0cnVlLCAid2VpZ2h0IjogM30KICAgICAgICAgICAgKS5hZGRUbyhtYXBfODgyYWZjMzk5ODk4NGFmOGE4NWM5Njk3ODdkM2JkZjgpOwogICAgICAgIAogICAgCiAgICAgICAgdmFyIHBvcHVwXzg0OWNmOGM1MGMyMjQ0ZTg5N2MxZjk3ZjE0YTY1MDI5ID0gTC5wb3B1cCh7Im1heFdpZHRoIjogIjEwMCUifSk7CgogICAgICAgIAogICAgICAgICAgICB2YXIgaHRtbF8wYzVjZTcxZDJiYWY0OTk5YTdhNjQ2MGEyZGRkNzBiZCA9ICQoYDxkaXYgaWQ9Imh0bWxfMGM1Y2U3MWQyYmFmNDk5OWE3YTY0NjBhMmRkZDcwYmQiIHN0eWxlPSJ3aWR0aDogMTAwLjAlOyBoZWlnaHQ6IDEwMC4wJTsiPlJvc2VkYWxlLCBEb3dudG93biBUb3JvbnRvPC9kaXY+YClbMF07CiAgICAgICAgICAgIHBvcHVwXzg0OWNmOGM1MGMyMjQ0ZTg5N2MxZjk3ZjE0YTY1MDI5LnNldENvbnRlbnQoaHRtbF8wYzVjZTcxZDJiYWY0OTk5YTdhNjQ2MGEyZGRkNzBiZCk7CiAgICAgICAgCgogICAgICAgIGNpcmNsZV9tYXJrZXJfYTExN2YyMGEwMjAzNDNhNWE2MTA0MTZjOGViYmQxNGIuYmluZFBvcHVwKHBvcHVwXzg0OWNmOGM1MGMyMjQ0ZTg5N2MxZjk3ZjE0YTY1MDI5KQogICAgICAgIDsKCiAgICAgICAgCiAgICAKICAgIAogICAgICAgICAgICB2YXIgY2lyY2xlX21hcmtlcl8xZWI5NTUzZTIwM2M0NTdkODFkM2Q0OTlkMWU4MDQ3MCA9IEwuY2lyY2xlTWFya2VyKAogICAgICAgICAgICAgICAgWzQzLjY0NjQzNTIsIC03OS4zNzQ4NDU5OTk5OTk5OV0sCiAgICAgICAgICAgICAgICB7ImJ1YmJsaW5nTW91c2VFdmVudHMiOiB0cnVlLCAiY29sb3IiOiAiYmx1ZSIsICJkYXNoQXJyYXkiOiBudWxsLCAiZGFzaE9mZnNldCI6IG51bGwsICJmaWxsIjogdHJ1ZSwgImZpbGxDb2xvciI6ICIjMzE4NmNjIiwgImZpbGxPcGFjaXR5IjogMC43LCAiZmlsbFJ1bGUiOiAiZXZlbm9kZCIsICJsaW5lQ2FwIjogInJvdW5kIiwgImxpbmVKb2luIjogInJvdW5kIiwgIm9wYWNpdHkiOiAxLjAsICJyYWRpdXMiOiA1LCAic3Ryb2tlIjogdHJ1ZSwgIndlaWdodCI6IDN9CiAgICAgICAgICAgICkuYWRkVG8obWFwXzg4MmFmYzM5OTg5ODRhZjhhODVjOTY5Nzg3ZDNiZGY4KTsKICAgICAgICAKICAgIAogICAgICAgIHZhciBwb3B1cF9hNzkxY2FiNGNmMDY0NzZkOTAzZjdiNzVmM2Y3ZWNmNyA9IEwucG9wdXAoeyJtYXhXaWR0aCI6ICIxMDAlIn0pOwoKICAgICAgICAKICAgICAgICAgICAgdmFyIGh0bWxfY2VmMjgxMjIzMDMwNGViOGIxYmYxMTJiMmQ3MGFiYmQgPSAkKGA8ZGl2IGlkPSJodG1sX2NlZjI4MTIyMzAzMDRlYjhiMWJmMTEyYjJkNzBhYmJkIiBzdHlsZT0id2lkdGg6IDEwMC4wJTsgaGVpZ2h0OiAxMDAuMCU7Ij5TdG4gQSBQTyBCb3hlcyAyNSBUaGUgRXNwbGFuYWRlLCBEb3dudG93biBUb3JvbnRvPC9kaXY+YClbMF07CiAgICAgICAgICAgIHBvcHVwX2E3OTFjYWI0Y2YwNjQ3NmQ5MDNmN2I3NWYzZjdlY2Y3LnNldENvbnRlbnQoaHRtbF9jZWYyODEyMjMwMzA0ZWI4YjFiZjExMmIyZDcwYWJiZCk7CiAgICAgICAgCgogICAgICAgIGNpcmNsZV9tYXJrZXJfMWViOTU1M2UyMDNjNDU3ZDgxZDNkNDk5ZDFlODA0NzAuYmluZFBvcHVwKHBvcHVwX2E3OTFjYWI0Y2YwNjQ3NmQ5MDNmN2I3NWYzZjdlY2Y3KQogICAgICAgIDsKCiAgICAgICAgCiAgICAKICAgIAogICAgICAgICAgICB2YXIgY2lyY2xlX21hcmtlcl9hNWM2ZGU0M2NhMWI0NTViYjU3OGJkNTMxZjI2NmEyMSA9IEwuY2lyY2xlTWFya2VyKAogICAgICAgICAgICAgICAgWzQzLjYwMjQxMzcwMDAwMDAxLCAtNzkuNTQzNDg0MDk5OTk5OTldLAogICAgICAgICAgICAgICAgeyJidWJibGluZ01vdXNlRXZlbnRzIjogdHJ1ZSwgImNvbG9yIjogImJsdWUiLCAiZGFzaEFycmF5IjogbnVsbCwgImRhc2hPZmZzZXQiOiBudWxsLCAiZmlsbCI6IHRydWUsICJmaWxsQ29sb3IiOiAiIzMxODZjYyIsICJmaWxsT3BhY2l0eSI6IDAuNywgImZpbGxSdWxlIjogImV2ZW5vZGQiLCAibGluZUNhcCI6ICJyb3VuZCIsICJsaW5lSm9pbiI6ICJyb3VuZCIsICJvcGFjaXR5IjogMS4wLCAicmFkaXVzIjogNSwgInN0cm9rZSI6IHRydWUsICJ3ZWlnaHQiOiAzfQogICAgICAgICAgICApLmFkZFRvKG1hcF84ODJhZmMzOTk4OTg0YWY4YTg1Yzk2OTc4N2QzYmRmOCk7CiAgICAgICAgCiAgICAKICAgICAgICB2YXIgcG9wdXBfMWZkZTMyZTk4NGM1NDBjOThlYmFkMTFhNjk3YWYwODcgPSBMLnBvcHVwKHsibWF4V2lkdGgiOiAiMTAwJSJ9KTsKCiAgICAgICAgCiAgICAgICAgICAgIHZhciBodG1sX2RkMTc4ZGVmYTU2YzQzMjc5M2YyZjZlNTE1Y2NmODE3ID0gJChgPGRpdiBpZD0iaHRtbF9kZDE3OGRlZmE1NmM0MzI3OTNmMmY2ZTUxNWNjZjgxNyIgc3R5bGU9IndpZHRoOiAxMDAuMCU7IGhlaWdodDogMTAwLjAlOyI+QWxkZXJ3b29kLCBMb25nIEJyYW5jaCwgRXRvYmljb2tlPC9kaXY+YClbMF07CiAgICAgICAgICAgIHBvcHVwXzFmZGUzMmU5ODRjNTQwYzk4ZWJhZDExYTY5N2FmMDg3LnNldENvbnRlbnQoaHRtbF9kZDE3OGRlZmE1NmM0MzI3OTNmMmY2ZTUxNWNjZjgxNyk7CiAgICAgICAgCgogICAgICAgIGNpcmNsZV9tYXJrZXJfYTVjNmRlNDNjYTFiNDU1YmI1NzhiZDUzMWYyNjZhMjEuYmluZFBvcHVwKHBvcHVwXzFmZGUzMmU5ODRjNTQwYzk4ZWJhZDExYTY5N2FmMDg3KQogICAgICAgIDsKCiAgICAgICAgCiAgICAKICAgIAogICAgICAgICAgICB2YXIgY2lyY2xlX21hcmtlcl8xYWVlYTgxNWRmNWQ0MmNlYjIxMzIyOTM1ZjAxZWY2ZiA9IEwuY2lyY2xlTWFya2VyKAogICAgICAgICAgICAgICAgWzQzLjcwNjc0ODI5OTk5OTk5NCwgLTc5LjU5NDA1NDRdLAogICAgICAgICAgICAgICAgeyJidWJibGluZ01vdXNlRXZlbnRzIjogdHJ1ZSwgImNvbG9yIjogImJsdWUiLCAiZGFzaEFycmF5IjogbnVsbCwgImRhc2hPZmZzZXQiOiBudWxsLCAiZmlsbCI6IHRydWUsICJmaWxsQ29sb3IiOiAiIzMxODZjYyIsICJmaWxsT3BhY2l0eSI6IDAuNywgImZpbGxSdWxlIjogImV2ZW5vZGQiLCAibGluZUNhcCI6ICJyb3VuZCIsICJsaW5lSm9pbiI6ICJyb3VuZCIsICJvcGFjaXR5IjogMS4wLCAicmFkaXVzIjogNSwgInN0cm9rZSI6IHRydWUsICJ3ZWlnaHQiOiAzfQogICAgICAgICAgICApLmFkZFRvKG1hcF84ODJhZmMzOTk4OTg0YWY4YTg1Yzk2OTc4N2QzYmRmOCk7CiAgICAgICAgCiAgICAKICAgICAgICB2YXIgcG9wdXBfNWEzMzVlZDYxZjQ5NGI5M2E0MDliNDg3YjU3ZTQ3ZTAgPSBMLnBvcHVwKHsibWF4V2lkdGgiOiAiMTAwJSJ9KTsKCiAgICAgICAgCiAgICAgICAgICAgIHZhciBodG1sX2E0N2ZjMzZhMTI0OTQyYmM5YTc2OTRlMGIyMDkwMTkyID0gJChgPGRpdiBpZD0iaHRtbF9hNDdmYzM2YTEyNDk0MmJjOWE3Njk0ZTBiMjA5MDE5MiIgc3R5bGU9IndpZHRoOiAxMDAuMCU7IGhlaWdodDogMTAwLjAlOyI+Tm9ydGh3ZXN0LCBFdG9iaWNva2U8L2Rpdj5gKVswXTsKICAgICAgICAgICAgcG9wdXBfNWEzMzVlZDYxZjQ5NGI5M2E0MDliNDg3YjU3ZTQ3ZTAuc2V0Q29udGVudChodG1sX2E0N2ZjMzZhMTI0OTQyYmM5YTc2OTRlMGIyMDkwMTkyKTsKICAgICAgICAKCiAgICAgICAgY2lyY2xlX21hcmtlcl8xYWVlYTgxNWRmNWQ0MmNlYjIxMzIyOTM1ZjAxZWY2Zi5iaW5kUG9wdXAocG9wdXBfNWEzMzVlZDYxZjQ5NGI5M2E0MDliNDg3YjU3ZTQ3ZTApCiAgICAgICAgOwoKICAgICAgICAKICAgIAogICAgCiAgICAgICAgICAgIHZhciBjaXJjbGVfbWFya2VyXzJkMjJlOTVjYTkwMDRkMzliYmQ2ZWMwMGJkYTA0ZWFmID0gTC5jaXJjbGVNYXJrZXIoCiAgICAgICAgICAgICAgICBbNDMuODM2MTI0NzAwMDAwMDA2LCAtNzkuMjA1NjM2MDk5OTk5OTldLAogICAgICAgICAgICAgICAgeyJidWJibGluZ01vdXNlRXZlbnRzIjogdHJ1ZSwgImNvbG9yIjogImJsdWUiLCAiZGFzaEFycmF5IjogbnVsbCwgImRhc2hPZmZzZXQiOiBudWxsLCAiZmlsbCI6IHRydWUsICJmaWxsQ29sb3IiOiAiIzMxODZjYyIsICJmaWxsT3BhY2l0eSI6IDAuNywgImZpbGxSdWxlIjogImV2ZW5vZGQiLCAibGluZUNhcCI6ICJyb3VuZCIsICJsaW5lSm9pbiI6ICJyb3VuZCIsICJvcGFjaXR5IjogMS4wLCAicmFkaXVzIjogNSwgInN0cm9rZSI6IHRydWUsICJ3ZWlnaHQiOiAzfQogICAgICAgICAgICApLmFkZFRvKG1hcF84ODJhZmMzOTk4OTg0YWY4YTg1Yzk2OTc4N2QzYmRmOCk7CiAgICAgICAgCiAgICAKICAgICAgICB2YXIgcG9wdXBfMjE0NjQyMmNmNTE5NDk5Y2JhNWY3Yjk3NmYyNzg4ZGYgPSBMLnBvcHVwKHsibWF4V2lkdGgiOiAiMTAwJSJ9KTsKCiAgICAgICAgCiAgICAgICAgICAgIHZhciBodG1sXzA0ODY4YWE5ZGEyZTRjNzFhZTE0NDQ1MWU0MjI5YWRmID0gJChgPGRpdiBpZD0iaHRtbF8wNDg2OGFhOWRhMmU0YzcxYWUxNDQ0NTFlNDIyOWFkZiIgc3R5bGU9IndpZHRoOiAxMDAuMCU7IGhlaWdodDogMTAwLjAlOyI+VXBwZXIgUm91Z2UsIFNjYXJib3JvdWdoPC9kaXY+YClbMF07CiAgICAgICAgICAgIHBvcHVwXzIxNDY0MjJjZjUxOTQ5OWNiYTVmN2I5NzZmMjc4OGRmLnNldENvbnRlbnQoaHRtbF8wNDg2OGFhOWRhMmU0YzcxYWUxNDQ0NTFlNDIyOWFkZik7CiAgICAgICAgCgogICAgICAgIGNpcmNsZV9tYXJrZXJfMmQyMmU5NWNhOTAwNGQzOWJiZDZlYzAwYmRhMDRlYWYuYmluZFBvcHVwKHBvcHVwXzIxNDY0MjJjZjUxOTQ5OWNiYTVmN2I5NzZmMjc4OGRmKQogICAgICAgIDsKCiAgICAgICAgCiAgICAKICAgIAogICAgICAgICAgICB2YXIgY2lyY2xlX21hcmtlcl8xM2ViNjFiZDU3NmE0NzFhYTRhNDZmMGRmNWQzMmRiZiA9IEwuY2lyY2xlTWFya2VyKAogICAgICAgICAgICAgICAgWzQzLjY2Nzk2NywgLTc5LjM2NzY3NTNdLAogICAgICAgICAgICAgICAgeyJidWJibGluZ01vdXNlRXZlbnRzIjogdHJ1ZSwgImNvbG9yIjogImJsdWUiLCAiZGFzaEFycmF5IjogbnVsbCwgImRhc2hPZmZzZXQiOiBudWxsLCAiZmlsbCI6IHRydWUsICJmaWxsQ29sb3IiOiAiIzMxODZjYyIsICJmaWxsT3BhY2l0eSI6IDAuNywgImZpbGxSdWxlIjogImV2ZW5vZGQiLCAibGluZUNhcCI6ICJyb3VuZCIsICJsaW5lSm9pbiI6ICJyb3VuZCIsICJvcGFjaXR5IjogMS4wLCAicmFkaXVzIjogNSwgInN0cm9rZSI6IHRydWUsICJ3ZWlnaHQiOiAzfQogICAgICAgICAgICApLmFkZFRvKG1hcF84ODJhZmMzOTk4OTg0YWY4YTg1Yzk2OTc4N2QzYmRmOCk7CiAgICAgICAgCiAgICAKICAgICAgICB2YXIgcG9wdXBfMTg2ZGEzOTgxODg3NDQ4MWJmN2UxYzczNWYyYTI1YWMgPSBMLnBvcHVwKHsibWF4V2lkdGgiOiAiMTAwJSJ9KTsKCiAgICAgICAgCiAgICAgICAgICAgIHZhciBodG1sXzY1NTVmN2Q2ZjcwMzQ0YjliNjg2MmM5ZjIxYzEzMTkzID0gJChgPGRpdiBpZD0iaHRtbF82NTU1ZjdkNmY3MDM0NGI5YjY4NjJjOWYyMWMxMzE5MyIgc3R5bGU9IndpZHRoOiAxMDAuMCU7IGhlaWdodDogMTAwLjAlOyI+Q2FiYmFnZXRvd24sIFN0LiBKYW1lcyBUb3duLCBEb3dudG93biBUb3JvbnRvPC9kaXY+YClbMF07CiAgICAgICAgICAgIHBvcHVwXzE4NmRhMzk4MTg4NzQ0ODFiZjdlMWM3MzVmMmEyNWFjLnNldENvbnRlbnQoaHRtbF82NTU1ZjdkNmY3MDM0NGI5YjY4NjJjOWYyMWMxMzE5Myk7CiAgICAgICAgCgogICAgICAgIGNpcmNsZV9tYXJrZXJfMTNlYjYxYmQ1NzZhNDcxYWE0YTQ2ZjBkZjVkMzJkYmYuYmluZFBvcHVwKHBvcHVwXzE4NmRhMzk4MTg4NzQ0ODFiZjdlMWM3MzVmMmEyNWFjKQogICAgICAgIDsKCiAgICAgICAgCiAgICAKICAgIAogICAgICAgICAgICB2YXIgY2lyY2xlX21hcmtlcl82Y2RlMWQwNTI4NDI0MTY3OTRmY2UxNDI3ZDhiYmRiNyA9IEwuY2lyY2xlTWFya2VyKAogICAgICAgICAgICAgICAgWzQzLjY0ODQyOTIsIC03OS4zODIyODAyXSwKICAgICAgICAgICAgICAgIHsiYnViYmxpbmdNb3VzZUV2ZW50cyI6IHRydWUsICJjb2xvciI6ICJibHVlIiwgImRhc2hBcnJheSI6IG51bGwsICJkYXNoT2Zmc2V0IjogbnVsbCwgImZpbGwiOiB0cnVlLCAiZmlsbENvbG9yIjogIiMzMTg2Y2MiLCAiZmlsbE9wYWNpdHkiOiAwLjcsICJmaWxsUnVsZSI6ICJldmVub2RkIiwgImxpbmVDYXAiOiAicm91bmQiLCAibGluZUpvaW4iOiAicm91bmQiLCAib3BhY2l0eSI6IDEuMCwgInJhZGl1cyI6IDUsICJzdHJva2UiOiB0cnVlLCAid2VpZ2h0IjogM30KICAgICAgICAgICAgKS5hZGRUbyhtYXBfODgyYWZjMzk5ODk4NGFmOGE4NWM5Njk3ODdkM2JkZjgpOwogICAgICAgIAogICAgCiAgICAgICAgdmFyIHBvcHVwX2IwYjZjMjNiOTBkNTQ3NWY5YzY0YTIwNjQ4ZjNiMmY3ID0gTC5wb3B1cCh7Im1heFdpZHRoIjogIjEwMCUifSk7CgogICAgICAgIAogICAgICAgICAgICB2YXIgaHRtbF9hMGEzNjc1MzZkNDI0NzMwOWU4NzRjMDIzODdmOGU0NyA9ICQoYDxkaXYgaWQ9Imh0bWxfYTBhMzY3NTM2ZDQyNDczMDllODc0YzAyMzg3ZjhlNDciIHN0eWxlPSJ3aWR0aDogMTAwLjAlOyBoZWlnaHQ6IDEwMC4wJTsiPkZpcnN0IENhbmFkaWFuIFBsYWNlLCBVbmRlcmdyb3VuZCBjaXR5LCBEb3dudG93biBUb3JvbnRvPC9kaXY+YClbMF07CiAgICAgICAgICAgIHBvcHVwX2IwYjZjMjNiOTBkNTQ3NWY5YzY0YTIwNjQ4ZjNiMmY3LnNldENvbnRlbnQoaHRtbF9hMGEzNjc1MzZkNDI0NzMwOWU4NzRjMDIzODdmOGU0Nyk7CiAgICAgICAgCgogICAgICAgIGNpcmNsZV9tYXJrZXJfNmNkZTFkMDUyODQyNDE2Nzk0ZmNlMTQyN2Q4YmJkYjcuYmluZFBvcHVwKHBvcHVwX2IwYjZjMjNiOTBkNTQ3NWY5YzY0YTIwNjQ4ZjNiMmY3KQogICAgICAgIDsKCiAgICAgICAgCiAgICAKICAgIAogICAgICAgICAgICB2YXIgY2lyY2xlX21hcmtlcl82YTdlYjA0ZDBmMzE0NDg0ODYzM2FjMzJiNGVhNGY2OCA9IEwuY2lyY2xlTWFya2VyKAogICAgICAgICAgICAgICAgWzQzLjY1MzY1MzYwMDAwMDAwNSwgLTc5LjUwNjk0MzZdLAogICAgICAgICAgICAgICAgeyJidWJibGluZ01vdXNlRXZlbnRzIjogdHJ1ZSwgImNvbG9yIjogImJsdWUiLCAiZGFzaEFycmF5IjogbnVsbCwgImRhc2hPZmZzZXQiOiBudWxsLCAiZmlsbCI6IHRydWUsICJmaWxsQ29sb3IiOiAiIzMxODZjYyIsICJmaWxsT3BhY2l0eSI6IDAuNywgImZpbGxSdWxlIjogImV2ZW5vZGQiLCAibGluZUNhcCI6ICJyb3VuZCIsICJsaW5lSm9pbiI6ICJyb3VuZCIsICJvcGFjaXR5IjogMS4wLCAicmFkaXVzIjogNSwgInN0cm9rZSI6IHRydWUsICJ3ZWlnaHQiOiAzfQogICAgICAgICAgICApLmFkZFRvKG1hcF84ODJhZmMzOTk4OTg0YWY4YTg1Yzk2OTc4N2QzYmRmOCk7CiAgICAgICAgCiAgICAKICAgICAgICB2YXIgcG9wdXBfY2UxYzA2ZjgyMGY4NDUxMmFkNDgxMzFhMGI0M2MyNDggPSBMLnBvcHVwKHsibWF4V2lkdGgiOiAiMTAwJSJ9KTsKCiAgICAgICAgCiAgICAgICAgICAgIHZhciBodG1sXzM5NmY4YzAzN2RlNDRmMDJhZWE3MWU3OTczMzMwYjg3ID0gJChgPGRpdiBpZD0iaHRtbF8zOTZmOGMwMzdkZTQ0ZjAyYWVhNzFlNzk3MzMzMGI4NyIgc3R5bGU9IndpZHRoOiAxMDAuMCU7IGhlaWdodDogMTAwLjAlOyI+VGhlIEtpbmdzd2F5LCBNb250Z29tZXJ5IFJvYWQsIE9sZCBNaWxsIE5vcnRoLCBFdG9iaWNva2U8L2Rpdj5gKVswXTsKICAgICAgICAgICAgcG9wdXBfY2UxYzA2ZjgyMGY4NDUxMmFkNDgxMzFhMGI0M2MyNDguc2V0Q29udGVudChodG1sXzM5NmY4YzAzN2RlNDRmMDJhZWE3MWU3OTczMzMwYjg3KTsKICAgICAgICAKCiAgICAgICAgY2lyY2xlX21hcmtlcl82YTdlYjA0ZDBmMzE0NDg0ODYzM2FjMzJiNGVhNGY2OC5iaW5kUG9wdXAocG9wdXBfY2UxYzA2ZjgyMGY4NDUxMmFkNDgxMzFhMGI0M2MyNDgpCiAgICAgICAgOwoKICAgICAgICAKICAgIAogICAgCiAgICAgICAgICAgIHZhciBjaXJjbGVfbWFya2VyXzA2YzJmYTVlMDg2ZDRmY2FhMmNjNjBjZWUzNDM4OWI1ID0gTC5jaXJjbGVNYXJrZXIoCiAgICAgICAgICAgICAgICBbNDMuNjY1ODU5OSwgLTc5LjM4MzE1OTkwMDAwMDAxXSwKICAgICAgICAgICAgICAgIHsiYnViYmxpbmdNb3VzZUV2ZW50cyI6IHRydWUsICJjb2xvciI6ICJibHVlIiwgImRhc2hBcnJheSI6IG51bGwsICJkYXNoT2Zmc2V0IjogbnVsbCwgImZpbGwiOiB0cnVlLCAiZmlsbENvbG9yIjogIiMzMTg2Y2MiLCAiZmlsbE9wYWNpdHkiOiAwLjcsICJmaWxsUnVsZSI6ICJldmVub2RkIiwgImxpbmVDYXAiOiAicm91bmQiLCAibGluZUpvaW4iOiAicm91bmQiLCAib3BhY2l0eSI6IDEuMCwgInJhZGl1cyI6IDUsICJzdHJva2UiOiB0cnVlLCAid2VpZ2h0IjogM30KICAgICAgICAgICAgKS5hZGRUbyhtYXBfODgyYWZjMzk5ODk4NGFmOGE4NWM5Njk3ODdkM2JkZjgpOwogICAgICAgIAogICAgCiAgICAgICAgdmFyIHBvcHVwXzU4NzhiM2Q0ZWQyYzQ1ZjM5YTU3OGQ4NDU4NzRkOGI3ID0gTC5wb3B1cCh7Im1heFdpZHRoIjogIjEwMCUifSk7CgogICAgICAgIAogICAgICAgICAgICB2YXIgaHRtbF9mMmFkZDFjZGFjY2M0OWZjODZkMzk4OTdmM2E2NjVhOCA9ICQoYDxkaXYgaWQ9Imh0bWxfZjJhZGQxY2RhY2NjNDlmYzg2ZDM5ODk3ZjNhNjY1YTgiIHN0eWxlPSJ3aWR0aDogMTAwLjAlOyBoZWlnaHQ6IDEwMC4wJTsiPkNodXJjaCBhbmQgV2VsbGVzbGV5LCBEb3dudG93biBUb3JvbnRvPC9kaXY+YClbMF07CiAgICAgICAgICAgIHBvcHVwXzU4NzhiM2Q0ZWQyYzQ1ZjM5YTU3OGQ4NDU4NzRkOGI3LnNldENvbnRlbnQoaHRtbF9mMmFkZDFjZGFjY2M0OWZjODZkMzk4OTdmM2E2NjVhOCk7CiAgICAgICAgCgogICAgICAgIGNpcmNsZV9tYXJrZXJfMDZjMmZhNWUwODZkNGZjYWEyY2M2MGNlZTM0Mzg5YjUuYmluZFBvcHVwKHBvcHVwXzU4NzhiM2Q0ZWQyYzQ1ZjM5YTU3OGQ4NDU4NzRkOGI3KQogICAgICAgIDsKCiAgICAgICAgCiAgICAKICAgIAogICAgICAgICAgICB2YXIgY2lyY2xlX21hcmtlcl81MjZiYjA3ZDAxYjE0MmU5YTc0OTYxOWY0MGZiODVhOSA9IEwuY2lyY2xlTWFya2VyKAogICAgICAgICAgICAgICAgWzQzLjY2Mjc0MzksIC03OS4zMjE1NThdLAogICAgICAgICAgICAgICAgeyJidWJibGluZ01vdXNlRXZlbnRzIjogdHJ1ZSwgImNvbG9yIjogImJsdWUiLCAiZGFzaEFycmF5IjogbnVsbCwgImRhc2hPZmZzZXQiOiBudWxsLCAiZmlsbCI6IHRydWUsICJmaWxsQ29sb3IiOiAiIzMxODZjYyIsICJmaWxsT3BhY2l0eSI6IDAuNywgImZpbGxSdWxlIjogImV2ZW5vZGQiLCAibGluZUNhcCI6ICJyb3VuZCIsICJsaW5lSm9pbiI6ICJyb3VuZCIsICJvcGFjaXR5IjogMS4wLCAicmFkaXVzIjogNSwgInN0cm9rZSI6IHRydWUsICJ3ZWlnaHQiOiAzfQogICAgICAgICAgICApLmFkZFRvKG1hcF84ODJhZmMzOTk4OTg0YWY4YTg1Yzk2OTc4N2QzYmRmOCk7CiAgICAgICAgCiAgICAKICAgICAgICB2YXIgcG9wdXBfZWNmYzFjNTAyNjYzNDJmOGE2YWVkYmM4ZGFhYWI4NDIgPSBMLnBvcHVwKHsibWF4V2lkdGgiOiAiMTAwJSJ9KTsKCiAgICAgICAgCiAgICAgICAgICAgIHZhciBodG1sXzdlYmM2YjI2MDgxMDQ4YWViNDAxYWI4NDEwOGE2MTljID0gJChgPGRpdiBpZD0iaHRtbF83ZWJjNmIyNjA4MTA0OGFlYjQwMWFiODQxMDhhNjE5YyIgc3R5bGU9IndpZHRoOiAxMDAuMCU7IGhlaWdodDogMTAwLjAlOyI+QnVzaW5lc3MgUmVwbHkgTWFpbCBQcm9jZXNzaW5nIENlbnRyZSA5NjkgRWFzdGVybiwgRWFzdCBUb3JvbnRvPC9kaXY+YClbMF07CiAgICAgICAgICAgIHBvcHVwX2VjZmMxYzUwMjY2MzQyZjhhNmFlZGJjOGRhYWFiODQyLnNldENvbnRlbnQoaHRtbF83ZWJjNmIyNjA4MTA0OGFlYjQwMWFiODQxMDhhNjE5Yyk7CiAgICAgICAgCgogICAgICAgIGNpcmNsZV9tYXJrZXJfNTI2YmIwN2QwMWIxNDJlOWE3NDk2MTlmNDBmYjg1YTkuYmluZFBvcHVwKHBvcHVwX2VjZmMxYzUwMjY2MzQyZjhhNmFlZGJjOGRhYWFiODQyKQogICAgICAgIDsKCiAgICAgICAgCiAgICAKICAgIAogICAgICAgICAgICB2YXIgY2lyY2xlX21hcmtlcl85NDBiZjU5ODM4OWM0Y2UwYmI2MWU3ZjNlMmQyZWE4NSA9IEwuY2lyY2xlTWFya2VyKAogICAgICAgICAgICAgICAgWzQzLjYzNjI1NzksIC03OS40OTg1MDkwOTk5OTk5OV0sCiAgICAgICAgICAgICAgICB7ImJ1YmJsaW5nTW91c2VFdmVudHMiOiB0cnVlLCAiY29sb3IiOiAiYmx1ZSIsICJkYXNoQXJyYXkiOiBudWxsLCAiZGFzaE9mZnNldCI6IG51bGwsICJmaWxsIjogdHJ1ZSwgImZpbGxDb2xvciI6ICIjMzE4NmNjIiwgImZpbGxPcGFjaXR5IjogMC43LCAiZmlsbFJ1bGUiOiAiZXZlbm9kZCIsICJsaW5lQ2FwIjogInJvdW5kIiwgImxpbmVKb2luIjogInJvdW5kIiwgIm9wYWNpdHkiOiAxLjAsICJyYWRpdXMiOiA1LCAic3Ryb2tlIjogdHJ1ZSwgIndlaWdodCI6IDN9CiAgICAgICAgICAgICkuYWRkVG8obWFwXzg4MmFmYzM5OTg5ODRhZjhhODVjOTY5Nzg3ZDNiZGY4KTsKICAgICAgICAKICAgIAogICAgICAgIHZhciBwb3B1cF82NTA0Nzc1YjU1ODQ0NTVjOWI2ZDgxOTI0NWEzN2EwMCA9IEwucG9wdXAoeyJtYXhXaWR0aCI6ICIxMDAlIn0pOwoKICAgICAgICAKICAgICAgICAgICAgdmFyIGh0bWxfNjg4ZGUzNzNmZmYxNDE2ZTk2MTg0ZWI3ZjI2Nzg4YmIgPSAkKGA8ZGl2IGlkPSJodG1sXzY4OGRlMzczZmZmMTQxNmU5NjE4NGViN2YyNjc4OGJiIiBzdHlsZT0id2lkdGg6IDEwMC4wJTsgaGVpZ2h0OiAxMDAuMCU7Ij5IdW1iZXIgQmF5LCBLaW5nJiMzOTtzIE1pbGwgUGFyaywgS2luZ3N3YXkgUGFyayBTb3V0aCBFYXN0LCBNaW1pY28gTkUsIE9sZCBNaWxsIFNvdXRoLCBUaGUgUXVlZW5zd2F5IEVhc3QsIFJveWFsIFlvcmsgU291dGggRWFzdCwgU3VubnlsZWEsIEV0b2JpY29rZTwvZGl2PmApWzBdOwogICAgICAgICAgICBwb3B1cF82NTA0Nzc1YjU1ODQ0NTVjOWI2ZDgxOTI0NWEzN2EwMC5zZXRDb250ZW50KGh0bWxfNjg4ZGUzNzNmZmYxNDE2ZTk2MTg0ZWI3ZjI2Nzg4YmIpOwogICAgICAgIAoKICAgICAgICBjaXJjbGVfbWFya2VyXzk0MGJmNTk4Mzg5YzRjZTBiYjYxZTdmM2UyZDJlYTg1LmJpbmRQb3B1cChwb3B1cF82NTA0Nzc1YjU1ODQ0NTVjOWI2ZDgxOTI0NWEzN2EwMCkKICAgICAgICA7CgogICAgICAgIAogICAgCjwvc2NyaXB0Pg==\" style=\"position:absolute;width:100%;height:100%;left:0;top:0;border:none !important;\" allowfullscreen webkitallowfullscreen mozallowfullscreen></iframe></div></div>"
      ],
      "text/plain": [
       "<folium.folium.Map at 0x1b8e60e0f60>"
      ]
     },
     "execution_count": 16,
     "metadata": {},
     "output_type": "execute_result"
    }
   ],
   "source": [
    "map_toronto"
   ]
  },
  {
   "cell_type": "markdown",
   "metadata": {},
   "source": [
    "Now some infom from 4squere"
   ]
  },
  {
   "cell_type": "code",
   "execution_count": 17,
   "metadata": {},
   "outputs": [
    {
     "data": {
      "text/html": [
       "<div>\n",
       "<style scoped>\n",
       "    .dataframe tbody tr th:only-of-type {\n",
       "        vertical-align: middle;\n",
       "    }\n",
       "\n",
       "    .dataframe tbody tr th {\n",
       "        vertical-align: top;\n",
       "    }\n",
       "\n",
       "    .dataframe thead th {\n",
       "        text-align: right;\n",
       "    }\n",
       "</style>\n",
       "<table border=\"1\" class=\"dataframe\">\n",
       "  <thead>\n",
       "    <tr style=\"text-align: right;\">\n",
       "      <th></th>\n",
       "      <th>PostalCode</th>\n",
       "      <th>Borough</th>\n",
       "      <th>Neighborhood</th>\n",
       "      <th>Latitude</th>\n",
       "      <th>Longitude</th>\n",
       "    </tr>\n",
       "  </thead>\n",
       "  <tbody>\n",
       "  </tbody>\n",
       "</table>\n",
       "</div>"
      ],
      "text/plain": [
       "Empty DataFrame\n",
       "Columns: [PostalCode, Borough, Neighborhood, Latitude, Longitude]\n",
       "Index: []"
      ]
     },
     "execution_count": 17,
     "metadata": {},
     "output_type": "execute_result"
    }
   ],
   "source": [
    "manhattan_data = full[full['Borough'] == 'Toronto'].reset_index(drop=True)\n",
    "manhattan_data.head()"
   ]
  },
  {
   "cell_type": "code",
   "execution_count": 18,
   "metadata": {},
   "outputs": [
    {
     "name": "stdout",
     "output_type": "stream",
     "text": [
      "Your credentails:\n",
      "CLIENT_ID: DVUYZ0B5CPKNIIXLYAJMGRKZBYUP1U20PUC0AKEAFQT0NDLJ\n",
      "CLIENT_SECRET:G5W51BKU2JQDRPVKLNMOHLW0L2NBVYQZ3HUZXVXQ14TKEKGO\n"
     ]
    }
   ],
   "source": [
    "CLIENT_ID = 'fdUYZ0B5CPKNIIXLYAJMGRKZBYUP1U20PUC0AKEAFQT0NDLJ' # your Foursquare ID\n",
    "CLIENT_SECRET = 'gfW51BKU2JQDRPVKLNMOHLW0L2NBVYQZ3HUZXVXQ14TKEKGO' # your Foursquare Secret\n",
    "VERSION = '20180605' # Foursquare API version\n",
    "\n",
    "print('Your credentails:')\n",
    "print('CLIENT_ID: ' + CLIENT_ID)\n",
    "print('CLIENT_SECRET:' + CLIENT_SECRET)"
   ]
  },
  {
   "cell_type": "code",
   "execution_count": 19,
   "metadata": {},
   "outputs": [],
   "source": [
    "def get_info(lat, lng):\n",
    "    url = 'https://api.foursquare.com/v2/venues/explore?&client_id={}&client_secret={}&v={}&ll={},{}&radius={}&limit={}'.format(\n",
    "        CLIENT_ID, \n",
    "        CLIENT_SECRET, \n",
    "        VERSION, \n",
    "        lat, lng, \n",
    "        100, \n",
    "        500)\n",
    "    results = requests.get(url).json()\n",
    "    return results['response']['groups'][0]['items']"
   ]
  },
  {
   "cell_type": "markdown",
   "metadata": {},
   "source": [
    "Lets see how the data is formated:"
   ]
  },
  {
   "cell_type": "code",
   "execution_count": 20,
   "metadata": {},
   "outputs": [],
   "source": [
    "venues = get_info(43.6542599, -79.3606359)"
   ]
  },
  {
   "cell_type": "code",
   "execution_count": 21,
   "metadata": {},
   "outputs": [
    {
     "data": {
      "text/plain": [
       "[{'reasons': {'count': 0,\n",
       "   'items': [{'summary': 'This spot is popular',\n",
       "     'type': 'general',\n",
       "     'reasonName': 'globalInteractionReason'}]},\n",
       "  'venue': {'id': '50760559e4b0e8c7babe2497',\n",
       "   'name': 'Body Blitz Spa East',\n",
       "   'location': {'address': '497 King Street East',\n",
       "    'crossStreet': 'btwn Sackville St and Sumach St',\n",
       "    'lat': 43.65473505045365,\n",
       "    'lng': -79.35987433132891,\n",
       "    'labeledLatLngs': [{'label': 'display',\n",
       "      'lat': 43.65473505045365,\n",
       "      'lng': -79.35987433132891}],\n",
       "    'distance': 80,\n",
       "    'postalCode': 'M5A 1L9',\n",
       "    'cc': 'CA',\n",
       "    'city': 'Toronto',\n",
       "    'state': 'ON',\n",
       "    'country': 'Canada',\n",
       "    'formattedAddress': ['497 King Street East (btwn Sackville St and Sumach St)',\n",
       "     'Toronto ON M5A 1L9',\n",
       "     'Canada']},\n",
       "   'categories': [{'id': '4bf58dd8d48988d1ed941735',\n",
       "     'name': 'Spa',\n",
       "     'pluralName': 'Spas',\n",
       "     'shortName': 'Spa',\n",
       "     'icon': {'prefix': 'https://ss3.4sqi.net/img/categories_v2/shops/spa_',\n",
       "      'suffix': '.png'},\n",
       "     'primary': True}],\n",
       "   'photos': {'count': 0, 'groups': []}},\n",
       "  'referralId': 'e-0-50760559e4b0e8c7babe2497-0'},\n",
       " {'reasons': {'count': 0,\n",
       "   'items': [{'summary': 'This spot is popular',\n",
       "     'type': 'general',\n",
       "     'reasonName': 'globalInteractionReason'}]},\n",
       "  'venue': {'id': '4ae5b91ff964a520a6a121e3',\n",
       "   'name': 'Morning Glory Cafe',\n",
       "   'location': {'address': '457 King St. E',\n",
       "    'crossStreet': 'Gilead Place',\n",
       "    'lat': 43.653946942635294,\n",
       "    'lng': -79.36114884214422,\n",
       "    'labeledLatLngs': [{'label': 'display',\n",
       "      'lat': 43.653946942635294,\n",
       "      'lng': -79.36114884214422}],\n",
       "    'distance': 54,\n",
       "    'postalCode': 'M5A 1L6',\n",
       "    'cc': 'CA',\n",
       "    'city': 'Toronto',\n",
       "    'state': 'ON',\n",
       "    'country': 'Canada',\n",
       "    'formattedAddress': ['457 King St. E (Gilead Place)',\n",
       "     'Toronto ON M5A 1L6',\n",
       "     'Canada']},\n",
       "   'categories': [{'id': '4bf58dd8d48988d143941735',\n",
       "     'name': 'Breakfast Spot',\n",
       "     'pluralName': 'Breakfast Spots',\n",
       "     'shortName': 'Breakfast',\n",
       "     'icon': {'prefix': 'https://ss3.4sqi.net/img/categories_v2/food/breakfast_',\n",
       "      'suffix': '.png'},\n",
       "     'primary': True}],\n",
       "   'photos': {'count': 0, 'groups': []},\n",
       "   'venuePage': {'id': '39686393'}},\n",
       "  'referralId': 'e-0-4ae5b91ff964a520a6a121e3-1'},\n",
       " {'reasons': {'count': 0,\n",
       "   'items': [{'summary': 'This spot is popular',\n",
       "     'type': 'general',\n",
       "     'reasonName': 'globalInteractionReason'}]},\n",
       "  'venue': {'id': '4ee0043061aff91574f3c1d2',\n",
       "   'name': 'Jane Roos Gallery',\n",
       "   'location': {'lat': 43.65396193810649,\n",
       "    'lng': -79.36108966585638,\n",
       "    'labeledLatLngs': [{'label': 'display',\n",
       "      'lat': 43.65396193810649,\n",
       "      'lng': -79.36108966585638}],\n",
       "    'distance': 49,\n",
       "    'cc': 'CA',\n",
       "    'country': 'Canada',\n",
       "    'formattedAddress': ['Canada']},\n",
       "   'categories': [{'id': '4bf58dd8d48988d1e2931735',\n",
       "     'name': 'Art Gallery',\n",
       "     'pluralName': 'Art Galleries',\n",
       "     'shortName': 'Art Gallery',\n",
       "     'icon': {'prefix': 'https://ss3.4sqi.net/img/categories_v2/arts_entertainment/artgallery_',\n",
       "      'suffix': '.png'},\n",
       "     'primary': True}],\n",
       "   'photos': {'count': 0, 'groups': []}},\n",
       "  'referralId': 'e-0-4ee0043061aff91574f3c1d2-2'}]"
      ]
     },
     "execution_count": 21,
     "metadata": {},
     "output_type": "execute_result"
    }
   ],
   "source": [
    "venues"
   ]
  },
  {
   "cell_type": "code",
   "execution_count": 22,
   "metadata": {},
   "outputs": [
    {
     "data": {
      "text/plain": [
       "[{'id': '4bf58dd8d48988d1ed941735',\n",
       "  'name': 'Spa',\n",
       "  'pluralName': 'Spas',\n",
       "  'shortName': 'Spa',\n",
       "  'icon': {'prefix': 'https://ss3.4sqi.net/img/categories_v2/shops/spa_',\n",
       "   'suffix': '.png'},\n",
       "  'primary': True}]"
      ]
     },
     "execution_count": 22,
     "metadata": {},
     "output_type": "execute_result"
    }
   ],
   "source": [
    "venues[0]['venue']['categories']"
   ]
  },
  {
   "cell_type": "code",
   "execution_count": 23,
   "metadata": {},
   "outputs": [
    {
     "data": {
      "text/plain": [
       "'Spa'"
      ]
     },
     "execution_count": 23,
     "metadata": {},
     "output_type": "execute_result"
    }
   ],
   "source": [
    "venues[0]['venue']['categories'][0]['name']"
   ]
  },
  {
   "cell_type": "markdown",
   "metadata": {},
   "source": [
    "Now to the real work:\n",
    "\n",
    "Let's walk through all the locations and count how many are there in every point"
   ]
  },
  {
   "cell_type": "code",
   "execution_count": 37,
   "metadata": {},
   "outputs": [
    {
     "name": "stdout",
     "output_type": "stream",
     "text": [
      "New location:  43.7532586 -79.3296565 0\n",
      "New location:  43.725882299999995 -79.31557159999998 0\n",
      "Spa\n",
      "Breakfast Spot\n",
      "Art Gallery\n",
      "New location:  43.6542599 -79.3606359 3\n",
      "Clothing Store\n",
      "Hot Dog Joint\n",
      "Clothing Store\n",
      "Bridal Shop\n",
      "New location:  43.718517999999996 -79.46476329999999 4\n",
      "New location:  43.6623015 -79.3894938 0\n",
      "New location:  43.6678556 -79.53224240000002 0\n",
      "New location:  43.806686299999996 -79.19435340000001 0\n"
     ]
    },
    {
     "ename": "ConnectionError",
     "evalue": "HTTPSConnectionPool(host='api.foursquare.com', port=443): Max retries exceeded with url: /v2/venues/explore?&client_id=DVUYZ0B5CPKNIIXLYAJMGRKZBYUP1U20PUC0AKEAFQT0NDLJ&client_secret=G5W51BKU2JQDRPVKLNMOHLW0L2NBVYQZ3HUZXVXQ14TKEKGO&v=20180605&ll=43.745905799999996,-79.352188&radius=100&limit=500 (Caused by NewConnectionError('<urllib3.connection.VerifiedHTTPSConnection object at 0x000001B8E65B1320>: Failed to establish a new connection: [WinError 10060] A connection attempt failed because the connected party did not properly respond after a period of time, or established connection failed because connected host has failed to respond',))",
     "output_type": "error",
     "traceback": [
      "\u001b[1;31m---------------------------------------------------------------------------\u001b[0m",
      "\u001b[1;31mTimeoutError\u001b[0m                              Traceback (most recent call last)",
      "\u001b[1;32m~\\Anaconda2\\envs\\tf3\\lib\\site-packages\\urllib3\\connection.py\u001b[0m in \u001b[0;36m_new_conn\u001b[1;34m(self)\u001b[0m\n\u001b[0;32m    156\u001b[0m             conn = connection.create_connection(\n\u001b[1;32m--> 157\u001b[1;33m                 \u001b[1;33m(\u001b[0m\u001b[0mself\u001b[0m\u001b[1;33m.\u001b[0m\u001b[0m_dns_host\u001b[0m\u001b[1;33m,\u001b[0m \u001b[0mself\u001b[0m\u001b[1;33m.\u001b[0m\u001b[0mport\u001b[0m\u001b[1;33m)\u001b[0m\u001b[1;33m,\u001b[0m \u001b[0mself\u001b[0m\u001b[1;33m.\u001b[0m\u001b[0mtimeout\u001b[0m\u001b[1;33m,\u001b[0m \u001b[1;33m**\u001b[0m\u001b[0mextra_kw\u001b[0m\u001b[1;33m\u001b[0m\u001b[1;33m\u001b[0m\u001b[0m\n\u001b[0m\u001b[0;32m    158\u001b[0m             )\n",
      "\u001b[1;32m~\\Anaconda2\\envs\\tf3\\lib\\site-packages\\urllib3\\util\\connection.py\u001b[0m in \u001b[0;36mcreate_connection\u001b[1;34m(address, timeout, source_address, socket_options)\u001b[0m\n\u001b[0;32m     83\u001b[0m     \u001b[1;32mif\u001b[0m \u001b[0merr\u001b[0m \u001b[1;32mis\u001b[0m \u001b[1;32mnot\u001b[0m \u001b[1;32mNone\u001b[0m\u001b[1;33m:\u001b[0m\u001b[1;33m\u001b[0m\u001b[1;33m\u001b[0m\u001b[0m\n\u001b[1;32m---> 84\u001b[1;33m         \u001b[1;32mraise\u001b[0m \u001b[0merr\u001b[0m\u001b[1;33m\u001b[0m\u001b[1;33m\u001b[0m\u001b[0m\n\u001b[0m\u001b[0;32m     85\u001b[0m \u001b[1;33m\u001b[0m\u001b[0m\n",
      "\u001b[1;32m~\\Anaconda2\\envs\\tf3\\lib\\site-packages\\urllib3\\util\\connection.py\u001b[0m in \u001b[0;36mcreate_connection\u001b[1;34m(address, timeout, source_address, socket_options)\u001b[0m\n\u001b[0;32m     73\u001b[0m                 \u001b[0msock\u001b[0m\u001b[1;33m.\u001b[0m\u001b[0mbind\u001b[0m\u001b[1;33m(\u001b[0m\u001b[0msource_address\u001b[0m\u001b[1;33m)\u001b[0m\u001b[1;33m\u001b[0m\u001b[1;33m\u001b[0m\u001b[0m\n\u001b[1;32m---> 74\u001b[1;33m             \u001b[0msock\u001b[0m\u001b[1;33m.\u001b[0m\u001b[0mconnect\u001b[0m\u001b[1;33m(\u001b[0m\u001b[0msa\u001b[0m\u001b[1;33m)\u001b[0m\u001b[1;33m\u001b[0m\u001b[1;33m\u001b[0m\u001b[0m\n\u001b[0m\u001b[0;32m     75\u001b[0m             \u001b[1;32mreturn\u001b[0m \u001b[0msock\u001b[0m\u001b[1;33m\u001b[0m\u001b[1;33m\u001b[0m\u001b[0m\n",
      "\u001b[1;31mTimeoutError\u001b[0m: [WinError 10060] A connection attempt failed because the connected party did not properly respond after a period of time, or established connection failed because connected host has failed to respond",
      "\nDuring handling of the above exception, another exception occurred:\n",
      "\u001b[1;31mNewConnectionError\u001b[0m                        Traceback (most recent call last)",
      "\u001b[1;32m~\\Anaconda2\\envs\\tf3\\lib\\site-packages\\urllib3\\connectionpool.py\u001b[0m in \u001b[0;36murlopen\u001b[1;34m(self, method, url, body, headers, retries, redirect, assert_same_host, timeout, pool_timeout, release_conn, chunked, body_pos, **response_kw)\u001b[0m\n\u001b[0;32m    671\u001b[0m                 \u001b[0mheaders\u001b[0m\u001b[1;33m=\u001b[0m\u001b[0mheaders\u001b[0m\u001b[1;33m,\u001b[0m\u001b[1;33m\u001b[0m\u001b[1;33m\u001b[0m\u001b[0m\n\u001b[1;32m--> 672\u001b[1;33m                 \u001b[0mchunked\u001b[0m\u001b[1;33m=\u001b[0m\u001b[0mchunked\u001b[0m\u001b[1;33m,\u001b[0m\u001b[1;33m\u001b[0m\u001b[1;33m\u001b[0m\u001b[0m\n\u001b[0m\u001b[0;32m    673\u001b[0m             )\n",
      "\u001b[1;32m~\\Anaconda2\\envs\\tf3\\lib\\site-packages\\urllib3\\connectionpool.py\u001b[0m in \u001b[0;36m_make_request\u001b[1;34m(self, conn, method, url, timeout, chunked, **httplib_request_kw)\u001b[0m\n\u001b[0;32m    375\u001b[0m         \u001b[1;32mtry\u001b[0m\u001b[1;33m:\u001b[0m\u001b[1;33m\u001b[0m\u001b[1;33m\u001b[0m\u001b[0m\n\u001b[1;32m--> 376\u001b[1;33m             \u001b[0mself\u001b[0m\u001b[1;33m.\u001b[0m\u001b[0m_validate_conn\u001b[0m\u001b[1;33m(\u001b[0m\u001b[0mconn\u001b[0m\u001b[1;33m)\u001b[0m\u001b[1;33m\u001b[0m\u001b[1;33m\u001b[0m\u001b[0m\n\u001b[0m\u001b[0;32m    377\u001b[0m         \u001b[1;32mexcept\u001b[0m \u001b[1;33m(\u001b[0m\u001b[0mSocketTimeout\u001b[0m\u001b[1;33m,\u001b[0m \u001b[0mBaseSSLError\u001b[0m\u001b[1;33m)\u001b[0m \u001b[1;32mas\u001b[0m \u001b[0me\u001b[0m\u001b[1;33m:\u001b[0m\u001b[1;33m\u001b[0m\u001b[1;33m\u001b[0m\u001b[0m\n",
      "\u001b[1;32m~\\Anaconda2\\envs\\tf3\\lib\\site-packages\\urllib3\\connectionpool.py\u001b[0m in \u001b[0;36m_validate_conn\u001b[1;34m(self, conn)\u001b[0m\n\u001b[0;32m    993\u001b[0m         \u001b[1;32mif\u001b[0m \u001b[1;32mnot\u001b[0m \u001b[0mgetattr\u001b[0m\u001b[1;33m(\u001b[0m\u001b[0mconn\u001b[0m\u001b[1;33m,\u001b[0m \u001b[1;34m\"sock\"\u001b[0m\u001b[1;33m,\u001b[0m \u001b[1;32mNone\u001b[0m\u001b[1;33m)\u001b[0m\u001b[1;33m:\u001b[0m  \u001b[1;31m# AppEngine might not have  `.sock`\u001b[0m\u001b[1;33m\u001b[0m\u001b[1;33m\u001b[0m\u001b[0m\n\u001b[1;32m--> 994\u001b[1;33m             \u001b[0mconn\u001b[0m\u001b[1;33m.\u001b[0m\u001b[0mconnect\u001b[0m\u001b[1;33m(\u001b[0m\u001b[1;33m)\u001b[0m\u001b[1;33m\u001b[0m\u001b[1;33m\u001b[0m\u001b[0m\n\u001b[0m\u001b[0;32m    995\u001b[0m \u001b[1;33m\u001b[0m\u001b[0m\n",
      "\u001b[1;32m~\\Anaconda2\\envs\\tf3\\lib\\site-packages\\urllib3\\connection.py\u001b[0m in \u001b[0;36mconnect\u001b[1;34m(self)\u001b[0m\n\u001b[0;32m    333\u001b[0m         \u001b[1;31m# Add certificate verification\u001b[0m\u001b[1;33m\u001b[0m\u001b[1;33m\u001b[0m\u001b[1;33m\u001b[0m\u001b[0m\n\u001b[1;32m--> 334\u001b[1;33m         \u001b[0mconn\u001b[0m \u001b[1;33m=\u001b[0m \u001b[0mself\u001b[0m\u001b[1;33m.\u001b[0m\u001b[0m_new_conn\u001b[0m\u001b[1;33m(\u001b[0m\u001b[1;33m)\u001b[0m\u001b[1;33m\u001b[0m\u001b[1;33m\u001b[0m\u001b[0m\n\u001b[0m\u001b[0;32m    335\u001b[0m         \u001b[0mhostname\u001b[0m \u001b[1;33m=\u001b[0m \u001b[0mself\u001b[0m\u001b[1;33m.\u001b[0m\u001b[0mhost\u001b[0m\u001b[1;33m\u001b[0m\u001b[1;33m\u001b[0m\u001b[0m\n",
      "\u001b[1;32m~\\Anaconda2\\envs\\tf3\\lib\\site-packages\\urllib3\\connection.py\u001b[0m in \u001b[0;36m_new_conn\u001b[1;34m(self)\u001b[0m\n\u001b[0;32m    168\u001b[0m             raise NewConnectionError(\n\u001b[1;32m--> 169\u001b[1;33m                 \u001b[0mself\u001b[0m\u001b[1;33m,\u001b[0m \u001b[1;34m\"Failed to establish a new connection: %s\"\u001b[0m \u001b[1;33m%\u001b[0m \u001b[0me\u001b[0m\u001b[1;33m\u001b[0m\u001b[1;33m\u001b[0m\u001b[0m\n\u001b[0m\u001b[0;32m    170\u001b[0m             )\n",
      "\u001b[1;31mNewConnectionError\u001b[0m: <urllib3.connection.VerifiedHTTPSConnection object at 0x000001B8E65B1320>: Failed to establish a new connection: [WinError 10060] A connection attempt failed because the connected party did not properly respond after a period of time, or established connection failed because connected host has failed to respond",
      "\nDuring handling of the above exception, another exception occurred:\n",
      "\u001b[1;31mMaxRetryError\u001b[0m                             Traceback (most recent call last)",
      "\u001b[1;32m~\\Anaconda2\\envs\\tf3\\lib\\site-packages\\requests\\adapters.py\u001b[0m in \u001b[0;36msend\u001b[1;34m(self, request, stream, timeout, verify, cert, proxies)\u001b[0m\n\u001b[0;32m    448\u001b[0m                     \u001b[0mretries\u001b[0m\u001b[1;33m=\u001b[0m\u001b[0mself\u001b[0m\u001b[1;33m.\u001b[0m\u001b[0mmax_retries\u001b[0m\u001b[1;33m,\u001b[0m\u001b[1;33m\u001b[0m\u001b[1;33m\u001b[0m\u001b[0m\n\u001b[1;32m--> 449\u001b[1;33m                     \u001b[0mtimeout\u001b[0m\u001b[1;33m=\u001b[0m\u001b[0mtimeout\u001b[0m\u001b[1;33m\u001b[0m\u001b[1;33m\u001b[0m\u001b[0m\n\u001b[0m\u001b[0;32m    450\u001b[0m                 )\n",
      "\u001b[1;32m~\\Anaconda2\\envs\\tf3\\lib\\site-packages\\urllib3\\connectionpool.py\u001b[0m in \u001b[0;36murlopen\u001b[1;34m(self, method, url, body, headers, retries, redirect, assert_same_host, timeout, pool_timeout, release_conn, chunked, body_pos, **response_kw)\u001b[0m\n\u001b[0;32m    719\u001b[0m             retries = retries.increment(\n\u001b[1;32m--> 720\u001b[1;33m                 \u001b[0mmethod\u001b[0m\u001b[1;33m,\u001b[0m \u001b[0murl\u001b[0m\u001b[1;33m,\u001b[0m \u001b[0merror\u001b[0m\u001b[1;33m=\u001b[0m\u001b[0me\u001b[0m\u001b[1;33m,\u001b[0m \u001b[0m_pool\u001b[0m\u001b[1;33m=\u001b[0m\u001b[0mself\u001b[0m\u001b[1;33m,\u001b[0m \u001b[0m_stacktrace\u001b[0m\u001b[1;33m=\u001b[0m\u001b[0msys\u001b[0m\u001b[1;33m.\u001b[0m\u001b[0mexc_info\u001b[0m\u001b[1;33m(\u001b[0m\u001b[1;33m)\u001b[0m\u001b[1;33m[\u001b[0m\u001b[1;36m2\u001b[0m\u001b[1;33m]\u001b[0m\u001b[1;33m\u001b[0m\u001b[1;33m\u001b[0m\u001b[0m\n\u001b[0m\u001b[0;32m    721\u001b[0m             )\n",
      "\u001b[1;32m~\\Anaconda2\\envs\\tf3\\lib\\site-packages\\urllib3\\util\\retry.py\u001b[0m in \u001b[0;36mincrement\u001b[1;34m(self, method, url, response, error, _pool, _stacktrace)\u001b[0m\n\u001b[0;32m    435\u001b[0m         \u001b[1;32mif\u001b[0m \u001b[0mnew_retry\u001b[0m\u001b[1;33m.\u001b[0m\u001b[0mis_exhausted\u001b[0m\u001b[1;33m(\u001b[0m\u001b[1;33m)\u001b[0m\u001b[1;33m:\u001b[0m\u001b[1;33m\u001b[0m\u001b[1;33m\u001b[0m\u001b[0m\n\u001b[1;32m--> 436\u001b[1;33m             \u001b[1;32mraise\u001b[0m \u001b[0mMaxRetryError\u001b[0m\u001b[1;33m(\u001b[0m\u001b[0m_pool\u001b[0m\u001b[1;33m,\u001b[0m \u001b[0murl\u001b[0m\u001b[1;33m,\u001b[0m \u001b[0merror\u001b[0m \u001b[1;32mor\u001b[0m \u001b[0mResponseError\u001b[0m\u001b[1;33m(\u001b[0m\u001b[0mcause\u001b[0m\u001b[1;33m)\u001b[0m\u001b[1;33m)\u001b[0m\u001b[1;33m\u001b[0m\u001b[1;33m\u001b[0m\u001b[0m\n\u001b[0m\u001b[0;32m    437\u001b[0m \u001b[1;33m\u001b[0m\u001b[0m\n",
      "\u001b[1;31mMaxRetryError\u001b[0m: HTTPSConnectionPool(host='api.foursquare.com', port=443): Max retries exceeded with url: /v2/venues/explore?&client_id=DVUYZ0B5CPKNIIXLYAJMGRKZBYUP1U20PUC0AKEAFQT0NDLJ&client_secret=G5W51BKU2JQDRPVKLNMOHLW0L2NBVYQZ3HUZXVXQ14TKEKGO&v=20180605&ll=43.745905799999996,-79.352188&radius=100&limit=500 (Caused by NewConnectionError('<urllib3.connection.VerifiedHTTPSConnection object at 0x000001B8E65B1320>: Failed to establish a new connection: [WinError 10060] A connection attempt failed because the connected party did not properly respond after a period of time, or established connection failed because connected host has failed to respond',))",
      "\nDuring handling of the above exception, another exception occurred:\n",
      "\u001b[1;31mConnectionError\u001b[0m                           Traceback (most recent call last)",
      "\u001b[1;32m<ipython-input-37-7cef64043c76>\u001b[0m in \u001b[0;36m<module>\u001b[1;34m\u001b[0m\n\u001b[0;32m      1\u001b[0m \u001b[0mplaces\u001b[0m \u001b[1;33m=\u001b[0m \u001b[1;33m[\u001b[0m\u001b[1;33m]\u001b[0m\u001b[1;33m\u001b[0m\u001b[1;33m\u001b[0m\u001b[0m\n\u001b[0;32m      2\u001b[0m \u001b[1;32mfor\u001b[0m \u001b[0mlat\u001b[0m\u001b[1;33m,\u001b[0m \u001b[0mlng\u001b[0m \u001b[1;32min\u001b[0m \u001b[0mzip\u001b[0m\u001b[1;33m(\u001b[0m\u001b[0mfull\u001b[0m\u001b[1;33m[\u001b[0m\u001b[1;34m'Latitude'\u001b[0m\u001b[1;33m]\u001b[0m\u001b[1;33m,\u001b[0m \u001b[0mfull\u001b[0m\u001b[1;33m[\u001b[0m\u001b[1;34m'Longitude'\u001b[0m\u001b[1;33m]\u001b[0m\u001b[1;33m)\u001b[0m\u001b[1;33m:\u001b[0m\u001b[1;33m\u001b[0m\u001b[1;33m\u001b[0m\u001b[0m\n\u001b[1;32m----> 3\u001b[1;33m     \u001b[0mvenues\u001b[0m \u001b[1;33m=\u001b[0m \u001b[0mget_info\u001b[0m\u001b[1;33m(\u001b[0m\u001b[0mlat\u001b[0m\u001b[1;33m,\u001b[0m \u001b[0mlng\u001b[0m\u001b[1;33m)\u001b[0m\u001b[1;33m\u001b[0m\u001b[1;33m\u001b[0m\u001b[0m\n\u001b[0m\u001b[0;32m      4\u001b[0m     \u001b[0mn\u001b[0m \u001b[1;33m=\u001b[0m \u001b[1;36m0\u001b[0m\u001b[1;33m\u001b[0m\u001b[1;33m\u001b[0m\u001b[0m\n\u001b[0;32m      5\u001b[0m     \u001b[1;32mfor\u001b[0m \u001b[0mvenue\u001b[0m \u001b[1;32min\u001b[0m \u001b[0mvenues\u001b[0m\u001b[1;33m:\u001b[0m\u001b[1;33m\u001b[0m\u001b[1;33m\u001b[0m\u001b[0m\n",
      "\u001b[1;32m<ipython-input-19-912e65a0778e>\u001b[0m in \u001b[0;36mget_info\u001b[1;34m(lat, lng)\u001b[0m\n\u001b[0;32m      7\u001b[0m         \u001b[1;36m100\u001b[0m\u001b[1;33m,\u001b[0m\u001b[1;33m\u001b[0m\u001b[1;33m\u001b[0m\u001b[0m\n\u001b[0;32m      8\u001b[0m         500)\n\u001b[1;32m----> 9\u001b[1;33m     \u001b[0mresults\u001b[0m \u001b[1;33m=\u001b[0m \u001b[0mrequests\u001b[0m\u001b[1;33m.\u001b[0m\u001b[0mget\u001b[0m\u001b[1;33m(\u001b[0m\u001b[0murl\u001b[0m\u001b[1;33m)\u001b[0m\u001b[1;33m.\u001b[0m\u001b[0mjson\u001b[0m\u001b[1;33m(\u001b[0m\u001b[1;33m)\u001b[0m\u001b[1;33m\u001b[0m\u001b[1;33m\u001b[0m\u001b[0m\n\u001b[0m\u001b[0;32m     10\u001b[0m     \u001b[1;32mreturn\u001b[0m \u001b[0mresults\u001b[0m\u001b[1;33m[\u001b[0m\u001b[1;34m'response'\u001b[0m\u001b[1;33m]\u001b[0m\u001b[1;33m[\u001b[0m\u001b[1;34m'groups'\u001b[0m\u001b[1;33m]\u001b[0m\u001b[1;33m[\u001b[0m\u001b[1;36m0\u001b[0m\u001b[1;33m]\u001b[0m\u001b[1;33m[\u001b[0m\u001b[1;34m'items'\u001b[0m\u001b[1;33m]\u001b[0m\u001b[1;33m\u001b[0m\u001b[1;33m\u001b[0m\u001b[0m\n",
      "\u001b[1;32m~\\Anaconda2\\envs\\tf3\\lib\\site-packages\\requests\\api.py\u001b[0m in \u001b[0;36mget\u001b[1;34m(url, params, **kwargs)\u001b[0m\n\u001b[0;32m     73\u001b[0m \u001b[1;33m\u001b[0m\u001b[0m\n\u001b[0;32m     74\u001b[0m     \u001b[0mkwargs\u001b[0m\u001b[1;33m.\u001b[0m\u001b[0msetdefault\u001b[0m\u001b[1;33m(\u001b[0m\u001b[1;34m'allow_redirects'\u001b[0m\u001b[1;33m,\u001b[0m \u001b[1;32mTrue\u001b[0m\u001b[1;33m)\u001b[0m\u001b[1;33m\u001b[0m\u001b[1;33m\u001b[0m\u001b[0m\n\u001b[1;32m---> 75\u001b[1;33m     \u001b[1;32mreturn\u001b[0m \u001b[0mrequest\u001b[0m\u001b[1;33m(\u001b[0m\u001b[1;34m'get'\u001b[0m\u001b[1;33m,\u001b[0m \u001b[0murl\u001b[0m\u001b[1;33m,\u001b[0m \u001b[0mparams\u001b[0m\u001b[1;33m=\u001b[0m\u001b[0mparams\u001b[0m\u001b[1;33m,\u001b[0m \u001b[1;33m**\u001b[0m\u001b[0mkwargs\u001b[0m\u001b[1;33m)\u001b[0m\u001b[1;33m\u001b[0m\u001b[1;33m\u001b[0m\u001b[0m\n\u001b[0m\u001b[0;32m     76\u001b[0m \u001b[1;33m\u001b[0m\u001b[0m\n\u001b[0;32m     77\u001b[0m \u001b[1;33m\u001b[0m\u001b[0m\n",
      "\u001b[1;32m~\\Anaconda2\\envs\\tf3\\lib\\site-packages\\requests\\api.py\u001b[0m in \u001b[0;36mrequest\u001b[1;34m(method, url, **kwargs)\u001b[0m\n\u001b[0;32m     58\u001b[0m     \u001b[1;31m# cases, and look like a memory leak in others.\u001b[0m\u001b[1;33m\u001b[0m\u001b[1;33m\u001b[0m\u001b[1;33m\u001b[0m\u001b[0m\n\u001b[0;32m     59\u001b[0m     \u001b[1;32mwith\u001b[0m \u001b[0msessions\u001b[0m\u001b[1;33m.\u001b[0m\u001b[0mSession\u001b[0m\u001b[1;33m(\u001b[0m\u001b[1;33m)\u001b[0m \u001b[1;32mas\u001b[0m \u001b[0msession\u001b[0m\u001b[1;33m:\u001b[0m\u001b[1;33m\u001b[0m\u001b[1;33m\u001b[0m\u001b[0m\n\u001b[1;32m---> 60\u001b[1;33m         \u001b[1;32mreturn\u001b[0m \u001b[0msession\u001b[0m\u001b[1;33m.\u001b[0m\u001b[0mrequest\u001b[0m\u001b[1;33m(\u001b[0m\u001b[0mmethod\u001b[0m\u001b[1;33m=\u001b[0m\u001b[0mmethod\u001b[0m\u001b[1;33m,\u001b[0m \u001b[0murl\u001b[0m\u001b[1;33m=\u001b[0m\u001b[0murl\u001b[0m\u001b[1;33m,\u001b[0m \u001b[1;33m**\u001b[0m\u001b[0mkwargs\u001b[0m\u001b[1;33m)\u001b[0m\u001b[1;33m\u001b[0m\u001b[1;33m\u001b[0m\u001b[0m\n\u001b[0m\u001b[0;32m     61\u001b[0m \u001b[1;33m\u001b[0m\u001b[0m\n\u001b[0;32m     62\u001b[0m \u001b[1;33m\u001b[0m\u001b[0m\n",
      "\u001b[1;32m~\\Anaconda2\\envs\\tf3\\lib\\site-packages\\requests\\sessions.py\u001b[0m in \u001b[0;36mrequest\u001b[1;34m(self, method, url, params, data, headers, cookies, files, auth, timeout, allow_redirects, proxies, hooks, stream, verify, cert, json)\u001b[0m\n\u001b[0;32m    531\u001b[0m         }\n\u001b[0;32m    532\u001b[0m         \u001b[0msend_kwargs\u001b[0m\u001b[1;33m.\u001b[0m\u001b[0mupdate\u001b[0m\u001b[1;33m(\u001b[0m\u001b[0msettings\u001b[0m\u001b[1;33m)\u001b[0m\u001b[1;33m\u001b[0m\u001b[1;33m\u001b[0m\u001b[0m\n\u001b[1;32m--> 533\u001b[1;33m         \u001b[0mresp\u001b[0m \u001b[1;33m=\u001b[0m \u001b[0mself\u001b[0m\u001b[1;33m.\u001b[0m\u001b[0msend\u001b[0m\u001b[1;33m(\u001b[0m\u001b[0mprep\u001b[0m\u001b[1;33m,\u001b[0m \u001b[1;33m**\u001b[0m\u001b[0msend_kwargs\u001b[0m\u001b[1;33m)\u001b[0m\u001b[1;33m\u001b[0m\u001b[1;33m\u001b[0m\u001b[0m\n\u001b[0m\u001b[0;32m    534\u001b[0m \u001b[1;33m\u001b[0m\u001b[0m\n\u001b[0;32m    535\u001b[0m         \u001b[1;32mreturn\u001b[0m \u001b[0mresp\u001b[0m\u001b[1;33m\u001b[0m\u001b[1;33m\u001b[0m\u001b[0m\n",
      "\u001b[1;32m~\\Anaconda2\\envs\\tf3\\lib\\site-packages\\requests\\sessions.py\u001b[0m in \u001b[0;36msend\u001b[1;34m(self, request, **kwargs)\u001b[0m\n\u001b[0;32m    644\u001b[0m \u001b[1;33m\u001b[0m\u001b[0m\n\u001b[0;32m    645\u001b[0m         \u001b[1;31m# Send the request\u001b[0m\u001b[1;33m\u001b[0m\u001b[1;33m\u001b[0m\u001b[1;33m\u001b[0m\u001b[0m\n\u001b[1;32m--> 646\u001b[1;33m         \u001b[0mr\u001b[0m \u001b[1;33m=\u001b[0m \u001b[0madapter\u001b[0m\u001b[1;33m.\u001b[0m\u001b[0msend\u001b[0m\u001b[1;33m(\u001b[0m\u001b[0mrequest\u001b[0m\u001b[1;33m,\u001b[0m \u001b[1;33m**\u001b[0m\u001b[0mkwargs\u001b[0m\u001b[1;33m)\u001b[0m\u001b[1;33m\u001b[0m\u001b[1;33m\u001b[0m\u001b[0m\n\u001b[0m\u001b[0;32m    647\u001b[0m \u001b[1;33m\u001b[0m\u001b[0m\n\u001b[0;32m    648\u001b[0m         \u001b[1;31m# Total elapsed time of the request (approximately)\u001b[0m\u001b[1;33m\u001b[0m\u001b[1;33m\u001b[0m\u001b[1;33m\u001b[0m\u001b[0m\n",
      "\u001b[1;32m~\\Anaconda2\\envs\\tf3\\lib\\site-packages\\requests\\adapters.py\u001b[0m in \u001b[0;36msend\u001b[1;34m(self, request, stream, timeout, verify, cert, proxies)\u001b[0m\n\u001b[0;32m    514\u001b[0m                 \u001b[1;32mraise\u001b[0m \u001b[0mSSLError\u001b[0m\u001b[1;33m(\u001b[0m\u001b[0me\u001b[0m\u001b[1;33m,\u001b[0m \u001b[0mrequest\u001b[0m\u001b[1;33m=\u001b[0m\u001b[0mrequest\u001b[0m\u001b[1;33m)\u001b[0m\u001b[1;33m\u001b[0m\u001b[1;33m\u001b[0m\u001b[0m\n\u001b[0;32m    515\u001b[0m \u001b[1;33m\u001b[0m\u001b[0m\n\u001b[1;32m--> 516\u001b[1;33m             \u001b[1;32mraise\u001b[0m \u001b[0mConnectionError\u001b[0m\u001b[1;33m(\u001b[0m\u001b[0me\u001b[0m\u001b[1;33m,\u001b[0m \u001b[0mrequest\u001b[0m\u001b[1;33m=\u001b[0m\u001b[0mrequest\u001b[0m\u001b[1;33m)\u001b[0m\u001b[1;33m\u001b[0m\u001b[1;33m\u001b[0m\u001b[0m\n\u001b[0m\u001b[0;32m    517\u001b[0m \u001b[1;33m\u001b[0m\u001b[0m\n\u001b[0;32m    518\u001b[0m         \u001b[1;32mexcept\u001b[0m \u001b[0mClosedPoolError\u001b[0m \u001b[1;32mas\u001b[0m \u001b[0me\u001b[0m\u001b[1;33m:\u001b[0m\u001b[1;33m\u001b[0m\u001b[1;33m\u001b[0m\u001b[0m\n",
      "\u001b[1;31mConnectionError\u001b[0m: HTTPSConnectionPool(host='api.foursquare.com', port=443): Max retries exceeded with url: /v2/venues/explore?&client_id=DVUYZ0B5CPKNIIXLYAJMGRKZBYUP1U20PUC0AKEAFQT0NDLJ&client_secret=G5W51BKU2JQDRPVKLNMOHLW0L2NBVYQZ3HUZXVXQ14TKEKGO&v=20180605&ll=43.745905799999996,-79.352188&radius=100&limit=500 (Caused by NewConnectionError('<urllib3.connection.VerifiedHTTPSConnection object at 0x000001B8E65B1320>: Failed to establish a new connection: [WinError 10060] A connection attempt failed because the connected party did not properly respond after a period of time, or established connection failed because connected host has failed to respond',))"
     ]
    }
   ],
   "source": [
    "places = []\n",
    "for lat, lng in zip(full['Latitude'], full['Longitude']):\n",
    "    venues = get_info(lat, lng)\n",
    "    n = 0\n",
    "    for venue in venues:\n",
    "        for v in venue['venue']['categories']:\n",
    "            print(v['name'])\n",
    "            n += 1\n",
    "    places.append(n)\n",
    "    print('New location: ', lat, lng, n)"
   ]
  },
  {
   "cell_type": "code",
   "execution_count": 35,
   "metadata": {},
   "outputs": [
    {
     "name": "stderr",
     "output_type": "stream",
     "text": [
      "C:\\Users\\Gustavo\\Anaconda2\\envs\\tf3\\lib\\site-packages\\ipykernel_launcher.py:8: FutureWarning: Method `add_children` is deprecated. Please use `add_child` instead.\n",
      "  \n"
     ]
    },
    {
     "data": {
      "text/html": [
       "<div style=\"width:100%;\"><div style=\"position:relative;width:100%;height:0;padding-bottom:60%;\"><iframe src=\"data:text/html;charset=utf-8;base64,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\" style=\"position:absolute;width:100%;height:100%;left:0;top:0;border:none !important;\" allowfullscreen webkitallowfullscreen mozallowfullscreen></iframe></div></div>"
      ],
      "text/plain": [
       "<folium.folium.Map at 0x1b8e65cf710>"
      ]
     },
     "execution_count": 35,
     "metadata": {},
     "output_type": "execute_result"
    }
   ],
   "source": [
    "map_toronto = folium.Map(location=[43.6542599, -79.3606359], zoom_start=10)\n",
    "map_toronto.add_children(plugins.HeatMap(zip(full['Latitude'], full['Longitude'], places), radius = 10))\n",
    "\n",
    "map_toronto"
   ]
  },
  {
   "cell_type": "code",
   "execution_count": null,
   "metadata": {},
   "outputs": [],
   "source": []
  },
  {
   "cell_type": "code",
   "execution_count": null,
   "metadata": {},
   "outputs": [],
   "source": []
  }
 ],
 "metadata": {
  "kernelspec": {
   "display_name": "Python 3",
   "language": "python",
   "name": "python3"
  },
  "language_info": {
   "codemirror_mode": {
    "name": "ipython",
    "version": 3
   },
   "file_extension": ".py",
   "mimetype": "text/x-python",
   "name": "python",
   "nbconvert_exporter": "python",
   "pygments_lexer": "ipython3",
   "version": "3.6.8"
  }
 },
 "nbformat": 4,
 "nbformat_minor": 2
}
