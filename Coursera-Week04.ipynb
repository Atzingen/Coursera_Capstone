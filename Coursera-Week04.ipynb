{
 "cells": [
  {
   "cell_type": "markdown",
   "metadata": {},
   "source": [
    "# Coursera Week04 Assignment"
   ]
  },
  {
   "cell_type": "markdown",
   "metadata": {},
   "source": [
    "## Using BeautifulSouf we will first scrapt the wikipedia url to get the list of postal codes"
   ]
  },
  {
   "cell_type": "code",
   "execution_count": 37,
   "metadata": {},
   "outputs": [],
   "source": [
    "import pandas as pd\n",
    "from bs4 import BeautifulSoup\n",
    "from urllib.request import urlopen"
   ]
  },
  {
   "cell_type": "markdown",
   "metadata": {},
   "source": [
    "We will use beautifulsoup to filter a request on the wikipedia url"
   ]
  },
  {
   "cell_type": "code",
   "execution_count": 38,
   "metadata": {},
   "outputs": [],
   "source": [
    "url = \"https://en.wikipedia.org/wiki/List_of_postal_codes_of_Canada:_M\"\n",
    "html = urlopen(url)\n",
    "soup = BeautifulSoup(html, 'html')"
   ]
  },
  {
   "cell_type": "markdown",
   "metadata": {},
   "source": [
    "Now, walk through the lines of the table to create tree lists with PostalCode, Borough and Neighborhood"
   ]
  },
  {
   "cell_type": "code",
   "execution_count": 39,
   "metadata": {},
   "outputs": [],
   "source": [
    "sigla, borough, Neigh = [], [], []\n",
    "old_postal, old_neigh, old_boro = None, '', ''\n",
    "for tr in soup.find_all('tr'):\n",
    "    b = tr.text.split('\\n')[1:]\n",
    "    try:\n",
    "        # Check if the <tr> is indeed from the wanted table\n",
    "        if b[0][0] == 'M':\n",
    "            # the next if statment for the requeriment: \n",
    "            # \"Only process the cells that have an assigned borough. Ignore cells with a borough that is Not assigned.\"\n",
    "            if b[1] != 'Not assigned':\n",
    "                # now check if the postalcode is not repeted:\n",
    "                if b[0] != old_postal and old_postal != None:\n",
    "                    # add to the list (table)\n",
    "                    sigla.append(old_postal)\n",
    "                    # if not assigned to neighborhood, give borough value\n",
    "                    if old_neigh == 'Not assigned':\n",
    "                        old_neigh = old_boro\n",
    "                    borough.append(old_boro)\n",
    "                    Neigh.append(old_neigh)\n",
    "                    # now clean the temporary neighborhood\n",
    "                    old_neigh = ''\n",
    "                if old_neigh != '':\n",
    "                    old_neigh += ', '\n",
    "                old_neigh += b[2]\n",
    "                old_boro = b[1]\n",
    "                old_postal = b[0]\n",
    "                    \n",
    "    except:\n",
    "        pass"
   ]
  },
  {
   "cell_type": "markdown",
   "metadata": {},
   "source": [
    "Now put those lists on the dataframe"
   ]
  },
  {
   "cell_type": "code",
   "execution_count": 40,
   "metadata": {},
   "outputs": [
    {
     "data": {
      "text/html": [
       "<div>\n",
       "<style scoped>\n",
       "    .dataframe tbody tr th:only-of-type {\n",
       "        vertical-align: middle;\n",
       "    }\n",
       "\n",
       "    .dataframe tbody tr th {\n",
       "        vertical-align: top;\n",
       "    }\n",
       "\n",
       "    .dataframe thead th {\n",
       "        text-align: right;\n",
       "    }\n",
       "</style>\n",
       "<table border=\"1\" class=\"dataframe\">\n",
       "  <thead>\n",
       "    <tr style=\"text-align: right;\">\n",
       "      <th></th>\n",
       "      <th>PostalCode</th>\n",
       "      <th>Borough</th>\n",
       "      <th>Neighborhood</th>\n",
       "    </tr>\n",
       "  </thead>\n",
       "  <tbody>\n",
       "    <tr>\n",
       "      <td>0</td>\n",
       "      <td>M3A</td>\n",
       "      <td>North York</td>\n",
       "      <td>Parkwoods</td>\n",
       "    </tr>\n",
       "    <tr>\n",
       "      <td>1</td>\n",
       "      <td>M4A</td>\n",
       "      <td>North York</td>\n",
       "      <td>Victoria Village</td>\n",
       "    </tr>\n",
       "    <tr>\n",
       "      <td>2</td>\n",
       "      <td>M5A</td>\n",
       "      <td>Downtown Toronto</td>\n",
       "      <td>Harbourfront, Regent Park</td>\n",
       "    </tr>\n",
       "    <tr>\n",
       "      <td>3</td>\n",
       "      <td>M6A</td>\n",
       "      <td>North York</td>\n",
       "      <td>Lawrence Heights, Lawrence Manor</td>\n",
       "    </tr>\n",
       "    <tr>\n",
       "      <td>4</td>\n",
       "      <td>M7A</td>\n",
       "      <td>Queen's Park</td>\n",
       "      <td>Queen's Park</td>\n",
       "    </tr>\n",
       "    <tr>\n",
       "      <td>5</td>\n",
       "      <td>M9A</td>\n",
       "      <td>Etobicoke</td>\n",
       "      <td>Islington Avenue</td>\n",
       "    </tr>\n",
       "    <tr>\n",
       "      <td>6</td>\n",
       "      <td>M1B</td>\n",
       "      <td>Scarborough</td>\n",
       "      <td>Rouge, Malvern</td>\n",
       "    </tr>\n",
       "    <tr>\n",
       "      <td>7</td>\n",
       "      <td>M3B</td>\n",
       "      <td>North York</td>\n",
       "      <td>Don Mills North</td>\n",
       "    </tr>\n",
       "    <tr>\n",
       "      <td>8</td>\n",
       "      <td>M4B</td>\n",
       "      <td>East York</td>\n",
       "      <td>Woodbine Gardens, Parkview Hill</td>\n",
       "    </tr>\n",
       "    <tr>\n",
       "      <td>9</td>\n",
       "      <td>M5B</td>\n",
       "      <td>Downtown Toronto</td>\n",
       "      <td>Ryerson, Garden District</td>\n",
       "    </tr>\n",
       "    <tr>\n",
       "      <td>10</td>\n",
       "      <td>M6B</td>\n",
       "      <td>North York</td>\n",
       "      <td>Glencairn</td>\n",
       "    </tr>\n",
       "    <tr>\n",
       "      <td>11</td>\n",
       "      <td>M9B</td>\n",
       "      <td>Etobicoke</td>\n",
       "      <td>Cloverdale, Islington, Martin Grove, Princess ...</td>\n",
       "    </tr>\n",
       "    <tr>\n",
       "      <td>12</td>\n",
       "      <td>M1C</td>\n",
       "      <td>Scarborough</td>\n",
       "      <td>Highland Creek, Rouge Hill, Port Union</td>\n",
       "    </tr>\n",
       "    <tr>\n",
       "      <td>13</td>\n",
       "      <td>M3C</td>\n",
       "      <td>North York</td>\n",
       "      <td>Flemingdon Park, Don Mills South</td>\n",
       "    </tr>\n",
       "    <tr>\n",
       "      <td>14</td>\n",
       "      <td>M4C</td>\n",
       "      <td>East York</td>\n",
       "      <td>Woodbine Heights</td>\n",
       "    </tr>\n",
       "    <tr>\n",
       "      <td>15</td>\n",
       "      <td>M5C</td>\n",
       "      <td>Downtown Toronto</td>\n",
       "      <td>St. James Town</td>\n",
       "    </tr>\n",
       "    <tr>\n",
       "      <td>16</td>\n",
       "      <td>M6C</td>\n",
       "      <td>York</td>\n",
       "      <td>Humewood-Cedarvale</td>\n",
       "    </tr>\n",
       "    <tr>\n",
       "      <td>17</td>\n",
       "      <td>M9C</td>\n",
       "      <td>Etobicoke</td>\n",
       "      <td>Bloordale Gardens, Eringate, Markland Wood, Ol...</td>\n",
       "    </tr>\n",
       "    <tr>\n",
       "      <td>18</td>\n",
       "      <td>M1E</td>\n",
       "      <td>Scarborough</td>\n",
       "      <td>Guildwood, Morningside, West Hill</td>\n",
       "    </tr>\n",
       "    <tr>\n",
       "      <td>19</td>\n",
       "      <td>M4E</td>\n",
       "      <td>East Toronto</td>\n",
       "      <td>The Beaches</td>\n",
       "    </tr>\n",
       "  </tbody>\n",
       "</table>\n",
       "</div>"
      ],
      "text/plain": [
       "   PostalCode           Borough  \\\n",
       "0         M3A        North York   \n",
       "1         M4A        North York   \n",
       "2         M5A  Downtown Toronto   \n",
       "3         M6A        North York   \n",
       "4         M7A      Queen's Park   \n",
       "5         M9A         Etobicoke   \n",
       "6         M1B       Scarborough   \n",
       "7         M3B        North York   \n",
       "8         M4B         East York   \n",
       "9         M5B  Downtown Toronto   \n",
       "10        M6B        North York   \n",
       "11        M9B         Etobicoke   \n",
       "12        M1C       Scarborough   \n",
       "13        M3C        North York   \n",
       "14        M4C         East York   \n",
       "15        M5C  Downtown Toronto   \n",
       "16        M6C              York   \n",
       "17        M9C         Etobicoke   \n",
       "18        M1E       Scarborough   \n",
       "19        M4E      East Toronto   \n",
       "\n",
       "                                         Neighborhood  \n",
       "0                                           Parkwoods  \n",
       "1                                    Victoria Village  \n",
       "2                           Harbourfront, Regent Park  \n",
       "3                    Lawrence Heights, Lawrence Manor  \n",
       "4                                        Queen's Park  \n",
       "5                                    Islington Avenue  \n",
       "6                                      Rouge, Malvern  \n",
       "7                                     Don Mills North  \n",
       "8                     Woodbine Gardens, Parkview Hill  \n",
       "9                            Ryerson, Garden District  \n",
       "10                                          Glencairn  \n",
       "11  Cloverdale, Islington, Martin Grove, Princess ...  \n",
       "12             Highland Creek, Rouge Hill, Port Union  \n",
       "13                   Flemingdon Park, Don Mills South  \n",
       "14                                   Woodbine Heights  \n",
       "15                                     St. James Town  \n",
       "16                                 Humewood-Cedarvale  \n",
       "17  Bloordale Gardens, Eringate, Markland Wood, Ol...  \n",
       "18                  Guildwood, Morningside, West Hill  \n",
       "19                                        The Beaches  "
      ]
     },
     "execution_count": 40,
     "metadata": {},
     "output_type": "execute_result"
    }
   ],
   "source": [
    "df = pd.DataFrame(list(zip(sigla, borough, Neigh)), columns=['PostalCode', 'Borough', 'Neighborhood'])\n",
    "df.head(20)"
   ]
  },
  {
   "cell_type": "markdown",
   "metadata": {},
   "source": [
    "Let's see the shape:"
   ]
  },
  {
   "cell_type": "code",
   "execution_count": 41,
   "metadata": {},
   "outputs": [
    {
     "data": {
      "text/plain": [
       "(102, 3)"
      ]
     },
     "execution_count": 41,
     "metadata": {},
     "output_type": "execute_result"
    }
   ],
   "source": [
    "df.shape"
   ]
  },
  {
   "cell_type": "markdown",
   "metadata": {},
   "source": [
    "Now, to get the geolocation from the postal code:"
   ]
  },
  {
   "cell_type": "code",
   "execution_count": 42,
   "metadata": {},
   "outputs": [],
   "source": [
    "import geocoder"
   ]
  },
  {
   "cell_type": "markdown",
   "metadata": {},
   "source": [
    "Code not working as google api does not acept calls withot registered key no more"
   ]
  },
  {
   "cell_type": "code",
   "execution_count": 43,
   "metadata": {},
   "outputs": [],
   "source": [
    "# lat_lng_coords = None\n",
    "# lat, long = [], []\n",
    "# for postalCode in df.PostalCode.values:\n",
    "#     # loop until you get the coordinates\n",
    "#     while(lat_lng_coords is None):\n",
    "#       g = geocoder.google(f'{postalCode}, Toronto, Ontario')\n",
    "#       lat_lng_coords = g.latlng\n",
    "#     lat.append(lat_lng_coords[0])\n",
    "#     long.append(lat_lng_coords[1])"
   ]
  },
  {
   "cell_type": "code",
   "execution_count": 44,
   "metadata": {},
   "outputs": [
    {
     "name": "stdout",
     "output_type": "stream",
     "text": [
      "43.6362579 []\n"
     ]
    }
   ],
   "source": [
    "print(lat, long)"
   ]
  },
  {
   "cell_type": "markdown",
   "metadata": {},
   "source": [
    "Using the data on the csv file as a workoroung as requested:"
   ]
  },
  {
   "cell_type": "code",
   "execution_count": 45,
   "metadata": {},
   "outputs": [],
   "source": [
    "# getting the data from the url to a pandas dataframe\n",
    "url = 'http://cocl.us/Geospatial_data'\n",
    "geo_df = pd.read_csv(url)"
   ]
  },
  {
   "cell_type": "code",
   "execution_count": 46,
   "metadata": {},
   "outputs": [],
   "source": [
    "# renaming Postal code colum to match previous df:\n",
    "geo_df.rename(columns={\"Postal Code\": \"PostalCode\"}, inplace=True)"
   ]
  },
  {
   "cell_type": "code",
   "execution_count": 47,
   "metadata": {},
   "outputs": [
    {
     "data": {
      "text/html": [
       "<div>\n",
       "<style scoped>\n",
       "    .dataframe tbody tr th:only-of-type {\n",
       "        vertical-align: middle;\n",
       "    }\n",
       "\n",
       "    .dataframe tbody tr th {\n",
       "        vertical-align: top;\n",
       "    }\n",
       "\n",
       "    .dataframe thead th {\n",
       "        text-align: right;\n",
       "    }\n",
       "</style>\n",
       "<table border=\"1\" class=\"dataframe\">\n",
       "  <thead>\n",
       "    <tr style=\"text-align: right;\">\n",
       "      <th></th>\n",
       "      <th>PostalCode</th>\n",
       "      <th>Latitude</th>\n",
       "      <th>Longitude</th>\n",
       "    </tr>\n",
       "  </thead>\n",
       "  <tbody>\n",
       "    <tr>\n",
       "      <td>0</td>\n",
       "      <td>M1B</td>\n",
       "      <td>43.806686</td>\n",
       "      <td>-79.194353</td>\n",
       "    </tr>\n",
       "    <tr>\n",
       "      <td>1</td>\n",
       "      <td>M1C</td>\n",
       "      <td>43.784535</td>\n",
       "      <td>-79.160497</td>\n",
       "    </tr>\n",
       "    <tr>\n",
       "      <td>2</td>\n",
       "      <td>M1E</td>\n",
       "      <td>43.763573</td>\n",
       "      <td>-79.188711</td>\n",
       "    </tr>\n",
       "    <tr>\n",
       "      <td>3</td>\n",
       "      <td>M1G</td>\n",
       "      <td>43.770992</td>\n",
       "      <td>-79.216917</td>\n",
       "    </tr>\n",
       "    <tr>\n",
       "      <td>4</td>\n",
       "      <td>M1H</td>\n",
       "      <td>43.773136</td>\n",
       "      <td>-79.239476</td>\n",
       "    </tr>\n",
       "  </tbody>\n",
       "</table>\n",
       "</div>"
      ],
      "text/plain": [
       "  PostalCode   Latitude  Longitude\n",
       "0        M1B  43.806686 -79.194353\n",
       "1        M1C  43.784535 -79.160497\n",
       "2        M1E  43.763573 -79.188711\n",
       "3        M1G  43.770992 -79.216917\n",
       "4        M1H  43.773136 -79.239476"
      ]
     },
     "execution_count": 47,
     "metadata": {},
     "output_type": "execute_result"
    }
   ],
   "source": [
    "# check if everything is correct:\n",
    "geo_df.head()"
   ]
  },
  {
   "cell_type": "markdown",
   "metadata": {},
   "source": [
    "Now, let's merge the dataframes:"
   ]
  },
  {
   "cell_type": "code",
   "execution_count": 48,
   "metadata": {},
   "outputs": [],
   "source": [
    "full = pd.merge(df, geo_df, on='PostalCode')"
   ]
  },
  {
   "cell_type": "code",
   "execution_count": 49,
   "metadata": {},
   "outputs": [
    {
     "data": {
      "text/html": [
       "<div>\n",
       "<style scoped>\n",
       "    .dataframe tbody tr th:only-of-type {\n",
       "        vertical-align: middle;\n",
       "    }\n",
       "\n",
       "    .dataframe tbody tr th {\n",
       "        vertical-align: top;\n",
       "    }\n",
       "\n",
       "    .dataframe thead th {\n",
       "        text-align: right;\n",
       "    }\n",
       "</style>\n",
       "<table border=\"1\" class=\"dataframe\">\n",
       "  <thead>\n",
       "    <tr style=\"text-align: right;\">\n",
       "      <th></th>\n",
       "      <th>PostalCode</th>\n",
       "      <th>Borough</th>\n",
       "      <th>Neighborhood</th>\n",
       "      <th>Latitude</th>\n",
       "      <th>Longitude</th>\n",
       "    </tr>\n",
       "  </thead>\n",
       "  <tbody>\n",
       "    <tr>\n",
       "      <td>0</td>\n",
       "      <td>M3A</td>\n",
       "      <td>North York</td>\n",
       "      <td>Parkwoods</td>\n",
       "      <td>43.753259</td>\n",
       "      <td>-79.329656</td>\n",
       "    </tr>\n",
       "    <tr>\n",
       "      <td>1</td>\n",
       "      <td>M4A</td>\n",
       "      <td>North York</td>\n",
       "      <td>Victoria Village</td>\n",
       "      <td>43.725882</td>\n",
       "      <td>-79.315572</td>\n",
       "    </tr>\n",
       "    <tr>\n",
       "      <td>2</td>\n",
       "      <td>M5A</td>\n",
       "      <td>Downtown Toronto</td>\n",
       "      <td>Harbourfront, Regent Park</td>\n",
       "      <td>43.654260</td>\n",
       "      <td>-79.360636</td>\n",
       "    </tr>\n",
       "    <tr>\n",
       "      <td>3</td>\n",
       "      <td>M6A</td>\n",
       "      <td>North York</td>\n",
       "      <td>Lawrence Heights, Lawrence Manor</td>\n",
       "      <td>43.718518</td>\n",
       "      <td>-79.464763</td>\n",
       "    </tr>\n",
       "    <tr>\n",
       "      <td>4</td>\n",
       "      <td>M7A</td>\n",
       "      <td>Queen's Park</td>\n",
       "      <td>Queen's Park</td>\n",
       "      <td>43.662301</td>\n",
       "      <td>-79.389494</td>\n",
       "    </tr>\n",
       "    <tr>\n",
       "      <td>5</td>\n",
       "      <td>M9A</td>\n",
       "      <td>Etobicoke</td>\n",
       "      <td>Islington Avenue</td>\n",
       "      <td>43.667856</td>\n",
       "      <td>-79.532242</td>\n",
       "    </tr>\n",
       "    <tr>\n",
       "      <td>6</td>\n",
       "      <td>M1B</td>\n",
       "      <td>Scarborough</td>\n",
       "      <td>Rouge, Malvern</td>\n",
       "      <td>43.806686</td>\n",
       "      <td>-79.194353</td>\n",
       "    </tr>\n",
       "    <tr>\n",
       "      <td>7</td>\n",
       "      <td>M3B</td>\n",
       "      <td>North York</td>\n",
       "      <td>Don Mills North</td>\n",
       "      <td>43.745906</td>\n",
       "      <td>-79.352188</td>\n",
       "    </tr>\n",
       "    <tr>\n",
       "      <td>8</td>\n",
       "      <td>M4B</td>\n",
       "      <td>East York</td>\n",
       "      <td>Woodbine Gardens, Parkview Hill</td>\n",
       "      <td>43.706397</td>\n",
       "      <td>-79.309937</td>\n",
       "    </tr>\n",
       "    <tr>\n",
       "      <td>9</td>\n",
       "      <td>M5B</td>\n",
       "      <td>Downtown Toronto</td>\n",
       "      <td>Ryerson, Garden District</td>\n",
       "      <td>43.657162</td>\n",
       "      <td>-79.378937</td>\n",
       "    </tr>\n",
       "  </tbody>\n",
       "</table>\n",
       "</div>"
      ],
      "text/plain": [
       "  PostalCode           Borough                      Neighborhood   Latitude  \\\n",
       "0        M3A        North York                         Parkwoods  43.753259   \n",
       "1        M4A        North York                  Victoria Village  43.725882   \n",
       "2        M5A  Downtown Toronto         Harbourfront, Regent Park  43.654260   \n",
       "3        M6A        North York  Lawrence Heights, Lawrence Manor  43.718518   \n",
       "4        M7A      Queen's Park                      Queen's Park  43.662301   \n",
       "5        M9A         Etobicoke                  Islington Avenue  43.667856   \n",
       "6        M1B       Scarborough                    Rouge, Malvern  43.806686   \n",
       "7        M3B        North York                   Don Mills North  43.745906   \n",
       "8        M4B         East York   Woodbine Gardens, Parkview Hill  43.706397   \n",
       "9        M5B  Downtown Toronto          Ryerson, Garden District  43.657162   \n",
       "\n",
       "   Longitude  \n",
       "0 -79.329656  \n",
       "1 -79.315572  \n",
       "2 -79.360636  \n",
       "3 -79.464763  \n",
       "4 -79.389494  \n",
       "5 -79.532242  \n",
       "6 -79.194353  \n",
       "7 -79.352188  \n",
       "8 -79.309937  \n",
       "9 -79.378937  "
      ]
     },
     "execution_count": 49,
     "metadata": {},
     "output_type": "execute_result"
    }
   ],
   "source": [
    "full.head(10)"
   ]
  },
  {
   "cell_type": "code",
   "execution_count": null,
   "metadata": {},
   "outputs": [],
   "source": []
  },
  {
   "cell_type": "code",
   "execution_count": 50,
   "metadata": {},
   "outputs": [
    {
     "data": {
      "text/plain": [
       "(102, 5)"
      ]
     },
     "execution_count": 50,
     "metadata": {},
     "output_type": "execute_result"
    }
   ],
   "source": [
    "full.shape"
   ]
  },
  {
   "cell_type": "markdown",
   "metadata": {},
   "source": [
    "Some analysis of the data and visual plot of the map"
   ]
  },
  {
   "cell_type": "code",
   "execution_count": 70,
   "metadata": {},
   "outputs": [],
   "source": [
    "from geopy.geocoders import Nominatim\n",
    "import folium\n",
    "import requests"
   ]
  },
  {
   "cell_type": "code",
   "execution_count": 58,
   "metadata": {},
   "outputs": [
    {
     "data": {
      "text/html": [
       "<div style=\"width:100%;\"><div style=\"position:relative;width:100%;height:0;padding-bottom:60%;\"><iframe src=\"data:text/html;charset=utf-8;base64,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\" style=\"position:absolute;width:100%;height:100%;left:0;top:0;border:none !important;\" allowfullscreen webkitallowfullscreen mozallowfullscreen></iframe></div></div>"
      ],
      "text/plain": [
       "<folium.folium.Map at 0x119b601d0>"
      ]
     },
     "execution_count": 58,
     "metadata": {},
     "output_type": "execute_result"
    }
   ],
   "source": [
    "# Ltes create a map of toronto with the given areas code latitude and longitude:\n",
    "map_toronto = folium.Map(location=[43.657162, -79.378937], zoom_start=10)\n",
    "\n",
    "# add markers to map\n",
    "for lat, lng, borough, neighborhood in zip(full['Latitude'], full['Longitude'], full['Borough'], full['Neighborhood']):\n",
    "    label = '{}, {}'.format(neighborhood, borough)\n",
    "    label = folium.Popup(label, parse_html=True)\n",
    "    folium.CircleMarker(\n",
    "        [lat, lng],\n",
    "        radius=5,\n",
    "        popup=label,\n",
    "        color='blue',\n",
    "        fill=True,\n",
    "        fill_color='#3186cc',\n",
    "        fill_opacity=0.7,\n",
    "        parse_html=False).add_to(map_toronto)  \n",
    "    \n",
    "map_toronto"
   ]
  },
  {
   "cell_type": "code",
   "execution_count": null,
   "metadata": {},
   "outputs": [],
   "source": []
  },
  {
   "cell_type": "code",
   "execution_count": 67,
   "metadata": {},
   "outputs": [
    {
     "data": {
      "text/html": [
       "<div>\n",
       "<style scoped>\n",
       "    .dataframe tbody tr th:only-of-type {\n",
       "        vertical-align: middle;\n",
       "    }\n",
       "\n",
       "    .dataframe tbody tr th {\n",
       "        vertical-align: top;\n",
       "    }\n",
       "\n",
       "    .dataframe thead th {\n",
       "        text-align: right;\n",
       "    }\n",
       "</style>\n",
       "<table border=\"1\" class=\"dataframe\">\n",
       "  <thead>\n",
       "    <tr style=\"text-align: right;\">\n",
       "      <th></th>\n",
       "      <th>PostalCode</th>\n",
       "      <th>Borough</th>\n",
       "      <th>Neighborhood</th>\n",
       "      <th>Latitude</th>\n",
       "      <th>Longitude</th>\n",
       "    </tr>\n",
       "  </thead>\n",
       "  <tbody>\n",
       "  </tbody>\n",
       "</table>\n",
       "</div>"
      ],
      "text/plain": [
       "Empty DataFrame\n",
       "Columns: [PostalCode, Borough, Neighborhood, Latitude, Longitude]\n",
       "Index: []"
      ]
     },
     "execution_count": 67,
     "metadata": {},
     "output_type": "execute_result"
    }
   ],
   "source": [
    "manhattan_data = full[full['Borough'] == 'Toronto'].reset_index(drop=True)\n",
    "manhattan_data.head()"
   ]
  },
  {
   "cell_type": "code",
   "execution_count": 68,
   "metadata": {},
   "outputs": [
    {
     "name": "stdout",
     "output_type": "stream",
     "text": [
      "Your credentails:\n",
      "CLIENT_ID: DVUYZ0B5CPKNIIXLYAJMGRKZBYUP1U20PUC0AKEAFQT0NDLJ\n",
      "CLIENT_SECRET:G5W51BKU2JQDRPVKLNMOHLW0L2NBVYQZ3HUZXVXQ14TKEKGO\n"
     ]
    }
   ],
   "source": [
    "CLIENT_ID = 'DVUYZ0B5CPKNIIXLYAJMGRKZBYUP1U20PUC0AKEAFQT0NDLJ' # your Foursquare ID\n",
    "CLIENT_SECRET = 'G5W51BKU2JQDRPVKLNMOHLW0L2NBVYQZ3HUZXVXQ14TKEKGO' # your Foursquare Secret\n",
    "VERSION = '20180605' # Foursquare API version\n",
    "\n",
    "print('Your credentails:')\n",
    "print('CLIENT_ID: ' + CLIENT_ID)\n",
    "print('CLIENT_SECRET:' + CLIENT_SECRET)"
   ]
  },
  {
   "cell_type": "code",
   "execution_count": 71,
   "metadata": {},
   "outputs": [],
   "source": [
    "url = 'https://api.foursquare.com/v2/venues/explore?&client_id={}&client_secret={}&v={}&ll={},{}&radius={}&limit={}'.format(\n",
    "    CLIENT_ID, \n",
    "    CLIENT_SECRET, \n",
    "    VERSION, \n",
    "    43.657162, -79.378937, \n",
    "    100, \n",
    "    500)\n",
    "results = requests.get(url).json()"
   ]
  },
  {
   "cell_type": "code",
   "execution_count": 79,
   "metadata": {},
   "outputs": [
    {
     "data": {
      "text/plain": [
       "0    [{'id': '4bf58dd8d48988d1e2931735', 'name': 'A...\n",
       "1    [{'id': '4bf58dd8d48988d1e0931735', 'name': 'C...\n",
       "Name: venue.categories, dtype: object"
      ]
     },
     "execution_count": 79,
     "metadata": {},
     "output_type": "execute_result"
    }
   ],
   "source": [
    "venues = results['response']['groups'][0]['items']\n",
    "nearby_venues = pd.io.json.json_normalize(venues)\n",
    "\n",
    "nearby_venues['venue.categories']"
   ]
  },
  {
   "cell_type": "code",
   "execution_count": 106,
   "metadata": {},
   "outputs": [
    {
     "data": {
      "text/plain": [
       "'Art Gallery'"
      ]
     },
     "execution_count": 106,
     "metadata": {},
     "output_type": "execute_result"
    }
   ],
   "source": [
    "results['response']['groups'][0]['items'][0]['venue']['categories'][0]['name']"
   ]
  },
  {
   "cell_type": "code",
   "execution_count": null,
   "metadata": {},
   "outputs": [],
   "source": []
  },
  {
   "cell_type": "code",
   "execution_count": null,
   "metadata": {},
   "outputs": [],
   "source": []
  },
  {
   "cell_type": "code",
   "execution_count": null,
   "metadata": {},
   "outputs": [],
   "source": []
  },
  {
   "cell_type": "code",
   "execution_count": null,
   "metadata": {},
   "outputs": [],
   "source": []
  }
 ],
 "metadata": {
  "kernelspec": {
   "display_name": "Python 3",
   "language": "python",
   "name": "python3"
  },
  "language_info": {
   "codemirror_mode": {
    "name": "ipython",
    "version": 3
   },
   "file_extension": ".py",
   "mimetype": "text/x-python",
   "name": "python",
   "nbconvert_exporter": "python",
   "pygments_lexer": "ipython3",
   "version": "3.7.4"
  }
 },
 "nbformat": 4,
 "nbformat_minor": 2
}
