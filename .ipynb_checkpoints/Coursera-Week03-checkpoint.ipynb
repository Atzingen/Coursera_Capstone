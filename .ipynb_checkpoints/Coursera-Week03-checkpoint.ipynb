{
 "cells": [
  {
   "cell_type": "markdown",
   "metadata": {},
   "source": [
    "# Coursera Week04 Assignment"
   ]
  },
  {
   "cell_type": "markdown",
   "metadata": {},
   "source": [
    "## Using BeautifulSouf we will first scrapt the wikipedia url to get the list of postal codes"
   ]
  },
  {
   "cell_type": "code",
   "execution_count": 1,
   "metadata": {},
   "outputs": [],
   "source": [
    "import pandas as pd\n",
    "import numpy as np\n",
    "from bs4 import BeautifulSoup\n",
    "from urllib.request import urlopen"
   ]
  },
  {
   "cell_type": "markdown",
   "metadata": {},
   "source": [
    "We will use beautifulsoup to filter a request on the wikipedia url"
   ]
  },
  {
   "cell_type": "code",
   "execution_count": 2,
   "metadata": {},
   "outputs": [],
   "source": [
    "url = \"https://en.wikipedia.org/wiki/List_of_postal_codes_of_Canada:_M\"\n",
    "html = urlopen(url)\n",
    "soup = BeautifulSoup(html, 'html')"
   ]
  },
  {
   "cell_type": "markdown",
   "metadata": {},
   "source": [
    "Now, walk through the lines of the table to create tree lists with PostalCode, Borough and Neighborhood"
   ]
  },
  {
   "cell_type": "code",
   "execution_count": 3,
   "metadata": {},
   "outputs": [],
   "source": [
    "sigla, borough, Neigh = [], [], []\n",
    "old_postal, old_neigh, old_boro = None, '', ''\n",
    "for tr in soup.find_all('tr'):\n",
    "    b = tr.text.split('\\n')[1:]\n",
    "    try:\n",
    "        # Check if the <tr> is indeed from the wanted table\n",
    "        if b[0][0] == 'M':\n",
    "            # the next if statment for the requeriment: \n",
    "            # \"Only process the cells that have an assigned borough. Ignore cells with a borough that is Not assigned.\"\n",
    "            if b[1] != 'Not assigned':\n",
    "                # now check if the postalcode is not repeted:\n",
    "                if b[0] != old_postal and old_postal != None:\n",
    "                    # add to the list (table)\n",
    "                    sigla.append(old_postal)\n",
    "                    # if not assigned to neighborhood, give borough value\n",
    "                    if old_neigh == 'Not assigned':\n",
    "                        old_neigh = old_boro\n",
    "                    borough.append(old_boro)\n",
    "                    Neigh.append(old_neigh)\n",
    "                    # now clean the temporary neighborhood\n",
    "                    old_neigh = ''\n",
    "                if old_neigh != '':\n",
    "                    old_neigh += ', '\n",
    "                old_neigh += b[2]\n",
    "                old_boro = b[1]\n",
    "                old_postal = b[0]\n",
    "                    \n",
    "    except:\n",
    "        pass"
   ]
  },
  {
   "cell_type": "markdown",
   "metadata": {},
   "source": [
    "Now put those lists on the dataframe"
   ]
  },
  {
   "cell_type": "code",
   "execution_count": 4,
   "metadata": {},
   "outputs": [
    {
     "data": {
      "text/html": [
       "<div>\n",
       "<style scoped>\n",
       "    .dataframe tbody tr th:only-of-type {\n",
       "        vertical-align: middle;\n",
       "    }\n",
       "\n",
       "    .dataframe tbody tr th {\n",
       "        vertical-align: top;\n",
       "    }\n",
       "\n",
       "    .dataframe thead th {\n",
       "        text-align: right;\n",
       "    }\n",
       "</style>\n",
       "<table border=\"1\" class=\"dataframe\">\n",
       "  <thead>\n",
       "    <tr style=\"text-align: right;\">\n",
       "      <th></th>\n",
       "      <th>PostalCode</th>\n",
       "      <th>Borough</th>\n",
       "      <th>Neighborhood</th>\n",
       "    </tr>\n",
       "  </thead>\n",
       "  <tbody>\n",
       "    <tr>\n",
       "      <td>0</td>\n",
       "      <td>M3A</td>\n",
       "      <td>North York</td>\n",
       "      <td>Parkwoods</td>\n",
       "    </tr>\n",
       "    <tr>\n",
       "      <td>1</td>\n",
       "      <td>M4A</td>\n",
       "      <td>North York</td>\n",
       "      <td>Victoria Village</td>\n",
       "    </tr>\n",
       "    <tr>\n",
       "      <td>2</td>\n",
       "      <td>M5A</td>\n",
       "      <td>Downtown Toronto</td>\n",
       "      <td>Harbourfront</td>\n",
       "    </tr>\n",
       "    <tr>\n",
       "      <td>3</td>\n",
       "      <td>M6A</td>\n",
       "      <td>North York</td>\n",
       "      <td>Lawrence Heights, Lawrence Manor</td>\n",
       "    </tr>\n",
       "    <tr>\n",
       "      <td>4</td>\n",
       "      <td>M7A</td>\n",
       "      <td>Queen's Park</td>\n",
       "      <td>Queen's Park</td>\n",
       "    </tr>\n",
       "    <tr>\n",
       "      <td>5</td>\n",
       "      <td>M9A</td>\n",
       "      <td>Queen's Park</td>\n",
       "      <td>Queen's Park</td>\n",
       "    </tr>\n",
       "    <tr>\n",
       "      <td>6</td>\n",
       "      <td>M1B</td>\n",
       "      <td>Scarborough</td>\n",
       "      <td>Rouge, Malvern</td>\n",
       "    </tr>\n",
       "    <tr>\n",
       "      <td>7</td>\n",
       "      <td>M3B</td>\n",
       "      <td>North York</td>\n",
       "      <td>Don Mills North</td>\n",
       "    </tr>\n",
       "    <tr>\n",
       "      <td>8</td>\n",
       "      <td>M4B</td>\n",
       "      <td>East York</td>\n",
       "      <td>Woodbine Gardens, Parkview Hill</td>\n",
       "    </tr>\n",
       "    <tr>\n",
       "      <td>9</td>\n",
       "      <td>M5B</td>\n",
       "      <td>Downtown Toronto</td>\n",
       "      <td>Ryerson, Garden District</td>\n",
       "    </tr>\n",
       "    <tr>\n",
       "      <td>10</td>\n",
       "      <td>M6B</td>\n",
       "      <td>North York</td>\n",
       "      <td>Glencairn</td>\n",
       "    </tr>\n",
       "    <tr>\n",
       "      <td>11</td>\n",
       "      <td>M9B</td>\n",
       "      <td>Etobicoke</td>\n",
       "      <td>Cloverdale, Islington, Martin Grove, Princess ...</td>\n",
       "    </tr>\n",
       "    <tr>\n",
       "      <td>12</td>\n",
       "      <td>M1C</td>\n",
       "      <td>Scarborough</td>\n",
       "      <td>Highland Creek, Rouge Hill, Port Union</td>\n",
       "    </tr>\n",
       "    <tr>\n",
       "      <td>13</td>\n",
       "      <td>M3C</td>\n",
       "      <td>North York</td>\n",
       "      <td>Flemingdon Park, Don Mills South</td>\n",
       "    </tr>\n",
       "    <tr>\n",
       "      <td>14</td>\n",
       "      <td>M4C</td>\n",
       "      <td>East York</td>\n",
       "      <td>Woodbine Heights</td>\n",
       "    </tr>\n",
       "    <tr>\n",
       "      <td>15</td>\n",
       "      <td>M5C</td>\n",
       "      <td>Downtown Toronto</td>\n",
       "      <td>St. James Town</td>\n",
       "    </tr>\n",
       "    <tr>\n",
       "      <td>16</td>\n",
       "      <td>M6C</td>\n",
       "      <td>York</td>\n",
       "      <td>Humewood-Cedarvale</td>\n",
       "    </tr>\n",
       "    <tr>\n",
       "      <td>17</td>\n",
       "      <td>M9C</td>\n",
       "      <td>Etobicoke</td>\n",
       "      <td>Bloordale Gardens, Eringate, Markland Wood, Ol...</td>\n",
       "    </tr>\n",
       "    <tr>\n",
       "      <td>18</td>\n",
       "      <td>M1E</td>\n",
       "      <td>Scarborough</td>\n",
       "      <td>Guildwood, Morningside, West Hill</td>\n",
       "    </tr>\n",
       "    <tr>\n",
       "      <td>19</td>\n",
       "      <td>M4E</td>\n",
       "      <td>East Toronto</td>\n",
       "      <td>The Beaches</td>\n",
       "    </tr>\n",
       "  </tbody>\n",
       "</table>\n",
       "</div>"
      ],
      "text/plain": [
       "   PostalCode           Borough  \\\n",
       "0         M3A        North York   \n",
       "1         M4A        North York   \n",
       "2         M5A  Downtown Toronto   \n",
       "3         M6A        North York   \n",
       "4         M7A      Queen's Park   \n",
       "5         M9A      Queen's Park   \n",
       "6         M1B       Scarborough   \n",
       "7         M3B        North York   \n",
       "8         M4B         East York   \n",
       "9         M5B  Downtown Toronto   \n",
       "10        M6B        North York   \n",
       "11        M9B         Etobicoke   \n",
       "12        M1C       Scarborough   \n",
       "13        M3C        North York   \n",
       "14        M4C         East York   \n",
       "15        M5C  Downtown Toronto   \n",
       "16        M6C              York   \n",
       "17        M9C         Etobicoke   \n",
       "18        M1E       Scarborough   \n",
       "19        M4E      East Toronto   \n",
       "\n",
       "                                         Neighborhood  \n",
       "0                                           Parkwoods  \n",
       "1                                    Victoria Village  \n",
       "2                                        Harbourfront  \n",
       "3                    Lawrence Heights, Lawrence Manor  \n",
       "4                                        Queen's Park  \n",
       "5                                        Queen's Park  \n",
       "6                                      Rouge, Malvern  \n",
       "7                                     Don Mills North  \n",
       "8                     Woodbine Gardens, Parkview Hill  \n",
       "9                            Ryerson, Garden District  \n",
       "10                                          Glencairn  \n",
       "11  Cloverdale, Islington, Martin Grove, Princess ...  \n",
       "12             Highland Creek, Rouge Hill, Port Union  \n",
       "13                   Flemingdon Park, Don Mills South  \n",
       "14                                   Woodbine Heights  \n",
       "15                                     St. James Town  \n",
       "16                                 Humewood-Cedarvale  \n",
       "17  Bloordale Gardens, Eringate, Markland Wood, Ol...  \n",
       "18                  Guildwood, Morningside, West Hill  \n",
       "19                                        The Beaches  "
      ]
     },
     "execution_count": 4,
     "metadata": {},
     "output_type": "execute_result"
    }
   ],
   "source": [
    "df = pd.DataFrame(list(zip(sigla, borough, Neigh)), columns=['PostalCode', 'Borough', 'Neighborhood'])\n",
    "df.head(20)"
   ]
  },
  {
   "cell_type": "markdown",
   "metadata": {},
   "source": [
    "Let's see the shape:"
   ]
  },
  {
   "cell_type": "code",
   "execution_count": 5,
   "metadata": {},
   "outputs": [
    {
     "data": {
      "text/plain": [
       "(102, 3)"
      ]
     },
     "execution_count": 5,
     "metadata": {},
     "output_type": "execute_result"
    }
   ],
   "source": [
    "df.shape"
   ]
  },
  {
   "cell_type": "markdown",
   "metadata": {},
   "source": [
    "Now, to get the geolocation from the postal code:"
   ]
  },
  {
   "cell_type": "code",
   "execution_count": 6,
   "metadata": {},
   "outputs": [
    {
     "ename": "ModuleNotFoundError",
     "evalue": "No module named 'geocoder'",
     "output_type": "error",
     "traceback": [
      "\u001b[1;31m---------------------------------------------------------------------------\u001b[0m",
      "\u001b[1;31mModuleNotFoundError\u001b[0m                       Traceback (most recent call last)",
      "\u001b[1;32m<ipython-input-6-9ea56cf7725e>\u001b[0m in \u001b[0;36m<module>\u001b[1;34m\u001b[0m\n\u001b[1;32m----> 1\u001b[1;33m \u001b[1;32mimport\u001b[0m \u001b[0mgeocoder\u001b[0m\u001b[1;33m\u001b[0m\u001b[1;33m\u001b[0m\u001b[0m\n\u001b[0m",
      "\u001b[1;31mModuleNotFoundError\u001b[0m: No module named 'geocoder'"
     ]
    }
   ],
   "source": [
    "import geocoder"
   ]
  },
  {
   "cell_type": "markdown",
   "metadata": {},
   "source": [
    "Code not working as google api does not acept calls withot registered key no more"
   ]
  },
  {
   "cell_type": "code",
   "execution_count": 7,
   "metadata": {},
   "outputs": [],
   "source": [
    "# lat_lng_coords = None\n",
    "# lat, long = [], []\n",
    "# for postalCode in df.PostalCode.values:\n",
    "#     # loop until you get the coordinates\n",
    "#     while(lat_lng_coords is None):\n",
    "#       g = geocoder.google(f'{postalCode}, Toronto, Ontario')\n",
    "#       lat_lng_coords = g.latlng\n",
    "#     lat.append(lat_lng_coords[0])\n",
    "#     long.append(lat_lng_coords[1])"
   ]
  },
  {
   "cell_type": "markdown",
   "metadata": {},
   "source": [
    "Using the data on the csv file as a workoroung as requested:"
   ]
  },
  {
   "cell_type": "code",
   "execution_count": 8,
   "metadata": {},
   "outputs": [],
   "source": [
    "# getting the data from the url to a pandas dataframe\n",
    "url = 'http://cocl.us/Geospatial_data'\n",
    "geo_df = pd.read_csv(url)"
   ]
  },
  {
   "cell_type": "code",
   "execution_count": 9,
   "metadata": {},
   "outputs": [],
   "source": [
    "# renaming Postal code colum to match previous df:\n",
    "geo_df.rename(columns={\"Postal Code\": \"PostalCode\"}, inplace=True)"
   ]
  },
  {
   "cell_type": "code",
   "execution_count": 10,
   "metadata": {},
   "outputs": [
    {
     "data": {
      "text/html": [
       "<div>\n",
       "<style scoped>\n",
       "    .dataframe tbody tr th:only-of-type {\n",
       "        vertical-align: middle;\n",
       "    }\n",
       "\n",
       "    .dataframe tbody tr th {\n",
       "        vertical-align: top;\n",
       "    }\n",
       "\n",
       "    .dataframe thead th {\n",
       "        text-align: right;\n",
       "    }\n",
       "</style>\n",
       "<table border=\"1\" class=\"dataframe\">\n",
       "  <thead>\n",
       "    <tr style=\"text-align: right;\">\n",
       "      <th></th>\n",
       "      <th>PostalCode</th>\n",
       "      <th>Latitude</th>\n",
       "      <th>Longitude</th>\n",
       "    </tr>\n",
       "  </thead>\n",
       "  <tbody>\n",
       "    <tr>\n",
       "      <td>0</td>\n",
       "      <td>M1B</td>\n",
       "      <td>43.806686</td>\n",
       "      <td>-79.194353</td>\n",
       "    </tr>\n",
       "    <tr>\n",
       "      <td>1</td>\n",
       "      <td>M1C</td>\n",
       "      <td>43.784535</td>\n",
       "      <td>-79.160497</td>\n",
       "    </tr>\n",
       "    <tr>\n",
       "      <td>2</td>\n",
       "      <td>M1E</td>\n",
       "      <td>43.763573</td>\n",
       "      <td>-79.188711</td>\n",
       "    </tr>\n",
       "    <tr>\n",
       "      <td>3</td>\n",
       "      <td>M1G</td>\n",
       "      <td>43.770992</td>\n",
       "      <td>-79.216917</td>\n",
       "    </tr>\n",
       "    <tr>\n",
       "      <td>4</td>\n",
       "      <td>M1H</td>\n",
       "      <td>43.773136</td>\n",
       "      <td>-79.239476</td>\n",
       "    </tr>\n",
       "  </tbody>\n",
       "</table>\n",
       "</div>"
      ],
      "text/plain": [
       "  PostalCode   Latitude  Longitude\n",
       "0        M1B  43.806686 -79.194353\n",
       "1        M1C  43.784535 -79.160497\n",
       "2        M1E  43.763573 -79.188711\n",
       "3        M1G  43.770992 -79.216917\n",
       "4        M1H  43.773136 -79.239476"
      ]
     },
     "execution_count": 10,
     "metadata": {},
     "output_type": "execute_result"
    }
   ],
   "source": [
    "# check if everything is correct:\n",
    "geo_df.head()"
   ]
  },
  {
   "cell_type": "markdown",
   "metadata": {},
   "source": [
    "Now, let's merge the dataframes:"
   ]
  },
  {
   "cell_type": "code",
   "execution_count": 11,
   "metadata": {},
   "outputs": [],
   "source": [
    "full = pd.merge(df, geo_df, on='PostalCode')"
   ]
  },
  {
   "cell_type": "code",
   "execution_count": 12,
   "metadata": {},
   "outputs": [
    {
     "data": {
      "text/html": [
       "<div>\n",
       "<style scoped>\n",
       "    .dataframe tbody tr th:only-of-type {\n",
       "        vertical-align: middle;\n",
       "    }\n",
       "\n",
       "    .dataframe tbody tr th {\n",
       "        vertical-align: top;\n",
       "    }\n",
       "\n",
       "    .dataframe thead th {\n",
       "        text-align: right;\n",
       "    }\n",
       "</style>\n",
       "<table border=\"1\" class=\"dataframe\">\n",
       "  <thead>\n",
       "    <tr style=\"text-align: right;\">\n",
       "      <th></th>\n",
       "      <th>PostalCode</th>\n",
       "      <th>Borough</th>\n",
       "      <th>Neighborhood</th>\n",
       "      <th>Latitude</th>\n",
       "      <th>Longitude</th>\n",
       "    </tr>\n",
       "  </thead>\n",
       "  <tbody>\n",
       "    <tr>\n",
       "      <td>0</td>\n",
       "      <td>M3A</td>\n",
       "      <td>North York</td>\n",
       "      <td>Parkwoods</td>\n",
       "      <td>43.753259</td>\n",
       "      <td>-79.329656</td>\n",
       "    </tr>\n",
       "    <tr>\n",
       "      <td>1</td>\n",
       "      <td>M4A</td>\n",
       "      <td>North York</td>\n",
       "      <td>Victoria Village</td>\n",
       "      <td>43.725882</td>\n",
       "      <td>-79.315572</td>\n",
       "    </tr>\n",
       "    <tr>\n",
       "      <td>2</td>\n",
       "      <td>M5A</td>\n",
       "      <td>Downtown Toronto</td>\n",
       "      <td>Harbourfront</td>\n",
       "      <td>43.654260</td>\n",
       "      <td>-79.360636</td>\n",
       "    </tr>\n",
       "    <tr>\n",
       "      <td>3</td>\n",
       "      <td>M6A</td>\n",
       "      <td>North York</td>\n",
       "      <td>Lawrence Heights, Lawrence Manor</td>\n",
       "      <td>43.718518</td>\n",
       "      <td>-79.464763</td>\n",
       "    </tr>\n",
       "    <tr>\n",
       "      <td>4</td>\n",
       "      <td>M7A</td>\n",
       "      <td>Queen's Park</td>\n",
       "      <td>Queen's Park</td>\n",
       "      <td>43.662301</td>\n",
       "      <td>-79.389494</td>\n",
       "    </tr>\n",
       "    <tr>\n",
       "      <td>5</td>\n",
       "      <td>M9A</td>\n",
       "      <td>Queen's Park</td>\n",
       "      <td>Queen's Park</td>\n",
       "      <td>43.667856</td>\n",
       "      <td>-79.532242</td>\n",
       "    </tr>\n",
       "    <tr>\n",
       "      <td>6</td>\n",
       "      <td>M1B</td>\n",
       "      <td>Scarborough</td>\n",
       "      <td>Rouge, Malvern</td>\n",
       "      <td>43.806686</td>\n",
       "      <td>-79.194353</td>\n",
       "    </tr>\n",
       "    <tr>\n",
       "      <td>7</td>\n",
       "      <td>M3B</td>\n",
       "      <td>North York</td>\n",
       "      <td>Don Mills North</td>\n",
       "      <td>43.745906</td>\n",
       "      <td>-79.352188</td>\n",
       "    </tr>\n",
       "    <tr>\n",
       "      <td>8</td>\n",
       "      <td>M4B</td>\n",
       "      <td>East York</td>\n",
       "      <td>Woodbine Gardens, Parkview Hill</td>\n",
       "      <td>43.706397</td>\n",
       "      <td>-79.309937</td>\n",
       "    </tr>\n",
       "    <tr>\n",
       "      <td>9</td>\n",
       "      <td>M5B</td>\n",
       "      <td>Downtown Toronto</td>\n",
       "      <td>Ryerson, Garden District</td>\n",
       "      <td>43.657162</td>\n",
       "      <td>-79.378937</td>\n",
       "    </tr>\n",
       "  </tbody>\n",
       "</table>\n",
       "</div>"
      ],
      "text/plain": [
       "  PostalCode           Borough                      Neighborhood   Latitude  \\\n",
       "0        M3A        North York                         Parkwoods  43.753259   \n",
       "1        M4A        North York                  Victoria Village  43.725882   \n",
       "2        M5A  Downtown Toronto                      Harbourfront  43.654260   \n",
       "3        M6A        North York  Lawrence Heights, Lawrence Manor  43.718518   \n",
       "4        M7A      Queen's Park                      Queen's Park  43.662301   \n",
       "5        M9A      Queen's Park                      Queen's Park  43.667856   \n",
       "6        M1B       Scarborough                    Rouge, Malvern  43.806686   \n",
       "7        M3B        North York                   Don Mills North  43.745906   \n",
       "8        M4B         East York   Woodbine Gardens, Parkview Hill  43.706397   \n",
       "9        M5B  Downtown Toronto          Ryerson, Garden District  43.657162   \n",
       "\n",
       "   Longitude  \n",
       "0 -79.329656  \n",
       "1 -79.315572  \n",
       "2 -79.360636  \n",
       "3 -79.464763  \n",
       "4 -79.389494  \n",
       "5 -79.532242  \n",
       "6 -79.194353  \n",
       "7 -79.352188  \n",
       "8 -79.309937  \n",
       "9 -79.378937  "
      ]
     },
     "execution_count": 12,
     "metadata": {},
     "output_type": "execute_result"
    }
   ],
   "source": [
    "full.head(10)"
   ]
  },
  {
   "cell_type": "code",
   "execution_count": 13,
   "metadata": {},
   "outputs": [
    {
     "data": {
      "text/plain": [
       "(102, 5)"
      ]
     },
     "execution_count": 13,
     "metadata": {},
     "output_type": "execute_result"
    }
   ],
   "source": [
    "full.shape"
   ]
  },
  {
   "cell_type": "markdown",
   "metadata": {},
   "source": [
    "Some analysis of the data and visual plot of the map"
   ]
  },
  {
   "cell_type": "code",
   "execution_count": 14,
   "metadata": {},
   "outputs": [],
   "source": [
    "from geopy.geocoders import Nominatim\n",
    "import folium\n",
    "import folium.plugins as plugins\n",
    "import requests"
   ]
  },
  {
   "cell_type": "code",
   "execution_count": 15,
   "metadata": {},
   "outputs": [],
   "source": [
    "# Ltes create a map of toronto with the given areas code latitude and longitude:\n",
    "map_toronto = folium.Map(location=[43.6542599, -79.3606359], zoom_start=10)\n",
    "\n",
    "# add markers to map\n",
    "for lat, lng, borough, neighborhood in zip(full['Latitude'], full['Longitude'], full['Borough'], full['Neighborhood']):\n",
    "    label = '{}, {}'.format(neighborhood, borough)\n",
    "    label = folium.Popup(label, parse_html=True)\n",
    "    folium.CircleMarker(\n",
    "        [lat, lng],\n",
    "        radius=5,\n",
    "        popup=label,\n",
    "        color='blue',\n",
    "        fill=True,\n",
    "        fill_color='#3186cc',\n",
    "        fill_opacity=0.7,\n",
    "        parse_html=False).add_to(map_toronto)  "
   ]
  },
  {
   "cell_type": "code",
   "execution_count": 16,
   "metadata": {},
   "outputs": [
    {
     "data": {
      "text/html": [
       "<div style=\"width:100%;\"><div style=\"position:relative;width:100%;height:0;padding-bottom:60%;\"><iframe src=\"data:text/html;charset=utf-8;base64,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\" style=\"position:absolute;width:100%;height:100%;left:0;top:0;border:none !important;\" allowfullscreen webkitallowfullscreen mozallowfullscreen></iframe></div></div>"
      ],
      "text/plain": [
       "<folium.folium.Map at 0x27ee5f9a278>"
      ]
     },
     "execution_count": 16,
     "metadata": {},
     "output_type": "execute_result"
    }
   ],
   "source": [
    "map_toronto"
   ]
  },
  {
   "cell_type": "markdown",
   "metadata": {},
   "source": [
    "Now some infom from 4squere"
   ]
  },
  {
   "cell_type": "code",
   "execution_count": 17,
   "metadata": {},
   "outputs": [
    {
     "data": {
      "text/html": [
       "<div>\n",
       "<style scoped>\n",
       "    .dataframe tbody tr th:only-of-type {\n",
       "        vertical-align: middle;\n",
       "    }\n",
       "\n",
       "    .dataframe tbody tr th {\n",
       "        vertical-align: top;\n",
       "    }\n",
       "\n",
       "    .dataframe thead th {\n",
       "        text-align: right;\n",
       "    }\n",
       "</style>\n",
       "<table border=\"1\" class=\"dataframe\">\n",
       "  <thead>\n",
       "    <tr style=\"text-align: right;\">\n",
       "      <th></th>\n",
       "      <th>PostalCode</th>\n",
       "      <th>Borough</th>\n",
       "      <th>Neighborhood</th>\n",
       "      <th>Latitude</th>\n",
       "      <th>Longitude</th>\n",
       "    </tr>\n",
       "  </thead>\n",
       "  <tbody>\n",
       "  </tbody>\n",
       "</table>\n",
       "</div>"
      ],
      "text/plain": [
       "Empty DataFrame\n",
       "Columns: [PostalCode, Borough, Neighborhood, Latitude, Longitude]\n",
       "Index: []"
      ]
     },
     "execution_count": 17,
     "metadata": {},
     "output_type": "execute_result"
    }
   ],
   "source": [
    "manhattan_data = full[full['Borough'] == 'Toronto'].reset_index(drop=True)\n",
    "manhattan_data.head()"
   ]
  },
  {
   "cell_type": "code",
   "execution_count": 18,
   "metadata": {},
   "outputs": [
    {
     "name": "stdout",
     "output_type": "stream",
     "text": [
      "Your credentails:\n",
      "CLIENT_ID: DVUYZ0B5CPKNIIXLYAJMGRKZBYUP1U20PUC0AKEAFQT0NDLJ\n",
      "CLIENT_SECRET:G5W51BKU2JQDRPVKLNMOHLW0L2NBVYQZ3HUZXVXQ14TKEKGO\n"
     ]
    }
   ],
   "source": [
    "CLIENT_ID = 'DVUYZ0B5CPKNIIXLYAJMGRKZBYUP1U20PUC0AKEAFQT0NDLJ' # your Foursquare ID\n",
    "CLIENT_SECRET = 'G5W51BKU2JQDRPVKLNMOHLW0L2NBVYQZ3HUZXVXQ14TKEKGO' # your Foursquare Secret\n",
    "VERSION = '20180605' # Foursquare API version\n",
    "\n",
    "print('Your credentails:')\n",
    "print('CLIENT_ID: ' + CLIENT_ID)\n",
    "print('CLIENT_SECRET:' + CLIENT_SECRET)"
   ]
  },
  {
   "cell_type": "code",
   "execution_count": 19,
   "metadata": {},
   "outputs": [],
   "source": [
    "def get_info(lat, lng):\n",
    "    url = 'https://api.foursquare.com/v2/venues/explore?&client_id={}&client_secret={}&v={}&ll={},{}&radius={}&limit={}'.format(\n",
    "        CLIENT_ID, \n",
    "        CLIENT_SECRET, \n",
    "        VERSION, \n",
    "        lat, lng, \n",
    "        100, \n",
    "        500)\n",
    "    results = requests.get(url).json()\n",
    "    return results['response']['groups'][0]['items']"
   ]
  },
  {
   "cell_type": "markdown",
   "metadata": {},
   "source": [
    "Lets see how the data is formated:"
   ]
  },
  {
   "cell_type": "code",
   "execution_count": 20,
   "metadata": {},
   "outputs": [
    {
     "ename": "KeyError",
     "evalue": "'groups'",
     "output_type": "error",
     "traceback": [
      "\u001b[1;31m---------------------------------------------------------------------------\u001b[0m",
      "\u001b[1;31mKeyError\u001b[0m                                  Traceback (most recent call last)",
      "\u001b[1;32m<ipython-input-20-28fe6d388175>\u001b[0m in \u001b[0;36m<module>\u001b[1;34m\u001b[0m\n\u001b[1;32m----> 1\u001b[1;33m \u001b[0mvenues\u001b[0m \u001b[1;33m=\u001b[0m \u001b[0mget_info\u001b[0m\u001b[1;33m(\u001b[0m\u001b[1;36m43.6542599\u001b[0m\u001b[1;33m,\u001b[0m \u001b[1;33m-\u001b[0m\u001b[1;36m79.3606359\u001b[0m\u001b[1;33m)\u001b[0m\u001b[1;33m\u001b[0m\u001b[1;33m\u001b[0m\u001b[0m\n\u001b[0m",
      "\u001b[1;32m<ipython-input-19-912e65a0778e>\u001b[0m in \u001b[0;36mget_info\u001b[1;34m(lat, lng)\u001b[0m\n\u001b[0;32m      8\u001b[0m         500)\n\u001b[0;32m      9\u001b[0m     \u001b[0mresults\u001b[0m \u001b[1;33m=\u001b[0m \u001b[0mrequests\u001b[0m\u001b[1;33m.\u001b[0m\u001b[0mget\u001b[0m\u001b[1;33m(\u001b[0m\u001b[0murl\u001b[0m\u001b[1;33m)\u001b[0m\u001b[1;33m.\u001b[0m\u001b[0mjson\u001b[0m\u001b[1;33m(\u001b[0m\u001b[1;33m)\u001b[0m\u001b[1;33m\u001b[0m\u001b[1;33m\u001b[0m\u001b[0m\n\u001b[1;32m---> 10\u001b[1;33m     \u001b[1;32mreturn\u001b[0m \u001b[0mresults\u001b[0m\u001b[1;33m[\u001b[0m\u001b[1;34m'response'\u001b[0m\u001b[1;33m]\u001b[0m\u001b[1;33m[\u001b[0m\u001b[1;34m'groups'\u001b[0m\u001b[1;33m]\u001b[0m\u001b[1;33m[\u001b[0m\u001b[1;36m0\u001b[0m\u001b[1;33m]\u001b[0m\u001b[1;33m[\u001b[0m\u001b[1;34m'items'\u001b[0m\u001b[1;33m]\u001b[0m\u001b[1;33m\u001b[0m\u001b[1;33m\u001b[0m\u001b[0m\n\u001b[0m",
      "\u001b[1;31mKeyError\u001b[0m: 'groups'"
     ]
    }
   ],
   "source": [
    "venues = get_info(43.6542599, -79.3606359)"
   ]
  },
  {
   "cell_type": "code",
   "execution_count": null,
   "metadata": {},
   "outputs": [],
   "source": [
    "venues"
   ]
  },
  {
   "cell_type": "code",
   "execution_count": 21,
   "metadata": {},
   "outputs": [
    {
     "ename": "NameError",
     "evalue": "name 'venues' is not defined",
     "output_type": "error",
     "traceback": [
      "\u001b[1;31m---------------------------------------------------------------------------\u001b[0m",
      "\u001b[1;31mNameError\u001b[0m                                 Traceback (most recent call last)",
      "\u001b[1;32m<ipython-input-21-e86a620d3864>\u001b[0m in \u001b[0;36m<module>\u001b[1;34m\u001b[0m\n\u001b[1;32m----> 1\u001b[1;33m \u001b[0mvenues\u001b[0m\u001b[1;33m[\u001b[0m\u001b[1;36m0\u001b[0m\u001b[1;33m]\u001b[0m\u001b[1;33m[\u001b[0m\u001b[1;34m'venue'\u001b[0m\u001b[1;33m]\u001b[0m\u001b[1;33m[\u001b[0m\u001b[1;34m'categories'\u001b[0m\u001b[1;33m]\u001b[0m\u001b[1;33m\u001b[0m\u001b[1;33m\u001b[0m\u001b[0m\n\u001b[0m",
      "\u001b[1;31mNameError\u001b[0m: name 'venues' is not defined"
     ]
    }
   ],
   "source": [
    "venues[0]['venue']['categories']"
   ]
  },
  {
   "cell_type": "code",
   "execution_count": 22,
   "metadata": {},
   "outputs": [
    {
     "ename": "NameError",
     "evalue": "name 'venues' is not defined",
     "output_type": "error",
     "traceback": [
      "\u001b[1;31m---------------------------------------------------------------------------\u001b[0m",
      "\u001b[1;31mNameError\u001b[0m                                 Traceback (most recent call last)",
      "\u001b[1;32m<ipython-input-22-f07b4fde469a>\u001b[0m in \u001b[0;36m<module>\u001b[1;34m\u001b[0m\n\u001b[1;32m----> 1\u001b[1;33m \u001b[0mvenues\u001b[0m\u001b[1;33m[\u001b[0m\u001b[1;36m0\u001b[0m\u001b[1;33m]\u001b[0m\u001b[1;33m[\u001b[0m\u001b[1;34m'venue'\u001b[0m\u001b[1;33m]\u001b[0m\u001b[1;33m[\u001b[0m\u001b[1;34m'categories'\u001b[0m\u001b[1;33m]\u001b[0m\u001b[1;33m[\u001b[0m\u001b[1;36m0\u001b[0m\u001b[1;33m]\u001b[0m\u001b[1;33m[\u001b[0m\u001b[1;34m'name'\u001b[0m\u001b[1;33m]\u001b[0m\u001b[1;33m\u001b[0m\u001b[1;33m\u001b[0m\u001b[0m\n\u001b[0m",
      "\u001b[1;31mNameError\u001b[0m: name 'venues' is not defined"
     ]
    }
   ],
   "source": [
    "venues[0]['venue']['categories'][0]['name']"
   ]
  },
  {
   "cell_type": "markdown",
   "metadata": {},
   "source": [
    "Now to the real work:\n",
    "\n",
    "Let's walk through all the locations and count how many are there in every point"
   ]
  },
  {
   "cell_type": "code",
   "execution_count": 23,
   "metadata": {},
   "outputs": [
    {
     "ename": "KeyError",
     "evalue": "'groups'",
     "output_type": "error",
     "traceback": [
      "\u001b[1;31m---------------------------------------------------------------------------\u001b[0m",
      "\u001b[1;31mKeyError\u001b[0m                                  Traceback (most recent call last)",
      "\u001b[1;32m<ipython-input-23-7cef64043c76>\u001b[0m in \u001b[0;36m<module>\u001b[1;34m\u001b[0m\n\u001b[0;32m      1\u001b[0m \u001b[0mplaces\u001b[0m \u001b[1;33m=\u001b[0m \u001b[1;33m[\u001b[0m\u001b[1;33m]\u001b[0m\u001b[1;33m\u001b[0m\u001b[1;33m\u001b[0m\u001b[0m\n\u001b[0;32m      2\u001b[0m \u001b[1;32mfor\u001b[0m \u001b[0mlat\u001b[0m\u001b[1;33m,\u001b[0m \u001b[0mlng\u001b[0m \u001b[1;32min\u001b[0m \u001b[0mzip\u001b[0m\u001b[1;33m(\u001b[0m\u001b[0mfull\u001b[0m\u001b[1;33m[\u001b[0m\u001b[1;34m'Latitude'\u001b[0m\u001b[1;33m]\u001b[0m\u001b[1;33m,\u001b[0m \u001b[0mfull\u001b[0m\u001b[1;33m[\u001b[0m\u001b[1;34m'Longitude'\u001b[0m\u001b[1;33m]\u001b[0m\u001b[1;33m)\u001b[0m\u001b[1;33m:\u001b[0m\u001b[1;33m\u001b[0m\u001b[1;33m\u001b[0m\u001b[0m\n\u001b[1;32m----> 3\u001b[1;33m     \u001b[0mvenues\u001b[0m \u001b[1;33m=\u001b[0m \u001b[0mget_info\u001b[0m\u001b[1;33m(\u001b[0m\u001b[0mlat\u001b[0m\u001b[1;33m,\u001b[0m \u001b[0mlng\u001b[0m\u001b[1;33m)\u001b[0m\u001b[1;33m\u001b[0m\u001b[1;33m\u001b[0m\u001b[0m\n\u001b[0m\u001b[0;32m      4\u001b[0m     \u001b[0mn\u001b[0m \u001b[1;33m=\u001b[0m \u001b[1;36m0\u001b[0m\u001b[1;33m\u001b[0m\u001b[1;33m\u001b[0m\u001b[0m\n\u001b[0;32m      5\u001b[0m     \u001b[1;32mfor\u001b[0m \u001b[0mvenue\u001b[0m \u001b[1;32min\u001b[0m \u001b[0mvenues\u001b[0m\u001b[1;33m:\u001b[0m\u001b[1;33m\u001b[0m\u001b[1;33m\u001b[0m\u001b[0m\n",
      "\u001b[1;32m<ipython-input-19-912e65a0778e>\u001b[0m in \u001b[0;36mget_info\u001b[1;34m(lat, lng)\u001b[0m\n\u001b[0;32m      8\u001b[0m         500)\n\u001b[0;32m      9\u001b[0m     \u001b[0mresults\u001b[0m \u001b[1;33m=\u001b[0m \u001b[0mrequests\u001b[0m\u001b[1;33m.\u001b[0m\u001b[0mget\u001b[0m\u001b[1;33m(\u001b[0m\u001b[0murl\u001b[0m\u001b[1;33m)\u001b[0m\u001b[1;33m.\u001b[0m\u001b[0mjson\u001b[0m\u001b[1;33m(\u001b[0m\u001b[1;33m)\u001b[0m\u001b[1;33m\u001b[0m\u001b[1;33m\u001b[0m\u001b[0m\n\u001b[1;32m---> 10\u001b[1;33m     \u001b[1;32mreturn\u001b[0m \u001b[0mresults\u001b[0m\u001b[1;33m[\u001b[0m\u001b[1;34m'response'\u001b[0m\u001b[1;33m]\u001b[0m\u001b[1;33m[\u001b[0m\u001b[1;34m'groups'\u001b[0m\u001b[1;33m]\u001b[0m\u001b[1;33m[\u001b[0m\u001b[1;36m0\u001b[0m\u001b[1;33m]\u001b[0m\u001b[1;33m[\u001b[0m\u001b[1;34m'items'\u001b[0m\u001b[1;33m]\u001b[0m\u001b[1;33m\u001b[0m\u001b[1;33m\u001b[0m\u001b[0m\n\u001b[0m",
      "\u001b[1;31mKeyError\u001b[0m: 'groups'"
     ]
    }
   ],
   "source": [
    "places = []\n",
    "for lat, lng in zip(full['Latitude'], full['Longitude']):\n",
    "    venues = get_info(lat, lng)\n",
    "    n = 0\n",
    "    for venue in venues:\n",
    "        for v in venue['venue']['categories']:\n",
    "            print(v['name'])\n",
    "            n += 1\n",
    "    places.append(n)\n",
    "    print('New location: ', lat, lng, n)"
   ]
  },
  {
   "cell_type": "code",
   "execution_count": null,
   "metadata": {},
   "outputs": [],
   "source": [
    "map_toronto = folium.Map(location=[43.6542599, -79.3606359], zoom_start=10)\n",
    "map_toronto.add_children(plugins.HeatMap(zip(full['Latitude'], full['Longitude'], places), radius = 10))\n",
    "\n",
    "map_toronto"
   ]
  },
  {
   "cell_type": "code",
   "execution_count": null,
   "metadata": {},
   "outputs": [],
   "source": []
  },
  {
   "cell_type": "code",
   "execution_count": null,
   "metadata": {},
   "outputs": [],
   "source": []
  }
 ],
 "metadata": {
  "kernelspec": {
   "display_name": "Python 3",
   "language": "python",
   "name": "python3"
  },
  "language_info": {
   "codemirror_mode": {
    "name": "ipython",
    "version": 3
   },
   "file_extension": ".py",
   "mimetype": "text/x-python",
   "name": "python",
   "nbconvert_exporter": "python",
   "pygments_lexer": "ipython3",
   "version": "3.7.1"
  }
 },
 "nbformat": 4,
 "nbformat_minor": 2
}
