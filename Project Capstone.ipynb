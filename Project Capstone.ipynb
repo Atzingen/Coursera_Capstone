{
 "cells": [
  {
   "attachments": {},
   "cell_type": "markdown",
   "metadata": {},
   "source": [
    "# New bussines location indicator\n",
    "\n",
    "### Coursera project capstone\n",
    "\n",
    "This is the course captstone project for the coursera IBM machine learning specialization\n",
    "\n",
    "### About the project\n",
    "\n",
    "Having a good location for your bussines is an important factor for it's prosperity. altoght the hot spots in a city for a new venue are common knolege, usualy this places have a very high price given that this knologe is correlated with higher demmand. With some dataminning and machine learning, some places cam be descovered as good oportunitys that does not yet received peoples atention.\n",
    "\n",
    "This project uses python, foursquare api, machine learning and visualization tools to give some insight on where you should open your business in a city.\n",
    "It works by ranking the places in city by how hot they are for business and them finding what is the optimal place for a new business that does not collide with other similar business by location but also is on a \"hot spot\" in the city.\n",
    "\n",
    "The data will on the amount of venues by location will be collected using the foursquare api for a given city. The app/notebook will be created in a generic way so that people using it can change the city name. \n",
    "A map of the city based on the amount of venues will be created and also another one for the similar venues as the person is looking to create.\n",
    "\n",
    "A score for a given location that will be created by adding value for number of venues using mahalanobis distance as a weight and the using the opposite (decreasing score) by having similar venues.\n",
    "In the and, points will be clustered together to have useful locations as a suggestion for the new business to open."
   ]
  },
  {
   "cell_type": "code",
   "execution_count": 1,
   "metadata": {},
   "outputs": [],
   "source": [
    "import pandas as pd\n",
    "import numpy as np\n",
    "from bs4 import BeautifulSoup\n",
    "from urllib.request import urlopen"
   ]
  },
  {
   "cell_type": "code",
   "execution_count": null,
   "metadata": {},
   "outputs": [],
   "source": []
  }
 ],
 "metadata": {
  "kernelspec": {
   "display_name": "Python 3",
   "language": "python",
   "name": "python3"
  },
  "language_info": {
   "codemirror_mode": {
    "name": "ipython",
    "version": 3
   },
   "file_extension": ".py",
   "mimetype": "text/x-python",
   "name": "python",
   "nbconvert_exporter": "python",
   "pygments_lexer": "ipython3",
   "version": "3.7.4"
  }
 },
 "nbformat": 4,
 "nbformat_minor": 2
}
